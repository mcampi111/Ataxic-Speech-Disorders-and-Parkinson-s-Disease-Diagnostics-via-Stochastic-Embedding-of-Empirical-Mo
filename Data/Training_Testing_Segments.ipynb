{
 "cells": [
  {
   "cell_type": "markdown",
   "metadata": {},
   "source": [
    "# Parkinson Data\n",
    "\n",
    "Website: https://zenodo.org/record/2867216#.X5n430dxfD5\n",
    "\n",
    "\n",
    "## Notebook for Construction of Training and Testing Datasets \n",
    "\n",
    "\n",
    "We construct a set of training/testing segments of length 100 samples. \n",
    "\n",
    "Let us define X_f^PD, X_f^HC, X_m^PD, X_m^HC the four different classes for the given dataset where the subindex\n",
    "refer to the gender and the upper index to the sickness/healthyness of the patients. \n",
    "\n",
    "The number of segments of 5000 samples is quite different across the 4 classes. To balance our dataset, we randomly extract the same number of segments for every class within their gender, i.e. the female classes will both share the same number of segments and the male classes will both share the same number of segments. \n",
    "\n",
    "In the experiment, we carry the classification task by patient. \n",
    "\n",
    "Note: The number of patients split with with respect to UPDRS II-5 is given as follows:\n",
    "\n",
    "Female:\n",
    "* X_f^PD0 --> 2\n",
    "* X_f^PD1 --> 2\n",
    "\n",
    "Male:\n",
    "* X_m^PD0 --> 5\n",
    "* X_m^PD1 --> 4\n",
    "* X_m^PD2 --> 2\n",
    "* X_m^PD3 --> 1\n",
    "\n",
    "However, remark that the count of the number of segments per speaker is given in the Data Analysis Notebook.\n",
    "\n",
    "In the notation below X_f_i^PDj i denote the the patient number while j the PD stage. Note: the patient number does not correspond to the original id number of the original dataset since I split the dataset wrt gender. This is anyway consinstent with my new dataset. We differentiate between m and f for the two genders.\n",
    "\n",
    "The procedure is given as follows:\n",
    "\n",
    "- 1 Separate the segments of the sick patients with respect to BOTH the parkinsons stage AND the patient number giving with X_f^PD = (X_f_0^PD0, X_f_3^PD0, X_f_1^PD1, X_f_2^PD1) and X_m^PD = (X_m_0^PD0, X_m_1^PD0, X_m_3^PD0, X_m_6^PD0, X_m_7^PD0, X_m_2^PD1, X_m_8^PD1, X_m_9^PD1,X_m_10^PD1, X_m_4^PD2, X_m_11^PD2, X_m_5^PD3). NOTE: The male group for PD3 only contains one patient.\n",
    "- 2 Compute the minimum of the number of segments in each group and denote that N_m and N_f. Specifically N_m = 372 and N_f = 442 - Note that the minimum number for this group would be 449; however the minumum number of patients for the female, healthy class is 442 and so we keep it the same\n",
    "- 3 Randomly select from each group (divided by both pd_stage and patient number) 442/372 number of segments for the female/male case respectively.\n",
    "- 4 Randomly select one group for one speaker to leave out for the testing set\n",
    "- 5 From the remaining groups/group extract 80% of the data for the training set corresponding to 298 for the male case and 354 for the female one\n",
    "- 6 From the left out groups, extract 20% of the data for the testing corresponding to 75 for the male case and 89 for the female one\n",
    "- 5 Split the testing one in groups of 100 - I directly do this in parallel\n",
    "\n",
    "Afterwards, we apply the same procedure to the Healthy Patients and randomly extract the same number of segments, i.e. the same proportion of training and testing data for both male and female groups. However, as for the PD patients, we leave out one patient so that the testing set does not contain the same patients included in the testing sets. Note that in this healthy case, the training and testing is the same for both design 1 and design 2\n",
    "\n"
   ]
  },
  {
   "cell_type": "code",
   "execution_count": 2,
   "metadata": {},
   "outputs": [],
   "source": [
    "import numpy as np\n",
    "import os as os\n",
    "from pathlib import Path\n",
    "import matplotlib.pyplot as plt\n",
    "import time\n",
    "import random\n",
    "import pandas as pd\n",
    "import pickle\n",
    "import rpy2.robjects as robjects\n",
    "from rpy2.robjects import pandas2ri\n",
    "pandas2ri.activate()\n",
    "import math"
   ]
  },
  {
   "cell_type": "markdown",
   "metadata": {},
   "source": [
    "### Load the data\n",
    "\n",
    "Note: we reshuffle the training sets after having done the first extraction. We previously divided training and testing datasets according to segments of 5000 samples, which are the one that we load below"
   ]
  },
  {
   "cell_type": "code",
   "execution_count": 3,
   "metadata": {
    "scrolled": true
   },
   "outputs": [],
   "source": [
    "X_train_hc_m = np.load ( 'C:\\\\Users\\\\Marta\\\\Desktop\\\\Parkinson_data\\\\Python_code\\\\Data_extraction_&_preliminaries\\\\Results\\\\OLD_Training_Testing\\\\X_train_hc_m.npy',)\n",
    "X_train_pd_m = np.load ('C:\\\\Users\\\\Marta\\\\Desktop\\\\Parkinson_data\\\\Python_code\\\\Data_extraction_&_preliminaries\\\\Results\\\\OLD_Training_Testing\\\\X_train_pd_m.npy')\n",
    "\n",
    "X_train_hc_f = np.load ( 'C:\\\\Users\\\\Marta\\\\Desktop\\\\Parkinson_data\\\\Python_code\\\\Data_extraction_&_preliminaries\\\\Results\\\\OLD_Training_Testing\\\\X_train_hc_f.npy')\n",
    "X_train_pd_f = np.load ('C:\\\\Users\\\\Marta\\\\Desktop\\\\Parkinson_data\\\\Python_code\\\\Data_extraction_&_preliminaries\\\\Results\\\\OLD_Training_Testing\\\\X_train_pd_f.npy')\n"
   ]
  },
  {
   "cell_type": "code",
   "execution_count": 4,
   "metadata": {},
   "outputs": [],
   "source": [
    "#THESE ARE NOT THE FINAL SPLIT - USED THEM IN THE RTSNE (FOR NOW ONLY MALE) TO PROVIDE EVIDENCE OF THE REQUIRED SPLITTING\n",
    "#WE ARE GOING TO SPLIT THE GROUPS WRT BOTH PD STAGE AND PATIENT NUMBER TO LEAVE OUT ONE PATIENT FOR THE TESTING\n",
    "X_train_pd_f_split = np.load(\"C:\\\\Users\\\\Marta\\\\Desktop\\\\Parkinson_data\\\\Python_code\\\\Data_extraction_&_preliminaries\\\\Results\\\\OLD_Training_Testing\\\\X_train_f_pd_split.npy\", allow_pickle=True)\n",
    "X_train_pd_m_split = np.load(\"C:\\\\Users\\\\Marta\\\\Desktop\\\\Parkinson_data\\\\Python_code\\\\Data_extraction_&_preliminaries\\\\Results\\\\OLD_Training_Testing\\\\X_train_m_pd_split.npy\", allow_pickle=True)\n"
   ]
  },
  {
   "cell_type": "markdown",
   "metadata": {},
   "source": [
    "### 1) Separate the segments wrt PD Stage and Patient Number"
   ]
  },
  {
   "cell_type": "code",
   "execution_count": 5,
   "metadata": {},
   "outputs": [],
   "source": [
    "len_Xf_tr = len(X_train_pd_f_split)\n",
    "len_Xm_tr = len(X_train_pd_m_split)"
   ]
  },
  {
   "cell_type": "code",
   "execution_count": 6,
   "metadata": {},
   "outputs": [
    {
     "data": {
      "text/plain": [
       "[1543, 1209]"
      ]
     },
     "execution_count": 6,
     "metadata": {},
     "output_type": "execute_result"
    }
   ],
   "source": [
    "n_seg_Xf_tr = [len(X_train_pd_f_split[i]) for i in range(0, len_Xf_tr)]\n",
    "n_seg_Xf_tr"
   ]
  },
  {
   "cell_type": "code",
   "execution_count": 7,
   "metadata": {},
   "outputs": [
    {
     "data": {
      "text/plain": [
       "[3910, 2495, 1050, 539]"
      ]
     },
     "execution_count": 7,
     "metadata": {},
     "output_type": "execute_result"
    }
   ],
   "source": [
    "n_seg_Xm_tr = [len(X_train_pd_m_split[i]) for i in range(0, len_Xm_tr)]\n",
    "n_seg_Xm_tr"
   ]
  },
  {
   "cell_type": "code",
   "execution_count": 8,
   "metadata": {},
   "outputs": [],
   "source": [
    "################\n",
    "#Index Patients#\n",
    "################\n",
    "\n",
    "########\n",
    "#FEMALE#\n",
    "########\n",
    "final_index_pt_f_hc_train = np.load('C:\\\\Users\\\\Marta\\\\Desktop\\\\Parkinson_data\\\\Python_code\\\\System_M1\\\\Code\\\\final_index_pt_f_hc_train.npy')\n",
    "final_index_pt_f_pd_train = np.load('C:\\\\Users\\\\Marta\\\\Desktop\\\\Parkinson_data\\\\Python_code\\\\System_M1\\\\Code\\\\final_index_pt_f_pd_train.npy')\n",
    "\n",
    "######\n",
    "#MALE#\n",
    "######\n",
    "\n",
    "final_index_pt_m_hc_train = np.load('C:\\\\Users\\\\Marta\\\\Desktop\\\\Parkinson_data\\\\Python_code\\\\System_M1\\\\Code\\\\final_index_pt_m_hc_train.npy')\n",
    "final_index_pt_m_pd_train = np.load('C:\\\\Users\\\\Marta\\\\Desktop\\\\Parkinson_data\\\\Python_code\\\\System_M1\\\\Code\\\\final_index_pt_m_pd_train.npy')\n"
   ]
  },
  {
   "cell_type": "code",
   "execution_count": 100,
   "metadata": {
    "scrolled": true
   },
   "outputs": [
    {
     "data": {
      "text/plain": [
       "True"
      ]
     },
     "execution_count": 100,
     "metadata": {},
     "output_type": "execute_result"
    }
   ],
   "source": [
    "len(final_index_pt_f_hc_train) == len(X_train_hc_f)"
   ]
  },
  {
   "cell_type": "code",
   "execution_count": 101,
   "metadata": {},
   "outputs": [
    {
     "data": {
      "text/plain": [
       "True"
      ]
     },
     "execution_count": 101,
     "metadata": {},
     "output_type": "execute_result"
    }
   ],
   "source": [
    "len(final_index_pt_f_pd_train) == sum(n_seg_Xf_tr)"
   ]
  },
  {
   "cell_type": "code",
   "execution_count": 102,
   "metadata": {},
   "outputs": [
    {
     "data": {
      "text/plain": [
       "True"
      ]
     },
     "execution_count": 102,
     "metadata": {},
     "output_type": "execute_result"
    }
   ],
   "source": [
    "len(final_index_pt_m_hc_train) == len(X_train_hc_m)"
   ]
  },
  {
   "cell_type": "code",
   "execution_count": 103,
   "metadata": {},
   "outputs": [
    {
     "data": {
      "text/plain": [
       "True"
      ]
     },
     "execution_count": 103,
     "metadata": {},
     "output_type": "execute_result"
    }
   ],
   "source": [
    "len(final_index_pt_m_pd_train) == sum(n_seg_Xm_tr)"
   ]
  },
  {
   "cell_type": "code",
   "execution_count": 9,
   "metadata": {},
   "outputs": [],
   "source": [
    "#######################\n",
    "#Index Parkinson Stage#\n",
    "#######################\n",
    "\n",
    "########\n",
    "#FEMALE#\n",
    "########\n",
    "\n",
    "final_index_pd_f = np.load('C:\\\\Users\\\\Marta\\\\Desktop\\\\Parkinson_data\\\\Python_code\\\\System_M1\\\\Code\\\\final_index_pd_f.npy')\n",
    "\n",
    "######\n",
    "#MALE#\n",
    "######\n",
    "\n",
    "final_index_pd_m = np.load('C:\\\\Users\\\\Marta\\\\Desktop\\\\Parkinson_data\\\\Python_code\\\\System_M1\\\\Code\\\\final_index_pd_m.npy')\n"
   ]
  },
  {
   "cell_type": "code",
   "execution_count": 105,
   "metadata": {},
   "outputs": [
    {
     "data": {
      "text/plain": [
       "True"
      ]
     },
     "execution_count": 105,
     "metadata": {},
     "output_type": "execute_result"
    }
   ],
   "source": [
    "len(final_index_pd_m) == len(final_index_pt_m_pd_train)"
   ]
  },
  {
   "cell_type": "code",
   "execution_count": 106,
   "metadata": {},
   "outputs": [
    {
     "data": {
      "text/plain": [
       "True"
      ]
     },
     "execution_count": 106,
     "metadata": {},
     "output_type": "execute_result"
    }
   ],
   "source": [
    "len(final_index_pd_f) == len(final_index_pt_f_pd_train)"
   ]
  },
  {
   "cell_type": "code",
   "execution_count": 10,
   "metadata": {},
   "outputs": [
    {
     "data": {
      "text/html": [
       "<div>\n",
       "<style scoped>\n",
       "    .dataframe tbody tr th:only-of-type {\n",
       "        vertical-align: middle;\n",
       "    }\n",
       "\n",
       "    .dataframe tbody tr th {\n",
       "        vertical-align: top;\n",
       "    }\n",
       "\n",
       "    .dataframe thead th {\n",
       "        text-align: right;\n",
       "    }\n",
       "</style>\n",
       "<table border=\"1\" class=\"dataframe\">\n",
       "  <thead>\n",
       "    <tr style=\"text-align: right;\">\n",
       "      <th></th>\n",
       "      <th>PD_stage</th>\n",
       "      <th>Patient_N</th>\n",
       "    </tr>\n",
       "  </thead>\n",
       "  <tbody>\n",
       "    <tr>\n",
       "      <th>0</th>\n",
       "      <td>0</td>\n",
       "      <td>0</td>\n",
       "    </tr>\n",
       "    <tr>\n",
       "      <th>1</th>\n",
       "      <td>0</td>\n",
       "      <td>0</td>\n",
       "    </tr>\n",
       "    <tr>\n",
       "      <th>2</th>\n",
       "      <td>0</td>\n",
       "      <td>0</td>\n",
       "    </tr>\n",
       "    <tr>\n",
       "      <th>3</th>\n",
       "      <td>0</td>\n",
       "      <td>0</td>\n",
       "    </tr>\n",
       "    <tr>\n",
       "      <th>4</th>\n",
       "      <td>0</td>\n",
       "      <td>0</td>\n",
       "    </tr>\n",
       "    <tr>\n",
       "      <th>...</th>\n",
       "      <td>...</td>\n",
       "      <td>...</td>\n",
       "    </tr>\n",
       "    <tr>\n",
       "      <th>7989</th>\n",
       "      <td>2</td>\n",
       "      <td>11</td>\n",
       "    </tr>\n",
       "    <tr>\n",
       "      <th>7990</th>\n",
       "      <td>2</td>\n",
       "      <td>11</td>\n",
       "    </tr>\n",
       "    <tr>\n",
       "      <th>7991</th>\n",
       "      <td>2</td>\n",
       "      <td>11</td>\n",
       "    </tr>\n",
       "    <tr>\n",
       "      <th>7992</th>\n",
       "      <td>2</td>\n",
       "      <td>11</td>\n",
       "    </tr>\n",
       "    <tr>\n",
       "      <th>7993</th>\n",
       "      <td>2</td>\n",
       "      <td>11</td>\n",
       "    </tr>\n",
       "  </tbody>\n",
       "</table>\n",
       "<p>7994 rows × 2 columns</p>\n",
       "</div>"
      ],
      "text/plain": [
       "      PD_stage  Patient_N\n",
       "0            0          0\n",
       "1            0          0\n",
       "2            0          0\n",
       "3            0          0\n",
       "4            0          0\n",
       "...        ...        ...\n",
       "7989         2         11\n",
       "7990         2         11\n",
       "7991         2         11\n",
       "7992         2         11\n",
       "7993         2         11\n",
       "\n",
       "[7994 rows x 2 columns]"
      ]
     },
     "execution_count": 10,
     "metadata": {},
     "output_type": "execute_result"
    }
   ],
   "source": [
    "df_seg_descr_m = pd.DataFrame([final_index_pd_m, final_index_pt_m_pd_train] ).T\n",
    "df_seg_descr_m.columns = ['PD_stage','Patient_N']\n",
    "df_seg_descr_m"
   ]
  },
  {
   "cell_type": "code",
   "execution_count": 11,
   "metadata": {},
   "outputs": [
    {
     "data": {
      "text/html": [
       "<div>\n",
       "<style scoped>\n",
       "    .dataframe tbody tr th:only-of-type {\n",
       "        vertical-align: middle;\n",
       "    }\n",
       "\n",
       "    .dataframe tbody tr th {\n",
       "        vertical-align: top;\n",
       "    }\n",
       "\n",
       "    .dataframe thead th {\n",
       "        text-align: right;\n",
       "    }\n",
       "</style>\n",
       "<table border=\"1\" class=\"dataframe\">\n",
       "  <thead>\n",
       "    <tr style=\"text-align: right;\">\n",
       "      <th></th>\n",
       "      <th>PD_stage</th>\n",
       "      <th>Patient_N</th>\n",
       "    </tr>\n",
       "  </thead>\n",
       "  <tbody>\n",
       "    <tr>\n",
       "      <th>0</th>\n",
       "      <td>0</td>\n",
       "      <td>0</td>\n",
       "    </tr>\n",
       "    <tr>\n",
       "      <th>1</th>\n",
       "      <td>0</td>\n",
       "      <td>0</td>\n",
       "    </tr>\n",
       "    <tr>\n",
       "      <th>2</th>\n",
       "      <td>0</td>\n",
       "      <td>0</td>\n",
       "    </tr>\n",
       "    <tr>\n",
       "      <th>3</th>\n",
       "      <td>0</td>\n",
       "      <td>0</td>\n",
       "    </tr>\n",
       "    <tr>\n",
       "      <th>4</th>\n",
       "      <td>0</td>\n",
       "      <td>0</td>\n",
       "    </tr>\n",
       "    <tr>\n",
       "      <th>...</th>\n",
       "      <td>...</td>\n",
       "      <td>...</td>\n",
       "    </tr>\n",
       "    <tr>\n",
       "      <th>2747</th>\n",
       "      <td>0</td>\n",
       "      <td>3</td>\n",
       "    </tr>\n",
       "    <tr>\n",
       "      <th>2748</th>\n",
       "      <td>0</td>\n",
       "      <td>3</td>\n",
       "    </tr>\n",
       "    <tr>\n",
       "      <th>2749</th>\n",
       "      <td>0</td>\n",
       "      <td>3</td>\n",
       "    </tr>\n",
       "    <tr>\n",
       "      <th>2750</th>\n",
       "      <td>0</td>\n",
       "      <td>3</td>\n",
       "    </tr>\n",
       "    <tr>\n",
       "      <th>2751</th>\n",
       "      <td>0</td>\n",
       "      <td>3</td>\n",
       "    </tr>\n",
       "  </tbody>\n",
       "</table>\n",
       "<p>2752 rows × 2 columns</p>\n",
       "</div>"
      ],
      "text/plain": [
       "      PD_stage  Patient_N\n",
       "0            0          0\n",
       "1            0          0\n",
       "2            0          0\n",
       "3            0          0\n",
       "4            0          0\n",
       "...        ...        ...\n",
       "2747         0          3\n",
       "2748         0          3\n",
       "2749         0          3\n",
       "2750         0          3\n",
       "2751         0          3\n",
       "\n",
       "[2752 rows x 2 columns]"
      ]
     },
     "execution_count": 11,
     "metadata": {},
     "output_type": "execute_result"
    }
   ],
   "source": [
    "df_seg_descr_f = pd.DataFrame([final_index_pd_f, final_index_pt_f_pd_train] ).T\n",
    "df_seg_descr_f.columns = ['PD_stage','Patient_N']\n",
    "df_seg_descr_f\n"
   ]
  },
  {
   "cell_type": "code",
   "execution_count": 12,
   "metadata": {},
   "outputs": [
    {
     "data": {
      "text/html": [
       "<div>\n",
       "<style scoped>\n",
       "    .dataframe tbody tr th:only-of-type {\n",
       "        vertical-align: middle;\n",
       "    }\n",
       "\n",
       "    .dataframe tbody tr th {\n",
       "        vertical-align: top;\n",
       "    }\n",
       "\n",
       "    .dataframe thead th {\n",
       "        text-align: right;\n",
       "    }\n",
       "</style>\n",
       "<table border=\"1\" class=\"dataframe\">\n",
       "  <thead>\n",
       "    <tr style=\"text-align: right;\">\n",
       "      <th></th>\n",
       "      <th></th>\n",
       "      <th>PD_stage</th>\n",
       "    </tr>\n",
       "    <tr>\n",
       "      <th>PD_stage</th>\n",
       "      <th>Patient_N</th>\n",
       "      <th></th>\n",
       "    </tr>\n",
       "  </thead>\n",
       "  <tbody>\n",
       "    <tr>\n",
       "      <th rowspan=\"2\" valign=\"top\">0</th>\n",
       "      <th>0</th>\n",
       "      <td>864</td>\n",
       "    </tr>\n",
       "    <tr>\n",
       "      <th>3</th>\n",
       "      <td>679</td>\n",
       "    </tr>\n",
       "    <tr>\n",
       "      <th rowspan=\"2\" valign=\"top\">1</th>\n",
       "      <th>1</th>\n",
       "      <td>449</td>\n",
       "    </tr>\n",
       "    <tr>\n",
       "      <th>2</th>\n",
       "      <td>760</td>\n",
       "    </tr>\n",
       "  </tbody>\n",
       "</table>\n",
       "</div>"
      ],
      "text/plain": [
       "                    PD_stage\n",
       "PD_stage Patient_N          \n",
       "0        0               864\n",
       "         3               679\n",
       "1        1               449\n",
       "         2               760"
      ]
     },
     "execution_count": 12,
     "metadata": {},
     "output_type": "execute_result"
    }
   ],
   "source": [
    "pd_df_f_seg = df_seg_descr_f.groupby(['PD_stage','Patient_N'])['PD_stage'].count()\n",
    "pd_df_f_seg = pd.DataFrame(pd_df_f_seg)\n",
    "pd_df_f_seg"
   ]
  },
  {
   "cell_type": "code",
   "execution_count": 110,
   "metadata": {},
   "outputs": [
    {
     "data": {
      "text/plain": [
       "PD_stage    2752\n",
       "dtype: int64"
      ]
     },
     "execution_count": 110,
     "metadata": {},
     "output_type": "execute_result"
    }
   ],
   "source": [
    "np.sum(pd_df_f_seg)"
   ]
  },
  {
   "cell_type": "code",
   "execution_count": 24,
   "metadata": {},
   "outputs": [],
   "source": [
    "# HENCE: Within both groups I can always leave one patient out and do the training with the segments from only one\n",
    "#        patient. What I do now is slecting the minimum number of segments across the 4 groups --> 449. Then one patient\n",
    "#        will provide the training set and the other the testing. I will extract 80% for the training and 20% for the\n",
    "#        testing. UPDATE: the minimum number for one of the patient in the healthy class is 442 and therefore we keep \n",
    "#        that as a minimum number"
   ]
  },
  {
   "cell_type": "code",
   "execution_count": 13,
   "metadata": {},
   "outputs": [
    {
     "data": {
      "text/html": [
       "<div>\n",
       "<style scoped>\n",
       "    .dataframe tbody tr th:only-of-type {\n",
       "        vertical-align: middle;\n",
       "    }\n",
       "\n",
       "    .dataframe tbody tr th {\n",
       "        vertical-align: top;\n",
       "    }\n",
       "\n",
       "    .dataframe thead th {\n",
       "        text-align: right;\n",
       "    }\n",
       "</style>\n",
       "<table border=\"1\" class=\"dataframe\">\n",
       "  <thead>\n",
       "    <tr style=\"text-align: right;\">\n",
       "      <th></th>\n",
       "      <th></th>\n",
       "      <th>PD_stage</th>\n",
       "    </tr>\n",
       "    <tr>\n",
       "      <th>PD_stage</th>\n",
       "      <th>Patient_N</th>\n",
       "      <th></th>\n",
       "    </tr>\n",
       "  </thead>\n",
       "  <tbody>\n",
       "    <tr>\n",
       "      <th rowspan=\"5\" valign=\"top\">0</th>\n",
       "      <th>0</th>\n",
       "      <td>999</td>\n",
       "    </tr>\n",
       "    <tr>\n",
       "      <th>1</th>\n",
       "      <td>530</td>\n",
       "    </tr>\n",
       "    <tr>\n",
       "      <th>3</th>\n",
       "      <td>832</td>\n",
       "    </tr>\n",
       "    <tr>\n",
       "      <th>6</th>\n",
       "      <td>771</td>\n",
       "    </tr>\n",
       "    <tr>\n",
       "      <th>7</th>\n",
       "      <td>778</td>\n",
       "    </tr>\n",
       "    <tr>\n",
       "      <th rowspan=\"4\" valign=\"top\">1</th>\n",
       "      <th>2</th>\n",
       "      <td>976</td>\n",
       "    </tr>\n",
       "    <tr>\n",
       "      <th>8</th>\n",
       "      <td>407</td>\n",
       "    </tr>\n",
       "    <tr>\n",
       "      <th>9</th>\n",
       "      <td>740</td>\n",
       "    </tr>\n",
       "    <tr>\n",
       "      <th>10</th>\n",
       "      <td>372</td>\n",
       "    </tr>\n",
       "    <tr>\n",
       "      <th rowspan=\"2\" valign=\"top\">2</th>\n",
       "      <th>4</th>\n",
       "      <td>401</td>\n",
       "    </tr>\n",
       "    <tr>\n",
       "      <th>11</th>\n",
       "      <td>649</td>\n",
       "    </tr>\n",
       "    <tr>\n",
       "      <th>3</th>\n",
       "      <th>5</th>\n",
       "      <td>539</td>\n",
       "    </tr>\n",
       "  </tbody>\n",
       "</table>\n",
       "</div>"
      ],
      "text/plain": [
       "                    PD_stage\n",
       "PD_stage Patient_N          \n",
       "0        0               999\n",
       "         1               530\n",
       "         3               832\n",
       "         6               771\n",
       "         7               778\n",
       "1        2               976\n",
       "         8               407\n",
       "         9               740\n",
       "         10              372\n",
       "2        4               401\n",
       "         11              649\n",
       "3        5               539"
      ]
     },
     "execution_count": 13,
     "metadata": {},
     "output_type": "execute_result"
    }
   ],
   "source": [
    "pd_df_m_seg = df_seg_descr_m.groupby(['PD_stage','Patient_N',])['PD_stage'].count()\n",
    "pd_df_m_seg = pd.DataFrame(pd_df_m_seg)\n",
    "pd_df_m_seg"
   ]
  },
  {
   "cell_type": "code",
   "execution_count": 113,
   "metadata": {},
   "outputs": [
    {
     "data": {
      "text/plain": [
       "PD_stage    7994\n",
       "dtype: int64"
      ]
     },
     "execution_count": 113,
     "metadata": {},
     "output_type": "execute_result"
    }
   ],
   "source": [
    "np.sum(pd_df_m_seg)"
   ]
  },
  {
   "cell_type": "code",
   "execution_count": null,
   "metadata": {},
   "outputs": [],
   "source": [
    "#HENCE:  Within both groups I can always leave one patient out and do the training with the segments from only one\n",
    "#        patient. What I do now is slecting the minimum number of segments across As for the female case, I select the \n",
    "#        minimum number of segments across the 12  groups --> 372. Then, in each group, one patient randomly selected \n",
    "#        will provide the testing set and from the rest I will extract 80% for the training set. \n",
    "#        I will extract 80% for the training and 20% for the testing.\n",
    "#       "
   ]
  },
  {
   "cell_type": "code",
   "execution_count": null,
   "metadata": {},
   "outputs": [],
   "source": [
    "# THE SET THAT I BUILT FOR THE SPLIT GROUPS ONLY TAKE INTO ACCOUNT THE DIFFERENTIATION W.R.T THE PD-STAGE. GIVEN MY\n",
    "# NEW DESIGN FOR THE TRAINING AND TESTING PROCEDURE I BUILD A NEW SET OF SPLITS WHICH WILL PROVIDE THE REQUIREMENTS\n",
    "# ABOVE INTRODUCED. THEREFORE I CONSTRUCT HERE AGAIN THE SPLIT GROUPS "
   ]
  },
  {
   "cell_type": "code",
   "execution_count": 14,
   "metadata": {},
   "outputs": [],
   "source": [
    "#MALE CASE\n",
    "X_train_pd_m_df = pd.DataFrame(X_train_pd_m)\n",
    "final_index_pd_m_df = pd.DataFrame(final_index_pd_m)\n",
    "final_index_pt_m_pd_train_df = pd.DataFrame(final_index_pt_m_pd_train)\n",
    "\n",
    "X_train_m_pd_ind_df = pd.concat([X_train_pd_m_df,\n",
    "                                 final_index_pd_m_df,\n",
    "                                 final_index_pt_m_pd_train_df] , ignore_index= True, axis = 1)\n",
    "\n",
    "col_list = ['col' + str(x) for x in range(0,X_train_m_pd_ind_df.shape[1])]\n",
    "X_train_m_pd_ind_df.columns = col_list"
   ]
  },
  {
   "cell_type": "code",
   "execution_count": 15,
   "metadata": {},
   "outputs": [],
   "source": [
    "#I split them with respect to the patients and then they have the associated PD_stage in the last col\n",
    "X_train_m_pd_split_0 = X_train_m_pd_ind_df.groupby('col5001')\n",
    "X_train_m_pd_split = [X_train_m_pd_split_0.get_group(x) for x in X_train_m_pd_split_0.groups]\n"
   ]
  },
  {
   "cell_type": "code",
   "execution_count": 16,
   "metadata": {},
   "outputs": [
    {
     "data": {
      "text/plain": [
       "[999, 530, 976, 832, 401, 539, 771, 778, 407, 740, 372, 649]"
      ]
     },
     "execution_count": 16,
     "metadata": {},
     "output_type": "execute_result"
    }
   ],
   "source": [
    "n_seg_pd_m_split =  [len(X_train_m_pd_split[i]) for i in range(0, len(X_train_m_pd_split))]\n",
    "n_seg_pd_m_split"
   ]
  },
  {
   "cell_type": "code",
   "execution_count": 17,
   "metadata": {},
   "outputs": [],
   "source": [
    "#FEMALE CASE\n",
    "X_train_pd_f_df = pd.DataFrame(X_train_pd_f)\n",
    "final_index_pd_f_df = pd.DataFrame(final_index_pd_f)\n",
    "final_index_pt_f_pd_train_df = pd.DataFrame(final_index_pt_f_pd_train)\n",
    "\n",
    "X_train_f_pd_ind_df = pd.concat([X_train_pd_f_df,\n",
    "                                 final_index_pd_f_df,\n",
    "                                 final_index_pt_f_pd_train_df] , ignore_index= True, axis = 1)\n",
    "\n",
    "col_list = ['col' + str(x) for x in range(0,X_train_f_pd_ind_df.shape[1])]\n",
    "X_train_f_pd_ind_df.columns = col_list"
   ]
  },
  {
   "cell_type": "code",
   "execution_count": 18,
   "metadata": {},
   "outputs": [],
   "source": [
    "#I split them with respect to the patients and then they have the associated PD_stage in the last col\n",
    "X_train_f_pd_split_0 = X_train_f_pd_ind_df.groupby('col5001')\n",
    "X_train_f_pd_split = [X_train_f_pd_split_0.get_group(x) for x in X_train_f_pd_split_0.groups]\n"
   ]
  },
  {
   "cell_type": "code",
   "execution_count": 19,
   "metadata": {},
   "outputs": [
    {
     "data": {
      "text/plain": [
       "[864, 449, 760, 679]"
      ]
     },
     "execution_count": 19,
     "metadata": {},
     "output_type": "execute_result"
    }
   ],
   "source": [
    "n_seg_pd_f_split = [len(X_train_f_pd_split[i]) for i in range(0, len(X_train_f_pd_split))]\n",
    "n_seg_pd_f_split"
   ]
  },
  {
   "cell_type": "markdown",
   "metadata": {},
   "source": [
    "### 2) Compute the minimum of the number of segments in each group and denote that N_m and N_f"
   ]
  },
  {
   "cell_type": "code",
   "execution_count": 8,
   "metadata": {},
   "outputs": [],
   "source": [
    "#n_seg_pd_f_split = [864, 449, 760, 679]"
   ]
  },
  {
   "cell_type": "code",
   "execution_count": 9,
   "metadata": {},
   "outputs": [],
   "source": [
    "#n_seg_pd_m_split = [999, 530, 976, 832, 401, 539, 771, 778, 407, 740, 372, 649]"
   ]
  },
  {
   "cell_type": "code",
   "execution_count": 20,
   "metadata": {
    "scrolled": true
   },
   "outputs": [
    {
     "name": "stdout",
     "output_type": "stream",
     "text": [
      "372 449\n"
     ]
    }
   ],
   "source": [
    "min_m = min(n_seg_pd_m_split)\n",
    "min_f = min(n_seg_pd_f_split)\n",
    "print(min_m,min_f)"
   ]
  },
  {
   "cell_type": "code",
   "execution_count": null,
   "metadata": {},
   "outputs": [],
   "source": [
    "#HOWEVER - SINCE THE MINIMUM NUMBER FOR ONE OF THE HEALTHY PATIENTS IS HEALTHY THEN 442 THEN WE KEEP min_f = 442"
   ]
  },
  {
   "cell_type": "code",
   "execution_count": 22,
   "metadata": {},
   "outputs": [
    {
     "name": "stdout",
     "output_type": "stream",
     "text": [
      "372 442\n"
     ]
    }
   ],
   "source": [
    "min_f = 442\n",
    "print(min_m,min_f)"
   ]
  },
  {
   "cell_type": "code",
   "execution_count": 23,
   "metadata": {},
   "outputs": [],
   "source": [
    "N_f = min_f\n",
    "N_m = min_m"
   ]
  },
  {
   "cell_type": "code",
   "execution_count": 29,
   "metadata": {},
   "outputs": [],
   "source": [
    "#N_f = 442\n",
    "#N_m = 372"
   ]
  },
  {
   "cell_type": "markdown",
   "metadata": {},
   "source": [
    "### 3) Randomly select from each group (divided by both pd_stage and patient number) 442/372 number of segments for the female/male case respectively"
   ]
  },
  {
   "cell_type": "code",
   "execution_count": null,
   "metadata": {},
   "outputs": [],
   "source": [
    "#Now --> Randomly select from each group the minimum number from the groups created for each speaker"
   ]
  },
  {
   "cell_type": "code",
   "execution_count": 24,
   "metadata": {},
   "outputs": [
    {
     "name": "stdout",
     "output_type": "stream",
     "text": [
      "0.13436424411240122\n"
     ]
    }
   ],
   "source": [
    "random.seed(1)\n",
    "print(random.random()) #0.13436424411240122"
   ]
  },
  {
   "cell_type": "code",
   "execution_count": 25,
   "metadata": {},
   "outputs": [],
   "source": [
    "ind_pd_f = [range(0,n_seg_pd_f_split[i]) for i in range(0, len(n_seg_pd_f_split))]\n",
    "ind_pd_m = [range(0,n_seg_pd_m_split[i]) for i in range(0, len(n_seg_pd_m_split))]"
   ]
  },
  {
   "cell_type": "code",
   "execution_count": 26,
   "metadata": {},
   "outputs": [
    {
     "data": {
      "text/plain": [
       "[range(0, 999),\n",
       " range(0, 530),\n",
       " range(0, 976),\n",
       " range(0, 832),\n",
       " range(0, 401),\n",
       " range(0, 539),\n",
       " range(0, 771),\n",
       " range(0, 778),\n",
       " range(0, 407),\n",
       " range(0, 740),\n",
       " range(0, 372),\n",
       " range(0, 649)]"
      ]
     },
     "execution_count": 26,
     "metadata": {},
     "output_type": "execute_result"
    }
   ],
   "source": [
    "ind_pd_m"
   ]
  },
  {
   "cell_type": "code",
   "execution_count": 27,
   "metadata": {},
   "outputs": [],
   "source": [
    "random.seed(1)\n",
    "\n",
    "rand_ind_pd_m = [random.sample( ind_pd_m[i],  k = min_m) for i in range(0, len(ind_pd_m))]\n",
    "rand_ind_pd_f = [random.sample( ind_pd_f[i],  k = min_f) for i in range(0, len(ind_pd_f))]"
   ]
  },
  {
   "cell_type": "code",
   "execution_count": 28,
   "metadata": {},
   "outputs": [
    {
     "data": {
      "text/plain": [
       "[372, 372, 372, 372, 372, 372, 372, 372, 372, 372, 372, 372]"
      ]
     },
     "execution_count": 28,
     "metadata": {},
     "output_type": "execute_result"
    }
   ],
   "source": [
    "#check\n",
    "[len(rand_ind_pd_m[i]) for i in range(0, len(rand_ind_pd_m))]"
   ]
  },
  {
   "cell_type": "code",
   "execution_count": 29,
   "metadata": {},
   "outputs": [
    {
     "data": {
      "text/plain": [
       "[442, 442, 442, 442]"
      ]
     },
     "execution_count": 29,
     "metadata": {},
     "output_type": "execute_result"
    }
   ],
   "source": [
    "[len(rand_ind_pd_f[i]) for i in range(0, len(rand_ind_pd_f))]"
   ]
  },
  {
   "cell_type": "code",
   "execution_count": 30,
   "metadata": {},
   "outputs": [],
   "source": [
    "rand_ind_pd_sorted_f = [sorted(rand_ind_pd_f[i]) for i in range(0,len(rand_ind_pd_f))]\n",
    "rand_ind_pd_sorted_m = [sorted(rand_ind_pd_m[i]) for i in range(0,len(rand_ind_pd_m))]"
   ]
  },
  {
   "cell_type": "code",
   "execution_count": 31,
   "metadata": {},
   "outputs": [
    {
     "data": {
      "text/plain": [
       "[442, 442, 442, 442]"
      ]
     },
     "execution_count": 31,
     "metadata": {},
     "output_type": "execute_result"
    }
   ],
   "source": [
    "#check\n",
    "[len(rand_ind_pd_sorted_f[i]) for i in range(0, len(rand_ind_pd_sorted_f))]"
   ]
  },
  {
   "cell_type": "code",
   "execution_count": 32,
   "metadata": {},
   "outputs": [
    {
     "data": {
      "text/plain": [
       "[372, 372, 372, 372, 372, 372, 372, 372, 372, 372, 372, 372]"
      ]
     },
     "execution_count": 32,
     "metadata": {},
     "output_type": "execute_result"
    }
   ],
   "source": [
    "#check\n",
    "[len(rand_ind_pd_sorted_m[i]) for i in range(0, len(rand_ind_pd_sorted_m))]"
   ]
  },
  {
   "cell_type": "code",
   "execution_count": 33,
   "metadata": {},
   "outputs": [],
   "source": [
    "X_pd_f_split = [X_train_f_pd_split[i].iloc[rand_ind_pd_sorted_f[i], :].reset_index() for i in range(0, len(X_train_f_pd_split))]\n",
    "X_pd_m_split = [X_train_m_pd_split[i].iloc[rand_ind_pd_sorted_m[i], :].reset_index() for i in range(0, len(X_train_m_pd_split))]\n"
   ]
  },
  {
   "cell_type": "code",
   "execution_count": 34,
   "metadata": {},
   "outputs": [
    {
     "data": {
      "text/plain": [
       "[442, 442, 442, 442]"
      ]
     },
     "execution_count": 34,
     "metadata": {},
     "output_type": "execute_result"
    }
   ],
   "source": [
    "#check\n",
    "[len(X_pd_f_split[i]) for i in range(0, len(X_pd_f_split))]"
   ]
  },
  {
   "cell_type": "code",
   "execution_count": 35,
   "metadata": {},
   "outputs": [
    {
     "data": {
      "text/plain": [
       "[372, 372, 372, 372, 372, 372, 372, 372, 372, 372, 372, 372]"
      ]
     },
     "execution_count": 35,
     "metadata": {},
     "output_type": "execute_result"
    }
   ],
   "source": [
    "#check\n",
    "[len(X_pd_m_split[i]) for i in range(0, len(X_pd_m_split))]"
   ]
  },
  {
   "cell_type": "markdown",
   "metadata": {},
   "source": [
    "### 4)Randomly select one group for one speaker to leave out for the testing set"
   ]
  },
  {
   "cell_type": "code",
   "execution_count": null,
   "metadata": {},
   "outputs": [],
   "source": [
    "##########\n",
    "#  MALE  #\n",
    "##########"
   ]
  },
  {
   "cell_type": "code",
   "execution_count": 36,
   "metadata": {},
   "outputs": [
    {
     "data": {
      "text/html": [
       "<div>\n",
       "<style scoped>\n",
       "    .dataframe tbody tr th:only-of-type {\n",
       "        vertical-align: middle;\n",
       "    }\n",
       "\n",
       "    .dataframe tbody tr th {\n",
       "        vertical-align: top;\n",
       "    }\n",
       "\n",
       "    .dataframe thead th {\n",
       "        text-align: right;\n",
       "    }\n",
       "</style>\n",
       "<table border=\"1\" class=\"dataframe\">\n",
       "  <thead>\n",
       "    <tr style=\"text-align: right;\">\n",
       "      <th></th>\n",
       "      <th>PD_stage</th>\n",
       "      <th>Patient_N</th>\n",
       "    </tr>\n",
       "  </thead>\n",
       "  <tbody>\n",
       "    <tr>\n",
       "      <th>0</th>\n",
       "      <td>0</td>\n",
       "      <td>0</td>\n",
       "    </tr>\n",
       "    <tr>\n",
       "      <th>1</th>\n",
       "      <td>0</td>\n",
       "      <td>1</td>\n",
       "    </tr>\n",
       "    <tr>\n",
       "      <th>2</th>\n",
       "      <td>0</td>\n",
       "      <td>3</td>\n",
       "    </tr>\n",
       "    <tr>\n",
       "      <th>3</th>\n",
       "      <td>0</td>\n",
       "      <td>6</td>\n",
       "    </tr>\n",
       "    <tr>\n",
       "      <th>4</th>\n",
       "      <td>0</td>\n",
       "      <td>7</td>\n",
       "    </tr>\n",
       "    <tr>\n",
       "      <th>5</th>\n",
       "      <td>1</td>\n",
       "      <td>2</td>\n",
       "    </tr>\n",
       "    <tr>\n",
       "      <th>6</th>\n",
       "      <td>1</td>\n",
       "      <td>8</td>\n",
       "    </tr>\n",
       "    <tr>\n",
       "      <th>7</th>\n",
       "      <td>1</td>\n",
       "      <td>9</td>\n",
       "    </tr>\n",
       "    <tr>\n",
       "      <th>8</th>\n",
       "      <td>1</td>\n",
       "      <td>10</td>\n",
       "    </tr>\n",
       "    <tr>\n",
       "      <th>9</th>\n",
       "      <td>2</td>\n",
       "      <td>4</td>\n",
       "    </tr>\n",
       "    <tr>\n",
       "      <th>10</th>\n",
       "      <td>2</td>\n",
       "      <td>11</td>\n",
       "    </tr>\n",
       "    <tr>\n",
       "      <th>11</th>\n",
       "      <td>3</td>\n",
       "      <td>5</td>\n",
       "    </tr>\n",
       "  </tbody>\n",
       "</table>\n",
       "</div>"
      ],
      "text/plain": [
       "    PD_stage  Patient_N\n",
       "0          0          0\n",
       "1          0          1\n",
       "2          0          3\n",
       "3          0          6\n",
       "4          0          7\n",
       "5          1          2\n",
       "6          1          8\n",
       "7          1          9\n",
       "8          1         10\n",
       "9          2          4\n",
       "10         2         11\n",
       "11         3          5"
      ]
     },
     "execution_count": 36,
     "metadata": {},
     "output_type": "execute_result"
    }
   ],
   "source": [
    "pd_df_m = pd.DataFrame( np.array([[ 0,  0 ], \n",
    "                        [ 0,  1 ], \n",
    "                        [ 0 , 3 ],\n",
    "                        [ 0,  6 ], \n",
    "                        [ 0,  7 ],\n",
    "                        [ 1,  2 ],\n",
    "                        [ 1 , 8 ], \n",
    "                        [ 1,  9 ],\n",
    "                        [ 1 , 10],\n",
    "                        [ 2,  4 ],\n",
    "                        [ 2,  11], \n",
    "                        [ 3 , 5 ] ]),                      \n",
    "         columns = [\"PD_stage\", \"Patient_N\"])\n",
    "\n",
    "pd_df_m"
   ]
  },
  {
   "cell_type": "code",
   "execution_count": null,
   "metadata": {},
   "outputs": [],
   "source": [
    "#change the random seet to extract different patients for testing (alreadgy got Pat. # 5 and 8,3,2,6,9,10,11,4,0,)"
   ]
  },
  {
   "cell_type": "code",
   "execution_count": 37,
   "metadata": {},
   "outputs": [
    {
     "data": {
      "text/html": [
       "<div>\n",
       "<style scoped>\n",
       "    .dataframe tbody tr th:only-of-type {\n",
       "        vertical-align: middle;\n",
       "    }\n",
       "\n",
       "    .dataframe tbody tr th {\n",
       "        vertical-align: top;\n",
       "    }\n",
       "\n",
       "    .dataframe thead th {\n",
       "        text-align: right;\n",
       "    }\n",
       "</style>\n",
       "<table border=\"1\" class=\"dataframe\">\n",
       "  <thead>\n",
       "    <tr style=\"text-align: right;\">\n",
       "      <th></th>\n",
       "      <th>PD_stage</th>\n",
       "      <th>Patient_N</th>\n",
       "    </tr>\n",
       "  </thead>\n",
       "  <tbody>\n",
       "    <tr>\n",
       "      <th>1</th>\n",
       "      <td>0</td>\n",
       "      <td>1</td>\n",
       "    </tr>\n",
       "  </tbody>\n",
       "</table>\n",
       "</div>"
      ],
      "text/plain": [
       "   PD_stage  Patient_N\n",
       "1         0          1"
      ]
     },
     "execution_count": 37,
     "metadata": {},
     "output_type": "execute_result"
    }
   ],
   "source": [
    "np.random.seed(70)\n",
    "    \n",
    "test_patients_m = pd_df_m.sample(frac = 1.0).head(1)\n",
    "test_patients_m"
   ]
  },
  {
   "cell_type": "code",
   "execution_count": 38,
   "metadata": {},
   "outputs": [],
   "source": [
    "new_X_pd_m_split_train_d1 = list(X_pd_m_split)\n",
    "new_X_pd_m_split_train_d1 = [i for j, i in enumerate(new_X_pd_m_split_train_d1) if j not in np.array(test_patients_m[\"Patient_N\"])]"
   ]
  },
  {
   "cell_type": "code",
   "execution_count": 39,
   "metadata": {},
   "outputs": [
    {
     "data": {
      "text/plain": [
       "11"
      ]
     },
     "execution_count": 39,
     "metadata": {},
     "output_type": "execute_result"
    }
   ],
   "source": [
    "len(new_X_pd_m_split_train_d1)"
   ]
  },
  {
   "cell_type": "code",
   "execution_count": 40,
   "metadata": {},
   "outputs": [
    {
     "data": {
      "text/plain": [
       "[{0}, {2}, {3}, {4}, {5}, {6}, {7}, {8}, {9}, {10}, {11}]"
      ]
     },
     "execution_count": 40,
     "metadata": {},
     "output_type": "execute_result"
    }
   ],
   "source": [
    "#chekc that the left patients are 0,1,2,3,4,6,7,9,10,11 # this change according to the extracted patient\n",
    "[set(new_X_pd_m_split_train_d1[i]['col5001']) for i in range(0,len(new_X_pd_m_split_train_d1))]"
   ]
  },
  {
   "cell_type": "code",
   "execution_count": 41,
   "metadata": {},
   "outputs": [],
   "source": [
    "new_X_pd_m_split_test_d1 = list(X_pd_m_split)\n",
    "new_X_pd_m_split_test_d1 = [i for j, i in enumerate(new_X_pd_m_split_test_d1) if j in np.array(test_patients_m[\"Patient_N\"])]"
   ]
  },
  {
   "cell_type": "code",
   "execution_count": 42,
   "metadata": {},
   "outputs": [
    {
     "data": {
      "text/plain": [
       "1"
      ]
     },
     "execution_count": 42,
     "metadata": {},
     "output_type": "execute_result"
    }
   ],
   "source": [
    "len(new_X_pd_m_split_test_d1)"
   ]
  },
  {
   "cell_type": "code",
   "execution_count": 43,
   "metadata": {},
   "outputs": [
    {
     "data": {
      "text/plain": [
       "{1}"
      ]
     },
     "execution_count": 43,
     "metadata": {},
     "output_type": "execute_result"
    }
   ],
   "source": [
    "#chekc that the left patient is 8 # this change according to the extracted patient\n",
    "set(new_X_pd_m_split_test_d1[0]['col5001'] )"
   ]
  },
  {
   "cell_type": "code",
   "execution_count": null,
   "metadata": {},
   "outputs": [],
   "source": [
    "############\n",
    "#  FEMALE  #\n",
    "############"
   ]
  },
  {
   "cell_type": "code",
   "execution_count": 44,
   "metadata": {},
   "outputs": [
    {
     "data": {
      "text/html": [
       "<div>\n",
       "<style scoped>\n",
       "    .dataframe tbody tr th:only-of-type {\n",
       "        vertical-align: middle;\n",
       "    }\n",
       "\n",
       "    .dataframe tbody tr th {\n",
       "        vertical-align: top;\n",
       "    }\n",
       "\n",
       "    .dataframe thead th {\n",
       "        text-align: right;\n",
       "    }\n",
       "</style>\n",
       "<table border=\"1\" class=\"dataframe\">\n",
       "  <thead>\n",
       "    <tr style=\"text-align: right;\">\n",
       "      <th></th>\n",
       "      <th>PD_stage</th>\n",
       "      <th>Patient_N</th>\n",
       "    </tr>\n",
       "  </thead>\n",
       "  <tbody>\n",
       "    <tr>\n",
       "      <th>0</th>\n",
       "      <td>0</td>\n",
       "      <td>0</td>\n",
       "    </tr>\n",
       "    <tr>\n",
       "      <th>1</th>\n",
       "      <td>0</td>\n",
       "      <td>3</td>\n",
       "    </tr>\n",
       "    <tr>\n",
       "      <th>2</th>\n",
       "      <td>1</td>\n",
       "      <td>1</td>\n",
       "    </tr>\n",
       "    <tr>\n",
       "      <th>3</th>\n",
       "      <td>1</td>\n",
       "      <td>2</td>\n",
       "    </tr>\n",
       "  </tbody>\n",
       "</table>\n",
       "</div>"
      ],
      "text/plain": [
       "   PD_stage  Patient_N\n",
       "0         0          0\n",
       "1         0          3\n",
       "2         1          1\n",
       "3         1          2"
      ]
     },
     "execution_count": 44,
     "metadata": {},
     "output_type": "execute_result"
    }
   ],
   "source": [
    "pd_df_f = pd.DataFrame( np.array([[ 0,  0 ], \n",
    "                        [ 0,  3 ], \n",
    "                        [ 1 , 1 ],\n",
    "                        [ 1,  2 ] ]),                      \n",
    "         columns = [\"PD_stage\", \"Patient_N\"])\n",
    "\n",
    "pd_df_f"
   ]
  },
  {
   "cell_type": "code",
   "execution_count": 78,
   "metadata": {},
   "outputs": [
    {
     "data": {
      "text/html": [
       "<div>\n",
       "<style scoped>\n",
       "    .dataframe tbody tr th:only-of-type {\n",
       "        vertical-align: middle;\n",
       "    }\n",
       "\n",
       "    .dataframe tbody tr th {\n",
       "        vertical-align: top;\n",
       "    }\n",
       "\n",
       "    .dataframe thead th {\n",
       "        text-align: right;\n",
       "    }\n",
       "</style>\n",
       "<table border=\"1\" class=\"dataframe\">\n",
       "  <thead>\n",
       "    <tr style=\"text-align: right;\">\n",
       "      <th></th>\n",
       "      <th>PD_stage</th>\n",
       "      <th>Patient_N</th>\n",
       "    </tr>\n",
       "  </thead>\n",
       "  <tbody>\n",
       "    <tr>\n",
       "      <th>0</th>\n",
       "      <td>0</td>\n",
       "      <td>0</td>\n",
       "    </tr>\n",
       "  </tbody>\n",
       "</table>\n",
       "</div>"
      ],
      "text/plain": [
       "   PD_stage  Patient_N\n",
       "0         0          0"
      ]
     },
     "execution_count": 78,
     "metadata": {},
     "output_type": "execute_result"
    }
   ],
   "source": [
    "np.random.seed(6)\n",
    "\n",
    "test_patients_f = pd_df_f.sample(frac = 1.0).head(1)\n",
    "test_patients_f"
   ]
  },
  {
   "cell_type": "code",
   "execution_count": 46,
   "metadata": {},
   "outputs": [],
   "source": [
    "new_X_pd_f_split_train_d1 = list(X_pd_f_split)\n",
    "new_X_pd_f_split_train_d1 = [i for j, i in enumerate(new_X_pd_f_split_train_d1) if j not in np.array(test_patients_f[\"Patient_N\"])]"
   ]
  },
  {
   "cell_type": "code",
   "execution_count": 47,
   "metadata": {},
   "outputs": [
    {
     "data": {
      "text/plain": [
       "3"
      ]
     },
     "execution_count": 47,
     "metadata": {},
     "output_type": "execute_result"
    }
   ],
   "source": [
    "len(new_X_pd_f_split_train_d1)"
   ]
  },
  {
   "cell_type": "code",
   "execution_count": 48,
   "metadata": {},
   "outputs": [
    {
     "data": {
      "text/plain": [
       "[{0}, {1}, {2}]"
      ]
     },
     "execution_count": 48,
     "metadata": {},
     "output_type": "execute_result"
    }
   ],
   "source": [
    "#chekc that the left patients are 0,2,3 # this change according to the selected patient for testing\n",
    "[set(new_X_pd_f_split_train_d1[i]['col5001']) for i in range(0,len(new_X_pd_f_split_train_d1))]"
   ]
  },
  {
   "cell_type": "code",
   "execution_count": 79,
   "metadata": {},
   "outputs": [],
   "source": [
    "new_X_pd_f_split_test_d1 = list(X_pd_f_split)\n",
    "new_X_pd_f_split_test_d1 = [i for j, i in enumerate(new_X_pd_f_split_test_d1) if j in np.array(test_patients_f[\"Patient_N\"])]"
   ]
  },
  {
   "cell_type": "code",
   "execution_count": 50,
   "metadata": {},
   "outputs": [
    {
     "data": {
      "text/plain": [
       "1"
      ]
     },
     "execution_count": 50,
     "metadata": {},
     "output_type": "execute_result"
    }
   ],
   "source": [
    "len(new_X_pd_f_split_test_d1)"
   ]
  },
  {
   "cell_type": "code",
   "execution_count": 80,
   "metadata": {},
   "outputs": [
    {
     "data": {
      "text/plain": [
       "{0}"
      ]
     },
     "execution_count": 80,
     "metadata": {},
     "output_type": "execute_result"
    }
   ],
   "source": [
    "#chekc that the left patient is 1 # this change according to the selected patient for testing\n",
    "set(new_X_pd_f_split_test_d1[0]['col5001'] )"
   ]
  },
  {
   "cell_type": "markdown",
   "metadata": {},
   "source": [
    "### 5) Extract 80% of the data for the traning set and 20% of the data for the testing"
   ]
  },
  {
   "cell_type": "code",
   "execution_count": 75,
   "metadata": {},
   "outputs": [],
   "source": [
    "################\n",
    "#     MALE     #\n",
    "################"
   ]
  },
  {
   "cell_type": "code",
   "execution_count": 584,
   "metadata": {},
   "outputs": [
    {
     "data": {
      "text/html": [
       "<div>\n",
       "<style scoped>\n",
       "    .dataframe tbody tr th:only-of-type {\n",
       "        vertical-align: middle;\n",
       "    }\n",
       "\n",
       "    .dataframe tbody tr th {\n",
       "        vertical-align: top;\n",
       "    }\n",
       "\n",
       "    .dataframe thead th {\n",
       "        text-align: right;\n",
       "    }\n",
       "</style>\n",
       "<table border=\"1\" class=\"dataframe\">\n",
       "  <thead>\n",
       "    <tr style=\"text-align: right;\">\n",
       "      <th></th>\n",
       "      <th>index</th>\n",
       "      <th>col0</th>\n",
       "      <th>col1</th>\n",
       "      <th>col2</th>\n",
       "      <th>col3</th>\n",
       "      <th>col4</th>\n",
       "      <th>col5</th>\n",
       "      <th>col6</th>\n",
       "      <th>col7</th>\n",
       "      <th>col8</th>\n",
       "      <th>...</th>\n",
       "      <th>col4992</th>\n",
       "      <th>col4993</th>\n",
       "      <th>col4994</th>\n",
       "      <th>col4995</th>\n",
       "      <th>col4996</th>\n",
       "      <th>col4997</th>\n",
       "      <th>col4998</th>\n",
       "      <th>col4999</th>\n",
       "      <th>col5000</th>\n",
       "      <th>col5001</th>\n",
       "    </tr>\n",
       "  </thead>\n",
       "  <tbody>\n",
       "    <tr>\n",
       "      <th>0</th>\n",
       "      <td>2508</td>\n",
       "      <td>0.000397</td>\n",
       "      <td>0.000305</td>\n",
       "      <td>0.000366</td>\n",
       "      <td>0.000397</td>\n",
       "      <td>0.000244</td>\n",
       "      <td>0.000305</td>\n",
       "      <td>0.000244</td>\n",
       "      <td>0.000366</td>\n",
       "      <td>0.000183</td>\n",
       "      <td>...</td>\n",
       "      <td>-0.000275</td>\n",
       "      <td>-0.000336</td>\n",
       "      <td>-0.000275</td>\n",
       "      <td>-0.000336</td>\n",
       "      <td>-0.000397</td>\n",
       "      <td>-0.000336</td>\n",
       "      <td>-0.000336</td>\n",
       "      <td>-0.000397</td>\n",
       "      <td>0</td>\n",
       "      <td>3</td>\n",
       "    </tr>\n",
       "    <tr>\n",
       "      <th>1</th>\n",
       "      <td>2509</td>\n",
       "      <td>-0.000366</td>\n",
       "      <td>-0.000397</td>\n",
       "      <td>-0.000214</td>\n",
       "      <td>-0.000397</td>\n",
       "      <td>-0.000336</td>\n",
       "      <td>-0.000183</td>\n",
       "      <td>-0.000244</td>\n",
       "      <td>-0.000458</td>\n",
       "      <td>-0.000519</td>\n",
       "      <td>...</td>\n",
       "      <td>0.000641</td>\n",
       "      <td>0.000671</td>\n",
       "      <td>0.000702</td>\n",
       "      <td>0.000885</td>\n",
       "      <td>0.000793</td>\n",
       "      <td>0.000702</td>\n",
       "      <td>0.001007</td>\n",
       "      <td>0.000885</td>\n",
       "      <td>0</td>\n",
       "      <td>3</td>\n",
       "    </tr>\n",
       "    <tr>\n",
       "      <th>2</th>\n",
       "      <td>2510</td>\n",
       "      <td>0.000854</td>\n",
       "      <td>0.000916</td>\n",
       "      <td>0.000854</td>\n",
       "      <td>0.000732</td>\n",
       "      <td>0.000671</td>\n",
       "      <td>0.000885</td>\n",
       "      <td>0.000824</td>\n",
       "      <td>0.000977</td>\n",
       "      <td>0.000977</td>\n",
       "      <td>...</td>\n",
       "      <td>-0.000275</td>\n",
       "      <td>-0.000458</td>\n",
       "      <td>-0.000244</td>\n",
       "      <td>-0.000458</td>\n",
       "      <td>-0.000488</td>\n",
       "      <td>-0.000214</td>\n",
       "      <td>-0.000153</td>\n",
       "      <td>-0.000305</td>\n",
       "      <td>0</td>\n",
       "      <td>3</td>\n",
       "    </tr>\n",
       "    <tr>\n",
       "      <th>3</th>\n",
       "      <td>2511</td>\n",
       "      <td>-0.000183</td>\n",
       "      <td>-0.000122</td>\n",
       "      <td>-0.000183</td>\n",
       "      <td>0.000061</td>\n",
       "      <td>0.000000</td>\n",
       "      <td>-0.000122</td>\n",
       "      <td>-0.000092</td>\n",
       "      <td>0.000031</td>\n",
       "      <td>0.000153</td>\n",
       "      <td>...</td>\n",
       "      <td>-0.000275</td>\n",
       "      <td>-0.000427</td>\n",
       "      <td>-0.000336</td>\n",
       "      <td>-0.000366</td>\n",
       "      <td>-0.000488</td>\n",
       "      <td>-0.000519</td>\n",
       "      <td>-0.000458</td>\n",
       "      <td>-0.000397</td>\n",
       "      <td>0</td>\n",
       "      <td>3</td>\n",
       "    </tr>\n",
       "    <tr>\n",
       "      <th>4</th>\n",
       "      <td>2513</td>\n",
       "      <td>0.000092</td>\n",
       "      <td>0.000092</td>\n",
       "      <td>-0.000031</td>\n",
       "      <td>0.000092</td>\n",
       "      <td>0.000000</td>\n",
       "      <td>0.000031</td>\n",
       "      <td>0.000153</td>\n",
       "      <td>0.000122</td>\n",
       "      <td>0.000183</td>\n",
       "      <td>...</td>\n",
       "      <td>0.000122</td>\n",
       "      <td>0.000122</td>\n",
       "      <td>0.000214</td>\n",
       "      <td>0.000244</td>\n",
       "      <td>0.000214</td>\n",
       "      <td>0.000244</td>\n",
       "      <td>0.000336</td>\n",
       "      <td>0.000214</td>\n",
       "      <td>0</td>\n",
       "      <td>3</td>\n",
       "    </tr>\n",
       "    <tr>\n",
       "      <th>...</th>\n",
       "      <td>...</td>\n",
       "      <td>...</td>\n",
       "      <td>...</td>\n",
       "      <td>...</td>\n",
       "      <td>...</td>\n",
       "      <td>...</td>\n",
       "      <td>...</td>\n",
       "      <td>...</td>\n",
       "      <td>...</td>\n",
       "      <td>...</td>\n",
       "      <td>...</td>\n",
       "      <td>...</td>\n",
       "      <td>...</td>\n",
       "      <td>...</td>\n",
       "      <td>...</td>\n",
       "      <td>...</td>\n",
       "      <td>...</td>\n",
       "      <td>...</td>\n",
       "      <td>...</td>\n",
       "      <td>...</td>\n",
       "      <td>...</td>\n",
       "    </tr>\n",
       "    <tr>\n",
       "      <th>367</th>\n",
       "      <td>3332</td>\n",
       "      <td>-0.006561</td>\n",
       "      <td>-0.005981</td>\n",
       "      <td>-0.005585</td>\n",
       "      <td>-0.005066</td>\n",
       "      <td>-0.004791</td>\n",
       "      <td>-0.004364</td>\n",
       "      <td>-0.003967</td>\n",
       "      <td>-0.003784</td>\n",
       "      <td>-0.003326</td>\n",
       "      <td>...</td>\n",
       "      <td>0.010925</td>\n",
       "      <td>0.011536</td>\n",
       "      <td>0.011658</td>\n",
       "      <td>0.011627</td>\n",
       "      <td>0.011932</td>\n",
       "      <td>0.011658</td>\n",
       "      <td>0.011414</td>\n",
       "      <td>0.010834</td>\n",
       "      <td>0</td>\n",
       "      <td>3</td>\n",
       "    </tr>\n",
       "    <tr>\n",
       "      <th>368</th>\n",
       "      <td>3333</td>\n",
       "      <td>0.010651</td>\n",
       "      <td>0.010895</td>\n",
       "      <td>0.011200</td>\n",
       "      <td>0.011719</td>\n",
       "      <td>0.012207</td>\n",
       "      <td>0.012848</td>\n",
       "      <td>0.013306</td>\n",
       "      <td>0.013489</td>\n",
       "      <td>0.013275</td>\n",
       "      <td>...</td>\n",
       "      <td>0.012024</td>\n",
       "      <td>0.012177</td>\n",
       "      <td>0.012299</td>\n",
       "      <td>0.012207</td>\n",
       "      <td>0.012299</td>\n",
       "      <td>0.012360</td>\n",
       "      <td>0.012360</td>\n",
       "      <td>0.012146</td>\n",
       "      <td>0</td>\n",
       "      <td>3</td>\n",
       "    </tr>\n",
       "    <tr>\n",
       "      <th>369</th>\n",
       "      <td>3334</td>\n",
       "      <td>0.012299</td>\n",
       "      <td>0.012238</td>\n",
       "      <td>0.012238</td>\n",
       "      <td>0.012390</td>\n",
       "      <td>0.012329</td>\n",
       "      <td>0.012482</td>\n",
       "      <td>0.012482</td>\n",
       "      <td>0.012482</td>\n",
       "      <td>0.012390</td>\n",
       "      <td>...</td>\n",
       "      <td>-0.003174</td>\n",
       "      <td>-0.003143</td>\n",
       "      <td>-0.003052</td>\n",
       "      <td>-0.002899</td>\n",
       "      <td>-0.002838</td>\n",
       "      <td>-0.002777</td>\n",
       "      <td>-0.002716</td>\n",
       "      <td>-0.002747</td>\n",
       "      <td>0</td>\n",
       "      <td>3</td>\n",
       "    </tr>\n",
       "    <tr>\n",
       "      <th>370</th>\n",
       "      <td>3335</td>\n",
       "      <td>-0.002716</td>\n",
       "      <td>-0.002686</td>\n",
       "      <td>-0.002625</td>\n",
       "      <td>-0.002716</td>\n",
       "      <td>-0.002472</td>\n",
       "      <td>-0.002563</td>\n",
       "      <td>-0.002380</td>\n",
       "      <td>-0.002380</td>\n",
       "      <td>-0.002411</td>\n",
       "      <td>...</td>\n",
       "      <td>-0.000336</td>\n",
       "      <td>-0.000458</td>\n",
       "      <td>-0.000458</td>\n",
       "      <td>-0.000427</td>\n",
       "      <td>-0.000458</td>\n",
       "      <td>-0.000183</td>\n",
       "      <td>0.000031</td>\n",
       "      <td>0.000153</td>\n",
       "      <td>0</td>\n",
       "      <td>3</td>\n",
       "    </tr>\n",
       "    <tr>\n",
       "      <th>371</th>\n",
       "      <td>3336</td>\n",
       "      <td>0.000183</td>\n",
       "      <td>0.000275</td>\n",
       "      <td>0.000305</td>\n",
       "      <td>0.000336</td>\n",
       "      <td>0.000397</td>\n",
       "      <td>0.000458</td>\n",
       "      <td>0.000397</td>\n",
       "      <td>0.000458</td>\n",
       "      <td>0.000519</td>\n",
       "      <td>...</td>\n",
       "      <td>-0.006317</td>\n",
       "      <td>-0.006531</td>\n",
       "      <td>-0.006683</td>\n",
       "      <td>-0.007721</td>\n",
       "      <td>-0.007660</td>\n",
       "      <td>-0.007141</td>\n",
       "      <td>-0.006744</td>\n",
       "      <td>-0.006073</td>\n",
       "      <td>0</td>\n",
       "      <td>3</td>\n",
       "    </tr>\n",
       "  </tbody>\n",
       "</table>\n",
       "<p>372 rows × 5003 columns</p>\n",
       "</div>"
      ],
      "text/plain": [
       "     index      col0      col1      col2      col3      col4      col5  \\\n",
       "0     2508  0.000397  0.000305  0.000366  0.000397  0.000244  0.000305   \n",
       "1     2509 -0.000366 -0.000397 -0.000214 -0.000397 -0.000336 -0.000183   \n",
       "2     2510  0.000854  0.000916  0.000854  0.000732  0.000671  0.000885   \n",
       "3     2511 -0.000183 -0.000122 -0.000183  0.000061  0.000000 -0.000122   \n",
       "4     2513  0.000092  0.000092 -0.000031  0.000092  0.000000  0.000031   \n",
       "..     ...       ...       ...       ...       ...       ...       ...   \n",
       "367   3332 -0.006561 -0.005981 -0.005585 -0.005066 -0.004791 -0.004364   \n",
       "368   3333  0.010651  0.010895  0.011200  0.011719  0.012207  0.012848   \n",
       "369   3334  0.012299  0.012238  0.012238  0.012390  0.012329  0.012482   \n",
       "370   3335 -0.002716 -0.002686 -0.002625 -0.002716 -0.002472 -0.002563   \n",
       "371   3336  0.000183  0.000275  0.000305  0.000336  0.000397  0.000458   \n",
       "\n",
       "         col6      col7      col8  ...   col4992   col4993   col4994  \\\n",
       "0    0.000244  0.000366  0.000183  ... -0.000275 -0.000336 -0.000275   \n",
       "1   -0.000244 -0.000458 -0.000519  ...  0.000641  0.000671  0.000702   \n",
       "2    0.000824  0.000977  0.000977  ... -0.000275 -0.000458 -0.000244   \n",
       "3   -0.000092  0.000031  0.000153  ... -0.000275 -0.000427 -0.000336   \n",
       "4    0.000153  0.000122  0.000183  ...  0.000122  0.000122  0.000214   \n",
       "..        ...       ...       ...  ...       ...       ...       ...   \n",
       "367 -0.003967 -0.003784 -0.003326  ...  0.010925  0.011536  0.011658   \n",
       "368  0.013306  0.013489  0.013275  ...  0.012024  0.012177  0.012299   \n",
       "369  0.012482  0.012482  0.012390  ... -0.003174 -0.003143 -0.003052   \n",
       "370 -0.002380 -0.002380 -0.002411  ... -0.000336 -0.000458 -0.000458   \n",
       "371  0.000397  0.000458  0.000519  ... -0.006317 -0.006531 -0.006683   \n",
       "\n",
       "      col4995   col4996   col4997   col4998   col4999  col5000  col5001  \n",
       "0   -0.000336 -0.000397 -0.000336 -0.000336 -0.000397        0        3  \n",
       "1    0.000885  0.000793  0.000702  0.001007  0.000885        0        3  \n",
       "2   -0.000458 -0.000488 -0.000214 -0.000153 -0.000305        0        3  \n",
       "3   -0.000366 -0.000488 -0.000519 -0.000458 -0.000397        0        3  \n",
       "4    0.000244  0.000214  0.000244  0.000336  0.000214        0        3  \n",
       "..        ...       ...       ...       ...       ...      ...      ...  \n",
       "367  0.011627  0.011932  0.011658  0.011414  0.010834        0        3  \n",
       "368  0.012207  0.012299  0.012360  0.012360  0.012146        0        3  \n",
       "369 -0.002899 -0.002838 -0.002777 -0.002716 -0.002747        0        3  \n",
       "370 -0.000427 -0.000458 -0.000183  0.000031  0.000153        0        3  \n",
       "371 -0.007721 -0.007660 -0.007141 -0.006744 -0.006073        0        3  \n",
       "\n",
       "[372 rows x 5003 columns]"
      ]
     },
     "execution_count": 584,
     "metadata": {},
     "output_type": "execute_result"
    }
   ],
   "source": [
    "new_X_pd_m_split_train_d1[2] # I merge all of these and then extract 80% of 372 --> 298"
   ]
  },
  {
   "cell_type": "code",
   "execution_count": 585,
   "metadata": {},
   "outputs": [
    {
     "data": {
      "text/html": [
       "<div>\n",
       "<style scoped>\n",
       "    .dataframe tbody tr th:only-of-type {\n",
       "        vertical-align: middle;\n",
       "    }\n",
       "\n",
       "    .dataframe tbody tr th {\n",
       "        vertical-align: top;\n",
       "    }\n",
       "\n",
       "    .dataframe thead th {\n",
       "        text-align: right;\n",
       "    }\n",
       "</style>\n",
       "<table border=\"1\" class=\"dataframe\">\n",
       "  <thead>\n",
       "    <tr style=\"text-align: right;\">\n",
       "      <th></th>\n",
       "      <th>index</th>\n",
       "      <th>col0</th>\n",
       "      <th>col1</th>\n",
       "      <th>col2</th>\n",
       "      <th>col3</th>\n",
       "      <th>col4</th>\n",
       "      <th>col5</th>\n",
       "      <th>col6</th>\n",
       "      <th>col7</th>\n",
       "      <th>col8</th>\n",
       "      <th>...</th>\n",
       "      <th>col4992</th>\n",
       "      <th>col4993</th>\n",
       "      <th>col4994</th>\n",
       "      <th>col4995</th>\n",
       "      <th>col4996</th>\n",
       "      <th>col4997</th>\n",
       "      <th>col4998</th>\n",
       "      <th>col4999</th>\n",
       "      <th>col5000</th>\n",
       "      <th>col5001</th>\n",
       "    </tr>\n",
       "  </thead>\n",
       "  <tbody>\n",
       "    <tr>\n",
       "      <th>0</th>\n",
       "      <td>999</td>\n",
       "      <td>0.000000</td>\n",
       "      <td>0.000092</td>\n",
       "      <td>-0.000183</td>\n",
       "      <td>0.000092</td>\n",
       "      <td>-0.000031</td>\n",
       "      <td>0.000061</td>\n",
       "      <td>-0.000061</td>\n",
       "      <td>0.000183</td>\n",
       "      <td>-0.000031</td>\n",
       "      <td>...</td>\n",
       "      <td>0.002167</td>\n",
       "      <td>0.002380</td>\n",
       "      <td>0.002563</td>\n",
       "      <td>0.002838</td>\n",
       "      <td>0.003357</td>\n",
       "      <td>0.003510</td>\n",
       "      <td>0.003723</td>\n",
       "      <td>0.003540</td>\n",
       "      <td>0</td>\n",
       "      <td>1</td>\n",
       "    </tr>\n",
       "    <tr>\n",
       "      <th>1</th>\n",
       "      <td>1000</td>\n",
       "      <td>0.003571</td>\n",
       "      <td>0.004150</td>\n",
       "      <td>0.004547</td>\n",
       "      <td>0.004730</td>\n",
       "      <td>0.004761</td>\n",
       "      <td>0.004822</td>\n",
       "      <td>0.005005</td>\n",
       "      <td>0.005249</td>\n",
       "      <td>0.005249</td>\n",
       "      <td>...</td>\n",
       "      <td>-0.014435</td>\n",
       "      <td>-0.014954</td>\n",
       "      <td>-0.015198</td>\n",
       "      <td>-0.015503</td>\n",
       "      <td>-0.016144</td>\n",
       "      <td>-0.016998</td>\n",
       "      <td>-0.017914</td>\n",
       "      <td>-0.018799</td>\n",
       "      <td>0</td>\n",
       "      <td>1</td>\n",
       "    </tr>\n",
       "    <tr>\n",
       "      <th>2</th>\n",
       "      <td>1002</td>\n",
       "      <td>-0.023865</td>\n",
       "      <td>-0.030029</td>\n",
       "      <td>-0.031647</td>\n",
       "      <td>-0.027557</td>\n",
       "      <td>-0.022186</td>\n",
       "      <td>-0.018921</td>\n",
       "      <td>-0.016418</td>\n",
       "      <td>-0.013702</td>\n",
       "      <td>-0.015106</td>\n",
       "      <td>...</td>\n",
       "      <td>-0.001434</td>\n",
       "      <td>-0.001282</td>\n",
       "      <td>-0.001312</td>\n",
       "      <td>-0.001709</td>\n",
       "      <td>-0.001526</td>\n",
       "      <td>-0.001373</td>\n",
       "      <td>-0.001831</td>\n",
       "      <td>-0.001648</td>\n",
       "      <td>0</td>\n",
       "      <td>1</td>\n",
       "    </tr>\n",
       "    <tr>\n",
       "      <th>3</th>\n",
       "      <td>1004</td>\n",
       "      <td>0.012238</td>\n",
       "      <td>0.012604</td>\n",
       "      <td>0.012512</td>\n",
       "      <td>0.012085</td>\n",
       "      <td>0.012268</td>\n",
       "      <td>0.012421</td>\n",
       "      <td>0.012756</td>\n",
       "      <td>0.012634</td>\n",
       "      <td>0.012207</td>\n",
       "      <td>...</td>\n",
       "      <td>0.006866</td>\n",
       "      <td>0.006989</td>\n",
       "      <td>0.006348</td>\n",
       "      <td>0.005829</td>\n",
       "      <td>0.005829</td>\n",
       "      <td>0.005463</td>\n",
       "      <td>0.004028</td>\n",
       "      <td>0.002533</td>\n",
       "      <td>0</td>\n",
       "      <td>1</td>\n",
       "    </tr>\n",
       "    <tr>\n",
       "      <th>4</th>\n",
       "      <td>1005</td>\n",
       "      <td>0.002075</td>\n",
       "      <td>0.001953</td>\n",
       "      <td>0.000854</td>\n",
       "      <td>-0.000153</td>\n",
       "      <td>0.000031</td>\n",
       "      <td>-0.000458</td>\n",
       "      <td>-0.000641</td>\n",
       "      <td>-0.000580</td>\n",
       "      <td>-0.001709</td>\n",
       "      <td>...</td>\n",
       "      <td>-0.005981</td>\n",
       "      <td>-0.005859</td>\n",
       "      <td>-0.005249</td>\n",
       "      <td>-0.005249</td>\n",
       "      <td>-0.005707</td>\n",
       "      <td>-0.005310</td>\n",
       "      <td>-0.005249</td>\n",
       "      <td>-0.005219</td>\n",
       "      <td>0</td>\n",
       "      <td>1</td>\n",
       "    </tr>\n",
       "    <tr>\n",
       "      <th>...</th>\n",
       "      <td>...</td>\n",
       "      <td>...</td>\n",
       "      <td>...</td>\n",
       "      <td>...</td>\n",
       "      <td>...</td>\n",
       "      <td>...</td>\n",
       "      <td>...</td>\n",
       "      <td>...</td>\n",
       "      <td>...</td>\n",
       "      <td>...</td>\n",
       "      <td>...</td>\n",
       "      <td>...</td>\n",
       "      <td>...</td>\n",
       "      <td>...</td>\n",
       "      <td>...</td>\n",
       "      <td>...</td>\n",
       "      <td>...</td>\n",
       "      <td>...</td>\n",
       "      <td>...</td>\n",
       "      <td>...</td>\n",
       "      <td>...</td>\n",
       "    </tr>\n",
       "    <tr>\n",
       "      <th>367</th>\n",
       "      <td>1524</td>\n",
       "      <td>-0.000946</td>\n",
       "      <td>-0.003174</td>\n",
       "      <td>-0.004944</td>\n",
       "      <td>-0.003937</td>\n",
       "      <td>0.000702</td>\n",
       "      <td>0.001312</td>\n",
       "      <td>0.000122</td>\n",
       "      <td>0.001495</td>\n",
       "      <td>0.002533</td>\n",
       "      <td>...</td>\n",
       "      <td>0.024811</td>\n",
       "      <td>0.024170</td>\n",
       "      <td>0.023682</td>\n",
       "      <td>0.022888</td>\n",
       "      <td>0.022003</td>\n",
       "      <td>0.021088</td>\n",
       "      <td>0.020142</td>\n",
       "      <td>0.019531</td>\n",
       "      <td>0</td>\n",
       "      <td>1</td>\n",
       "    </tr>\n",
       "    <tr>\n",
       "      <th>368</th>\n",
       "      <td>1525</td>\n",
       "      <td>0.018585</td>\n",
       "      <td>0.017609</td>\n",
       "      <td>0.016785</td>\n",
       "      <td>0.016113</td>\n",
       "      <td>0.014954</td>\n",
       "      <td>0.014374</td>\n",
       "      <td>0.014038</td>\n",
       "      <td>0.013184</td>\n",
       "      <td>0.012329</td>\n",
       "      <td>...</td>\n",
       "      <td>0.000580</td>\n",
       "      <td>0.000549</td>\n",
       "      <td>0.000519</td>\n",
       "      <td>0.000488</td>\n",
       "      <td>0.000580</td>\n",
       "      <td>0.000519</td>\n",
       "      <td>0.000427</td>\n",
       "      <td>0.000488</td>\n",
       "      <td>0</td>\n",
       "      <td>1</td>\n",
       "    </tr>\n",
       "    <tr>\n",
       "      <th>369</th>\n",
       "      <td>1526</td>\n",
       "      <td>-0.000732</td>\n",
       "      <td>-0.000854</td>\n",
       "      <td>-0.000824</td>\n",
       "      <td>-0.000885</td>\n",
       "      <td>-0.000885</td>\n",
       "      <td>-0.000946</td>\n",
       "      <td>-0.001068</td>\n",
       "      <td>-0.000977</td>\n",
       "      <td>-0.000916</td>\n",
       "      <td>...</td>\n",
       "      <td>0.000702</td>\n",
       "      <td>0.000763</td>\n",
       "      <td>0.000732</td>\n",
       "      <td>0.000641</td>\n",
       "      <td>0.000702</td>\n",
       "      <td>0.000702</td>\n",
       "      <td>0.000763</td>\n",
       "      <td>0.000702</td>\n",
       "      <td>0</td>\n",
       "      <td>1</td>\n",
       "    </tr>\n",
       "    <tr>\n",
       "      <th>370</th>\n",
       "      <td>1527</td>\n",
       "      <td>0.000732</td>\n",
       "      <td>0.000793</td>\n",
       "      <td>0.000793</td>\n",
       "      <td>0.000793</td>\n",
       "      <td>0.000641</td>\n",
       "      <td>0.000916</td>\n",
       "      <td>0.000824</td>\n",
       "      <td>0.000793</td>\n",
       "      <td>0.000702</td>\n",
       "      <td>...</td>\n",
       "      <td>-0.000702</td>\n",
       "      <td>-0.000763</td>\n",
       "      <td>-0.000732</td>\n",
       "      <td>-0.000824</td>\n",
       "      <td>-0.000977</td>\n",
       "      <td>-0.000916</td>\n",
       "      <td>-0.000916</td>\n",
       "      <td>-0.000885</td>\n",
       "      <td>0</td>\n",
       "      <td>1</td>\n",
       "    </tr>\n",
       "    <tr>\n",
       "      <th>371</th>\n",
       "      <td>1528</td>\n",
       "      <td>-0.000977</td>\n",
       "      <td>-0.001068</td>\n",
       "      <td>-0.001007</td>\n",
       "      <td>-0.000916</td>\n",
       "      <td>-0.000885</td>\n",
       "      <td>-0.000916</td>\n",
       "      <td>-0.000854</td>\n",
       "      <td>-0.000854</td>\n",
       "      <td>-0.000732</td>\n",
       "      <td>...</td>\n",
       "      <td>0.000214</td>\n",
       "      <td>0.000427</td>\n",
       "      <td>0.000183</td>\n",
       "      <td>0.000153</td>\n",
       "      <td>0.000366</td>\n",
       "      <td>0.000122</td>\n",
       "      <td>0.000061</td>\n",
       "      <td>0.000244</td>\n",
       "      <td>0</td>\n",
       "      <td>1</td>\n",
       "    </tr>\n",
       "  </tbody>\n",
       "</table>\n",
       "<p>372 rows × 5003 columns</p>\n",
       "</div>"
      ],
      "text/plain": [
       "     index      col0      col1      col2      col3      col4      col5  \\\n",
       "0      999  0.000000  0.000092 -0.000183  0.000092 -0.000031  0.000061   \n",
       "1     1000  0.003571  0.004150  0.004547  0.004730  0.004761  0.004822   \n",
       "2     1002 -0.023865 -0.030029 -0.031647 -0.027557 -0.022186 -0.018921   \n",
       "3     1004  0.012238  0.012604  0.012512  0.012085  0.012268  0.012421   \n",
       "4     1005  0.002075  0.001953  0.000854 -0.000153  0.000031 -0.000458   \n",
       "..     ...       ...       ...       ...       ...       ...       ...   \n",
       "367   1524 -0.000946 -0.003174 -0.004944 -0.003937  0.000702  0.001312   \n",
       "368   1525  0.018585  0.017609  0.016785  0.016113  0.014954  0.014374   \n",
       "369   1526 -0.000732 -0.000854 -0.000824 -0.000885 -0.000885 -0.000946   \n",
       "370   1527  0.000732  0.000793  0.000793  0.000793  0.000641  0.000916   \n",
       "371   1528 -0.000977 -0.001068 -0.001007 -0.000916 -0.000885 -0.000916   \n",
       "\n",
       "         col6      col7      col8  ...   col4992   col4993   col4994  \\\n",
       "0   -0.000061  0.000183 -0.000031  ...  0.002167  0.002380  0.002563   \n",
       "1    0.005005  0.005249  0.005249  ... -0.014435 -0.014954 -0.015198   \n",
       "2   -0.016418 -0.013702 -0.015106  ... -0.001434 -0.001282 -0.001312   \n",
       "3    0.012756  0.012634  0.012207  ...  0.006866  0.006989  0.006348   \n",
       "4   -0.000641 -0.000580 -0.001709  ... -0.005981 -0.005859 -0.005249   \n",
       "..        ...       ...       ...  ...       ...       ...       ...   \n",
       "367  0.000122  0.001495  0.002533  ...  0.024811  0.024170  0.023682   \n",
       "368  0.014038  0.013184  0.012329  ...  0.000580  0.000549  0.000519   \n",
       "369 -0.001068 -0.000977 -0.000916  ...  0.000702  0.000763  0.000732   \n",
       "370  0.000824  0.000793  0.000702  ... -0.000702 -0.000763 -0.000732   \n",
       "371 -0.000854 -0.000854 -0.000732  ...  0.000214  0.000427  0.000183   \n",
       "\n",
       "      col4995   col4996   col4997   col4998   col4999  col5000  col5001  \n",
       "0    0.002838  0.003357  0.003510  0.003723  0.003540        0        1  \n",
       "1   -0.015503 -0.016144 -0.016998 -0.017914 -0.018799        0        1  \n",
       "2   -0.001709 -0.001526 -0.001373 -0.001831 -0.001648        0        1  \n",
       "3    0.005829  0.005829  0.005463  0.004028  0.002533        0        1  \n",
       "4   -0.005249 -0.005707 -0.005310 -0.005249 -0.005219        0        1  \n",
       "..        ...       ...       ...       ...       ...      ...      ...  \n",
       "367  0.022888  0.022003  0.021088  0.020142  0.019531        0        1  \n",
       "368  0.000488  0.000580  0.000519  0.000427  0.000488        0        1  \n",
       "369  0.000641  0.000702  0.000702  0.000763  0.000702        0        1  \n",
       "370 -0.000824 -0.000977 -0.000916 -0.000916 -0.000885        0        1  \n",
       "371  0.000153  0.000366  0.000122  0.000061  0.000244        0        1  \n",
       "\n",
       "[372 rows x 5003 columns]"
      ]
     },
     "execution_count": 585,
     "metadata": {},
     "output_type": "execute_result"
    }
   ],
   "source": [
    "new_X_pd_m_split_test_d1[0] # from this one I extract 20% of 372 --> 75"
   ]
  },
  {
   "cell_type": "code",
   "execution_count": 54,
   "metadata": {},
   "outputs": [],
   "source": [
    "X_train_m_pd_concat_d1 = pd.concat(new_X_pd_m_split_train_d1, axis = 0)\n",
    "X_train_m_pd_concat_d1 = X_train_m_pd_concat_d1.reset_index()"
   ]
  },
  {
   "cell_type": "code",
   "execution_count": 587,
   "metadata": {},
   "outputs": [
    {
     "data": {
      "text/html": [
       "<div>\n",
       "<style scoped>\n",
       "    .dataframe tbody tr th:only-of-type {\n",
       "        vertical-align: middle;\n",
       "    }\n",
       "\n",
       "    .dataframe tbody tr th {\n",
       "        vertical-align: top;\n",
       "    }\n",
       "\n",
       "    .dataframe thead th {\n",
       "        text-align: right;\n",
       "    }\n",
       "</style>\n",
       "<table border=\"1\" class=\"dataframe\">\n",
       "  <thead>\n",
       "    <tr style=\"text-align: right;\">\n",
       "      <th></th>\n",
       "      <th>level_0</th>\n",
       "      <th>index</th>\n",
       "      <th>col0</th>\n",
       "      <th>col1</th>\n",
       "      <th>col2</th>\n",
       "      <th>col3</th>\n",
       "      <th>col4</th>\n",
       "      <th>col5</th>\n",
       "      <th>col6</th>\n",
       "      <th>col7</th>\n",
       "      <th>...</th>\n",
       "      <th>col4992</th>\n",
       "      <th>col4993</th>\n",
       "      <th>col4994</th>\n",
       "      <th>col4995</th>\n",
       "      <th>col4996</th>\n",
       "      <th>col4997</th>\n",
       "      <th>col4998</th>\n",
       "      <th>col4999</th>\n",
       "      <th>col5000</th>\n",
       "      <th>col5001</th>\n",
       "    </tr>\n",
       "  </thead>\n",
       "  <tbody>\n",
       "    <tr>\n",
       "      <th>0</th>\n",
       "      <td>0</td>\n",
       "      <td>1</td>\n",
       "      <td>0.000702</td>\n",
       "      <td>0.000641</td>\n",
       "      <td>0.000610</td>\n",
       "      <td>0.000641</td>\n",
       "      <td>0.000427</td>\n",
       "      <td>0.000610</td>\n",
       "      <td>0.000702</td>\n",
       "      <td>0.000519</td>\n",
       "      <td>...</td>\n",
       "      <td>-0.000397</td>\n",
       "      <td>-0.000641</td>\n",
       "      <td>-0.000580</td>\n",
       "      <td>-0.000732</td>\n",
       "      <td>-0.000580</td>\n",
       "      <td>-0.000549</td>\n",
       "      <td>-0.000610</td>\n",
       "      <td>-0.000885</td>\n",
       "      <td>0</td>\n",
       "      <td>0</td>\n",
       "    </tr>\n",
       "    <tr>\n",
       "      <th>1</th>\n",
       "      <td>1</td>\n",
       "      <td>2</td>\n",
       "      <td>-0.000580</td>\n",
       "      <td>-0.000763</td>\n",
       "      <td>-0.000610</td>\n",
       "      <td>-0.000732</td>\n",
       "      <td>-0.000793</td>\n",
       "      <td>-0.000610</td>\n",
       "      <td>-0.000793</td>\n",
       "      <td>-0.000946</td>\n",
       "      <td>...</td>\n",
       "      <td>-0.001190</td>\n",
       "      <td>-0.000916</td>\n",
       "      <td>-0.001038</td>\n",
       "      <td>-0.001282</td>\n",
       "      <td>-0.001007</td>\n",
       "      <td>-0.001190</td>\n",
       "      <td>-0.001434</td>\n",
       "      <td>-0.000732</td>\n",
       "      <td>0</td>\n",
       "      <td>0</td>\n",
       "    </tr>\n",
       "    <tr>\n",
       "      <th>2</th>\n",
       "      <td>2</td>\n",
       "      <td>5</td>\n",
       "      <td>-0.000031</td>\n",
       "      <td>0.000122</td>\n",
       "      <td>-0.000122</td>\n",
       "      <td>-0.000214</td>\n",
       "      <td>-0.000092</td>\n",
       "      <td>-0.000153</td>\n",
       "      <td>-0.000214</td>\n",
       "      <td>-0.000305</td>\n",
       "      <td>...</td>\n",
       "      <td>-0.000031</td>\n",
       "      <td>-0.000061</td>\n",
       "      <td>-0.000153</td>\n",
       "      <td>0.000122</td>\n",
       "      <td>0.000000</td>\n",
       "      <td>-0.000183</td>\n",
       "      <td>0.000092</td>\n",
       "      <td>0.000031</td>\n",
       "      <td>0</td>\n",
       "      <td>0</td>\n",
       "    </tr>\n",
       "    <tr>\n",
       "      <th>3</th>\n",
       "      <td>3</td>\n",
       "      <td>8</td>\n",
       "      <td>-0.000427</td>\n",
       "      <td>-0.000458</td>\n",
       "      <td>-0.000641</td>\n",
       "      <td>-0.000549</td>\n",
       "      <td>-0.000122</td>\n",
       "      <td>-0.000366</td>\n",
       "      <td>-0.000427</td>\n",
       "      <td>-0.000061</td>\n",
       "      <td>...</td>\n",
       "      <td>-0.001007</td>\n",
       "      <td>-0.001068</td>\n",
       "      <td>-0.000793</td>\n",
       "      <td>-0.000977</td>\n",
       "      <td>-0.000763</td>\n",
       "      <td>-0.001099</td>\n",
       "      <td>-0.000977</td>\n",
       "      <td>-0.001404</td>\n",
       "      <td>0</td>\n",
       "      <td>0</td>\n",
       "    </tr>\n",
       "    <tr>\n",
       "      <th>4</th>\n",
       "      <td>4</td>\n",
       "      <td>9</td>\n",
       "      <td>-0.001038</td>\n",
       "      <td>-0.000946</td>\n",
       "      <td>-0.000763</td>\n",
       "      <td>-0.000610</td>\n",
       "      <td>-0.000793</td>\n",
       "      <td>-0.000854</td>\n",
       "      <td>-0.000702</td>\n",
       "      <td>-0.000702</td>\n",
       "      <td>...</td>\n",
       "      <td>-0.001770</td>\n",
       "      <td>-0.001801</td>\n",
       "      <td>-0.001404</td>\n",
       "      <td>-0.001953</td>\n",
       "      <td>-0.001984</td>\n",
       "      <td>-0.001709</td>\n",
       "      <td>-0.002167</td>\n",
       "      <td>-0.002075</td>\n",
       "      <td>0</td>\n",
       "      <td>0</td>\n",
       "    </tr>\n",
       "    <tr>\n",
       "      <th>...</th>\n",
       "      <td>...</td>\n",
       "      <td>...</td>\n",
       "      <td>...</td>\n",
       "      <td>...</td>\n",
       "      <td>...</td>\n",
       "      <td>...</td>\n",
       "      <td>...</td>\n",
       "      <td>...</td>\n",
       "      <td>...</td>\n",
       "      <td>...</td>\n",
       "      <td>...</td>\n",
       "      <td>...</td>\n",
       "      <td>...</td>\n",
       "      <td>...</td>\n",
       "      <td>...</td>\n",
       "      <td>...</td>\n",
       "      <td>...</td>\n",
       "      <td>...</td>\n",
       "      <td>...</td>\n",
       "      <td>...</td>\n",
       "      <td>...</td>\n",
       "    </tr>\n",
       "    <tr>\n",
       "      <th>4087</th>\n",
       "      <td>367</td>\n",
       "      <td>7985</td>\n",
       "      <td>-0.000519</td>\n",
       "      <td>-0.000702</td>\n",
       "      <td>-0.000702</td>\n",
       "      <td>-0.000732</td>\n",
       "      <td>-0.000549</td>\n",
       "      <td>-0.000671</td>\n",
       "      <td>-0.000763</td>\n",
       "      <td>-0.000427</td>\n",
       "      <td>...</td>\n",
       "      <td>-0.000031</td>\n",
       "      <td>-0.000153</td>\n",
       "      <td>0.000092</td>\n",
       "      <td>0.000275</td>\n",
       "      <td>-0.000061</td>\n",
       "      <td>0.000122</td>\n",
       "      <td>0.000092</td>\n",
       "      <td>0.000092</td>\n",
       "      <td>2</td>\n",
       "      <td>11</td>\n",
       "    </tr>\n",
       "    <tr>\n",
       "      <th>4088</th>\n",
       "      <td>368</td>\n",
       "      <td>7986</td>\n",
       "      <td>0.000031</td>\n",
       "      <td>0.000244</td>\n",
       "      <td>0.000366</td>\n",
       "      <td>0.000000</td>\n",
       "      <td>0.000092</td>\n",
       "      <td>0.000336</td>\n",
       "      <td>0.000244</td>\n",
       "      <td>0.000031</td>\n",
       "      <td>...</td>\n",
       "      <td>-0.000366</td>\n",
       "      <td>0.000488</td>\n",
       "      <td>0.000397</td>\n",
       "      <td>-0.000122</td>\n",
       "      <td>-0.002686</td>\n",
       "      <td>-0.003326</td>\n",
       "      <td>-0.002563</td>\n",
       "      <td>-0.001770</td>\n",
       "      <td>2</td>\n",
       "      <td>11</td>\n",
       "    </tr>\n",
       "    <tr>\n",
       "      <th>4089</th>\n",
       "      <td>369</td>\n",
       "      <td>7988</td>\n",
       "      <td>-0.003265</td>\n",
       "      <td>-0.003967</td>\n",
       "      <td>-0.004364</td>\n",
       "      <td>-0.004669</td>\n",
       "      <td>-0.005249</td>\n",
       "      <td>-0.005280</td>\n",
       "      <td>-0.005188</td>\n",
       "      <td>-0.005249</td>\n",
       "      <td>...</td>\n",
       "      <td>0.109406</td>\n",
       "      <td>0.111084</td>\n",
       "      <td>0.113647</td>\n",
       "      <td>0.113190</td>\n",
       "      <td>0.112640</td>\n",
       "      <td>0.115204</td>\n",
       "      <td>0.114624</td>\n",
       "      <td>0.108978</td>\n",
       "      <td>2</td>\n",
       "      <td>11</td>\n",
       "    </tr>\n",
       "    <tr>\n",
       "      <th>4090</th>\n",
       "      <td>370</td>\n",
       "      <td>7989</td>\n",
       "      <td>0.104889</td>\n",
       "      <td>0.102356</td>\n",
       "      <td>0.097290</td>\n",
       "      <td>0.090454</td>\n",
       "      <td>0.081726</td>\n",
       "      <td>0.077118</td>\n",
       "      <td>0.071655</td>\n",
       "      <td>0.063660</td>\n",
       "      <td>...</td>\n",
       "      <td>-0.004730</td>\n",
       "      <td>-0.000732</td>\n",
       "      <td>-0.000763</td>\n",
       "      <td>-0.001953</td>\n",
       "      <td>0.000763</td>\n",
       "      <td>-0.001343</td>\n",
       "      <td>-0.003357</td>\n",
       "      <td>0.000458</td>\n",
       "      <td>2</td>\n",
       "      <td>11</td>\n",
       "    </tr>\n",
       "    <tr>\n",
       "      <th>4091</th>\n",
       "      <td>371</td>\n",
       "      <td>7993</td>\n",
       "      <td>-0.005798</td>\n",
       "      <td>-0.005157</td>\n",
       "      <td>-0.005463</td>\n",
       "      <td>-0.005676</td>\n",
       "      <td>-0.005554</td>\n",
       "      <td>-0.005737</td>\n",
       "      <td>-0.005707</td>\n",
       "      <td>-0.005890</td>\n",
       "      <td>...</td>\n",
       "      <td>-0.000641</td>\n",
       "      <td>-0.000610</td>\n",
       "      <td>-0.000488</td>\n",
       "      <td>-0.000580</td>\n",
       "      <td>-0.000610</td>\n",
       "      <td>-0.000458</td>\n",
       "      <td>-0.000397</td>\n",
       "      <td>-0.000519</td>\n",
       "      <td>2</td>\n",
       "      <td>11</td>\n",
       "    </tr>\n",
       "  </tbody>\n",
       "</table>\n",
       "<p>4092 rows × 5004 columns</p>\n",
       "</div>"
      ],
      "text/plain": [
       "      level_0  index      col0      col1      col2      col3      col4  \\\n",
       "0           0      1  0.000702  0.000641  0.000610  0.000641  0.000427   \n",
       "1           1      2 -0.000580 -0.000763 -0.000610 -0.000732 -0.000793   \n",
       "2           2      5 -0.000031  0.000122 -0.000122 -0.000214 -0.000092   \n",
       "3           3      8 -0.000427 -0.000458 -0.000641 -0.000549 -0.000122   \n",
       "4           4      9 -0.001038 -0.000946 -0.000763 -0.000610 -0.000793   \n",
       "...       ...    ...       ...       ...       ...       ...       ...   \n",
       "4087      367   7985 -0.000519 -0.000702 -0.000702 -0.000732 -0.000549   \n",
       "4088      368   7986  0.000031  0.000244  0.000366  0.000000  0.000092   \n",
       "4089      369   7988 -0.003265 -0.003967 -0.004364 -0.004669 -0.005249   \n",
       "4090      370   7989  0.104889  0.102356  0.097290  0.090454  0.081726   \n",
       "4091      371   7993 -0.005798 -0.005157 -0.005463 -0.005676 -0.005554   \n",
       "\n",
       "          col5      col6      col7  ...   col4992   col4993   col4994  \\\n",
       "0     0.000610  0.000702  0.000519  ... -0.000397 -0.000641 -0.000580   \n",
       "1    -0.000610 -0.000793 -0.000946  ... -0.001190 -0.000916 -0.001038   \n",
       "2    -0.000153 -0.000214 -0.000305  ... -0.000031 -0.000061 -0.000153   \n",
       "3    -0.000366 -0.000427 -0.000061  ... -0.001007 -0.001068 -0.000793   \n",
       "4    -0.000854 -0.000702 -0.000702  ... -0.001770 -0.001801 -0.001404   \n",
       "...        ...       ...       ...  ...       ...       ...       ...   \n",
       "4087 -0.000671 -0.000763 -0.000427  ... -0.000031 -0.000153  0.000092   \n",
       "4088  0.000336  0.000244  0.000031  ... -0.000366  0.000488  0.000397   \n",
       "4089 -0.005280 -0.005188 -0.005249  ...  0.109406  0.111084  0.113647   \n",
       "4090  0.077118  0.071655  0.063660  ... -0.004730 -0.000732 -0.000763   \n",
       "4091 -0.005737 -0.005707 -0.005890  ... -0.000641 -0.000610 -0.000488   \n",
       "\n",
       "       col4995   col4996   col4997   col4998   col4999  col5000  col5001  \n",
       "0    -0.000732 -0.000580 -0.000549 -0.000610 -0.000885        0        0  \n",
       "1    -0.001282 -0.001007 -0.001190 -0.001434 -0.000732        0        0  \n",
       "2     0.000122  0.000000 -0.000183  0.000092  0.000031        0        0  \n",
       "3    -0.000977 -0.000763 -0.001099 -0.000977 -0.001404        0        0  \n",
       "4    -0.001953 -0.001984 -0.001709 -0.002167 -0.002075        0        0  \n",
       "...        ...       ...       ...       ...       ...      ...      ...  \n",
       "4087  0.000275 -0.000061  0.000122  0.000092  0.000092        2       11  \n",
       "4088 -0.000122 -0.002686 -0.003326 -0.002563 -0.001770        2       11  \n",
       "4089  0.113190  0.112640  0.115204  0.114624  0.108978        2       11  \n",
       "4090 -0.001953  0.000763 -0.001343 -0.003357  0.000458        2       11  \n",
       "4091 -0.000580 -0.000610 -0.000458 -0.000397 -0.000519        2       11  \n",
       "\n",
       "[4092 rows x 5004 columns]"
      ]
     },
     "execution_count": 587,
     "metadata": {},
     "output_type": "execute_result"
    }
   ],
   "source": [
    "X_train_m_pd_concat_d1"
   ]
  },
  {
   "cell_type": "code",
   "execution_count": 535,
   "metadata": {},
   "outputs": [
    {
     "data": {
      "text/plain": [
       "372.0"
      ]
     },
     "execution_count": 535,
     "metadata": {},
     "output_type": "execute_result"
    }
   ],
   "source": [
    "4092/11"
   ]
  },
  {
   "cell_type": "code",
   "execution_count": 55,
   "metadata": {},
   "outputs": [],
   "source": [
    "X_train_m_pd_concat_d1_0 = X_train_m_pd_concat_d1.drop(['level_0', 'index', 'col5000', 'col5001'], axis=1) "
   ]
  },
  {
   "cell_type": "code",
   "execution_count": 56,
   "metadata": {},
   "outputs": [
    {
     "name": "stdout",
     "output_type": "stream",
     "text": [
      "298 75\n"
     ]
    }
   ],
   "source": [
    "# NOTE: To extract the trainiing set, even if the sets are of bigger dimensions, we still set the 80% equal to N_m\n",
    "#       across the groups and ALSO the desings. \n",
    "\n",
    "per_train_pd_m = math.ceil(N_m * 0.8)\n",
    "per_test_pd_m = math.ceil(N_m * 0.2)\n",
    "print(per_train_pd_m, per_test_pd_m)\n"
   ]
  },
  {
   "cell_type": "code",
   "execution_count": 57,
   "metadata": {},
   "outputs": [
    {
     "name": "stdout",
     "output_type": "stream",
     "text": [
      "0.2665354510728647\n"
     ]
    }
   ],
   "source": [
    "#Set see to reproduce the results\n",
    "random.seed(1)\n",
    "\n",
    "range_pd_m = range(0, X_train_m_pd_concat_d1_0.shape[0] )\n",
    "range_pd_m_test = range(0, N_m)\n",
    "\n",
    "rand_s_train_pd_m = random.sample(range_pd_m, k = per_train_pd_m)\n",
    "rand_s_test_pd_m = random.sample(range_pd_m_test, k = per_test_pd_m)\n",
    "\n",
    "print(random.random()) #0.2665354510728647\n"
   ]
  },
  {
   "cell_type": "code",
   "execution_count": 58,
   "metadata": {},
   "outputs": [
    {
     "data": {
      "text/plain": [
       "True"
      ]
     },
     "execution_count": 58,
     "metadata": {},
     "output_type": "execute_result"
    }
   ],
   "source": [
    "len(X_train_m_pd_concat_d1_0) == len(range_pd_m)"
   ]
  },
  {
   "cell_type": "code",
   "execution_count": 59,
   "metadata": {},
   "outputs": [],
   "source": [
    "ind_train_pd_m = sorted(rand_s_train_pd_m) \n",
    "ind_test_pd_m = sorted(rand_s_test_pd_m) "
   ]
  },
  {
   "cell_type": "code",
   "execution_count": 593,
   "metadata": {},
   "outputs": [],
   "source": [
    "X_train_m_pd_d1 = X_train_m_pd_concat_d1_0.reset_index().loc[ind_train_pd_m] "
   ]
  },
  {
   "cell_type": "code",
   "execution_count": 594,
   "metadata": {},
   "outputs": [
    {
     "data": {
      "text/plain": [
       "(298, 5001)"
      ]
     },
     "execution_count": 594,
     "metadata": {},
     "output_type": "execute_result"
    }
   ],
   "source": [
    "X_train_m_pd_d1.shape"
   ]
  },
  {
   "cell_type": "code",
   "execution_count": 595,
   "metadata": {},
   "outputs": [],
   "source": [
    "X_train_m_pd_d1 = X_train_m_pd_d1.drop(['index'], axis=1)"
   ]
  },
  {
   "cell_type": "code",
   "execution_count": 596,
   "metadata": {},
   "outputs": [
    {
     "data": {
      "text/plain": [
       "(298, 5000)"
      ]
     },
     "execution_count": 596,
     "metadata": {},
     "output_type": "execute_result"
    }
   ],
   "source": [
    "X_train_m_pd_d1.shape"
   ]
  },
  {
   "cell_type": "code",
   "execution_count": 597,
   "metadata": {},
   "outputs": [],
   "source": [
    "X_train_m_pd_d1 = X_train_m_pd_d1.values"
   ]
  },
  {
   "cell_type": "code",
   "execution_count": 598,
   "metadata": {},
   "outputs": [
    {
     "data": {
      "text/plain": [
       "298"
      ]
     },
     "execution_count": 598,
     "metadata": {},
     "output_type": "execute_result"
    }
   ],
   "source": [
    "len(X_train_m_pd_d1)"
   ]
  },
  {
   "cell_type": "code",
   "execution_count": 81,
   "metadata": {},
   "outputs": [],
   "source": [
    "X_test_pd_m_d1 = new_X_pd_m_split_test_d1[0].reset_index().loc[ind_test_pd_m]"
   ]
  },
  {
   "cell_type": "code",
   "execution_count": 82,
   "metadata": {},
   "outputs": [
    {
     "data": {
      "text/plain": [
       "(75, 5004)"
      ]
     },
     "execution_count": 82,
     "metadata": {},
     "output_type": "execute_result"
    }
   ],
   "source": [
    "X_test_pd_m_d1.shape"
   ]
  },
  {
   "cell_type": "code",
   "execution_count": 83,
   "metadata": {},
   "outputs": [],
   "source": [
    "X_test_pd_m_d1 = X_test_pd_m_d1.drop(['level_0', 'index', 'col5000', 'col5001'], axis=1)"
   ]
  },
  {
   "cell_type": "code",
   "execution_count": 84,
   "metadata": {},
   "outputs": [
    {
     "data": {
      "text/plain": [
       "(75, 5000)"
      ]
     },
     "execution_count": 84,
     "metadata": {},
     "output_type": "execute_result"
    }
   ],
   "source": [
    "X_test_pd_m_d1.shape"
   ]
  },
  {
   "cell_type": "code",
   "execution_count": 85,
   "metadata": {},
   "outputs": [],
   "source": [
    "X_test_pd_m_d1 = X_test_pd_m_d1.values "
   ]
  },
  {
   "cell_type": "code",
   "execution_count": 86,
   "metadata": {},
   "outputs": [
    {
     "data": {
      "text/plain": [
       "75"
      ]
     },
     "execution_count": 86,
     "metadata": {},
     "output_type": "execute_result"
    }
   ],
   "source": [
    "len(X_test_pd_m_d1)"
   ]
  },
  {
   "cell_type": "code",
   "execution_count": null,
   "metadata": {},
   "outputs": [],
   "source": []
  },
  {
   "cell_type": "code",
   "execution_count": 1,
   "metadata": {},
   "outputs": [],
   "source": [
    "#SAVING"
   ]
  },
  {
   "cell_type": "code",
   "execution_count": 208,
   "metadata": {},
   "outputs": [],
   "source": [
    "np.save('X_test_pd_m_3', X_test_pd_m_d1)"
   ]
  },
  {
   "cell_type": "code",
   "execution_count": 276,
   "metadata": {},
   "outputs": [],
   "source": [
    "np.save('X_test_pd_m_2', X_test_pd_m_d1)"
   ]
  },
  {
   "cell_type": "code",
   "execution_count": 330,
   "metadata": {},
   "outputs": [],
   "source": [
    "np.save('X_test_pd_m_6', X_test_pd_m_d1)"
   ]
  },
  {
   "cell_type": "code",
   "execution_count": 365,
   "metadata": {},
   "outputs": [],
   "source": [
    "np.save('X_test_pd_m_9', X_test_pd_m_d1)"
   ]
  },
  {
   "cell_type": "code",
   "execution_count": 396,
   "metadata": {},
   "outputs": [],
   "source": [
    "np.save('X_test_pd_m_10', X_test_pd_m_d1)"
   ]
  },
  {
   "cell_type": "code",
   "execution_count": 431,
   "metadata": {},
   "outputs": [],
   "source": [
    "np.save('X_test_pd_m_11', X_test_pd_m_d1)"
   ]
  },
  {
   "cell_type": "code",
   "execution_count": 473,
   "metadata": {},
   "outputs": [],
   "source": [
    "np.save('X_test_pd_m_4', X_test_pd_m_d1)"
   ]
  },
  {
   "cell_type": "code",
   "execution_count": 506,
   "metadata": {},
   "outputs": [],
   "source": [
    "np.save('X_test_pd_m_0', X_test_pd_m_d1)"
   ]
  },
  {
   "cell_type": "code",
   "execution_count": 553,
   "metadata": {},
   "outputs": [],
   "source": [
    "np.save('X_test_pd_m_7', X_test_pd_m_d1)"
   ]
  },
  {
   "cell_type": "code",
   "execution_count": 605,
   "metadata": {},
   "outputs": [],
   "source": [
    "np.save('X_test_pd_m_1', X_test_pd_m_d1)"
   ]
  },
  {
   "cell_type": "code",
   "execution_count": null,
   "metadata": {},
   "outputs": [],
   "source": []
  },
  {
   "cell_type": "code",
   "execution_count": null,
   "metadata": {},
   "outputs": [],
   "source": [
    "#original commands to save them - now change them (see above)"
   ]
  },
  {
   "cell_type": "code",
   "execution_count": 128,
   "metadata": {},
   "outputs": [],
   "source": [
    "np.save('X_train_m_pd_d1', X_train_m_pd_d1)"
   ]
  },
  {
   "cell_type": "code",
   "execution_count": 129,
   "metadata": {},
   "outputs": [],
   "source": [
    "np.save('X_test_pd_m_d1', X_test_pd_m_d1)"
   ]
  },
  {
   "cell_type": "code",
   "execution_count": null,
   "metadata": {},
   "outputs": [],
   "source": []
  },
  {
   "cell_type": "code",
   "execution_count": null,
   "metadata": {},
   "outputs": [],
   "source": [
    "###############\n",
    "#   FEMALE    #\n",
    "###############"
   ]
  },
  {
   "cell_type": "code",
   "execution_count": 277,
   "metadata": {},
   "outputs": [
    {
     "data": {
      "text/html": [
       "<div>\n",
       "<style scoped>\n",
       "    .dataframe tbody tr th:only-of-type {\n",
       "        vertical-align: middle;\n",
       "    }\n",
       "\n",
       "    .dataframe tbody tr th {\n",
       "        vertical-align: top;\n",
       "    }\n",
       "\n",
       "    .dataframe thead th {\n",
       "        text-align: right;\n",
       "    }\n",
       "</style>\n",
       "<table border=\"1\" class=\"dataframe\">\n",
       "  <thead>\n",
       "    <tr style=\"text-align: right;\">\n",
       "      <th></th>\n",
       "      <th>index</th>\n",
       "      <th>col0</th>\n",
       "      <th>col1</th>\n",
       "      <th>col2</th>\n",
       "      <th>col3</th>\n",
       "      <th>col4</th>\n",
       "      <th>col5</th>\n",
       "      <th>col6</th>\n",
       "      <th>col7</th>\n",
       "      <th>col8</th>\n",
       "      <th>...</th>\n",
       "      <th>col4992</th>\n",
       "      <th>col4993</th>\n",
       "      <th>col4994</th>\n",
       "      <th>col4995</th>\n",
       "      <th>col4996</th>\n",
       "      <th>col4997</th>\n",
       "      <th>col4998</th>\n",
       "      <th>col4999</th>\n",
       "      <th>col5000</th>\n",
       "      <th>col5001</th>\n",
       "    </tr>\n",
       "  </thead>\n",
       "  <tbody>\n",
       "    <tr>\n",
       "      <th>0</th>\n",
       "      <td>1313</td>\n",
       "      <td>0.001129</td>\n",
       "      <td>0.001221</td>\n",
       "      <td>0.001068</td>\n",
       "      <td>0.000946</td>\n",
       "      <td>0.000946</td>\n",
       "      <td>0.001007</td>\n",
       "      <td>0.000793</td>\n",
       "      <td>0.000793</td>\n",
       "      <td>0.000946</td>\n",
       "      <td>...</td>\n",
       "      <td>0.000061</td>\n",
       "      <td>-0.000214</td>\n",
       "      <td>-0.000214</td>\n",
       "      <td>-0.000092</td>\n",
       "      <td>-0.000122</td>\n",
       "      <td>-0.000153</td>\n",
       "      <td>-0.000183</td>\n",
       "      <td>-0.000214</td>\n",
       "      <td>1</td>\n",
       "      <td>2</td>\n",
       "    </tr>\n",
       "    <tr>\n",
       "      <th>1</th>\n",
       "      <td>1315</td>\n",
       "      <td>0.000305</td>\n",
       "      <td>0.000519</td>\n",
       "      <td>0.000214</td>\n",
       "      <td>0.000122</td>\n",
       "      <td>0.000275</td>\n",
       "      <td>0.000153</td>\n",
       "      <td>0.000031</td>\n",
       "      <td>0.000244</td>\n",
       "      <td>0.000122</td>\n",
       "      <td>...</td>\n",
       "      <td>0.001770</td>\n",
       "      <td>0.001587</td>\n",
       "      <td>0.001709</td>\n",
       "      <td>0.001648</td>\n",
       "      <td>0.001495</td>\n",
       "      <td>0.001373</td>\n",
       "      <td>0.001251</td>\n",
       "      <td>0.001068</td>\n",
       "      <td>1</td>\n",
       "      <td>2</td>\n",
       "    </tr>\n",
       "    <tr>\n",
       "      <th>2</th>\n",
       "      <td>1316</td>\n",
       "      <td>0.000854</td>\n",
       "      <td>0.000763</td>\n",
       "      <td>0.000519</td>\n",
       "      <td>0.000397</td>\n",
       "      <td>0.000244</td>\n",
       "      <td>0.000214</td>\n",
       "      <td>0.000000</td>\n",
       "      <td>-0.000153</td>\n",
       "      <td>-0.000183</td>\n",
       "      <td>...</td>\n",
       "      <td>-0.000641</td>\n",
       "      <td>-0.000732</td>\n",
       "      <td>-0.000702</td>\n",
       "      <td>-0.000610</td>\n",
       "      <td>-0.000732</td>\n",
       "      <td>-0.000580</td>\n",
       "      <td>-0.000702</td>\n",
       "      <td>-0.000732</td>\n",
       "      <td>1</td>\n",
       "      <td>2</td>\n",
       "    </tr>\n",
       "    <tr>\n",
       "      <th>3</th>\n",
       "      <td>1318</td>\n",
       "      <td>-0.001678</td>\n",
       "      <td>-0.001801</td>\n",
       "      <td>-0.001617</td>\n",
       "      <td>-0.001434</td>\n",
       "      <td>-0.001495</td>\n",
       "      <td>-0.001678</td>\n",
       "      <td>-0.001709</td>\n",
       "      <td>-0.001709</td>\n",
       "      <td>-0.001526</td>\n",
       "      <td>...</td>\n",
       "      <td>0.001251</td>\n",
       "      <td>0.001190</td>\n",
       "      <td>0.001068</td>\n",
       "      <td>0.001190</td>\n",
       "      <td>0.001099</td>\n",
       "      <td>0.001068</td>\n",
       "      <td>0.001068</td>\n",
       "      <td>0.001373</td>\n",
       "      <td>1</td>\n",
       "      <td>2</td>\n",
       "    </tr>\n",
       "    <tr>\n",
       "      <th>4</th>\n",
       "      <td>1320</td>\n",
       "      <td>0.000122</td>\n",
       "      <td>0.000214</td>\n",
       "      <td>0.000275</td>\n",
       "      <td>0.000305</td>\n",
       "      <td>0.000153</td>\n",
       "      <td>0.000366</td>\n",
       "      <td>0.000336</td>\n",
       "      <td>0.000366</td>\n",
       "      <td>0.000336</td>\n",
       "      <td>...</td>\n",
       "      <td>0.000000</td>\n",
       "      <td>-0.000183</td>\n",
       "      <td>-0.000092</td>\n",
       "      <td>-0.000122</td>\n",
       "      <td>-0.000061</td>\n",
       "      <td>-0.000183</td>\n",
       "      <td>-0.000153</td>\n",
       "      <td>-0.000122</td>\n",
       "      <td>1</td>\n",
       "      <td>2</td>\n",
       "    </tr>\n",
       "    <tr>\n",
       "      <th>...</th>\n",
       "      <td>...</td>\n",
       "      <td>...</td>\n",
       "      <td>...</td>\n",
       "      <td>...</td>\n",
       "      <td>...</td>\n",
       "      <td>...</td>\n",
       "      <td>...</td>\n",
       "      <td>...</td>\n",
       "      <td>...</td>\n",
       "      <td>...</td>\n",
       "      <td>...</td>\n",
       "      <td>...</td>\n",
       "      <td>...</td>\n",
       "      <td>...</td>\n",
       "      <td>...</td>\n",
       "      <td>...</td>\n",
       "      <td>...</td>\n",
       "      <td>...</td>\n",
       "      <td>...</td>\n",
       "      <td>...</td>\n",
       "      <td>...</td>\n",
       "    </tr>\n",
       "    <tr>\n",
       "      <th>437</th>\n",
       "      <td>2064</td>\n",
       "      <td>-0.001862</td>\n",
       "      <td>-0.001892</td>\n",
       "      <td>-0.002472</td>\n",
       "      <td>-0.002289</td>\n",
       "      <td>-0.002991</td>\n",
       "      <td>-0.000549</td>\n",
       "      <td>0.001495</td>\n",
       "      <td>-0.000183</td>\n",
       "      <td>-0.004150</td>\n",
       "      <td>...</td>\n",
       "      <td>-0.000488</td>\n",
       "      <td>-0.000610</td>\n",
       "      <td>-0.000824</td>\n",
       "      <td>-0.000427</td>\n",
       "      <td>-0.000641</td>\n",
       "      <td>-0.000580</td>\n",
       "      <td>-0.000336</td>\n",
       "      <td>-0.000244</td>\n",
       "      <td>1</td>\n",
       "      <td>2</td>\n",
       "    </tr>\n",
       "    <tr>\n",
       "      <th>438</th>\n",
       "      <td>2065</td>\n",
       "      <td>-0.000885</td>\n",
       "      <td>-0.000824</td>\n",
       "      <td>-0.000122</td>\n",
       "      <td>-0.000336</td>\n",
       "      <td>-0.000549</td>\n",
       "      <td>-0.000702</td>\n",
       "      <td>-0.000275</td>\n",
       "      <td>-0.000305</td>\n",
       "      <td>-0.000244</td>\n",
       "      <td>...</td>\n",
       "      <td>-0.000092</td>\n",
       "      <td>-0.004364</td>\n",
       "      <td>0.002075</td>\n",
       "      <td>0.005310</td>\n",
       "      <td>-0.001373</td>\n",
       "      <td>-0.006439</td>\n",
       "      <td>0.004608</td>\n",
       "      <td>0.004364</td>\n",
       "      <td>1</td>\n",
       "      <td>2</td>\n",
       "    </tr>\n",
       "    <tr>\n",
       "      <th>439</th>\n",
       "      <td>2067</td>\n",
       "      <td>-0.038849</td>\n",
       "      <td>-0.040131</td>\n",
       "      <td>-0.041168</td>\n",
       "      <td>-0.042419</td>\n",
       "      <td>-0.041077</td>\n",
       "      <td>-0.045502</td>\n",
       "      <td>-0.046875</td>\n",
       "      <td>-0.041809</td>\n",
       "      <td>-0.045044</td>\n",
       "      <td>...</td>\n",
       "      <td>0.010010</td>\n",
       "      <td>0.014862</td>\n",
       "      <td>0.021606</td>\n",
       "      <td>0.024719</td>\n",
       "      <td>0.025757</td>\n",
       "      <td>0.031677</td>\n",
       "      <td>0.033752</td>\n",
       "      <td>0.030975</td>\n",
       "      <td>1</td>\n",
       "      <td>2</td>\n",
       "    </tr>\n",
       "    <tr>\n",
       "      <th>440</th>\n",
       "      <td>2069</td>\n",
       "      <td>-0.004578</td>\n",
       "      <td>-0.002625</td>\n",
       "      <td>-0.002167</td>\n",
       "      <td>-0.002106</td>\n",
       "      <td>-0.002594</td>\n",
       "      <td>-0.001862</td>\n",
       "      <td>-0.000885</td>\n",
       "      <td>-0.000366</td>\n",
       "      <td>0.000122</td>\n",
       "      <td>...</td>\n",
       "      <td>0.004272</td>\n",
       "      <td>0.004700</td>\n",
       "      <td>0.004272</td>\n",
       "      <td>0.003204</td>\n",
       "      <td>0.001862</td>\n",
       "      <td>-0.001587</td>\n",
       "      <td>-0.007751</td>\n",
       "      <td>-0.006714</td>\n",
       "      <td>1</td>\n",
       "      <td>2</td>\n",
       "    </tr>\n",
       "    <tr>\n",
       "      <th>441</th>\n",
       "      <td>2070</td>\n",
       "      <td>-0.001556</td>\n",
       "      <td>0.002563</td>\n",
       "      <td>0.002777</td>\n",
       "      <td>0.001465</td>\n",
       "      <td>0.000244</td>\n",
       "      <td>-0.002502</td>\n",
       "      <td>-0.005737</td>\n",
       "      <td>-0.007843</td>\n",
       "      <td>-0.006561</td>\n",
       "      <td>...</td>\n",
       "      <td>0.000305</td>\n",
       "      <td>0.000854</td>\n",
       "      <td>0.001068</td>\n",
       "      <td>-0.000366</td>\n",
       "      <td>-0.001404</td>\n",
       "      <td>-0.001068</td>\n",
       "      <td>-0.001434</td>\n",
       "      <td>-0.000977</td>\n",
       "      <td>1</td>\n",
       "      <td>2</td>\n",
       "    </tr>\n",
       "  </tbody>\n",
       "</table>\n",
       "<p>442 rows × 5003 columns</p>\n",
       "</div>"
      ],
      "text/plain": [
       "     index      col0      col1      col2      col3      col4      col5  \\\n",
       "0     1313  0.001129  0.001221  0.001068  0.000946  0.000946  0.001007   \n",
       "1     1315  0.000305  0.000519  0.000214  0.000122  0.000275  0.000153   \n",
       "2     1316  0.000854  0.000763  0.000519  0.000397  0.000244  0.000214   \n",
       "3     1318 -0.001678 -0.001801 -0.001617 -0.001434 -0.001495 -0.001678   \n",
       "4     1320  0.000122  0.000214  0.000275  0.000305  0.000153  0.000366   \n",
       "..     ...       ...       ...       ...       ...       ...       ...   \n",
       "437   2064 -0.001862 -0.001892 -0.002472 -0.002289 -0.002991 -0.000549   \n",
       "438   2065 -0.000885 -0.000824 -0.000122 -0.000336 -0.000549 -0.000702   \n",
       "439   2067 -0.038849 -0.040131 -0.041168 -0.042419 -0.041077 -0.045502   \n",
       "440   2069 -0.004578 -0.002625 -0.002167 -0.002106 -0.002594 -0.001862   \n",
       "441   2070 -0.001556  0.002563  0.002777  0.001465  0.000244 -0.002502   \n",
       "\n",
       "         col6      col7      col8  ...   col4992   col4993   col4994  \\\n",
       "0    0.000793  0.000793  0.000946  ...  0.000061 -0.000214 -0.000214   \n",
       "1    0.000031  0.000244  0.000122  ...  0.001770  0.001587  0.001709   \n",
       "2    0.000000 -0.000153 -0.000183  ... -0.000641 -0.000732 -0.000702   \n",
       "3   -0.001709 -0.001709 -0.001526  ...  0.001251  0.001190  0.001068   \n",
       "4    0.000336  0.000366  0.000336  ...  0.000000 -0.000183 -0.000092   \n",
       "..        ...       ...       ...  ...       ...       ...       ...   \n",
       "437  0.001495 -0.000183 -0.004150  ... -0.000488 -0.000610 -0.000824   \n",
       "438 -0.000275 -0.000305 -0.000244  ... -0.000092 -0.004364  0.002075   \n",
       "439 -0.046875 -0.041809 -0.045044  ...  0.010010  0.014862  0.021606   \n",
       "440 -0.000885 -0.000366  0.000122  ...  0.004272  0.004700  0.004272   \n",
       "441 -0.005737 -0.007843 -0.006561  ...  0.000305  0.000854  0.001068   \n",
       "\n",
       "      col4995   col4996   col4997   col4998   col4999  col5000  col5001  \n",
       "0   -0.000092 -0.000122 -0.000153 -0.000183 -0.000214        1        2  \n",
       "1    0.001648  0.001495  0.001373  0.001251  0.001068        1        2  \n",
       "2   -0.000610 -0.000732 -0.000580 -0.000702 -0.000732        1        2  \n",
       "3    0.001190  0.001099  0.001068  0.001068  0.001373        1        2  \n",
       "4   -0.000122 -0.000061 -0.000183 -0.000153 -0.000122        1        2  \n",
       "..        ...       ...       ...       ...       ...      ...      ...  \n",
       "437 -0.000427 -0.000641 -0.000580 -0.000336 -0.000244        1        2  \n",
       "438  0.005310 -0.001373 -0.006439  0.004608  0.004364        1        2  \n",
       "439  0.024719  0.025757  0.031677  0.033752  0.030975        1        2  \n",
       "440  0.003204  0.001862 -0.001587 -0.007751 -0.006714        1        2  \n",
       "441 -0.000366 -0.001404 -0.001068 -0.001434 -0.000977        1        2  \n",
       "\n",
       "[442 rows x 5003 columns]"
      ]
     },
     "execution_count": 277,
     "metadata": {},
     "output_type": "execute_result"
    }
   ],
   "source": [
    "new_X_pd_f_split_train_d1[2] # I merge all of these and then extract 80% of 442 --> 354"
   ]
  },
  {
   "cell_type": "code",
   "execution_count": 278,
   "metadata": {},
   "outputs": [
    {
     "data": {
      "text/html": [
       "<div>\n",
       "<style scoped>\n",
       "    .dataframe tbody tr th:only-of-type {\n",
       "        vertical-align: middle;\n",
       "    }\n",
       "\n",
       "    .dataframe tbody tr th {\n",
       "        vertical-align: top;\n",
       "    }\n",
       "\n",
       "    .dataframe thead th {\n",
       "        text-align: right;\n",
       "    }\n",
       "</style>\n",
       "<table border=\"1\" class=\"dataframe\">\n",
       "  <thead>\n",
       "    <tr style=\"text-align: right;\">\n",
       "      <th></th>\n",
       "      <th>index</th>\n",
       "      <th>col0</th>\n",
       "      <th>col1</th>\n",
       "      <th>col2</th>\n",
       "      <th>col3</th>\n",
       "      <th>col4</th>\n",
       "      <th>col5</th>\n",
       "      <th>col6</th>\n",
       "      <th>col7</th>\n",
       "      <th>col8</th>\n",
       "      <th>...</th>\n",
       "      <th>col4992</th>\n",
       "      <th>col4993</th>\n",
       "      <th>col4994</th>\n",
       "      <th>col4995</th>\n",
       "      <th>col4996</th>\n",
       "      <th>col4997</th>\n",
       "      <th>col4998</th>\n",
       "      <th>col4999</th>\n",
       "      <th>col5000</th>\n",
       "      <th>col5001</th>\n",
       "    </tr>\n",
       "  </thead>\n",
       "  <tbody>\n",
       "    <tr>\n",
       "      <th>0</th>\n",
       "      <td>2073</td>\n",
       "      <td>0.003815</td>\n",
       "      <td>0.003967</td>\n",
       "      <td>0.003754</td>\n",
       "      <td>0.004089</td>\n",
       "      <td>0.004272</td>\n",
       "      <td>0.004150</td>\n",
       "      <td>0.003906</td>\n",
       "      <td>0.004303</td>\n",
       "      <td>0.003876</td>\n",
       "      <td>...</td>\n",
       "      <td>-0.000183</td>\n",
       "      <td>0.000061</td>\n",
       "      <td>-0.000122</td>\n",
       "      <td>-0.000305</td>\n",
       "      <td>-0.000061</td>\n",
       "      <td>-0.000214</td>\n",
       "      <td>-0.000244</td>\n",
       "      <td>-0.000031</td>\n",
       "      <td>0</td>\n",
       "      <td>3</td>\n",
       "    </tr>\n",
       "    <tr>\n",
       "      <th>1</th>\n",
       "      <td>2074</td>\n",
       "      <td>-0.000122</td>\n",
       "      <td>-0.000092</td>\n",
       "      <td>0.000000</td>\n",
       "      <td>-0.000366</td>\n",
       "      <td>-0.000275</td>\n",
       "      <td>0.000000</td>\n",
       "      <td>-0.000122</td>\n",
       "      <td>-0.000244</td>\n",
       "      <td>-0.000031</td>\n",
       "      <td>...</td>\n",
       "      <td>0.000519</td>\n",
       "      <td>0.000488</td>\n",
       "      <td>0.001038</td>\n",
       "      <td>0.000916</td>\n",
       "      <td>0.000885</td>\n",
       "      <td>0.001251</td>\n",
       "      <td>0.001251</td>\n",
       "      <td>0.001221</td>\n",
       "      <td>0</td>\n",
       "      <td>3</td>\n",
       "    </tr>\n",
       "    <tr>\n",
       "      <th>2</th>\n",
       "      <td>2075</td>\n",
       "      <td>0.001221</td>\n",
       "      <td>0.000977</td>\n",
       "      <td>0.001038</td>\n",
       "      <td>0.001007</td>\n",
       "      <td>0.000702</td>\n",
       "      <td>0.000488</td>\n",
       "      <td>0.000488</td>\n",
       "      <td>0.000427</td>\n",
       "      <td>-0.000031</td>\n",
       "      <td>...</td>\n",
       "      <td>0.000336</td>\n",
       "      <td>0.000244</td>\n",
       "      <td>-0.000031</td>\n",
       "      <td>-0.000153</td>\n",
       "      <td>-0.000275</td>\n",
       "      <td>-0.000519</td>\n",
       "      <td>-0.000305</td>\n",
       "      <td>-0.000305</td>\n",
       "      <td>0</td>\n",
       "      <td>3</td>\n",
       "    </tr>\n",
       "    <tr>\n",
       "      <th>3</th>\n",
       "      <td>2076</td>\n",
       "      <td>-0.000275</td>\n",
       "      <td>-0.000488</td>\n",
       "      <td>-0.000854</td>\n",
       "      <td>-0.001160</td>\n",
       "      <td>-0.001404</td>\n",
       "      <td>-0.001251</td>\n",
       "      <td>-0.001404</td>\n",
       "      <td>-0.001282</td>\n",
       "      <td>-0.001038</td>\n",
       "      <td>...</td>\n",
       "      <td>0.001343</td>\n",
       "      <td>0.001099</td>\n",
       "      <td>0.001068</td>\n",
       "      <td>0.001007</td>\n",
       "      <td>0.000854</td>\n",
       "      <td>0.000458</td>\n",
       "      <td>0.000275</td>\n",
       "      <td>-0.000061</td>\n",
       "      <td>0</td>\n",
       "      <td>3</td>\n",
       "    </tr>\n",
       "    <tr>\n",
       "      <th>4</th>\n",
       "      <td>2081</td>\n",
       "      <td>0.026367</td>\n",
       "      <td>0.027191</td>\n",
       "      <td>0.028168</td>\n",
       "      <td>0.029449</td>\n",
       "      <td>0.029999</td>\n",
       "      <td>0.030029</td>\n",
       "      <td>0.029449</td>\n",
       "      <td>0.029877</td>\n",
       "      <td>0.029633</td>\n",
       "      <td>...</td>\n",
       "      <td>0.007935</td>\n",
       "      <td>0.009430</td>\n",
       "      <td>0.010651</td>\n",
       "      <td>0.012085</td>\n",
       "      <td>0.013550</td>\n",
       "      <td>0.014557</td>\n",
       "      <td>0.016296</td>\n",
       "      <td>0.017303</td>\n",
       "      <td>0</td>\n",
       "      <td>3</td>\n",
       "    </tr>\n",
       "    <tr>\n",
       "      <th>...</th>\n",
       "      <td>...</td>\n",
       "      <td>...</td>\n",
       "      <td>...</td>\n",
       "      <td>...</td>\n",
       "      <td>...</td>\n",
       "      <td>...</td>\n",
       "      <td>...</td>\n",
       "      <td>...</td>\n",
       "      <td>...</td>\n",
       "      <td>...</td>\n",
       "      <td>...</td>\n",
       "      <td>...</td>\n",
       "      <td>...</td>\n",
       "      <td>...</td>\n",
       "      <td>...</td>\n",
       "      <td>...</td>\n",
       "      <td>...</td>\n",
       "      <td>...</td>\n",
       "      <td>...</td>\n",
       "      <td>...</td>\n",
       "      <td>...</td>\n",
       "    </tr>\n",
       "    <tr>\n",
       "      <th>437</th>\n",
       "      <td>2745</td>\n",
       "      <td>0.006897</td>\n",
       "      <td>0.006836</td>\n",
       "      <td>0.006592</td>\n",
       "      <td>0.006348</td>\n",
       "      <td>0.006287</td>\n",
       "      <td>0.006317</td>\n",
       "      <td>0.006439</td>\n",
       "      <td>0.006317</td>\n",
       "      <td>0.005646</td>\n",
       "      <td>...</td>\n",
       "      <td>0.002502</td>\n",
       "      <td>0.002747</td>\n",
       "      <td>0.003113</td>\n",
       "      <td>0.003296</td>\n",
       "      <td>0.003418</td>\n",
       "      <td>0.003265</td>\n",
       "      <td>0.002716</td>\n",
       "      <td>0.001862</td>\n",
       "      <td>0</td>\n",
       "      <td>3</td>\n",
       "    </tr>\n",
       "    <tr>\n",
       "      <th>438</th>\n",
       "      <td>2746</td>\n",
       "      <td>0.002014</td>\n",
       "      <td>0.002502</td>\n",
       "      <td>0.002350</td>\n",
       "      <td>0.002167</td>\n",
       "      <td>0.002075</td>\n",
       "      <td>0.001587</td>\n",
       "      <td>0.001190</td>\n",
       "      <td>0.001160</td>\n",
       "      <td>0.001312</td>\n",
       "      <td>...</td>\n",
       "      <td>0.006409</td>\n",
       "      <td>0.007233</td>\n",
       "      <td>0.008575</td>\n",
       "      <td>0.009460</td>\n",
       "      <td>0.010498</td>\n",
       "      <td>0.011078</td>\n",
       "      <td>0.010223</td>\n",
       "      <td>0.009888</td>\n",
       "      <td>0</td>\n",
       "      <td>3</td>\n",
       "    </tr>\n",
       "    <tr>\n",
       "      <th>439</th>\n",
       "      <td>2747</td>\n",
       "      <td>0.009583</td>\n",
       "      <td>0.008636</td>\n",
       "      <td>0.009125</td>\n",
       "      <td>0.008545</td>\n",
       "      <td>0.008118</td>\n",
       "      <td>0.009705</td>\n",
       "      <td>0.010101</td>\n",
       "      <td>0.011261</td>\n",
       "      <td>0.012787</td>\n",
       "      <td>...</td>\n",
       "      <td>0.002869</td>\n",
       "      <td>0.002594</td>\n",
       "      <td>0.003265</td>\n",
       "      <td>0.003235</td>\n",
       "      <td>0.002350</td>\n",
       "      <td>0.001770</td>\n",
       "      <td>0.001831</td>\n",
       "      <td>0.002167</td>\n",
       "      <td>0</td>\n",
       "      <td>3</td>\n",
       "    </tr>\n",
       "    <tr>\n",
       "      <th>440</th>\n",
       "      <td>2749</td>\n",
       "      <td>-0.001556</td>\n",
       "      <td>-0.000519</td>\n",
       "      <td>-0.000061</td>\n",
       "      <td>0.000122</td>\n",
       "      <td>0.000458</td>\n",
       "      <td>0.000427</td>\n",
       "      <td>0.000336</td>\n",
       "      <td>0.000031</td>\n",
       "      <td>-0.000854</td>\n",
       "      <td>...</td>\n",
       "      <td>-0.000519</td>\n",
       "      <td>-0.010773</td>\n",
       "      <td>-0.018707</td>\n",
       "      <td>-0.015442</td>\n",
       "      <td>0.002258</td>\n",
       "      <td>0.011597</td>\n",
       "      <td>0.010956</td>\n",
       "      <td>0.014099</td>\n",
       "      <td>0</td>\n",
       "      <td>3</td>\n",
       "    </tr>\n",
       "    <tr>\n",
       "      <th>441</th>\n",
       "      <td>2750</td>\n",
       "      <td>0.012878</td>\n",
       "      <td>0.000458</td>\n",
       "      <td>-0.011658</td>\n",
       "      <td>-0.011932</td>\n",
       "      <td>-0.007843</td>\n",
       "      <td>-0.008484</td>\n",
       "      <td>-0.008331</td>\n",
       "      <td>0.001007</td>\n",
       "      <td>0.006226</td>\n",
       "      <td>...</td>\n",
       "      <td>-0.000061</td>\n",
       "      <td>-0.000061</td>\n",
       "      <td>-0.000336</td>\n",
       "      <td>-0.000580</td>\n",
       "      <td>-0.000641</td>\n",
       "      <td>-0.000580</td>\n",
       "      <td>0.000000</td>\n",
       "      <td>0.000000</td>\n",
       "      <td>0</td>\n",
       "      <td>3</td>\n",
       "    </tr>\n",
       "  </tbody>\n",
       "</table>\n",
       "<p>442 rows × 5003 columns</p>\n",
       "</div>"
      ],
      "text/plain": [
       "     index      col0      col1      col2      col3      col4      col5  \\\n",
       "0     2073  0.003815  0.003967  0.003754  0.004089  0.004272  0.004150   \n",
       "1     2074 -0.000122 -0.000092  0.000000 -0.000366 -0.000275  0.000000   \n",
       "2     2075  0.001221  0.000977  0.001038  0.001007  0.000702  0.000488   \n",
       "3     2076 -0.000275 -0.000488 -0.000854 -0.001160 -0.001404 -0.001251   \n",
       "4     2081  0.026367  0.027191  0.028168  0.029449  0.029999  0.030029   \n",
       "..     ...       ...       ...       ...       ...       ...       ...   \n",
       "437   2745  0.006897  0.006836  0.006592  0.006348  0.006287  0.006317   \n",
       "438   2746  0.002014  0.002502  0.002350  0.002167  0.002075  0.001587   \n",
       "439   2747  0.009583  0.008636  0.009125  0.008545  0.008118  0.009705   \n",
       "440   2749 -0.001556 -0.000519 -0.000061  0.000122  0.000458  0.000427   \n",
       "441   2750  0.012878  0.000458 -0.011658 -0.011932 -0.007843 -0.008484   \n",
       "\n",
       "         col6      col7      col8  ...   col4992   col4993   col4994  \\\n",
       "0    0.003906  0.004303  0.003876  ... -0.000183  0.000061 -0.000122   \n",
       "1   -0.000122 -0.000244 -0.000031  ...  0.000519  0.000488  0.001038   \n",
       "2    0.000488  0.000427 -0.000031  ...  0.000336  0.000244 -0.000031   \n",
       "3   -0.001404 -0.001282 -0.001038  ...  0.001343  0.001099  0.001068   \n",
       "4    0.029449  0.029877  0.029633  ...  0.007935  0.009430  0.010651   \n",
       "..        ...       ...       ...  ...       ...       ...       ...   \n",
       "437  0.006439  0.006317  0.005646  ...  0.002502  0.002747  0.003113   \n",
       "438  0.001190  0.001160  0.001312  ...  0.006409  0.007233  0.008575   \n",
       "439  0.010101  0.011261  0.012787  ...  0.002869  0.002594  0.003265   \n",
       "440  0.000336  0.000031 -0.000854  ... -0.000519 -0.010773 -0.018707   \n",
       "441 -0.008331  0.001007  0.006226  ... -0.000061 -0.000061 -0.000336   \n",
       "\n",
       "      col4995   col4996   col4997   col4998   col4999  col5000  col5001  \n",
       "0   -0.000305 -0.000061 -0.000214 -0.000244 -0.000031        0        3  \n",
       "1    0.000916  0.000885  0.001251  0.001251  0.001221        0        3  \n",
       "2   -0.000153 -0.000275 -0.000519 -0.000305 -0.000305        0        3  \n",
       "3    0.001007  0.000854  0.000458  0.000275 -0.000061        0        3  \n",
       "4    0.012085  0.013550  0.014557  0.016296  0.017303        0        3  \n",
       "..        ...       ...       ...       ...       ...      ...      ...  \n",
       "437  0.003296  0.003418  0.003265  0.002716  0.001862        0        3  \n",
       "438  0.009460  0.010498  0.011078  0.010223  0.009888        0        3  \n",
       "439  0.003235  0.002350  0.001770  0.001831  0.002167        0        3  \n",
       "440 -0.015442  0.002258  0.011597  0.010956  0.014099        0        3  \n",
       "441 -0.000580 -0.000641 -0.000580  0.000000  0.000000        0        3  \n",
       "\n",
       "[442 rows x 5003 columns]"
      ]
     },
     "execution_count": 278,
     "metadata": {},
     "output_type": "execute_result"
    }
   ],
   "source": [
    "new_X_pd_f_split_test_d1[0] # from this one I extract 20% of 442 --> 89"
   ]
  },
  {
   "cell_type": "code",
   "execution_count": 60,
   "metadata": {},
   "outputs": [],
   "source": [
    "X_train_f_pd_concat_d1 = pd.concat(new_X_pd_f_split_train_d1, axis = 0)\n",
    "X_train_f_pd_concat_d1 = X_train_f_pd_concat_d1.reset_index()"
   ]
  },
  {
   "cell_type": "code",
   "execution_count": 280,
   "metadata": {},
   "outputs": [
    {
     "data": {
      "text/html": [
       "<div>\n",
       "<style scoped>\n",
       "    .dataframe tbody tr th:only-of-type {\n",
       "        vertical-align: middle;\n",
       "    }\n",
       "\n",
       "    .dataframe tbody tr th {\n",
       "        vertical-align: top;\n",
       "    }\n",
       "\n",
       "    .dataframe thead th {\n",
       "        text-align: right;\n",
       "    }\n",
       "</style>\n",
       "<table border=\"1\" class=\"dataframe\">\n",
       "  <thead>\n",
       "    <tr style=\"text-align: right;\">\n",
       "      <th></th>\n",
       "      <th>level_0</th>\n",
       "      <th>index</th>\n",
       "      <th>col0</th>\n",
       "      <th>col1</th>\n",
       "      <th>col2</th>\n",
       "      <th>col3</th>\n",
       "      <th>col4</th>\n",
       "      <th>col5</th>\n",
       "      <th>col6</th>\n",
       "      <th>col7</th>\n",
       "      <th>...</th>\n",
       "      <th>col4992</th>\n",
       "      <th>col4993</th>\n",
       "      <th>col4994</th>\n",
       "      <th>col4995</th>\n",
       "      <th>col4996</th>\n",
       "      <th>col4997</th>\n",
       "      <th>col4998</th>\n",
       "      <th>col4999</th>\n",
       "      <th>col5000</th>\n",
       "      <th>col5001</th>\n",
       "    </tr>\n",
       "  </thead>\n",
       "  <tbody>\n",
       "    <tr>\n",
       "      <th>0</th>\n",
       "      <td>0</td>\n",
       "      <td>2</td>\n",
       "      <td>-0.000061</td>\n",
       "      <td>0.000092</td>\n",
       "      <td>0.000031</td>\n",
       "      <td>0.000122</td>\n",
       "      <td>0.000031</td>\n",
       "      <td>0.000122</td>\n",
       "      <td>0.000214</td>\n",
       "      <td>0.000122</td>\n",
       "      <td>...</td>\n",
       "      <td>-0.001221</td>\n",
       "      <td>-0.001251</td>\n",
       "      <td>-0.001221</td>\n",
       "      <td>-0.001129</td>\n",
       "      <td>-0.001282</td>\n",
       "      <td>-0.001038</td>\n",
       "      <td>-0.001099</td>\n",
       "      <td>-0.001038</td>\n",
       "      <td>0</td>\n",
       "      <td>0</td>\n",
       "    </tr>\n",
       "    <tr>\n",
       "      <th>1</th>\n",
       "      <td>1</td>\n",
       "      <td>3</td>\n",
       "      <td>-0.000397</td>\n",
       "      <td>-0.000549</td>\n",
       "      <td>-0.000580</td>\n",
       "      <td>-0.000458</td>\n",
       "      <td>-0.000488</td>\n",
       "      <td>-0.000397</td>\n",
       "      <td>-0.000397</td>\n",
       "      <td>-0.000427</td>\n",
       "      <td>...</td>\n",
       "      <td>0.000671</td>\n",
       "      <td>0.000580</td>\n",
       "      <td>0.000793</td>\n",
       "      <td>0.000610</td>\n",
       "      <td>0.000641</td>\n",
       "      <td>0.000671</td>\n",
       "      <td>0.000580</td>\n",
       "      <td>0.000519</td>\n",
       "      <td>0</td>\n",
       "      <td>0</td>\n",
       "    </tr>\n",
       "    <tr>\n",
       "      <th>2</th>\n",
       "      <td>2</td>\n",
       "      <td>4</td>\n",
       "      <td>0.000427</td>\n",
       "      <td>0.000671</td>\n",
       "      <td>0.000732</td>\n",
       "      <td>0.000427</td>\n",
       "      <td>0.000580</td>\n",
       "      <td>0.000580</td>\n",
       "      <td>0.000549</td>\n",
       "      <td>0.000549</td>\n",
       "      <td>...</td>\n",
       "      <td>-0.054230</td>\n",
       "      <td>-0.052185</td>\n",
       "      <td>-0.051971</td>\n",
       "      <td>-0.048431</td>\n",
       "      <td>-0.047241</td>\n",
       "      <td>-0.047729</td>\n",
       "      <td>-0.045288</td>\n",
       "      <td>-0.042969</td>\n",
       "      <td>0</td>\n",
       "      <td>0</td>\n",
       "    </tr>\n",
       "    <tr>\n",
       "      <th>3</th>\n",
       "      <td>3</td>\n",
       "      <td>5</td>\n",
       "      <td>-0.043243</td>\n",
       "      <td>-0.041687</td>\n",
       "      <td>-0.038422</td>\n",
       "      <td>-0.037537</td>\n",
       "      <td>-0.034393</td>\n",
       "      <td>-0.031311</td>\n",
       "      <td>-0.030090</td>\n",
       "      <td>-0.027771</td>\n",
       "      <td>...</td>\n",
       "      <td>0.094238</td>\n",
       "      <td>0.090637</td>\n",
       "      <td>0.088562</td>\n",
       "      <td>0.085785</td>\n",
       "      <td>0.081940</td>\n",
       "      <td>0.076416</td>\n",
       "      <td>0.071228</td>\n",
       "      <td>0.067017</td>\n",
       "      <td>0</td>\n",
       "      <td>0</td>\n",
       "    </tr>\n",
       "    <tr>\n",
       "      <th>4</th>\n",
       "      <td>4</td>\n",
       "      <td>8</td>\n",
       "      <td>-0.041534</td>\n",
       "      <td>-0.043304</td>\n",
       "      <td>-0.044891</td>\n",
       "      <td>-0.045990</td>\n",
       "      <td>-0.047607</td>\n",
       "      <td>-0.048615</td>\n",
       "      <td>-0.049835</td>\n",
       "      <td>-0.050995</td>\n",
       "      <td>...</td>\n",
       "      <td>-0.041412</td>\n",
       "      <td>-0.041718</td>\n",
       "      <td>-0.041809</td>\n",
       "      <td>-0.041931</td>\n",
       "      <td>-0.041840</td>\n",
       "      <td>-0.041534</td>\n",
       "      <td>-0.040680</td>\n",
       "      <td>-0.040375</td>\n",
       "      <td>0</td>\n",
       "      <td>0</td>\n",
       "    </tr>\n",
       "    <tr>\n",
       "      <th>...</th>\n",
       "      <td>...</td>\n",
       "      <td>...</td>\n",
       "      <td>...</td>\n",
       "      <td>...</td>\n",
       "      <td>...</td>\n",
       "      <td>...</td>\n",
       "      <td>...</td>\n",
       "      <td>...</td>\n",
       "      <td>...</td>\n",
       "      <td>...</td>\n",
       "      <td>...</td>\n",
       "      <td>...</td>\n",
       "      <td>...</td>\n",
       "      <td>...</td>\n",
       "      <td>...</td>\n",
       "      <td>...</td>\n",
       "      <td>...</td>\n",
       "      <td>...</td>\n",
       "      <td>...</td>\n",
       "      <td>...</td>\n",
       "      <td>...</td>\n",
       "    </tr>\n",
       "    <tr>\n",
       "      <th>1321</th>\n",
       "      <td>437</td>\n",
       "      <td>2064</td>\n",
       "      <td>-0.001862</td>\n",
       "      <td>-0.001892</td>\n",
       "      <td>-0.002472</td>\n",
       "      <td>-0.002289</td>\n",
       "      <td>-0.002991</td>\n",
       "      <td>-0.000549</td>\n",
       "      <td>0.001495</td>\n",
       "      <td>-0.000183</td>\n",
       "      <td>...</td>\n",
       "      <td>-0.000488</td>\n",
       "      <td>-0.000610</td>\n",
       "      <td>-0.000824</td>\n",
       "      <td>-0.000427</td>\n",
       "      <td>-0.000641</td>\n",
       "      <td>-0.000580</td>\n",
       "      <td>-0.000336</td>\n",
       "      <td>-0.000244</td>\n",
       "      <td>1</td>\n",
       "      <td>2</td>\n",
       "    </tr>\n",
       "    <tr>\n",
       "      <th>1322</th>\n",
       "      <td>438</td>\n",
       "      <td>2065</td>\n",
       "      <td>-0.000885</td>\n",
       "      <td>-0.000824</td>\n",
       "      <td>-0.000122</td>\n",
       "      <td>-0.000336</td>\n",
       "      <td>-0.000549</td>\n",
       "      <td>-0.000702</td>\n",
       "      <td>-0.000275</td>\n",
       "      <td>-0.000305</td>\n",
       "      <td>...</td>\n",
       "      <td>-0.000092</td>\n",
       "      <td>-0.004364</td>\n",
       "      <td>0.002075</td>\n",
       "      <td>0.005310</td>\n",
       "      <td>-0.001373</td>\n",
       "      <td>-0.006439</td>\n",
       "      <td>0.004608</td>\n",
       "      <td>0.004364</td>\n",
       "      <td>1</td>\n",
       "      <td>2</td>\n",
       "    </tr>\n",
       "    <tr>\n",
       "      <th>1323</th>\n",
       "      <td>439</td>\n",
       "      <td>2067</td>\n",
       "      <td>-0.038849</td>\n",
       "      <td>-0.040131</td>\n",
       "      <td>-0.041168</td>\n",
       "      <td>-0.042419</td>\n",
       "      <td>-0.041077</td>\n",
       "      <td>-0.045502</td>\n",
       "      <td>-0.046875</td>\n",
       "      <td>-0.041809</td>\n",
       "      <td>...</td>\n",
       "      <td>0.010010</td>\n",
       "      <td>0.014862</td>\n",
       "      <td>0.021606</td>\n",
       "      <td>0.024719</td>\n",
       "      <td>0.025757</td>\n",
       "      <td>0.031677</td>\n",
       "      <td>0.033752</td>\n",
       "      <td>0.030975</td>\n",
       "      <td>1</td>\n",
       "      <td>2</td>\n",
       "    </tr>\n",
       "    <tr>\n",
       "      <th>1324</th>\n",
       "      <td>440</td>\n",
       "      <td>2069</td>\n",
       "      <td>-0.004578</td>\n",
       "      <td>-0.002625</td>\n",
       "      <td>-0.002167</td>\n",
       "      <td>-0.002106</td>\n",
       "      <td>-0.002594</td>\n",
       "      <td>-0.001862</td>\n",
       "      <td>-0.000885</td>\n",
       "      <td>-0.000366</td>\n",
       "      <td>...</td>\n",
       "      <td>0.004272</td>\n",
       "      <td>0.004700</td>\n",
       "      <td>0.004272</td>\n",
       "      <td>0.003204</td>\n",
       "      <td>0.001862</td>\n",
       "      <td>-0.001587</td>\n",
       "      <td>-0.007751</td>\n",
       "      <td>-0.006714</td>\n",
       "      <td>1</td>\n",
       "      <td>2</td>\n",
       "    </tr>\n",
       "    <tr>\n",
       "      <th>1325</th>\n",
       "      <td>441</td>\n",
       "      <td>2070</td>\n",
       "      <td>-0.001556</td>\n",
       "      <td>0.002563</td>\n",
       "      <td>0.002777</td>\n",
       "      <td>0.001465</td>\n",
       "      <td>0.000244</td>\n",
       "      <td>-0.002502</td>\n",
       "      <td>-0.005737</td>\n",
       "      <td>-0.007843</td>\n",
       "      <td>...</td>\n",
       "      <td>0.000305</td>\n",
       "      <td>0.000854</td>\n",
       "      <td>0.001068</td>\n",
       "      <td>-0.000366</td>\n",
       "      <td>-0.001404</td>\n",
       "      <td>-0.001068</td>\n",
       "      <td>-0.001434</td>\n",
       "      <td>-0.000977</td>\n",
       "      <td>1</td>\n",
       "      <td>2</td>\n",
       "    </tr>\n",
       "  </tbody>\n",
       "</table>\n",
       "<p>1326 rows × 5004 columns</p>\n",
       "</div>"
      ],
      "text/plain": [
       "      level_0  index      col0      col1      col2      col3      col4  \\\n",
       "0           0      2 -0.000061  0.000092  0.000031  0.000122  0.000031   \n",
       "1           1      3 -0.000397 -0.000549 -0.000580 -0.000458 -0.000488   \n",
       "2           2      4  0.000427  0.000671  0.000732  0.000427  0.000580   \n",
       "3           3      5 -0.043243 -0.041687 -0.038422 -0.037537 -0.034393   \n",
       "4           4      8 -0.041534 -0.043304 -0.044891 -0.045990 -0.047607   \n",
       "...       ...    ...       ...       ...       ...       ...       ...   \n",
       "1321      437   2064 -0.001862 -0.001892 -0.002472 -0.002289 -0.002991   \n",
       "1322      438   2065 -0.000885 -0.000824 -0.000122 -0.000336 -0.000549   \n",
       "1323      439   2067 -0.038849 -0.040131 -0.041168 -0.042419 -0.041077   \n",
       "1324      440   2069 -0.004578 -0.002625 -0.002167 -0.002106 -0.002594   \n",
       "1325      441   2070 -0.001556  0.002563  0.002777  0.001465  0.000244   \n",
       "\n",
       "          col5      col6      col7  ...   col4992   col4993   col4994  \\\n",
       "0     0.000122  0.000214  0.000122  ... -0.001221 -0.001251 -0.001221   \n",
       "1    -0.000397 -0.000397 -0.000427  ...  0.000671  0.000580  0.000793   \n",
       "2     0.000580  0.000549  0.000549  ... -0.054230 -0.052185 -0.051971   \n",
       "3    -0.031311 -0.030090 -0.027771  ...  0.094238  0.090637  0.088562   \n",
       "4    -0.048615 -0.049835 -0.050995  ... -0.041412 -0.041718 -0.041809   \n",
       "...        ...       ...       ...  ...       ...       ...       ...   \n",
       "1321 -0.000549  0.001495 -0.000183  ... -0.000488 -0.000610 -0.000824   \n",
       "1322 -0.000702 -0.000275 -0.000305  ... -0.000092 -0.004364  0.002075   \n",
       "1323 -0.045502 -0.046875 -0.041809  ...  0.010010  0.014862  0.021606   \n",
       "1324 -0.001862 -0.000885 -0.000366  ...  0.004272  0.004700  0.004272   \n",
       "1325 -0.002502 -0.005737 -0.007843  ...  0.000305  0.000854  0.001068   \n",
       "\n",
       "       col4995   col4996   col4997   col4998   col4999  col5000  col5001  \n",
       "0    -0.001129 -0.001282 -0.001038 -0.001099 -0.001038        0        0  \n",
       "1     0.000610  0.000641  0.000671  0.000580  0.000519        0        0  \n",
       "2    -0.048431 -0.047241 -0.047729 -0.045288 -0.042969        0        0  \n",
       "3     0.085785  0.081940  0.076416  0.071228  0.067017        0        0  \n",
       "4    -0.041931 -0.041840 -0.041534 -0.040680 -0.040375        0        0  \n",
       "...        ...       ...       ...       ...       ...      ...      ...  \n",
       "1321 -0.000427 -0.000641 -0.000580 -0.000336 -0.000244        1        2  \n",
       "1322  0.005310 -0.001373 -0.006439  0.004608  0.004364        1        2  \n",
       "1323  0.024719  0.025757  0.031677  0.033752  0.030975        1        2  \n",
       "1324  0.003204  0.001862 -0.001587 -0.007751 -0.006714        1        2  \n",
       "1325 -0.000366 -0.001404 -0.001068 -0.001434 -0.000977        1        2  \n",
       "\n",
       "[1326 rows x 5004 columns]"
      ]
     },
     "execution_count": 280,
     "metadata": {},
     "output_type": "execute_result"
    }
   ],
   "source": [
    "X_train_f_pd_concat_d1"
   ]
  },
  {
   "cell_type": "code",
   "execution_count": 281,
   "metadata": {},
   "outputs": [
    {
     "data": {
      "text/plain": [
       "442.0"
      ]
     },
     "execution_count": 281,
     "metadata": {},
     "output_type": "execute_result"
    }
   ],
   "source": [
    "1326 /3"
   ]
  },
  {
   "cell_type": "code",
   "execution_count": 61,
   "metadata": {},
   "outputs": [],
   "source": [
    "X_train_f_pd_concat_d1_0 = X_train_f_pd_concat_d1.drop(['level_0', 'index', 'col5000', 'col5001'], axis=1) "
   ]
  },
  {
   "cell_type": "code",
   "execution_count": 62,
   "metadata": {},
   "outputs": [
    {
     "name": "stdout",
     "output_type": "stream",
     "text": [
      "354 89\n"
     ]
    }
   ],
   "source": [
    "# NOTE: To extract the trainiing set, even if the sets are of bigger dimensions, we still set the 80% equal to N_f\n",
    "#       across the groups and ALSO the desings.\n",
    "\n",
    "per_train_pd_f = math.ceil(N_f * 0.8)\n",
    "per_test_pd_f = math.ceil(N_f * 0.2)\n",
    "print(per_train_pd_f, per_test_pd_f)\n"
   ]
  },
  {
   "cell_type": "code",
   "execution_count": 63,
   "metadata": {},
   "outputs": [
    {
     "name": "stdout",
     "output_type": "stream",
     "text": [
      "0.1781548656443236\n"
     ]
    }
   ],
   "source": [
    "#Set see to reproduce the results\n",
    "random.seed(1)\n",
    "\n",
    "range_pd_f = range(0, X_train_f_pd_concat_d1_0.shape[0] )\n",
    "range_pd_f_test = range(0, N_f)\n",
    "\n",
    "rand_s_train_pd_f = random.sample(range_pd_f, k = per_train_pd_f)\n",
    "rand_s_test_pd_f = random.sample(range_pd_f_test, k = per_test_pd_f)\n",
    "\n",
    "print(random.random()) #0.1781548656443236\n"
   ]
  },
  {
   "cell_type": "code",
   "execution_count": 285,
   "metadata": {},
   "outputs": [
    {
     "data": {
      "text/plain": [
       "True"
      ]
     },
     "execution_count": 285,
     "metadata": {},
     "output_type": "execute_result"
    }
   ],
   "source": [
    "len(X_train_f_pd_concat_d1_0) == len(range_pd_f)"
   ]
  },
  {
   "cell_type": "code",
   "execution_count": 64,
   "metadata": {},
   "outputs": [],
   "source": [
    "ind_train_pd_f = sorted(rand_s_train_pd_f) \n",
    "ind_test_pd_f = sorted(rand_s_test_pd_f) "
   ]
  },
  {
   "cell_type": "code",
   "execution_count": 287,
   "metadata": {},
   "outputs": [],
   "source": [
    "X_train_f_pd_d1 = X_train_f_pd_concat_d1_0.reset_index().loc[ind_train_pd_f] "
   ]
  },
  {
   "cell_type": "code",
   "execution_count": 288,
   "metadata": {},
   "outputs": [
    {
     "data": {
      "text/plain": [
       "(354, 5001)"
      ]
     },
     "execution_count": 288,
     "metadata": {},
     "output_type": "execute_result"
    }
   ],
   "source": [
    "X_train_f_pd_d1.shape"
   ]
  },
  {
   "cell_type": "code",
   "execution_count": 289,
   "metadata": {},
   "outputs": [],
   "source": [
    "X_train_f_pd_d1 = X_train_f_pd_d1.drop(['index'], axis=1)"
   ]
  },
  {
   "cell_type": "code",
   "execution_count": 290,
   "metadata": {},
   "outputs": [
    {
     "data": {
      "text/plain": [
       "(354, 5000)"
      ]
     },
     "execution_count": 290,
     "metadata": {},
     "output_type": "execute_result"
    }
   ],
   "source": [
    "X_train_f_pd_d1.shape"
   ]
  },
  {
   "cell_type": "code",
   "execution_count": 291,
   "metadata": {},
   "outputs": [],
   "source": [
    "X_train_f_pd_d1 = X_train_f_pd_d1.values"
   ]
  },
  {
   "cell_type": "code",
   "execution_count": 292,
   "metadata": {},
   "outputs": [
    {
     "data": {
      "text/plain": [
       "354"
      ]
     },
     "execution_count": 292,
     "metadata": {},
     "output_type": "execute_result"
    }
   ],
   "source": [
    "len(X_train_f_pd_d1)"
   ]
  },
  {
   "cell_type": "code",
   "execution_count": 87,
   "metadata": {},
   "outputs": [],
   "source": [
    "X_test_pd_f_d1 = new_X_pd_f_split_test_d1[0].reset_index().loc[ind_test_pd_f]"
   ]
  },
  {
   "cell_type": "code",
   "execution_count": 88,
   "metadata": {},
   "outputs": [
    {
     "data": {
      "text/plain": [
       "(89, 5004)"
      ]
     },
     "execution_count": 88,
     "metadata": {},
     "output_type": "execute_result"
    }
   ],
   "source": [
    "X_test_pd_f_d1.shape"
   ]
  },
  {
   "cell_type": "code",
   "execution_count": 89,
   "metadata": {},
   "outputs": [],
   "source": [
    "X_test_pd_f_d1 = X_test_pd_f_d1.drop(['level_0', 'index', 'col5000', 'col5001'], axis=1)"
   ]
  },
  {
   "cell_type": "code",
   "execution_count": 90,
   "metadata": {},
   "outputs": [
    {
     "data": {
      "text/plain": [
       "(89, 5000)"
      ]
     },
     "execution_count": 90,
     "metadata": {},
     "output_type": "execute_result"
    }
   ],
   "source": [
    "X_test_pd_f_d1.shape"
   ]
  },
  {
   "cell_type": "code",
   "execution_count": 91,
   "metadata": {},
   "outputs": [],
   "source": [
    "X_test_pd_f_d1 = X_test_pd_f_d1.values "
   ]
  },
  {
   "cell_type": "code",
   "execution_count": 92,
   "metadata": {},
   "outputs": [
    {
     "data": {
      "text/plain": [
       "89"
      ]
     },
     "execution_count": 92,
     "metadata": {},
     "output_type": "execute_result"
    }
   ],
   "source": [
    "len(X_test_pd_f_d1)"
   ]
  },
  {
   "cell_type": "code",
   "execution_count": null,
   "metadata": {},
   "outputs": [],
   "source": []
  },
  {
   "cell_type": "code",
   "execution_count": null,
   "metadata": {},
   "outputs": [],
   "source": []
  },
  {
   "cell_type": "code",
   "execution_count": 93,
   "metadata": {},
   "outputs": [],
   "source": [
    "np.save('X_test_f_pd_0', X_test_pd_f_d1)"
   ]
  },
  {
   "cell_type": "code",
   "execution_count": 74,
   "metadata": {},
   "outputs": [],
   "source": [
    "np.save('X_test_f_pd_3', X_test_pd_f_d1)"
   ]
  },
  {
   "cell_type": "code",
   "execution_count": null,
   "metadata": {},
   "outputs": [],
   "source": []
  },
  {
   "cell_type": "code",
   "execution_count": null,
   "metadata": {},
   "outputs": [],
   "source": [
    "#old way of savings (new now - look above)"
   ]
  },
  {
   "cell_type": "code",
   "execution_count": 174,
   "metadata": {},
   "outputs": [],
   "source": [
    "np.save('X_train_f_pd_d1', X_train_f_pd_d1)"
   ]
  },
  {
   "cell_type": "code",
   "execution_count": 173,
   "metadata": {},
   "outputs": [],
   "source": [
    "np.save('X_test_pd_f_d1', X_test_pd_f_d1)"
   ]
  },
  {
   "cell_type": "code",
   "execution_count": null,
   "metadata": {},
   "outputs": [],
   "source": []
  },
  {
   "cell_type": "code",
   "execution_count": null,
   "metadata": {},
   "outputs": [],
   "source": []
  },
  {
   "cell_type": "markdown",
   "metadata": {},
   "source": [
    "# APPLY THE SAME PROCEDURE THE HEALTHY PATIENTS"
   ]
  },
  {
   "cell_type": "code",
   "execution_count": 606,
   "metadata": {},
   "outputs": [
    {
     "data": {
      "text/html": [
       "<div>\n",
       "<style scoped>\n",
       "    .dataframe tbody tr th:only-of-type {\n",
       "        vertical-align: middle;\n",
       "    }\n",
       "\n",
       "    .dataframe tbody tr th {\n",
       "        vertical-align: top;\n",
       "    }\n",
       "\n",
       "    .dataframe thead th {\n",
       "        text-align: right;\n",
       "    }\n",
       "</style>\n",
       "<table border=\"1\" class=\"dataframe\">\n",
       "  <thead>\n",
       "    <tr style=\"text-align: right;\">\n",
       "      <th></th>\n",
       "      <th>Patient_N</th>\n",
       "    </tr>\n",
       "  </thead>\n",
       "  <tbody>\n",
       "    <tr>\n",
       "      <th>0</th>\n",
       "      <td>0</td>\n",
       "    </tr>\n",
       "    <tr>\n",
       "      <th>1</th>\n",
       "      <td>0</td>\n",
       "    </tr>\n",
       "    <tr>\n",
       "      <th>2</th>\n",
       "      <td>0</td>\n",
       "    </tr>\n",
       "    <tr>\n",
       "      <th>3</th>\n",
       "      <td>0</td>\n",
       "    </tr>\n",
       "    <tr>\n",
       "      <th>4</th>\n",
       "      <td>0</td>\n",
       "    </tr>\n",
       "    <tr>\n",
       "      <th>...</th>\n",
       "      <td>...</td>\n",
       "    </tr>\n",
       "    <tr>\n",
       "      <th>15474</th>\n",
       "      <td>18</td>\n",
       "    </tr>\n",
       "    <tr>\n",
       "      <th>15475</th>\n",
       "      <td>18</td>\n",
       "    </tr>\n",
       "    <tr>\n",
       "      <th>15476</th>\n",
       "      <td>18</td>\n",
       "    </tr>\n",
       "    <tr>\n",
       "      <th>15477</th>\n",
       "      <td>18</td>\n",
       "    </tr>\n",
       "    <tr>\n",
       "      <th>15478</th>\n",
       "      <td>18</td>\n",
       "    </tr>\n",
       "  </tbody>\n",
       "</table>\n",
       "<p>15479 rows × 1 columns</p>\n",
       "</div>"
      ],
      "text/plain": [
       "       Patient_N\n",
       "0              0\n",
       "1              0\n",
       "2              0\n",
       "3              0\n",
       "4              0\n",
       "...          ...\n",
       "15474         18\n",
       "15475         18\n",
       "15476         18\n",
       "15477         18\n",
       "15478         18\n",
       "\n",
       "[15479 rows x 1 columns]"
      ]
     },
     "execution_count": 606,
     "metadata": {},
     "output_type": "execute_result"
    }
   ],
   "source": [
    "##################################################\n",
    "#APPLY THE SAME PROCEDURE TO THE HEALTHY DATASETS#\n",
    "##################################################\n",
    "\n",
    "#################\n",
    "#    FEMALE     #\n",
    "#################\n",
    "\n",
    "df_seg_descr_hc_f = pd.DataFrame([ final_index_pt_f_hc_train] ).T\n",
    "df_seg_descr_hc_f.columns = ['Patient_N']\n",
    "df_seg_descr_hc_f\n",
    "\n"
   ]
  },
  {
   "cell_type": "code",
   "execution_count": 608,
   "metadata": {},
   "outputs": [
    {
     "data": {
      "text/html": [
       "<div>\n",
       "<style scoped>\n",
       "    .dataframe tbody tr th:only-of-type {\n",
       "        vertical-align: middle;\n",
       "    }\n",
       "\n",
       "    .dataframe tbody tr th {\n",
       "        vertical-align: top;\n",
       "    }\n",
       "\n",
       "    .dataframe thead th {\n",
       "        text-align: right;\n",
       "    }\n",
       "</style>\n",
       "<table border=\"1\" class=\"dataframe\">\n",
       "  <thead>\n",
       "    <tr style=\"text-align: right;\">\n",
       "      <th></th>\n",
       "      <th>0</th>\n",
       "    </tr>\n",
       "    <tr>\n",
       "      <th>Patient_N</th>\n",
       "      <th></th>\n",
       "    </tr>\n",
       "  </thead>\n",
       "  <tbody>\n",
       "    <tr>\n",
       "      <th>0</th>\n",
       "      <td>895</td>\n",
       "    </tr>\n",
       "    <tr>\n",
       "      <th>1</th>\n",
       "      <td>908</td>\n",
       "    </tr>\n",
       "    <tr>\n",
       "      <th>2</th>\n",
       "      <td>578</td>\n",
       "    </tr>\n",
       "    <tr>\n",
       "      <th>3</th>\n",
       "      <td>854</td>\n",
       "    </tr>\n",
       "    <tr>\n",
       "      <th>4</th>\n",
       "      <td>641</td>\n",
       "    </tr>\n",
       "    <tr>\n",
       "      <th>5</th>\n",
       "      <td>695</td>\n",
       "    </tr>\n",
       "    <tr>\n",
       "      <th>6</th>\n",
       "      <td>777</td>\n",
       "    </tr>\n",
       "    <tr>\n",
       "      <th>7</th>\n",
       "      <td>682</td>\n",
       "    </tr>\n",
       "    <tr>\n",
       "      <th>8</th>\n",
       "      <td>884</td>\n",
       "    </tr>\n",
       "    <tr>\n",
       "      <th>9</th>\n",
       "      <td>791</td>\n",
       "    </tr>\n",
       "    <tr>\n",
       "      <th>10</th>\n",
       "      <td>636</td>\n",
       "    </tr>\n",
       "    <tr>\n",
       "      <th>11</th>\n",
       "      <td>951</td>\n",
       "    </tr>\n",
       "    <tr>\n",
       "      <th>12</th>\n",
       "      <td>1222</td>\n",
       "    </tr>\n",
       "    <tr>\n",
       "      <th>13</th>\n",
       "      <td>1026</td>\n",
       "    </tr>\n",
       "    <tr>\n",
       "      <th>14</th>\n",
       "      <td>897</td>\n",
       "    </tr>\n",
       "    <tr>\n",
       "      <th>15</th>\n",
       "      <td>809</td>\n",
       "    </tr>\n",
       "    <tr>\n",
       "      <th>16</th>\n",
       "      <td>1071</td>\n",
       "    </tr>\n",
       "    <tr>\n",
       "      <th>17</th>\n",
       "      <td>442</td>\n",
       "    </tr>\n",
       "    <tr>\n",
       "      <th>18</th>\n",
       "      <td>720</td>\n",
       "    </tr>\n",
       "  </tbody>\n",
       "</table>\n",
       "</div>"
      ],
      "text/plain": [
       "              0\n",
       "Patient_N      \n",
       "0           895\n",
       "1           908\n",
       "2           578\n",
       "3           854\n",
       "4           641\n",
       "5           695\n",
       "6           777\n",
       "7           682\n",
       "8           884\n",
       "9           791\n",
       "10          636\n",
       "11          951\n",
       "12         1222\n",
       "13         1026\n",
       "14          897\n",
       "15          809\n",
       "16         1071\n",
       "17          442\n",
       "18          720"
      ]
     },
     "execution_count": 608,
     "metadata": {},
     "output_type": "execute_result"
    }
   ],
   "source": [
    "hc_df_f_seg = df_seg_descr_hc_f.groupby(['Patient_N']).size()\n",
    "hc_df_f_seg = pd.DataFrame(hc_df_f_seg)\n",
    "hc_df_f_seg"
   ]
  },
  {
   "cell_type": "code",
   "execution_count": 609,
   "metadata": {},
   "outputs": [
    {
     "data": {
      "text/html": [
       "<div>\n",
       "<style scoped>\n",
       "    .dataframe tbody tr th:only-of-type {\n",
       "        vertical-align: middle;\n",
       "    }\n",
       "\n",
       "    .dataframe tbody tr th {\n",
       "        vertical-align: top;\n",
       "    }\n",
       "\n",
       "    .dataframe thead th {\n",
       "        text-align: right;\n",
       "    }\n",
       "</style>\n",
       "<table border=\"1\" class=\"dataframe\">\n",
       "  <thead>\n",
       "    <tr style=\"text-align: right;\">\n",
       "      <th></th>\n",
       "      <th>Patient_N</th>\n",
       "    </tr>\n",
       "  </thead>\n",
       "  <tbody>\n",
       "    <tr>\n",
       "      <th>0</th>\n",
       "      <td>0</td>\n",
       "    </tr>\n",
       "    <tr>\n",
       "      <th>1</th>\n",
       "      <td>0</td>\n",
       "    </tr>\n",
       "    <tr>\n",
       "      <th>2</th>\n",
       "      <td>0</td>\n",
       "    </tr>\n",
       "    <tr>\n",
       "      <th>3</th>\n",
       "      <td>0</td>\n",
       "    </tr>\n",
       "    <tr>\n",
       "      <th>4</th>\n",
       "      <td>0</td>\n",
       "    </tr>\n",
       "    <tr>\n",
       "      <th>...</th>\n",
       "      <td>...</td>\n",
       "    </tr>\n",
       "    <tr>\n",
       "      <th>1727</th>\n",
       "      <td>1</td>\n",
       "    </tr>\n",
       "    <tr>\n",
       "      <th>1728</th>\n",
       "      <td>1</td>\n",
       "    </tr>\n",
       "    <tr>\n",
       "      <th>1729</th>\n",
       "      <td>1</td>\n",
       "    </tr>\n",
       "    <tr>\n",
       "      <th>1730</th>\n",
       "      <td>1</td>\n",
       "    </tr>\n",
       "    <tr>\n",
       "      <th>1731</th>\n",
       "      <td>1</td>\n",
       "    </tr>\n",
       "  </tbody>\n",
       "</table>\n",
       "<p>1732 rows × 1 columns</p>\n",
       "</div>"
      ],
      "text/plain": [
       "      Patient_N\n",
       "0             0\n",
       "1             0\n",
       "2             0\n",
       "3             0\n",
       "4             0\n",
       "...         ...\n",
       "1727          1\n",
       "1728          1\n",
       "1729          1\n",
       "1730          1\n",
       "1731          1\n",
       "\n",
       "[1732 rows x 1 columns]"
      ]
     },
     "execution_count": 609,
     "metadata": {},
     "output_type": "execute_result"
    }
   ],
   "source": [
    "###############\n",
    "#    MALE     #\n",
    "###############\n",
    "\n",
    "df_seg_descr_hc_m = pd.DataFrame([ final_index_pt_m_hc_train] ).T\n",
    "df_seg_descr_hc_m.columns = ['Patient_N']\n",
    "df_seg_descr_hc_m"
   ]
  },
  {
   "cell_type": "code",
   "execution_count": 610,
   "metadata": {},
   "outputs": [
    {
     "data": {
      "text/html": [
       "<div>\n",
       "<style scoped>\n",
       "    .dataframe tbody tr th:only-of-type {\n",
       "        vertical-align: middle;\n",
       "    }\n",
       "\n",
       "    .dataframe tbody tr th {\n",
       "        vertical-align: top;\n",
       "    }\n",
       "\n",
       "    .dataframe thead th {\n",
       "        text-align: right;\n",
       "    }\n",
       "</style>\n",
       "<table border=\"1\" class=\"dataframe\">\n",
       "  <thead>\n",
       "    <tr style=\"text-align: right;\">\n",
       "      <th></th>\n",
       "      <th>0</th>\n",
       "    </tr>\n",
       "    <tr>\n",
       "      <th>Patient_N</th>\n",
       "      <th></th>\n",
       "    </tr>\n",
       "  </thead>\n",
       "  <tbody>\n",
       "    <tr>\n",
       "      <th>0</th>\n",
       "      <td>784</td>\n",
       "    </tr>\n",
       "    <tr>\n",
       "      <th>1</th>\n",
       "      <td>948</td>\n",
       "    </tr>\n",
       "  </tbody>\n",
       "</table>\n",
       "</div>"
      ],
      "text/plain": [
       "             0\n",
       "Patient_N     \n",
       "0          784\n",
       "1          948"
      ]
     },
     "execution_count": 610,
     "metadata": {},
     "output_type": "execute_result"
    }
   ],
   "source": [
    "hc_df_m_seg = df_seg_descr_hc_m.groupby(['Patient_N']).size()\n",
    "hc_df_m_seg = pd.DataFrame(hc_df_m_seg)\n",
    "hc_df_m_seg"
   ]
  },
  {
   "cell_type": "markdown",
   "metadata": {},
   "source": [
    "### 3) Randomly select from each group (divided by patient number) 442/372 number of segments for the female/male case respectively \n",
    "\n",
    "--> NOTE THE MINIMUM NUMBER OF SEGMENTS FOR ONE OF THE PATIENTS IS 442 AND SO WE REDUCE TO THIS NUMBER ALSO THE SICK PATIENTS GROUPS"
   ]
  },
  {
   "cell_type": "code",
   "execution_count": 611,
   "metadata": {},
   "outputs": [
    {
     "data": {
      "text/plain": [
       "[895,\n",
       " 908,\n",
       " 578,\n",
       " 854,\n",
       " 641,\n",
       " 695,\n",
       " 777,\n",
       " 682,\n",
       " 884,\n",
       " 791,\n",
       " 636,\n",
       " 951,\n",
       " 1222,\n",
       " 1026,\n",
       " 897,\n",
       " 809,\n",
       " 1071,\n",
       " 442,\n",
       " 720]"
      ]
     },
     "execution_count": 611,
     "metadata": {},
     "output_type": "execute_result"
    }
   ],
   "source": [
    "#################\n",
    "#    FEMALE     #\n",
    "#################\n",
    "\n",
    "X_train_hc_f_df = pd.DataFrame(X_train_hc_f)\n",
    "final_index_pt_f_hc_train_df = pd.DataFrame(final_index_pt_f_hc_train)\n",
    "\n",
    "X_train_f_hc_ind_df = pd.concat([X_train_hc_f_df,\n",
    "                                 final_index_pt_f_hc_train_df] , ignore_index= True, axis = 1)\n",
    "\n",
    "col_list = ['col' + str(x) for x in range(0,X_train_f_hc_ind_df.shape[1])]\n",
    "X_train_f_hc_ind_df.columns = col_list\n",
    "\n",
    "#I split them with respect to the patients \n",
    "X_train_f_hc_split_0 = X_train_f_hc_ind_df.groupby('col5000')\n",
    "X_train_f_hc_split = [X_train_f_hc_split_0.get_group(x) for x in X_train_f_hc_split_0.groups]\n",
    "\n",
    "\n",
    "n_seg_hc_f_split = [len(X_train_f_hc_split[i]) for i in range(0, len(X_train_f_hc_split))]\n",
    "n_seg_hc_f_split"
   ]
  },
  {
   "cell_type": "code",
   "execution_count": 612,
   "metadata": {},
   "outputs": [
    {
     "data": {
      "text/plain": [
       "[784, 948]"
      ]
     },
     "execution_count": 612,
     "metadata": {},
     "output_type": "execute_result"
    }
   ],
   "source": [
    "###############\n",
    "#    MALE     #\n",
    "###############\n",
    "\n",
    "X_train_hc_m_df = pd.DataFrame(X_train_hc_m)\n",
    "final_index_pt_m_hc_train_df = pd.DataFrame(final_index_pt_m_hc_train)\n",
    "\n",
    "X_train_m_hc_ind_df = pd.concat([X_train_hc_m_df,\n",
    "                                 final_index_pt_m_hc_train_df] , ignore_index= True, axis = 1)\n",
    "\n",
    "col_list = ['col' + str(x) for x in range(0,X_train_m_hc_ind_df.shape[1])]\n",
    "X_train_m_hc_ind_df.columns = col_list\n",
    "\n",
    "#I split them with respect to the patients \n",
    "X_train_m_hc_split_0 = X_train_m_hc_ind_df.groupby('col5000')\n",
    "X_train_m_hc_split = [X_train_m_hc_split_0.get_group(x) for x in X_train_m_hc_split_0.groups]\n",
    "\n",
    "\n",
    "n_seg_hc_m_split = [len(X_train_m_hc_split[i]) for i in range(0, len(X_train_m_hc_split))]\n",
    "n_seg_hc_m_split"
   ]
  },
  {
   "cell_type": "code",
   "execution_count": 613,
   "metadata": {},
   "outputs": [
    {
     "data": {
      "text/plain": [
       "[range(0, 784), range(0, 948)]"
      ]
     },
     "execution_count": 613,
     "metadata": {},
     "output_type": "execute_result"
    }
   ],
   "source": [
    "ind_hc_f = [range(0,n_seg_hc_f_split[i]) for i in range(0, len(n_seg_hc_f_split))]\n",
    "ind_hc_m = [range(0,n_seg_hc_m_split[i]) for i in range(0, len(n_seg_hc_m_split))]\n",
    "\n",
    "ind_hc_m"
   ]
  },
  {
   "cell_type": "code",
   "execution_count": 614,
   "metadata": {},
   "outputs": [
    {
     "name": "stdout",
     "output_type": "stream",
     "text": [
      "0.9970099255930638\n"
     ]
    }
   ],
   "source": [
    "#NOTE: I KEPT min_n and new_min_f\n",
    "random.seed(1)\n",
    "\n",
    "rand_ind_hc_m = [random.sample( ind_hc_m[i],  k = N_m) for i in range(0, len(ind_hc_m))]\n",
    "rand_ind_hc_f = [random.sample( ind_hc_f[i],  k = N_f) for i in range(0, len(ind_hc_f))]\n",
    "\n",
    "print(random.random())#0.9970099255930638"
   ]
  },
  {
   "cell_type": "code",
   "execution_count": 615,
   "metadata": {
    "scrolled": false
   },
   "outputs": [
    {
     "data": {
      "text/plain": [
       "[372, 372]"
      ]
     },
     "execution_count": 615,
     "metadata": {},
     "output_type": "execute_result"
    }
   ],
   "source": [
    "#check\n",
    "[len(rand_ind_hc_m[i]) for i in range(0, len(rand_ind_hc_m))]"
   ]
  },
  {
   "cell_type": "code",
   "execution_count": 616,
   "metadata": {
    "collapsed": true
   },
   "outputs": [
    {
     "data": {
      "text/plain": [
       "[442,\n",
       " 442,\n",
       " 442,\n",
       " 442,\n",
       " 442,\n",
       " 442,\n",
       " 442,\n",
       " 442,\n",
       " 442,\n",
       " 442,\n",
       " 442,\n",
       " 442,\n",
       " 442,\n",
       " 442,\n",
       " 442,\n",
       " 442,\n",
       " 442,\n",
       " 442,\n",
       " 442]"
      ]
     },
     "execution_count": 616,
     "metadata": {},
     "output_type": "execute_result"
    }
   ],
   "source": [
    "#check\n",
    "[len(rand_ind_hc_f[i]) for i in range(0, len(rand_ind_hc_f))]"
   ]
  },
  {
   "cell_type": "code",
   "execution_count": 617,
   "metadata": {},
   "outputs": [
    {
     "data": {
      "text/plain": [
       "19"
      ]
     },
     "execution_count": 617,
     "metadata": {},
     "output_type": "execute_result"
    }
   ],
   "source": [
    "len(rand_ind_hc_f)"
   ]
  },
  {
   "cell_type": "code",
   "execution_count": 618,
   "metadata": {},
   "outputs": [],
   "source": [
    "rand_ind_hc_sorted_f = [sorted(rand_ind_hc_f[i]) for i in range(0,len(rand_ind_hc_f))]\n",
    "rand_ind_hc_sorted_m = [sorted(rand_ind_hc_m[i]) for i in range(0,len(rand_ind_hc_m))]"
   ]
  },
  {
   "cell_type": "code",
   "execution_count": 619,
   "metadata": {},
   "outputs": [],
   "source": [
    "X_hc_f_split = [X_train_f_hc_split[i].iloc[rand_ind_hc_sorted_f[i], :].reset_index() for i in range(0, len(X_train_f_hc_split))]\n",
    "X_hc_m_split = [X_train_m_hc_split[i].iloc[rand_ind_hc_sorted_m[i], :].reset_index() for i in range(0, len(X_train_m_hc_split))]"
   ]
  },
  {
   "cell_type": "code",
   "execution_count": 620,
   "metadata": {
    "collapsed": true
   },
   "outputs": [
    {
     "data": {
      "text/plain": [
       "[442,\n",
       " 442,\n",
       " 442,\n",
       " 442,\n",
       " 442,\n",
       " 442,\n",
       " 442,\n",
       " 442,\n",
       " 442,\n",
       " 442,\n",
       " 442,\n",
       " 442,\n",
       " 442,\n",
       " 442,\n",
       " 442,\n",
       " 442,\n",
       " 442,\n",
       " 442,\n",
       " 442]"
      ]
     },
     "execution_count": 620,
     "metadata": {},
     "output_type": "execute_result"
    }
   ],
   "source": [
    "#check\n",
    "[len(X_hc_f_split[i]) for i in range(0, len(X_hc_f_split))]"
   ]
  },
  {
   "cell_type": "code",
   "execution_count": 621,
   "metadata": {},
   "outputs": [
    {
     "data": {
      "text/plain": [
       "[372, 372]"
      ]
     },
     "execution_count": 621,
     "metadata": {},
     "output_type": "execute_result"
    }
   ],
   "source": [
    "#check\n",
    "[len(X_hc_m_split[i]) for i in range(0, len(X_hc_m_split))]"
   ]
  },
  {
   "cell_type": "markdown",
   "metadata": {},
   "source": [
    "### 4) Randomly select one one speaker to leave out for the testing set\n"
   ]
  },
  {
   "cell_type": "code",
   "execution_count": null,
   "metadata": {},
   "outputs": [],
   "source": [
    "######################################################################\n",
    "#NOW RANDOMLY SELECT ONE SPEAKER FOR THE LEAVE ONE OUT IN EACH HC SET#\n",
    "######################################################################\n"
   ]
  },
  {
   "cell_type": "code",
   "execution_count": 622,
   "metadata": {},
   "outputs": [
    {
     "data": {
      "text/html": [
       "<div>\n",
       "<style scoped>\n",
       "    .dataframe tbody tr th:only-of-type {\n",
       "        vertical-align: middle;\n",
       "    }\n",
       "\n",
       "    .dataframe tbody tr th {\n",
       "        vertical-align: top;\n",
       "    }\n",
       "\n",
       "    .dataframe thead th {\n",
       "        text-align: right;\n",
       "    }\n",
       "</style>\n",
       "<table border=\"1\" class=\"dataframe\">\n",
       "  <thead>\n",
       "    <tr style=\"text-align: right;\">\n",
       "      <th></th>\n",
       "      <th>Patient_N</th>\n",
       "    </tr>\n",
       "  </thead>\n",
       "  <tbody>\n",
       "    <tr>\n",
       "      <th>0</th>\n",
       "      <td>0</td>\n",
       "    </tr>\n",
       "    <tr>\n",
       "      <th>1</th>\n",
       "      <td>1</td>\n",
       "    </tr>\n",
       "  </tbody>\n",
       "</table>\n",
       "</div>"
      ],
      "text/plain": [
       "   Patient_N\n",
       "0          0\n",
       "1          1"
      ]
     },
     "execution_count": 622,
     "metadata": {},
     "output_type": "execute_result"
    }
   ],
   "source": [
    "hc_df_m = pd.DataFrame( np.array([[ 0 ], \n",
    "                        [ 1 ] ]),                      \n",
    "         columns =  [\"Patient_N\"])\n",
    "\n",
    "hc_df_m"
   ]
  },
  {
   "cell_type": "code",
   "execution_count": 623,
   "metadata": {},
   "outputs": [
    {
     "data": {
      "text/html": [
       "<div>\n",
       "<style scoped>\n",
       "    .dataframe tbody tr th:only-of-type {\n",
       "        vertical-align: middle;\n",
       "    }\n",
       "\n",
       "    .dataframe tbody tr th {\n",
       "        vertical-align: top;\n",
       "    }\n",
       "\n",
       "    .dataframe thead th {\n",
       "        text-align: right;\n",
       "    }\n",
       "</style>\n",
       "<table border=\"1\" class=\"dataframe\">\n",
       "  <thead>\n",
       "    <tr style=\"text-align: right;\">\n",
       "      <th></th>\n",
       "      <th>Patient_N</th>\n",
       "    </tr>\n",
       "  </thead>\n",
       "  <tbody>\n",
       "    <tr>\n",
       "      <th>0</th>\n",
       "      <td>0</td>\n",
       "    </tr>\n",
       "    <tr>\n",
       "      <th>1</th>\n",
       "      <td>1</td>\n",
       "    </tr>\n",
       "    <tr>\n",
       "      <th>2</th>\n",
       "      <td>2</td>\n",
       "    </tr>\n",
       "    <tr>\n",
       "      <th>3</th>\n",
       "      <td>3</td>\n",
       "    </tr>\n",
       "    <tr>\n",
       "      <th>4</th>\n",
       "      <td>4</td>\n",
       "    </tr>\n",
       "    <tr>\n",
       "      <th>5</th>\n",
       "      <td>5</td>\n",
       "    </tr>\n",
       "    <tr>\n",
       "      <th>6</th>\n",
       "      <td>6</td>\n",
       "    </tr>\n",
       "    <tr>\n",
       "      <th>7</th>\n",
       "      <td>7</td>\n",
       "    </tr>\n",
       "    <tr>\n",
       "      <th>8</th>\n",
       "      <td>8</td>\n",
       "    </tr>\n",
       "    <tr>\n",
       "      <th>9</th>\n",
       "      <td>9</td>\n",
       "    </tr>\n",
       "    <tr>\n",
       "      <th>10</th>\n",
       "      <td>10</td>\n",
       "    </tr>\n",
       "    <tr>\n",
       "      <th>11</th>\n",
       "      <td>11</td>\n",
       "    </tr>\n",
       "    <tr>\n",
       "      <th>12</th>\n",
       "      <td>12</td>\n",
       "    </tr>\n",
       "    <tr>\n",
       "      <th>13</th>\n",
       "      <td>13</td>\n",
       "    </tr>\n",
       "    <tr>\n",
       "      <th>14</th>\n",
       "      <td>14</td>\n",
       "    </tr>\n",
       "    <tr>\n",
       "      <th>15</th>\n",
       "      <td>15</td>\n",
       "    </tr>\n",
       "    <tr>\n",
       "      <th>16</th>\n",
       "      <td>16</td>\n",
       "    </tr>\n",
       "    <tr>\n",
       "      <th>17</th>\n",
       "      <td>17</td>\n",
       "    </tr>\n",
       "    <tr>\n",
       "      <th>18</th>\n",
       "      <td>18</td>\n",
       "    </tr>\n",
       "  </tbody>\n",
       "</table>\n",
       "</div>"
      ],
      "text/plain": [
       "    Patient_N\n",
       "0           0\n",
       "1           1\n",
       "2           2\n",
       "3           3\n",
       "4           4\n",
       "5           5\n",
       "6           6\n",
       "7           7\n",
       "8           8\n",
       "9           9\n",
       "10         10\n",
       "11         11\n",
       "12         12\n",
       "13         13\n",
       "14         14\n",
       "15         15\n",
       "16         16\n",
       "17         17\n",
       "18         18"
      ]
     },
     "execution_count": 623,
     "metadata": {},
     "output_type": "execute_result"
    }
   ],
   "source": [
    "hc_df_f = pd.DataFrame( np.array([[ 0 ], \n",
    "                        [ 1 ], \n",
    "                        [ 2 ],\n",
    "                        [ 3 ], \n",
    "                        [ 4 ],\n",
    "                        [ 5 ],\n",
    "                        [ 6 ], \n",
    "                        [ 7 ],\n",
    "                        [ 8 ],\n",
    "                        [ 9 ],\n",
    "                        [ 10 ], \n",
    "                        [ 11 ],\n",
    "                        [ 12 ],\n",
    "                        [ 13 ],\n",
    "                        [ 14 ],\n",
    "                        [ 15 ],\n",
    "                        [ 16 ],\n",
    "                        [ 17 ],\n",
    "                        [ 18 ]   ]),                      \n",
    "         columns = [ \"Patient_N\"])\n",
    "\n",
    "hc_df_f"
   ]
  },
  {
   "cell_type": "code",
   "execution_count": 625,
   "metadata": {},
   "outputs": [
    {
     "data": {
      "text/html": [
       "<div>\n",
       "<style scoped>\n",
       "    .dataframe tbody tr th:only-of-type {\n",
       "        vertical-align: middle;\n",
       "    }\n",
       "\n",
       "    .dataframe tbody tr th {\n",
       "        vertical-align: top;\n",
       "    }\n",
       "\n",
       "    .dataframe thead th {\n",
       "        text-align: right;\n",
       "    }\n",
       "</style>\n",
       "<table border=\"1\" class=\"dataframe\">\n",
       "  <thead>\n",
       "    <tr style=\"text-align: right;\">\n",
       "      <th></th>\n",
       "      <th>Patient_N</th>\n",
       "    </tr>\n",
       "  </thead>\n",
       "  <tbody>\n",
       "    <tr>\n",
       "      <th>0</th>\n",
       "      <td>0</td>\n",
       "    </tr>\n",
       "  </tbody>\n",
       "</table>\n",
       "</div>"
      ],
      "text/plain": [
       "   Patient_N\n",
       "0          0"
      ]
     },
     "execution_count": 625,
     "metadata": {},
     "output_type": "execute_result"
    }
   ],
   "source": [
    "np.random.seed(1) \n",
    "\n",
    "test_patients_hc_m = hc_df_m.sample(frac = 1.0).head(1)\n",
    "test_patients_hc_m"
   ]
  },
  {
   "cell_type": "code",
   "execution_count": 1070,
   "metadata": {},
   "outputs": [
    {
     "data": {
      "text/html": [
       "<div>\n",
       "<style scoped>\n",
       "    .dataframe tbody tr th:only-of-type {\n",
       "        vertical-align: middle;\n",
       "    }\n",
       "\n",
       "    .dataframe tbody tr th {\n",
       "        vertical-align: top;\n",
       "    }\n",
       "\n",
       "    .dataframe thead th {\n",
       "        text-align: right;\n",
       "    }\n",
       "</style>\n",
       "<table border=\"1\" class=\"dataframe\">\n",
       "  <thead>\n",
       "    <tr style=\"text-align: right;\">\n",
       "      <th></th>\n",
       "      <th>Patient_N</th>\n",
       "    </tr>\n",
       "  </thead>\n",
       "  <tbody>\n",
       "    <tr>\n",
       "      <th>4</th>\n",
       "      <td>4</td>\n",
       "    </tr>\n",
       "  </tbody>\n",
       "</table>\n",
       "</div>"
      ],
      "text/plain": [
       "   Patient_N\n",
       "4          4"
      ]
     },
     "execution_count": 1070,
     "metadata": {},
     "output_type": "execute_result"
    }
   ],
   "source": [
    "np.random.seed(52) # I already got 10,3, 9, 12, 6, 2, 5,1,14, 18, 11, 15,13, 7, 0, 17, 16,4\n",
    "\n",
    "test_patients_hc_f = hc_df_f.sample(frac = 1.0).head(1)\n",
    "test_patients_hc_f"
   ]
  },
  {
   "cell_type": "code",
   "execution_count": 1071,
   "metadata": {},
   "outputs": [],
   "source": [
    "new_X_hc_f_split_train = list(X_hc_f_split)\n",
    "new_X_hc_f_split_train = [i for j, i in enumerate(new_X_hc_f_split_train) if j not in np.array(test_patients_hc_f[\"Patient_N\"])]"
   ]
  },
  {
   "cell_type": "code",
   "execution_count": 1072,
   "metadata": {},
   "outputs": [
    {
     "data": {
      "text/plain": [
       "18"
      ]
     },
     "execution_count": 1072,
     "metadata": {},
     "output_type": "execute_result"
    }
   ],
   "source": [
    "len(new_X_hc_f_split_train)"
   ]
  },
  {
   "cell_type": "code",
   "execution_count": 1073,
   "metadata": {},
   "outputs": [
    {
     "data": {
      "text/plain": [
       "[{0},\n",
       " {1},\n",
       " {2},\n",
       " {3},\n",
       " {5},\n",
       " {6},\n",
       " {7},\n",
       " {8},\n",
       " {9},\n",
       " {10},\n",
       " {11},\n",
       " {12},\n",
       " {13},\n",
       " {14},\n",
       " {15},\n",
       " {16},\n",
       " {17},\n",
       " {18}]"
      ]
     },
     "execution_count": 1073,
     "metadata": {},
     "output_type": "execute_result"
    }
   ],
   "source": [
    "#chekc that the left patients are 0,1,2,3,4,5,6,7,8,9,11,12,13,14,15,16,17,18\n",
    "[set(new_X_hc_f_split_train[i]['col5000']) for i in range(0,len(new_X_hc_f_split_train))]"
   ]
  },
  {
   "cell_type": "code",
   "execution_count": 1074,
   "metadata": {},
   "outputs": [],
   "source": [
    "new_X_hc_m_split_train = list(X_hc_m_split)\n",
    "new_X_hc_m_split_train = [i for j, i in enumerate(new_X_hc_m_split_train) if j not in np.array(test_patients_hc_m[\"Patient_N\"])]"
   ]
  },
  {
   "cell_type": "code",
   "execution_count": 1075,
   "metadata": {},
   "outputs": [
    {
     "data": {
      "text/plain": [
       "1"
      ]
     },
     "execution_count": 1075,
     "metadata": {},
     "output_type": "execute_result"
    }
   ],
   "source": [
    "len(new_X_hc_m_split_train)"
   ]
  },
  {
   "cell_type": "code",
   "execution_count": 1076,
   "metadata": {},
   "outputs": [
    {
     "data": {
      "text/plain": [
       "{1}"
      ]
     },
     "execution_count": 1076,
     "metadata": {},
     "output_type": "execute_result"
    }
   ],
   "source": [
    "#chekc that the left patients is number 0\n",
    "set(new_X_hc_m_split_train[0]['col5000'] )"
   ]
  },
  {
   "cell_type": "code",
   "execution_count": 1077,
   "metadata": {},
   "outputs": [],
   "source": [
    "new_X_hc_f_split_test = list(X_hc_f_split)\n",
    "new_X_hc_f_split_test = [i for j, i in enumerate(new_X_hc_f_split_test) if j in np.array(test_patients_hc_f[\"Patient_N\"])]"
   ]
  },
  {
   "cell_type": "code",
   "execution_count": 1078,
   "metadata": {},
   "outputs": [
    {
     "data": {
      "text/plain": [
       "1"
      ]
     },
     "execution_count": 1078,
     "metadata": {},
     "output_type": "execute_result"
    }
   ],
   "source": [
    "len(new_X_hc_f_split_test)"
   ]
  },
  {
   "cell_type": "code",
   "execution_count": 1079,
   "metadata": {},
   "outputs": [
    {
     "data": {
      "text/plain": [
       "{4}"
      ]
     },
     "execution_count": 1079,
     "metadata": {},
     "output_type": "execute_result"
    }
   ],
   "source": [
    "set(new_X_hc_f_split_test[0]['col5000']) #chekc that the left patient is number 10"
   ]
  },
  {
   "cell_type": "code",
   "execution_count": 1080,
   "metadata": {},
   "outputs": [],
   "source": [
    "new_X_hc_m_split_test = list(X_hc_m_split)\n",
    "new_X_hc_m_split_test = [i for j, i in enumerate(new_X_hc_m_split_test) if j in np.array(test_patients_hc_m[\"Patient_N\"])]"
   ]
  },
  {
   "cell_type": "code",
   "execution_count": 1081,
   "metadata": {},
   "outputs": [
    {
     "data": {
      "text/plain": [
       "1"
      ]
     },
     "execution_count": 1081,
     "metadata": {},
     "output_type": "execute_result"
    }
   ],
   "source": [
    "len(new_X_hc_m_split_test)"
   ]
  },
  {
   "cell_type": "code",
   "execution_count": 1082,
   "metadata": {},
   "outputs": [
    {
     "data": {
      "text/plain": [
       "{0}"
      ]
     },
     "execution_count": 1082,
     "metadata": {},
     "output_type": "execute_result"
    }
   ],
   "source": [
    "set(new_X_hc_m_split_test[0]['col5000'])#chekc that the left patient is 1"
   ]
  },
  {
   "cell_type": "markdown",
   "metadata": {},
   "source": [
    "### 5) Extract 80% of the data for the traning set and 20% of the data for the testing"
   ]
  },
  {
   "cell_type": "code",
   "execution_count": 84,
   "metadata": {},
   "outputs": [],
   "source": [
    "################\n",
    "#     MALE     #\n",
    "################"
   ]
  },
  {
   "cell_type": "code",
   "execution_count": 639,
   "metadata": {},
   "outputs": [
    {
     "data": {
      "text/html": [
       "<div>\n",
       "<style scoped>\n",
       "    .dataframe tbody tr th:only-of-type {\n",
       "        vertical-align: middle;\n",
       "    }\n",
       "\n",
       "    .dataframe tbody tr th {\n",
       "        vertical-align: top;\n",
       "    }\n",
       "\n",
       "    .dataframe thead th {\n",
       "        text-align: right;\n",
       "    }\n",
       "</style>\n",
       "<table border=\"1\" class=\"dataframe\">\n",
       "  <thead>\n",
       "    <tr style=\"text-align: right;\">\n",
       "      <th></th>\n",
       "      <th>index</th>\n",
       "      <th>col0</th>\n",
       "      <th>col1</th>\n",
       "      <th>col2</th>\n",
       "      <th>col3</th>\n",
       "      <th>col4</th>\n",
       "      <th>col5</th>\n",
       "      <th>col6</th>\n",
       "      <th>col7</th>\n",
       "      <th>col8</th>\n",
       "      <th>...</th>\n",
       "      <th>col4991</th>\n",
       "      <th>col4992</th>\n",
       "      <th>col4993</th>\n",
       "      <th>col4994</th>\n",
       "      <th>col4995</th>\n",
       "      <th>col4996</th>\n",
       "      <th>col4997</th>\n",
       "      <th>col4998</th>\n",
       "      <th>col4999</th>\n",
       "      <th>col5000</th>\n",
       "    </tr>\n",
       "  </thead>\n",
       "  <tbody>\n",
       "    <tr>\n",
       "      <th>0</th>\n",
       "      <td>784</td>\n",
       "      <td>0.001068</td>\n",
       "      <td>0.001282</td>\n",
       "      <td>0.001068</td>\n",
       "      <td>0.001190</td>\n",
       "      <td>0.001160</td>\n",
       "      <td>0.001099</td>\n",
       "      <td>0.001068</td>\n",
       "      <td>0.001038</td>\n",
       "      <td>0.001282</td>\n",
       "      <td>...</td>\n",
       "      <td>0.000275</td>\n",
       "      <td>0.000122</td>\n",
       "      <td>0.000092</td>\n",
       "      <td>0.000397</td>\n",
       "      <td>0.000061</td>\n",
       "      <td>0.000397</td>\n",
       "      <td>0.000153</td>\n",
       "      <td>0.000183</td>\n",
       "      <td>0.000214</td>\n",
       "      <td>1</td>\n",
       "    </tr>\n",
       "    <tr>\n",
       "      <th>1</th>\n",
       "      <td>787</td>\n",
       "      <td>-0.005188</td>\n",
       "      <td>-0.005646</td>\n",
       "      <td>-0.005829</td>\n",
       "      <td>-0.006042</td>\n",
       "      <td>-0.006592</td>\n",
       "      <td>-0.006592</td>\n",
       "      <td>-0.006775</td>\n",
       "      <td>-0.007080</td>\n",
       "      <td>-0.007843</td>\n",
       "      <td>...</td>\n",
       "      <td>0.005249</td>\n",
       "      <td>0.005554</td>\n",
       "      <td>0.006012</td>\n",
       "      <td>0.005920</td>\n",
       "      <td>0.006653</td>\n",
       "      <td>0.006775</td>\n",
       "      <td>0.006683</td>\n",
       "      <td>0.007568</td>\n",
       "      <td>0.007721</td>\n",
       "      <td>1</td>\n",
       "    </tr>\n",
       "    <tr>\n",
       "      <th>2</th>\n",
       "      <td>788</td>\n",
       "      <td>0.007355</td>\n",
       "      <td>0.008057</td>\n",
       "      <td>0.008392</td>\n",
       "      <td>0.008179</td>\n",
       "      <td>0.008850</td>\n",
       "      <td>0.008972</td>\n",
       "      <td>0.009308</td>\n",
       "      <td>0.008972</td>\n",
       "      <td>0.008789</td>\n",
       "      <td>...</td>\n",
       "      <td>0.001404</td>\n",
       "      <td>0.000793</td>\n",
       "      <td>0.004486</td>\n",
       "      <td>0.007996</td>\n",
       "      <td>0.003662</td>\n",
       "      <td>0.002716</td>\n",
       "      <td>0.003632</td>\n",
       "      <td>0.002838</td>\n",
       "      <td>0.004791</td>\n",
       "      <td>1</td>\n",
       "    </tr>\n",
       "    <tr>\n",
       "      <th>3</th>\n",
       "      <td>791</td>\n",
       "      <td>0.061493</td>\n",
       "      <td>-0.017151</td>\n",
       "      <td>-0.068817</td>\n",
       "      <td>-0.036499</td>\n",
       "      <td>0.052460</td>\n",
       "      <td>0.087250</td>\n",
       "      <td>0.068726</td>\n",
       "      <td>-0.011841</td>\n",
       "      <td>-0.068787</td>\n",
       "      <td>...</td>\n",
       "      <td>-0.000183</td>\n",
       "      <td>0.000549</td>\n",
       "      <td>0.001648</td>\n",
       "      <td>-0.000092</td>\n",
       "      <td>-0.001526</td>\n",
       "      <td>-0.000519</td>\n",
       "      <td>-0.000427</td>\n",
       "      <td>0.000488</td>\n",
       "      <td>0.001160</td>\n",
       "      <td>1</td>\n",
       "    </tr>\n",
       "    <tr>\n",
       "      <th>4</th>\n",
       "      <td>794</td>\n",
       "      <td>0.053864</td>\n",
       "      <td>0.053925</td>\n",
       "      <td>0.056458</td>\n",
       "      <td>0.052460</td>\n",
       "      <td>0.051361</td>\n",
       "      <td>0.056854</td>\n",
       "      <td>0.057709</td>\n",
       "      <td>0.058716</td>\n",
       "      <td>0.061035</td>\n",
       "      <td>...</td>\n",
       "      <td>-0.012573</td>\n",
       "      <td>-0.012482</td>\n",
       "      <td>-0.012756</td>\n",
       "      <td>-0.011414</td>\n",
       "      <td>-0.010651</td>\n",
       "      <td>-0.008820</td>\n",
       "      <td>-0.008942</td>\n",
       "      <td>-0.009094</td>\n",
       "      <td>-0.008392</td>\n",
       "      <td>1</td>\n",
       "    </tr>\n",
       "    <tr>\n",
       "      <th>...</th>\n",
       "      <td>...</td>\n",
       "      <td>...</td>\n",
       "      <td>...</td>\n",
       "      <td>...</td>\n",
       "      <td>...</td>\n",
       "      <td>...</td>\n",
       "      <td>...</td>\n",
       "      <td>...</td>\n",
       "      <td>...</td>\n",
       "      <td>...</td>\n",
       "      <td>...</td>\n",
       "      <td>...</td>\n",
       "      <td>...</td>\n",
       "      <td>...</td>\n",
       "      <td>...</td>\n",
       "      <td>...</td>\n",
       "      <td>...</td>\n",
       "      <td>...</td>\n",
       "      <td>...</td>\n",
       "      <td>...</td>\n",
       "      <td>...</td>\n",
       "    </tr>\n",
       "    <tr>\n",
       "      <th>367</th>\n",
       "      <td>1721</td>\n",
       "      <td>-0.000549</td>\n",
       "      <td>-0.000458</td>\n",
       "      <td>-0.000427</td>\n",
       "      <td>-0.000183</td>\n",
       "      <td>0.000000</td>\n",
       "      <td>0.000244</td>\n",
       "      <td>0.000519</td>\n",
       "      <td>-0.000061</td>\n",
       "      <td>0.000275</td>\n",
       "      <td>...</td>\n",
       "      <td>0.001160</td>\n",
       "      <td>0.000671</td>\n",
       "      <td>0.001129</td>\n",
       "      <td>0.000793</td>\n",
       "      <td>0.001038</td>\n",
       "      <td>0.000793</td>\n",
       "      <td>0.000916</td>\n",
       "      <td>0.000977</td>\n",
       "      <td>0.000885</td>\n",
       "      <td>1</td>\n",
       "    </tr>\n",
       "    <tr>\n",
       "      <th>368</th>\n",
       "      <td>1723</td>\n",
       "      <td>0.001221</td>\n",
       "      <td>0.000397</td>\n",
       "      <td>0.000763</td>\n",
       "      <td>0.000977</td>\n",
       "      <td>0.000305</td>\n",
       "      <td>0.000793</td>\n",
       "      <td>0.000244</td>\n",
       "      <td>0.000519</td>\n",
       "      <td>0.000732</td>\n",
       "      <td>...</td>\n",
       "      <td>0.000153</td>\n",
       "      <td>-0.000916</td>\n",
       "      <td>-0.000793</td>\n",
       "      <td>-0.000305</td>\n",
       "      <td>-0.000702</td>\n",
       "      <td>-0.000641</td>\n",
       "      <td>-0.000458</td>\n",
       "      <td>-0.000397</td>\n",
       "      <td>-0.000641</td>\n",
       "      <td>1</td>\n",
       "    </tr>\n",
       "    <tr>\n",
       "      <th>369</th>\n",
       "      <td>1725</td>\n",
       "      <td>0.000916</td>\n",
       "      <td>0.001984</td>\n",
       "      <td>0.003326</td>\n",
       "      <td>0.004669</td>\n",
       "      <td>0.005707</td>\n",
       "      <td>0.006531</td>\n",
       "      <td>0.007080</td>\n",
       "      <td>0.007355</td>\n",
       "      <td>0.007385</td>\n",
       "      <td>...</td>\n",
       "      <td>-0.000458</td>\n",
       "      <td>-0.000061</td>\n",
       "      <td>-0.000031</td>\n",
       "      <td>0.000183</td>\n",
       "      <td>-0.000427</td>\n",
       "      <td>0.000061</td>\n",
       "      <td>0.000092</td>\n",
       "      <td>-0.000336</td>\n",
       "      <td>0.000977</td>\n",
       "      <td>1</td>\n",
       "    </tr>\n",
       "    <tr>\n",
       "      <th>370</th>\n",
       "      <td>1729</td>\n",
       "      <td>0.000244</td>\n",
       "      <td>-0.000519</td>\n",
       "      <td>0.000427</td>\n",
       "      <td>-0.000427</td>\n",
       "      <td>0.000580</td>\n",
       "      <td>-0.000977</td>\n",
       "      <td>0.000519</td>\n",
       "      <td>-0.000336</td>\n",
       "      <td>0.000183</td>\n",
       "      <td>...</td>\n",
       "      <td>0.001251</td>\n",
       "      <td>0.000549</td>\n",
       "      <td>0.001892</td>\n",
       "      <td>0.000580</td>\n",
       "      <td>0.001190</td>\n",
       "      <td>0.001129</td>\n",
       "      <td>0.000336</td>\n",
       "      <td>0.001465</td>\n",
       "      <td>0.000580</td>\n",
       "      <td>1</td>\n",
       "    </tr>\n",
       "    <tr>\n",
       "      <th>371</th>\n",
       "      <td>1730</td>\n",
       "      <td>0.001434</td>\n",
       "      <td>0.000977</td>\n",
       "      <td>0.001099</td>\n",
       "      <td>0.001526</td>\n",
       "      <td>0.001099</td>\n",
       "      <td>0.001221</td>\n",
       "      <td>0.001495</td>\n",
       "      <td>0.001434</td>\n",
       "      <td>0.001434</td>\n",
       "      <td>...</td>\n",
       "      <td>-0.001221</td>\n",
       "      <td>-0.001343</td>\n",
       "      <td>-0.001099</td>\n",
       "      <td>-0.001556</td>\n",
       "      <td>-0.001190</td>\n",
       "      <td>-0.000916</td>\n",
       "      <td>-0.001404</td>\n",
       "      <td>-0.001160</td>\n",
       "      <td>-0.000977</td>\n",
       "      <td>1</td>\n",
       "    </tr>\n",
       "  </tbody>\n",
       "</table>\n",
       "<p>372 rows × 5002 columns</p>\n",
       "</div>"
      ],
      "text/plain": [
       "     index      col0      col1      col2      col3      col4      col5  \\\n",
       "0      784  0.001068  0.001282  0.001068  0.001190  0.001160  0.001099   \n",
       "1      787 -0.005188 -0.005646 -0.005829 -0.006042 -0.006592 -0.006592   \n",
       "2      788  0.007355  0.008057  0.008392  0.008179  0.008850  0.008972   \n",
       "3      791  0.061493 -0.017151 -0.068817 -0.036499  0.052460  0.087250   \n",
       "4      794  0.053864  0.053925  0.056458  0.052460  0.051361  0.056854   \n",
       "..     ...       ...       ...       ...       ...       ...       ...   \n",
       "367   1721 -0.000549 -0.000458 -0.000427 -0.000183  0.000000  0.000244   \n",
       "368   1723  0.001221  0.000397  0.000763  0.000977  0.000305  0.000793   \n",
       "369   1725  0.000916  0.001984  0.003326  0.004669  0.005707  0.006531   \n",
       "370   1729  0.000244 -0.000519  0.000427 -0.000427  0.000580 -0.000977   \n",
       "371   1730  0.001434  0.000977  0.001099  0.001526  0.001099  0.001221   \n",
       "\n",
       "         col6      col7      col8  ...   col4991   col4992   col4993  \\\n",
       "0    0.001068  0.001038  0.001282  ...  0.000275  0.000122  0.000092   \n",
       "1   -0.006775 -0.007080 -0.007843  ...  0.005249  0.005554  0.006012   \n",
       "2    0.009308  0.008972  0.008789  ...  0.001404  0.000793  0.004486   \n",
       "3    0.068726 -0.011841 -0.068787  ... -0.000183  0.000549  0.001648   \n",
       "4    0.057709  0.058716  0.061035  ... -0.012573 -0.012482 -0.012756   \n",
       "..        ...       ...       ...  ...       ...       ...       ...   \n",
       "367  0.000519 -0.000061  0.000275  ...  0.001160  0.000671  0.001129   \n",
       "368  0.000244  0.000519  0.000732  ...  0.000153 -0.000916 -0.000793   \n",
       "369  0.007080  0.007355  0.007385  ... -0.000458 -0.000061 -0.000031   \n",
       "370  0.000519 -0.000336  0.000183  ...  0.001251  0.000549  0.001892   \n",
       "371  0.001495  0.001434  0.001434  ... -0.001221 -0.001343 -0.001099   \n",
       "\n",
       "      col4994   col4995   col4996   col4997   col4998   col4999  col5000  \n",
       "0    0.000397  0.000061  0.000397  0.000153  0.000183  0.000214        1  \n",
       "1    0.005920  0.006653  0.006775  0.006683  0.007568  0.007721        1  \n",
       "2    0.007996  0.003662  0.002716  0.003632  0.002838  0.004791        1  \n",
       "3   -0.000092 -0.001526 -0.000519 -0.000427  0.000488  0.001160        1  \n",
       "4   -0.011414 -0.010651 -0.008820 -0.008942 -0.009094 -0.008392        1  \n",
       "..        ...       ...       ...       ...       ...       ...      ...  \n",
       "367  0.000793  0.001038  0.000793  0.000916  0.000977  0.000885        1  \n",
       "368 -0.000305 -0.000702 -0.000641 -0.000458 -0.000397 -0.000641        1  \n",
       "369  0.000183 -0.000427  0.000061  0.000092 -0.000336  0.000977        1  \n",
       "370  0.000580  0.001190  0.001129  0.000336  0.001465  0.000580        1  \n",
       "371 -0.001556 -0.001190 -0.000916 -0.001404 -0.001160 -0.000977        1  \n",
       "\n",
       "[372 rows x 5002 columns]"
      ]
     },
     "execution_count": 639,
     "metadata": {},
     "output_type": "execute_result"
    }
   ],
   "source": [
    "new_X_hc_m_split_train[0] # I extract 80% of 372 --> 298"
   ]
  },
  {
   "cell_type": "code",
   "execution_count": 640,
   "metadata": {},
   "outputs": [
    {
     "data": {
      "text/html": [
       "<div>\n",
       "<style scoped>\n",
       "    .dataframe tbody tr th:only-of-type {\n",
       "        vertical-align: middle;\n",
       "    }\n",
       "\n",
       "    .dataframe tbody tr th {\n",
       "        vertical-align: top;\n",
       "    }\n",
       "\n",
       "    .dataframe thead th {\n",
       "        text-align: right;\n",
       "    }\n",
       "</style>\n",
       "<table border=\"1\" class=\"dataframe\">\n",
       "  <thead>\n",
       "    <tr style=\"text-align: right;\">\n",
       "      <th></th>\n",
       "      <th>index</th>\n",
       "      <th>col0</th>\n",
       "      <th>col1</th>\n",
       "      <th>col2</th>\n",
       "      <th>col3</th>\n",
       "      <th>col4</th>\n",
       "      <th>col5</th>\n",
       "      <th>col6</th>\n",
       "      <th>col7</th>\n",
       "      <th>col8</th>\n",
       "      <th>...</th>\n",
       "      <th>col4991</th>\n",
       "      <th>col4992</th>\n",
       "      <th>col4993</th>\n",
       "      <th>col4994</th>\n",
       "      <th>col4995</th>\n",
       "      <th>col4996</th>\n",
       "      <th>col4997</th>\n",
       "      <th>col4998</th>\n",
       "      <th>col4999</th>\n",
       "      <th>col5000</th>\n",
       "    </tr>\n",
       "  </thead>\n",
       "  <tbody>\n",
       "    <tr>\n",
       "      <th>0</th>\n",
       "      <td>1</td>\n",
       "      <td>-0.000885</td>\n",
       "      <td>-0.001099</td>\n",
       "      <td>-0.001373</td>\n",
       "      <td>-0.000763</td>\n",
       "      <td>-0.000946</td>\n",
       "      <td>-0.001465</td>\n",
       "      <td>-0.001190</td>\n",
       "      <td>-0.000977</td>\n",
       "      <td>-0.001312</td>\n",
       "      <td>...</td>\n",
       "      <td>-0.004181</td>\n",
       "      <td>-0.003784</td>\n",
       "      <td>-0.004272</td>\n",
       "      <td>-0.004181</td>\n",
       "      <td>-0.004059</td>\n",
       "      <td>-0.004059</td>\n",
       "      <td>-0.003906</td>\n",
       "      <td>-0.004272</td>\n",
       "      <td>-0.004150</td>\n",
       "      <td>0</td>\n",
       "    </tr>\n",
       "    <tr>\n",
       "      <th>1</th>\n",
       "      <td>2</td>\n",
       "      <td>-0.004211</td>\n",
       "      <td>-0.003998</td>\n",
       "      <td>-0.004242</td>\n",
       "      <td>-0.004120</td>\n",
       "      <td>-0.003876</td>\n",
       "      <td>-0.004303</td>\n",
       "      <td>-0.004608</td>\n",
       "      <td>-0.004333</td>\n",
       "      <td>-0.004242</td>\n",
       "      <td>...</td>\n",
       "      <td>-0.003357</td>\n",
       "      <td>-0.003143</td>\n",
       "      <td>-0.003021</td>\n",
       "      <td>-0.003632</td>\n",
       "      <td>-0.003418</td>\n",
       "      <td>-0.003052</td>\n",
       "      <td>-0.003571</td>\n",
       "      <td>-0.003601</td>\n",
       "      <td>-0.003143</td>\n",
       "      <td>0</td>\n",
       "    </tr>\n",
       "    <tr>\n",
       "      <th>2</th>\n",
       "      <td>5</td>\n",
       "      <td>0.022278</td>\n",
       "      <td>0.023499</td>\n",
       "      <td>0.025421</td>\n",
       "      <td>0.027161</td>\n",
       "      <td>0.028564</td>\n",
       "      <td>0.029236</td>\n",
       "      <td>0.029846</td>\n",
       "      <td>0.031952</td>\n",
       "      <td>0.035065</td>\n",
       "      <td>...</td>\n",
       "      <td>0.002930</td>\n",
       "      <td>0.000427</td>\n",
       "      <td>-0.000671</td>\n",
       "      <td>0.002106</td>\n",
       "      <td>0.004608</td>\n",
       "      <td>0.005859</td>\n",
       "      <td>-0.002533</td>\n",
       "      <td>-0.004974</td>\n",
       "      <td>0.000214</td>\n",
       "      <td>0</td>\n",
       "    </tr>\n",
       "    <tr>\n",
       "      <th>3</th>\n",
       "      <td>6</td>\n",
       "      <td>-0.001007</td>\n",
       "      <td>-0.000305</td>\n",
       "      <td>0.003601</td>\n",
       "      <td>0.005798</td>\n",
       "      <td>0.000549</td>\n",
       "      <td>-0.007721</td>\n",
       "      <td>-0.002899</td>\n",
       "      <td>0.003174</td>\n",
       "      <td>0.001953</td>\n",
       "      <td>...</td>\n",
       "      <td>0.003876</td>\n",
       "      <td>0.007019</td>\n",
       "      <td>0.007965</td>\n",
       "      <td>0.005463</td>\n",
       "      <td>0.004303</td>\n",
       "      <td>0.003845</td>\n",
       "      <td>0.003479</td>\n",
       "      <td>0.003601</td>\n",
       "      <td>0.004242</td>\n",
       "      <td>0</td>\n",
       "    </tr>\n",
       "    <tr>\n",
       "      <th>4</th>\n",
       "      <td>7</td>\n",
       "      <td>0.005829</td>\n",
       "      <td>0.006287</td>\n",
       "      <td>0.006165</td>\n",
       "      <td>0.006195</td>\n",
       "      <td>0.003876</td>\n",
       "      <td>0.000427</td>\n",
       "      <td>0.000092</td>\n",
       "      <td>0.002747</td>\n",
       "      <td>0.006989</td>\n",
       "      <td>...</td>\n",
       "      <td>-0.001373</td>\n",
       "      <td>-0.001404</td>\n",
       "      <td>-0.001434</td>\n",
       "      <td>-0.001831</td>\n",
       "      <td>-0.002014</td>\n",
       "      <td>-0.001831</td>\n",
       "      <td>-0.001831</td>\n",
       "      <td>-0.001831</td>\n",
       "      <td>-0.001862</td>\n",
       "      <td>0</td>\n",
       "    </tr>\n",
       "    <tr>\n",
       "      <th>...</th>\n",
       "      <td>...</td>\n",
       "      <td>...</td>\n",
       "      <td>...</td>\n",
       "      <td>...</td>\n",
       "      <td>...</td>\n",
       "      <td>...</td>\n",
       "      <td>...</td>\n",
       "      <td>...</td>\n",
       "      <td>...</td>\n",
       "      <td>...</td>\n",
       "      <td>...</td>\n",
       "      <td>...</td>\n",
       "      <td>...</td>\n",
       "      <td>...</td>\n",
       "      <td>...</td>\n",
       "      <td>...</td>\n",
       "      <td>...</td>\n",
       "      <td>...</td>\n",
       "      <td>...</td>\n",
       "      <td>...</td>\n",
       "      <td>...</td>\n",
       "    </tr>\n",
       "    <tr>\n",
       "      <th>367</th>\n",
       "      <td>779</td>\n",
       "      <td>0.003998</td>\n",
       "      <td>0.004333</td>\n",
       "      <td>0.004822</td>\n",
       "      <td>0.005310</td>\n",
       "      <td>0.006073</td>\n",
       "      <td>0.006256</td>\n",
       "      <td>0.006104</td>\n",
       "      <td>0.005798</td>\n",
       "      <td>0.005249</td>\n",
       "      <td>...</td>\n",
       "      <td>0.003448</td>\n",
       "      <td>0.003296</td>\n",
       "      <td>0.003143</td>\n",
       "      <td>0.003204</td>\n",
       "      <td>0.003265</td>\n",
       "      <td>0.003265</td>\n",
       "      <td>0.003235</td>\n",
       "      <td>0.003693</td>\n",
       "      <td>0.004028</td>\n",
       "      <td>0</td>\n",
       "    </tr>\n",
       "    <tr>\n",
       "      <th>368</th>\n",
       "      <td>780</td>\n",
       "      <td>0.004608</td>\n",
       "      <td>0.005066</td>\n",
       "      <td>0.005432</td>\n",
       "      <td>0.005463</td>\n",
       "      <td>0.005371</td>\n",
       "      <td>0.005829</td>\n",
       "      <td>0.005981</td>\n",
       "      <td>0.005890</td>\n",
       "      <td>0.005371</td>\n",
       "      <td>...</td>\n",
       "      <td>0.001129</td>\n",
       "      <td>0.001221</td>\n",
       "      <td>0.000275</td>\n",
       "      <td>-0.000244</td>\n",
       "      <td>0.000031</td>\n",
       "      <td>0.000580</td>\n",
       "      <td>0.000763</td>\n",
       "      <td>0.000061</td>\n",
       "      <td>0.000977</td>\n",
       "      <td>0</td>\n",
       "    </tr>\n",
       "    <tr>\n",
       "      <th>369</th>\n",
       "      <td>781</td>\n",
       "      <td>0.001038</td>\n",
       "      <td>0.000458</td>\n",
       "      <td>0.001038</td>\n",
       "      <td>0.001343</td>\n",
       "      <td>0.001282</td>\n",
       "      <td>0.000275</td>\n",
       "      <td>0.000824</td>\n",
       "      <td>0.000519</td>\n",
       "      <td>0.001404</td>\n",
       "      <td>...</td>\n",
       "      <td>-0.000183</td>\n",
       "      <td>0.000427</td>\n",
       "      <td>0.000916</td>\n",
       "      <td>0.000977</td>\n",
       "      <td>0.000671</td>\n",
       "      <td>0.000519</td>\n",
       "      <td>0.000458</td>\n",
       "      <td>0.000671</td>\n",
       "      <td>0.000732</td>\n",
       "      <td>0</td>\n",
       "    </tr>\n",
       "    <tr>\n",
       "      <th>370</th>\n",
       "      <td>782</td>\n",
       "      <td>0.001038</td>\n",
       "      <td>0.000946</td>\n",
       "      <td>0.000977</td>\n",
       "      <td>0.000641</td>\n",
       "      <td>0.000793</td>\n",
       "      <td>0.000916</td>\n",
       "      <td>0.001038</td>\n",
       "      <td>0.001190</td>\n",
       "      <td>0.000305</td>\n",
       "      <td>...</td>\n",
       "      <td>-0.000092</td>\n",
       "      <td>-0.000061</td>\n",
       "      <td>-0.000031</td>\n",
       "      <td>-0.000031</td>\n",
       "      <td>-0.000031</td>\n",
       "      <td>0.000122</td>\n",
       "      <td>0.000153</td>\n",
       "      <td>0.000183</td>\n",
       "      <td>0.000061</td>\n",
       "      <td>0</td>\n",
       "    </tr>\n",
       "    <tr>\n",
       "      <th>371</th>\n",
       "      <td>783</td>\n",
       "      <td>0.000244</td>\n",
       "      <td>0.000183</td>\n",
       "      <td>0.000122</td>\n",
       "      <td>-0.000061</td>\n",
       "      <td>0.000275</td>\n",
       "      <td>0.000214</td>\n",
       "      <td>0.000244</td>\n",
       "      <td>0.000275</td>\n",
       "      <td>0.000366</td>\n",
       "      <td>...</td>\n",
       "      <td>0.000763</td>\n",
       "      <td>0.000763</td>\n",
       "      <td>0.000916</td>\n",
       "      <td>0.000946</td>\n",
       "      <td>0.000793</td>\n",
       "      <td>0.000885</td>\n",
       "      <td>0.001129</td>\n",
       "      <td>0.000977</td>\n",
       "      <td>0.000793</td>\n",
       "      <td>0</td>\n",
       "    </tr>\n",
       "  </tbody>\n",
       "</table>\n",
       "<p>372 rows × 5002 columns</p>\n",
       "</div>"
      ],
      "text/plain": [
       "     index      col0      col1      col2      col3      col4      col5  \\\n",
       "0        1 -0.000885 -0.001099 -0.001373 -0.000763 -0.000946 -0.001465   \n",
       "1        2 -0.004211 -0.003998 -0.004242 -0.004120 -0.003876 -0.004303   \n",
       "2        5  0.022278  0.023499  0.025421  0.027161  0.028564  0.029236   \n",
       "3        6 -0.001007 -0.000305  0.003601  0.005798  0.000549 -0.007721   \n",
       "4        7  0.005829  0.006287  0.006165  0.006195  0.003876  0.000427   \n",
       "..     ...       ...       ...       ...       ...       ...       ...   \n",
       "367    779  0.003998  0.004333  0.004822  0.005310  0.006073  0.006256   \n",
       "368    780  0.004608  0.005066  0.005432  0.005463  0.005371  0.005829   \n",
       "369    781  0.001038  0.000458  0.001038  0.001343  0.001282  0.000275   \n",
       "370    782  0.001038  0.000946  0.000977  0.000641  0.000793  0.000916   \n",
       "371    783  0.000244  0.000183  0.000122 -0.000061  0.000275  0.000214   \n",
       "\n",
       "         col6      col7      col8  ...   col4991   col4992   col4993  \\\n",
       "0   -0.001190 -0.000977 -0.001312  ... -0.004181 -0.003784 -0.004272   \n",
       "1   -0.004608 -0.004333 -0.004242  ... -0.003357 -0.003143 -0.003021   \n",
       "2    0.029846  0.031952  0.035065  ...  0.002930  0.000427 -0.000671   \n",
       "3   -0.002899  0.003174  0.001953  ...  0.003876  0.007019  0.007965   \n",
       "4    0.000092  0.002747  0.006989  ... -0.001373 -0.001404 -0.001434   \n",
       "..        ...       ...       ...  ...       ...       ...       ...   \n",
       "367  0.006104  0.005798  0.005249  ...  0.003448  0.003296  0.003143   \n",
       "368  0.005981  0.005890  0.005371  ...  0.001129  0.001221  0.000275   \n",
       "369  0.000824  0.000519  0.001404  ... -0.000183  0.000427  0.000916   \n",
       "370  0.001038  0.001190  0.000305  ... -0.000092 -0.000061 -0.000031   \n",
       "371  0.000244  0.000275  0.000366  ...  0.000763  0.000763  0.000916   \n",
       "\n",
       "      col4994   col4995   col4996   col4997   col4998   col4999  col5000  \n",
       "0   -0.004181 -0.004059 -0.004059 -0.003906 -0.004272 -0.004150        0  \n",
       "1   -0.003632 -0.003418 -0.003052 -0.003571 -0.003601 -0.003143        0  \n",
       "2    0.002106  0.004608  0.005859 -0.002533 -0.004974  0.000214        0  \n",
       "3    0.005463  0.004303  0.003845  0.003479  0.003601  0.004242        0  \n",
       "4   -0.001831 -0.002014 -0.001831 -0.001831 -0.001831 -0.001862        0  \n",
       "..        ...       ...       ...       ...       ...       ...      ...  \n",
       "367  0.003204  0.003265  0.003265  0.003235  0.003693  0.004028        0  \n",
       "368 -0.000244  0.000031  0.000580  0.000763  0.000061  0.000977        0  \n",
       "369  0.000977  0.000671  0.000519  0.000458  0.000671  0.000732        0  \n",
       "370 -0.000031 -0.000031  0.000122  0.000153  0.000183  0.000061        0  \n",
       "371  0.000946  0.000793  0.000885  0.001129  0.000977  0.000793        0  \n",
       "\n",
       "[372 rows x 5002 columns]"
      ]
     },
     "execution_count": 640,
     "metadata": {},
     "output_type": "execute_result"
    }
   ],
   "source": [
    "new_X_hc_m_split_test[0] # from this one I extract 20% of 372 --> 75"
   ]
  },
  {
   "cell_type": "code",
   "execution_count": 641,
   "metadata": {},
   "outputs": [
    {
     "name": "stdout",
     "output_type": "stream",
     "text": [
      "298 75\n"
     ]
    }
   ],
   "source": [
    "# NOTE: To extract the trainiing set, even if the sets are of bigger dimensions, we still set the 80% equal to N_m\n",
    "#       across the groups and ALSO the desings.\n",
    "\n",
    "per_train_pd_m = math.ceil(N_m * 0.8)\n",
    "per_test_pd_m = math.ceil(N_m * 0.2)\n",
    "print(per_train_pd_m, per_test_pd_m)\n"
   ]
  },
  {
   "cell_type": "code",
   "execution_count": 642,
   "metadata": {},
   "outputs": [
    {
     "name": "stdout",
     "output_type": "stream",
     "text": [
      "0.25006282489890796\n"
     ]
    }
   ],
   "source": [
    "#Set see to reproduce the results\n",
    "random.seed(1)\n",
    "\n",
    "range_pd_m = range(0, N_m )\n",
    "range_pd_m_test = range(0, N_m)\n",
    "\n",
    "rand_s_train_pd_m = random.sample(range_pd_m, k = per_train_pd_m)\n",
    "rand_s_test_pd_m = random.sample(range_pd_m_test, k = per_test_pd_m)\n",
    "\n",
    "print(random.random()) #0.25006282489890796\n"
   ]
  },
  {
   "cell_type": "code",
   "execution_count": 643,
   "metadata": {},
   "outputs": [],
   "source": [
    "ind_train_pd_m = sorted(rand_s_train_pd_m) \n",
    "ind_test_pd_m = sorted(rand_s_test_pd_m) "
   ]
  },
  {
   "cell_type": "code",
   "execution_count": 644,
   "metadata": {},
   "outputs": [],
   "source": [
    "X_train_m_hc = new_X_hc_m_split_train[0].reset_index().loc[ind_train_pd_m] "
   ]
  },
  {
   "cell_type": "code",
   "execution_count": 645,
   "metadata": {},
   "outputs": [
    {
     "data": {
      "text/plain": [
       "(298, 5003)"
      ]
     },
     "execution_count": 645,
     "metadata": {},
     "output_type": "execute_result"
    }
   ],
   "source": [
    "X_train_m_hc.shape"
   ]
  },
  {
   "cell_type": "code",
   "execution_count": 646,
   "metadata": {},
   "outputs": [],
   "source": [
    "X_train_m_hc = X_train_m_hc.drop(['index', 'level_0', 'col5000'], axis=1)"
   ]
  },
  {
   "cell_type": "code",
   "execution_count": 647,
   "metadata": {},
   "outputs": [
    {
     "data": {
      "text/plain": [
       "(298, 5000)"
      ]
     },
     "execution_count": 647,
     "metadata": {},
     "output_type": "execute_result"
    }
   ],
   "source": [
    "X_train_m_hc.shape"
   ]
  },
  {
   "cell_type": "code",
   "execution_count": 648,
   "metadata": {},
   "outputs": [],
   "source": [
    "X_train_m_hc = X_train_m_hc.values"
   ]
  },
  {
   "cell_type": "code",
   "execution_count": 649,
   "metadata": {},
   "outputs": [
    {
     "data": {
      "text/plain": [
       "298"
      ]
     },
     "execution_count": 649,
     "metadata": {},
     "output_type": "execute_result"
    }
   ],
   "source": [
    "len(X_train_m_hc)"
   ]
  },
  {
   "cell_type": "code",
   "execution_count": 650,
   "metadata": {},
   "outputs": [],
   "source": [
    "X_test_hc_m  = new_X_hc_m_split_test[0].reset_index().loc[ind_test_pd_m]"
   ]
  },
  {
   "cell_type": "code",
   "execution_count": 651,
   "metadata": {},
   "outputs": [
    {
     "data": {
      "text/plain": [
       "(75, 5003)"
      ]
     },
     "execution_count": 651,
     "metadata": {},
     "output_type": "execute_result"
    }
   ],
   "source": [
    "X_test_hc_m.shape"
   ]
  },
  {
   "cell_type": "code",
   "execution_count": 652,
   "metadata": {},
   "outputs": [],
   "source": [
    "X_test_hc_m = X_test_hc_m.drop(['level_0', 'index', 'col5000'], axis=1)"
   ]
  },
  {
   "cell_type": "code",
   "execution_count": 653,
   "metadata": {},
   "outputs": [
    {
     "data": {
      "text/plain": [
       "(75, 5000)"
      ]
     },
     "execution_count": 653,
     "metadata": {},
     "output_type": "execute_result"
    }
   ],
   "source": [
    "X_test_hc_m.shape"
   ]
  },
  {
   "cell_type": "code",
   "execution_count": 654,
   "metadata": {},
   "outputs": [],
   "source": [
    "X_test_hc_m = X_test_hc_m.values "
   ]
  },
  {
   "cell_type": "code",
   "execution_count": 655,
   "metadata": {},
   "outputs": [
    {
     "data": {
      "text/plain": [
       "75"
      ]
     },
     "execution_count": 655,
     "metadata": {},
     "output_type": "execute_result"
    }
   ],
   "source": [
    "len(X_test_hc_m)"
   ]
  },
  {
   "cell_type": "code",
   "execution_count": null,
   "metadata": {},
   "outputs": [],
   "source": []
  },
  {
   "cell_type": "code",
   "execution_count": null,
   "metadata": {},
   "outputs": [],
   "source": []
  },
  {
   "cell_type": "code",
   "execution_count": 656,
   "metadata": {},
   "outputs": [],
   "source": [
    "np.save('X_test_hc_m_0', X_test_hc_m)"
   ]
  },
  {
   "cell_type": "code",
   "execution_count": null,
   "metadata": {},
   "outputs": [],
   "source": []
  },
  {
   "cell_type": "code",
   "execution_count": 587,
   "metadata": {},
   "outputs": [],
   "source": [
    "np.save('X_train_m_hc', X_train_m_hc)"
   ]
  },
  {
   "cell_type": "code",
   "execution_count": 586,
   "metadata": {},
   "outputs": [],
   "source": [
    "np.save('X_test_hc_m', X_test_hc_m)"
   ]
  },
  {
   "cell_type": "code",
   "execution_count": null,
   "metadata": {},
   "outputs": [],
   "source": []
  },
  {
   "cell_type": "code",
   "execution_count": null,
   "metadata": {},
   "outputs": [],
   "source": [
    "##################\n",
    "#     FEMALE     #\n",
    "##################"
   ]
  },
  {
   "cell_type": "code",
   "execution_count": 1083,
   "metadata": {},
   "outputs": [
    {
     "data": {
      "text/html": [
       "<div>\n",
       "<style scoped>\n",
       "    .dataframe tbody tr th:only-of-type {\n",
       "        vertical-align: middle;\n",
       "    }\n",
       "\n",
       "    .dataframe tbody tr th {\n",
       "        vertical-align: top;\n",
       "    }\n",
       "\n",
       "    .dataframe thead th {\n",
       "        text-align: right;\n",
       "    }\n",
       "</style>\n",
       "<table border=\"1\" class=\"dataframe\">\n",
       "  <thead>\n",
       "    <tr style=\"text-align: right;\">\n",
       "      <th></th>\n",
       "      <th>index</th>\n",
       "      <th>col0</th>\n",
       "      <th>col1</th>\n",
       "      <th>col2</th>\n",
       "      <th>col3</th>\n",
       "      <th>col4</th>\n",
       "      <th>col5</th>\n",
       "      <th>col6</th>\n",
       "      <th>col7</th>\n",
       "      <th>col8</th>\n",
       "      <th>...</th>\n",
       "      <th>col4991</th>\n",
       "      <th>col4992</th>\n",
       "      <th>col4993</th>\n",
       "      <th>col4994</th>\n",
       "      <th>col4995</th>\n",
       "      <th>col4996</th>\n",
       "      <th>col4997</th>\n",
       "      <th>col4998</th>\n",
       "      <th>col4999</th>\n",
       "      <th>col5000</th>\n",
       "    </tr>\n",
       "  </thead>\n",
       "  <tbody>\n",
       "    <tr>\n",
       "      <th>0</th>\n",
       "      <td>14760</td>\n",
       "      <td>0.000732</td>\n",
       "      <td>0.000977</td>\n",
       "      <td>0.000671</td>\n",
       "      <td>0.000122</td>\n",
       "      <td>0.000702</td>\n",
       "      <td>0.000488</td>\n",
       "      <td>0.000671</td>\n",
       "      <td>0.000610</td>\n",
       "      <td>0.000153</td>\n",
       "      <td>...</td>\n",
       "      <td>0.002167</td>\n",
       "      <td>0.002472</td>\n",
       "      <td>0.001404</td>\n",
       "      <td>0.001434</td>\n",
       "      <td>0.002502</td>\n",
       "      <td>0.001617</td>\n",
       "      <td>0.001190</td>\n",
       "      <td>0.001862</td>\n",
       "      <td>0.001740</td>\n",
       "      <td>18</td>\n",
       "    </tr>\n",
       "    <tr>\n",
       "      <th>1</th>\n",
       "      <td>14763</td>\n",
       "      <td>-0.003693</td>\n",
       "      <td>-0.004059</td>\n",
       "      <td>-0.003754</td>\n",
       "      <td>-0.003448</td>\n",
       "      <td>-0.003571</td>\n",
       "      <td>-0.003448</td>\n",
       "      <td>-0.003204</td>\n",
       "      <td>-0.003540</td>\n",
       "      <td>-0.003052</td>\n",
       "      <td>...</td>\n",
       "      <td>-0.052094</td>\n",
       "      <td>-0.054291</td>\n",
       "      <td>-0.057892</td>\n",
       "      <td>-0.059601</td>\n",
       "      <td>-0.058411</td>\n",
       "      <td>-0.059448</td>\n",
       "      <td>-0.060791</td>\n",
       "      <td>-0.061340</td>\n",
       "      <td>-0.060822</td>\n",
       "      <td>18</td>\n",
       "    </tr>\n",
       "    <tr>\n",
       "      <th>2</th>\n",
       "      <td>14764</td>\n",
       "      <td>-0.060120</td>\n",
       "      <td>-0.059753</td>\n",
       "      <td>-0.061066</td>\n",
       "      <td>-0.061371</td>\n",
       "      <td>-0.059601</td>\n",
       "      <td>-0.056335</td>\n",
       "      <td>-0.056641</td>\n",
       "      <td>-0.058685</td>\n",
       "      <td>-0.060272</td>\n",
       "      <td>...</td>\n",
       "      <td>0.013306</td>\n",
       "      <td>0.013641</td>\n",
       "      <td>0.015442</td>\n",
       "      <td>0.004761</td>\n",
       "      <td>-0.020599</td>\n",
       "      <td>-0.004333</td>\n",
       "      <td>0.011261</td>\n",
       "      <td>0.003174</td>\n",
       "      <td>0.006866</td>\n",
       "      <td>18</td>\n",
       "    </tr>\n",
       "    <tr>\n",
       "      <th>3</th>\n",
       "      <td>14765</td>\n",
       "      <td>0.007233</td>\n",
       "      <td>0.008087</td>\n",
       "      <td>-0.003662</td>\n",
       "      <td>-0.001526</td>\n",
       "      <td>0.008759</td>\n",
       "      <td>0.015839</td>\n",
       "      <td>-0.003448</td>\n",
       "      <td>-0.010162</td>\n",
       "      <td>0.001526</td>\n",
       "      <td>...</td>\n",
       "      <td>-0.005432</td>\n",
       "      <td>-0.005341</td>\n",
       "      <td>-0.001923</td>\n",
       "      <td>0.000153</td>\n",
       "      <td>0.000977</td>\n",
       "      <td>0.000610</td>\n",
       "      <td>-0.000183</td>\n",
       "      <td>-0.000793</td>\n",
       "      <td>0.000275</td>\n",
       "      <td>18</td>\n",
       "    </tr>\n",
       "    <tr>\n",
       "      <th>4</th>\n",
       "      <td>14766</td>\n",
       "      <td>-0.000092</td>\n",
       "      <td>-0.001465</td>\n",
       "      <td>-0.000122</td>\n",
       "      <td>-0.000641</td>\n",
       "      <td>-0.000763</td>\n",
       "      <td>0.000275</td>\n",
       "      <td>-0.000031</td>\n",
       "      <td>0.000885</td>\n",
       "      <td>0.003204</td>\n",
       "      <td>...</td>\n",
       "      <td>0.007568</td>\n",
       "      <td>0.008545</td>\n",
       "      <td>0.008911</td>\n",
       "      <td>0.008514</td>\n",
       "      <td>0.008728</td>\n",
       "      <td>0.009338</td>\n",
       "      <td>0.009216</td>\n",
       "      <td>0.009491</td>\n",
       "      <td>0.009979</td>\n",
       "      <td>18</td>\n",
       "    </tr>\n",
       "    <tr>\n",
       "      <th>...</th>\n",
       "      <td>...</td>\n",
       "      <td>...</td>\n",
       "      <td>...</td>\n",
       "      <td>...</td>\n",
       "      <td>...</td>\n",
       "      <td>...</td>\n",
       "      <td>...</td>\n",
       "      <td>...</td>\n",
       "      <td>...</td>\n",
       "      <td>...</td>\n",
       "      <td>...</td>\n",
       "      <td>...</td>\n",
       "      <td>...</td>\n",
       "      <td>...</td>\n",
       "      <td>...</td>\n",
       "      <td>...</td>\n",
       "      <td>...</td>\n",
       "      <td>...</td>\n",
       "      <td>...</td>\n",
       "      <td>...</td>\n",
       "      <td>...</td>\n",
       "    </tr>\n",
       "    <tr>\n",
       "      <th>437</th>\n",
       "      <td>15468</td>\n",
       "      <td>-0.000702</td>\n",
       "      <td>-0.000763</td>\n",
       "      <td>-0.000671</td>\n",
       "      <td>-0.000488</td>\n",
       "      <td>-0.000580</td>\n",
       "      <td>-0.000488</td>\n",
       "      <td>-0.000305</td>\n",
       "      <td>-0.000458</td>\n",
       "      <td>-0.000366</td>\n",
       "      <td>...</td>\n",
       "      <td>-0.001068</td>\n",
       "      <td>-0.000885</td>\n",
       "      <td>-0.000977</td>\n",
       "      <td>-0.001007</td>\n",
       "      <td>-0.001099</td>\n",
       "      <td>-0.000854</td>\n",
       "      <td>-0.001129</td>\n",
       "      <td>-0.001007</td>\n",
       "      <td>-0.000946</td>\n",
       "      <td>18</td>\n",
       "    </tr>\n",
       "    <tr>\n",
       "      <th>438</th>\n",
       "      <td>15469</td>\n",
       "      <td>-0.001038</td>\n",
       "      <td>-0.000916</td>\n",
       "      <td>-0.001099</td>\n",
       "      <td>-0.000854</td>\n",
       "      <td>-0.000885</td>\n",
       "      <td>-0.000824</td>\n",
       "      <td>-0.000824</td>\n",
       "      <td>-0.000977</td>\n",
       "      <td>-0.000702</td>\n",
       "      <td>...</td>\n",
       "      <td>-0.008087</td>\n",
       "      <td>-0.007263</td>\n",
       "      <td>-0.006134</td>\n",
       "      <td>-0.005432</td>\n",
       "      <td>-0.005676</td>\n",
       "      <td>-0.005249</td>\n",
       "      <td>-0.004150</td>\n",
       "      <td>-0.003174</td>\n",
       "      <td>-0.002411</td>\n",
       "      <td>18</td>\n",
       "    </tr>\n",
       "    <tr>\n",
       "      <th>439</th>\n",
       "      <td>15473</td>\n",
       "      <td>-0.000244</td>\n",
       "      <td>-0.000183</td>\n",
       "      <td>0.000000</td>\n",
       "      <td>-0.000092</td>\n",
       "      <td>-0.000153</td>\n",
       "      <td>0.000061</td>\n",
       "      <td>-0.000275</td>\n",
       "      <td>0.000092</td>\n",
       "      <td>-0.000031</td>\n",
       "      <td>...</td>\n",
       "      <td>-0.000183</td>\n",
       "      <td>-0.000031</td>\n",
       "      <td>0.000092</td>\n",
       "      <td>0.000061</td>\n",
       "      <td>0.000061</td>\n",
       "      <td>0.000183</td>\n",
       "      <td>-0.000122</td>\n",
       "      <td>-0.000214</td>\n",
       "      <td>-0.000092</td>\n",
       "      <td>18</td>\n",
       "    </tr>\n",
       "    <tr>\n",
       "      <th>440</th>\n",
       "      <td>15474</td>\n",
       "      <td>0.000122</td>\n",
       "      <td>0.000000</td>\n",
       "      <td>-0.000183</td>\n",
       "      <td>-0.000488</td>\n",
       "      <td>-0.000580</td>\n",
       "      <td>-0.000763</td>\n",
       "      <td>-0.000854</td>\n",
       "      <td>-0.000549</td>\n",
       "      <td>-0.000366</td>\n",
       "      <td>...</td>\n",
       "      <td>0.000031</td>\n",
       "      <td>0.000092</td>\n",
       "      <td>0.000244</td>\n",
       "      <td>0.000153</td>\n",
       "      <td>0.000305</td>\n",
       "      <td>0.000427</td>\n",
       "      <td>0.000366</td>\n",
       "      <td>0.000214</td>\n",
       "      <td>0.000336</td>\n",
       "      <td>18</td>\n",
       "    </tr>\n",
       "    <tr>\n",
       "      <th>441</th>\n",
       "      <td>15478</td>\n",
       "      <td>0.000977</td>\n",
       "      <td>0.001007</td>\n",
       "      <td>0.000610</td>\n",
       "      <td>0.000793</td>\n",
       "      <td>0.001587</td>\n",
       "      <td>0.001495</td>\n",
       "      <td>0.000671</td>\n",
       "      <td>0.000641</td>\n",
       "      <td>0.000824</td>\n",
       "      <td>...</td>\n",
       "      <td>-0.000458</td>\n",
       "      <td>0.000092</td>\n",
       "      <td>-0.000458</td>\n",
       "      <td>-0.000702</td>\n",
       "      <td>0.000244</td>\n",
       "      <td>-0.000366</td>\n",
       "      <td>-0.000244</td>\n",
       "      <td>0.000153</td>\n",
       "      <td>-0.000458</td>\n",
       "      <td>18</td>\n",
       "    </tr>\n",
       "  </tbody>\n",
       "</table>\n",
       "<p>442 rows × 5002 columns</p>\n",
       "</div>"
      ],
      "text/plain": [
       "     index      col0      col1      col2      col3      col4      col5  \\\n",
       "0    14760  0.000732  0.000977  0.000671  0.000122  0.000702  0.000488   \n",
       "1    14763 -0.003693 -0.004059 -0.003754 -0.003448 -0.003571 -0.003448   \n",
       "2    14764 -0.060120 -0.059753 -0.061066 -0.061371 -0.059601 -0.056335   \n",
       "3    14765  0.007233  0.008087 -0.003662 -0.001526  0.008759  0.015839   \n",
       "4    14766 -0.000092 -0.001465 -0.000122 -0.000641 -0.000763  0.000275   \n",
       "..     ...       ...       ...       ...       ...       ...       ...   \n",
       "437  15468 -0.000702 -0.000763 -0.000671 -0.000488 -0.000580 -0.000488   \n",
       "438  15469 -0.001038 -0.000916 -0.001099 -0.000854 -0.000885 -0.000824   \n",
       "439  15473 -0.000244 -0.000183  0.000000 -0.000092 -0.000153  0.000061   \n",
       "440  15474  0.000122  0.000000 -0.000183 -0.000488 -0.000580 -0.000763   \n",
       "441  15478  0.000977  0.001007  0.000610  0.000793  0.001587  0.001495   \n",
       "\n",
       "         col6      col7      col8  ...   col4991   col4992   col4993  \\\n",
       "0    0.000671  0.000610  0.000153  ...  0.002167  0.002472  0.001404   \n",
       "1   -0.003204 -0.003540 -0.003052  ... -0.052094 -0.054291 -0.057892   \n",
       "2   -0.056641 -0.058685 -0.060272  ...  0.013306  0.013641  0.015442   \n",
       "3   -0.003448 -0.010162  0.001526  ... -0.005432 -0.005341 -0.001923   \n",
       "4   -0.000031  0.000885  0.003204  ...  0.007568  0.008545  0.008911   \n",
       "..        ...       ...       ...  ...       ...       ...       ...   \n",
       "437 -0.000305 -0.000458 -0.000366  ... -0.001068 -0.000885 -0.000977   \n",
       "438 -0.000824 -0.000977 -0.000702  ... -0.008087 -0.007263 -0.006134   \n",
       "439 -0.000275  0.000092 -0.000031  ... -0.000183 -0.000031  0.000092   \n",
       "440 -0.000854 -0.000549 -0.000366  ...  0.000031  0.000092  0.000244   \n",
       "441  0.000671  0.000641  0.000824  ... -0.000458  0.000092 -0.000458   \n",
       "\n",
       "      col4994   col4995   col4996   col4997   col4998   col4999  col5000  \n",
       "0    0.001434  0.002502  0.001617  0.001190  0.001862  0.001740       18  \n",
       "1   -0.059601 -0.058411 -0.059448 -0.060791 -0.061340 -0.060822       18  \n",
       "2    0.004761 -0.020599 -0.004333  0.011261  0.003174  0.006866       18  \n",
       "3    0.000153  0.000977  0.000610 -0.000183 -0.000793  0.000275       18  \n",
       "4    0.008514  0.008728  0.009338  0.009216  0.009491  0.009979       18  \n",
       "..        ...       ...       ...       ...       ...       ...      ...  \n",
       "437 -0.001007 -0.001099 -0.000854 -0.001129 -0.001007 -0.000946       18  \n",
       "438 -0.005432 -0.005676 -0.005249 -0.004150 -0.003174 -0.002411       18  \n",
       "439  0.000061  0.000061  0.000183 -0.000122 -0.000214 -0.000092       18  \n",
       "440  0.000153  0.000305  0.000427  0.000366  0.000214  0.000336       18  \n",
       "441 -0.000702  0.000244 -0.000366 -0.000244  0.000153 -0.000458       18  \n",
       "\n",
       "[442 rows x 5002 columns]"
      ]
     },
     "execution_count": 1083,
     "metadata": {},
     "output_type": "execute_result"
    }
   ],
   "source": [
    "new_X_hc_f_split_train[17] # I merge all of these and then extract 80% of 442 --> 354"
   ]
  },
  {
   "cell_type": "code",
   "execution_count": 1084,
   "metadata": {},
   "outputs": [
    {
     "data": {
      "text/html": [
       "<div>\n",
       "<style scoped>\n",
       "    .dataframe tbody tr th:only-of-type {\n",
       "        vertical-align: middle;\n",
       "    }\n",
       "\n",
       "    .dataframe tbody tr th {\n",
       "        vertical-align: top;\n",
       "    }\n",
       "\n",
       "    .dataframe thead th {\n",
       "        text-align: right;\n",
       "    }\n",
       "</style>\n",
       "<table border=\"1\" class=\"dataframe\">\n",
       "  <thead>\n",
       "    <tr style=\"text-align: right;\">\n",
       "      <th></th>\n",
       "      <th>index</th>\n",
       "      <th>col0</th>\n",
       "      <th>col1</th>\n",
       "      <th>col2</th>\n",
       "      <th>col3</th>\n",
       "      <th>col4</th>\n",
       "      <th>col5</th>\n",
       "      <th>col6</th>\n",
       "      <th>col7</th>\n",
       "      <th>col8</th>\n",
       "      <th>...</th>\n",
       "      <th>col4991</th>\n",
       "      <th>col4992</th>\n",
       "      <th>col4993</th>\n",
       "      <th>col4994</th>\n",
       "      <th>col4995</th>\n",
       "      <th>col4996</th>\n",
       "      <th>col4997</th>\n",
       "      <th>col4998</th>\n",
       "      <th>col4999</th>\n",
       "      <th>col5000</th>\n",
       "    </tr>\n",
       "  </thead>\n",
       "  <tbody>\n",
       "    <tr>\n",
       "      <th>0</th>\n",
       "      <td>3236</td>\n",
       "      <td>0.000458</td>\n",
       "      <td>0.000031</td>\n",
       "      <td>0.000305</td>\n",
       "      <td>0.000366</td>\n",
       "      <td>0.000092</td>\n",
       "      <td>0.000580</td>\n",
       "      <td>0.000488</td>\n",
       "      <td>0.000366</td>\n",
       "      <td>0.000458</td>\n",
       "      <td>...</td>\n",
       "      <td>-0.000549</td>\n",
       "      <td>-0.000763</td>\n",
       "      <td>-0.000916</td>\n",
       "      <td>-0.000183</td>\n",
       "      <td>-0.000397</td>\n",
       "      <td>-0.000916</td>\n",
       "      <td>-0.000549</td>\n",
       "      <td>0.000061</td>\n",
       "      <td>-0.000519</td>\n",
       "      <td>4</td>\n",
       "    </tr>\n",
       "    <tr>\n",
       "      <th>1</th>\n",
       "      <td>3237</td>\n",
       "      <td>-0.001312</td>\n",
       "      <td>-0.000519</td>\n",
       "      <td>-0.000702</td>\n",
       "      <td>-0.001190</td>\n",
       "      <td>-0.001251</td>\n",
       "      <td>-0.000702</td>\n",
       "      <td>-0.000885</td>\n",
       "      <td>-0.000641</td>\n",
       "      <td>-0.000793</td>\n",
       "      <td>...</td>\n",
       "      <td>0.000549</td>\n",
       "      <td>0.000549</td>\n",
       "      <td>0.000336</td>\n",
       "      <td>0.000244</td>\n",
       "      <td>0.000061</td>\n",
       "      <td>0.000732</td>\n",
       "      <td>0.000763</td>\n",
       "      <td>0.000366</td>\n",
       "      <td>0.000153</td>\n",
       "      <td>4</td>\n",
       "    </tr>\n",
       "    <tr>\n",
       "      <th>2</th>\n",
       "      <td>3238</td>\n",
       "      <td>0.000275</td>\n",
       "      <td>0.000305</td>\n",
       "      <td>0.000305</td>\n",
       "      <td>0.000519</td>\n",
       "      <td>0.000305</td>\n",
       "      <td>0.000336</td>\n",
       "      <td>0.000610</td>\n",
       "      <td>0.000397</td>\n",
       "      <td>-0.000366</td>\n",
       "      <td>...</td>\n",
       "      <td>-0.001465</td>\n",
       "      <td>-0.001312</td>\n",
       "      <td>-0.001526</td>\n",
       "      <td>-0.001617</td>\n",
       "      <td>-0.001556</td>\n",
       "      <td>-0.001312</td>\n",
       "      <td>-0.001343</td>\n",
       "      <td>-0.001434</td>\n",
       "      <td>-0.001495</td>\n",
       "      <td>4</td>\n",
       "    </tr>\n",
       "    <tr>\n",
       "      <th>3</th>\n",
       "      <td>3239</td>\n",
       "      <td>-0.001404</td>\n",
       "      <td>-0.001862</td>\n",
       "      <td>-0.001770</td>\n",
       "      <td>-0.001190</td>\n",
       "      <td>-0.001465</td>\n",
       "      <td>-0.001404</td>\n",
       "      <td>-0.001740</td>\n",
       "      <td>-0.001587</td>\n",
       "      <td>-0.001404</td>\n",
       "      <td>...</td>\n",
       "      <td>-0.003723</td>\n",
       "      <td>-0.002716</td>\n",
       "      <td>-0.003204</td>\n",
       "      <td>-0.002930</td>\n",
       "      <td>-0.002655</td>\n",
       "      <td>-0.003723</td>\n",
       "      <td>-0.003357</td>\n",
       "      <td>-0.001984</td>\n",
       "      <td>-0.002502</td>\n",
       "      <td>4</td>\n",
       "    </tr>\n",
       "    <tr>\n",
       "      <th>4</th>\n",
       "      <td>3241</td>\n",
       "      <td>-0.002655</td>\n",
       "      <td>-0.003662</td>\n",
       "      <td>-0.003326</td>\n",
       "      <td>-0.002502</td>\n",
       "      <td>-0.001648</td>\n",
       "      <td>-0.000793</td>\n",
       "      <td>-0.001038</td>\n",
       "      <td>-0.000336</td>\n",
       "      <td>0.000092</td>\n",
       "      <td>...</td>\n",
       "      <td>-0.001709</td>\n",
       "      <td>-0.001434</td>\n",
       "      <td>-0.000580</td>\n",
       "      <td>0.000061</td>\n",
       "      <td>0.000244</td>\n",
       "      <td>-0.000671</td>\n",
       "      <td>-0.000641</td>\n",
       "      <td>-0.000214</td>\n",
       "      <td>-0.000732</td>\n",
       "      <td>4</td>\n",
       "    </tr>\n",
       "    <tr>\n",
       "      <th>...</th>\n",
       "      <td>...</td>\n",
       "      <td>...</td>\n",
       "      <td>...</td>\n",
       "      <td>...</td>\n",
       "      <td>...</td>\n",
       "      <td>...</td>\n",
       "      <td>...</td>\n",
       "      <td>...</td>\n",
       "      <td>...</td>\n",
       "      <td>...</td>\n",
       "      <td>...</td>\n",
       "      <td>...</td>\n",
       "      <td>...</td>\n",
       "      <td>...</td>\n",
       "      <td>...</td>\n",
       "      <td>...</td>\n",
       "      <td>...</td>\n",
       "      <td>...</td>\n",
       "      <td>...</td>\n",
       "      <td>...</td>\n",
       "      <td>...</td>\n",
       "    </tr>\n",
       "    <tr>\n",
       "      <th>437</th>\n",
       "      <td>3867</td>\n",
       "      <td>0.001282</td>\n",
       "      <td>0.001312</td>\n",
       "      <td>0.001251</td>\n",
       "      <td>0.001251</td>\n",
       "      <td>0.001221</td>\n",
       "      <td>0.001221</td>\n",
       "      <td>0.001129</td>\n",
       "      <td>0.001160</td>\n",
       "      <td>0.001221</td>\n",
       "      <td>...</td>\n",
       "      <td>0.003632</td>\n",
       "      <td>0.003113</td>\n",
       "      <td>0.003113</td>\n",
       "      <td>0.002655</td>\n",
       "      <td>0.003571</td>\n",
       "      <td>0.003143</td>\n",
       "      <td>0.003296</td>\n",
       "      <td>0.001984</td>\n",
       "      <td>0.002319</td>\n",
       "      <td>4</td>\n",
       "    </tr>\n",
       "    <tr>\n",
       "      <th>438</th>\n",
       "      <td>3868</td>\n",
       "      <td>0.003326</td>\n",
       "      <td>0.001862</td>\n",
       "      <td>0.002441</td>\n",
       "      <td>0.001434</td>\n",
       "      <td>0.003113</td>\n",
       "      <td>0.001862</td>\n",
       "      <td>0.002167</td>\n",
       "      <td>0.001801</td>\n",
       "      <td>0.001434</td>\n",
       "      <td>...</td>\n",
       "      <td>0.014404</td>\n",
       "      <td>0.015594</td>\n",
       "      <td>0.016022</td>\n",
       "      <td>0.015808</td>\n",
       "      <td>0.015289</td>\n",
       "      <td>0.013611</td>\n",
       "      <td>0.014954</td>\n",
       "      <td>0.015015</td>\n",
       "      <td>0.014771</td>\n",
       "      <td>4</td>\n",
       "    </tr>\n",
       "    <tr>\n",
       "      <th>439</th>\n",
       "      <td>3870</td>\n",
       "      <td>-0.008118</td>\n",
       "      <td>-0.008270</td>\n",
       "      <td>-0.008636</td>\n",
       "      <td>-0.009399</td>\n",
       "      <td>-0.009918</td>\n",
       "      <td>-0.009979</td>\n",
       "      <td>-0.010162</td>\n",
       "      <td>-0.010681</td>\n",
       "      <td>-0.011322</td>\n",
       "      <td>...</td>\n",
       "      <td>0.000549</td>\n",
       "      <td>0.000610</td>\n",
       "      <td>0.000610</td>\n",
       "      <td>0.000549</td>\n",
       "      <td>0.000519</td>\n",
       "      <td>0.000580</td>\n",
       "      <td>0.000427</td>\n",
       "      <td>0.000427</td>\n",
       "      <td>0.000549</td>\n",
       "      <td>4</td>\n",
       "    </tr>\n",
       "    <tr>\n",
       "      <th>440</th>\n",
       "      <td>3871</td>\n",
       "      <td>0.000397</td>\n",
       "      <td>0.000427</td>\n",
       "      <td>0.000397</td>\n",
       "      <td>0.000488</td>\n",
       "      <td>0.000397</td>\n",
       "      <td>0.000214</td>\n",
       "      <td>0.000427</td>\n",
       "      <td>0.000488</td>\n",
       "      <td>0.000275</td>\n",
       "      <td>...</td>\n",
       "      <td>-0.012085</td>\n",
       "      <td>-0.011139</td>\n",
       "      <td>-0.009827</td>\n",
       "      <td>-0.007965</td>\n",
       "      <td>-0.006287</td>\n",
       "      <td>-0.005035</td>\n",
       "      <td>-0.003479</td>\n",
       "      <td>-0.001587</td>\n",
       "      <td>0.000549</td>\n",
       "      <td>4</td>\n",
       "    </tr>\n",
       "    <tr>\n",
       "      <th>441</th>\n",
       "      <td>3874</td>\n",
       "      <td>-0.003448</td>\n",
       "      <td>-0.003815</td>\n",
       "      <td>-0.003784</td>\n",
       "      <td>-0.003143</td>\n",
       "      <td>-0.002899</td>\n",
       "      <td>-0.003418</td>\n",
       "      <td>-0.003693</td>\n",
       "      <td>-0.003052</td>\n",
       "      <td>-0.002960</td>\n",
       "      <td>...</td>\n",
       "      <td>-0.000275</td>\n",
       "      <td>-0.000427</td>\n",
       "      <td>-0.000336</td>\n",
       "      <td>-0.000244</td>\n",
       "      <td>-0.000488</td>\n",
       "      <td>-0.000305</td>\n",
       "      <td>-0.000336</td>\n",
       "      <td>-0.000305</td>\n",
       "      <td>-0.000458</td>\n",
       "      <td>4</td>\n",
       "    </tr>\n",
       "  </tbody>\n",
       "</table>\n",
       "<p>442 rows × 5002 columns</p>\n",
       "</div>"
      ],
      "text/plain": [
       "     index      col0      col1      col2      col3      col4      col5  \\\n",
       "0     3236  0.000458  0.000031  0.000305  0.000366  0.000092  0.000580   \n",
       "1     3237 -0.001312 -0.000519 -0.000702 -0.001190 -0.001251 -0.000702   \n",
       "2     3238  0.000275  0.000305  0.000305  0.000519  0.000305  0.000336   \n",
       "3     3239 -0.001404 -0.001862 -0.001770 -0.001190 -0.001465 -0.001404   \n",
       "4     3241 -0.002655 -0.003662 -0.003326 -0.002502 -0.001648 -0.000793   \n",
       "..     ...       ...       ...       ...       ...       ...       ...   \n",
       "437   3867  0.001282  0.001312  0.001251  0.001251  0.001221  0.001221   \n",
       "438   3868  0.003326  0.001862  0.002441  0.001434  0.003113  0.001862   \n",
       "439   3870 -0.008118 -0.008270 -0.008636 -0.009399 -0.009918 -0.009979   \n",
       "440   3871  0.000397  0.000427  0.000397  0.000488  0.000397  0.000214   \n",
       "441   3874 -0.003448 -0.003815 -0.003784 -0.003143 -0.002899 -0.003418   \n",
       "\n",
       "         col6      col7      col8  ...   col4991   col4992   col4993  \\\n",
       "0    0.000488  0.000366  0.000458  ... -0.000549 -0.000763 -0.000916   \n",
       "1   -0.000885 -0.000641 -0.000793  ...  0.000549  0.000549  0.000336   \n",
       "2    0.000610  0.000397 -0.000366  ... -0.001465 -0.001312 -0.001526   \n",
       "3   -0.001740 -0.001587 -0.001404  ... -0.003723 -0.002716 -0.003204   \n",
       "4   -0.001038 -0.000336  0.000092  ... -0.001709 -0.001434 -0.000580   \n",
       "..        ...       ...       ...  ...       ...       ...       ...   \n",
       "437  0.001129  0.001160  0.001221  ...  0.003632  0.003113  0.003113   \n",
       "438  0.002167  0.001801  0.001434  ...  0.014404  0.015594  0.016022   \n",
       "439 -0.010162 -0.010681 -0.011322  ...  0.000549  0.000610  0.000610   \n",
       "440  0.000427  0.000488  0.000275  ... -0.012085 -0.011139 -0.009827   \n",
       "441 -0.003693 -0.003052 -0.002960  ... -0.000275 -0.000427 -0.000336   \n",
       "\n",
       "      col4994   col4995   col4996   col4997   col4998   col4999  col5000  \n",
       "0   -0.000183 -0.000397 -0.000916 -0.000549  0.000061 -0.000519        4  \n",
       "1    0.000244  0.000061  0.000732  0.000763  0.000366  0.000153        4  \n",
       "2   -0.001617 -0.001556 -0.001312 -0.001343 -0.001434 -0.001495        4  \n",
       "3   -0.002930 -0.002655 -0.003723 -0.003357 -0.001984 -0.002502        4  \n",
       "4    0.000061  0.000244 -0.000671 -0.000641 -0.000214 -0.000732        4  \n",
       "..        ...       ...       ...       ...       ...       ...      ...  \n",
       "437  0.002655  0.003571  0.003143  0.003296  0.001984  0.002319        4  \n",
       "438  0.015808  0.015289  0.013611  0.014954  0.015015  0.014771        4  \n",
       "439  0.000549  0.000519  0.000580  0.000427  0.000427  0.000549        4  \n",
       "440 -0.007965 -0.006287 -0.005035 -0.003479 -0.001587  0.000549        4  \n",
       "441 -0.000244 -0.000488 -0.000305 -0.000336 -0.000305 -0.000458        4  \n",
       "\n",
       "[442 rows x 5002 columns]"
      ]
     },
     "execution_count": 1084,
     "metadata": {},
     "output_type": "execute_result"
    }
   ],
   "source": [
    "new_X_hc_f_split_test[0] # from this one I extract 20% of 442 --> 89"
   ]
  },
  {
   "cell_type": "code",
   "execution_count": 1085,
   "metadata": {},
   "outputs": [
    {
     "data": {
      "text/html": [
       "<div>\n",
       "<style scoped>\n",
       "    .dataframe tbody tr th:only-of-type {\n",
       "        vertical-align: middle;\n",
       "    }\n",
       "\n",
       "    .dataframe tbody tr th {\n",
       "        vertical-align: top;\n",
       "    }\n",
       "\n",
       "    .dataframe thead th {\n",
       "        text-align: right;\n",
       "    }\n",
       "</style>\n",
       "<table border=\"1\" class=\"dataframe\">\n",
       "  <thead>\n",
       "    <tr style=\"text-align: right;\">\n",
       "      <th></th>\n",
       "      <th>level_0</th>\n",
       "      <th>index</th>\n",
       "      <th>col0</th>\n",
       "      <th>col1</th>\n",
       "      <th>col2</th>\n",
       "      <th>col3</th>\n",
       "      <th>col4</th>\n",
       "      <th>col5</th>\n",
       "      <th>col6</th>\n",
       "      <th>col7</th>\n",
       "      <th>...</th>\n",
       "      <th>col4991</th>\n",
       "      <th>col4992</th>\n",
       "      <th>col4993</th>\n",
       "      <th>col4994</th>\n",
       "      <th>col4995</th>\n",
       "      <th>col4996</th>\n",
       "      <th>col4997</th>\n",
       "      <th>col4998</th>\n",
       "      <th>col4999</th>\n",
       "      <th>col5000</th>\n",
       "    </tr>\n",
       "  </thead>\n",
       "  <tbody>\n",
       "    <tr>\n",
       "      <th>0</th>\n",
       "      <td>0</td>\n",
       "      <td>5</td>\n",
       "      <td>-0.000580</td>\n",
       "      <td>-0.000519</td>\n",
       "      <td>-0.000427</td>\n",
       "      <td>-0.000458</td>\n",
       "      <td>-0.000671</td>\n",
       "      <td>-0.000641</td>\n",
       "      <td>-0.000732</td>\n",
       "      <td>-0.000671</td>\n",
       "      <td>...</td>\n",
       "      <td>0.000519</td>\n",
       "      <td>0.000458</td>\n",
       "      <td>0.000275</td>\n",
       "      <td>0.000488</td>\n",
       "      <td>0.000458</td>\n",
       "      <td>0.000305</td>\n",
       "      <td>0.000397</td>\n",
       "      <td>0.000397</td>\n",
       "      <td>0.000183</td>\n",
       "      <td>0</td>\n",
       "    </tr>\n",
       "    <tr>\n",
       "      <th>1</th>\n",
       "      <td>1</td>\n",
       "      <td>8</td>\n",
       "      <td>0.027344</td>\n",
       "      <td>0.024506</td>\n",
       "      <td>0.021759</td>\n",
       "      <td>0.019226</td>\n",
       "      <td>0.015594</td>\n",
       "      <td>0.013641</td>\n",
       "      <td>0.010406</td>\n",
       "      <td>0.008728</td>\n",
       "      <td>...</td>\n",
       "      <td>0.000732</td>\n",
       "      <td>0.000702</td>\n",
       "      <td>0.000732</td>\n",
       "      <td>0.000763</td>\n",
       "      <td>0.001068</td>\n",
       "      <td>0.000610</td>\n",
       "      <td>0.000580</td>\n",
       "      <td>0.000488</td>\n",
       "      <td>0.000763</td>\n",
       "      <td>0</td>\n",
       "    </tr>\n",
       "    <tr>\n",
       "      <th>2</th>\n",
       "      <td>2</td>\n",
       "      <td>10</td>\n",
       "      <td>0.000946</td>\n",
       "      <td>0.001038</td>\n",
       "      <td>0.001221</td>\n",
       "      <td>0.001007</td>\n",
       "      <td>0.000916</td>\n",
       "      <td>0.000946</td>\n",
       "      <td>0.000946</td>\n",
       "      <td>0.000732</td>\n",
       "      <td>...</td>\n",
       "      <td>0.030457</td>\n",
       "      <td>0.033081</td>\n",
       "      <td>0.037323</td>\n",
       "      <td>0.038086</td>\n",
       "      <td>0.036957</td>\n",
       "      <td>0.039246</td>\n",
       "      <td>0.042419</td>\n",
       "      <td>0.042206</td>\n",
       "      <td>0.039001</td>\n",
       "      <td>0</td>\n",
       "    </tr>\n",
       "    <tr>\n",
       "      <th>3</th>\n",
       "      <td>3</td>\n",
       "      <td>11</td>\n",
       "      <td>-0.014557</td>\n",
       "      <td>-0.015533</td>\n",
       "      <td>-0.016449</td>\n",
       "      <td>-0.017365</td>\n",
       "      <td>-0.018768</td>\n",
       "      <td>-0.019989</td>\n",
       "      <td>-0.021240</td>\n",
       "      <td>-0.022278</td>\n",
       "      <td>...</td>\n",
       "      <td>-0.012695</td>\n",
       "      <td>-0.014465</td>\n",
       "      <td>-0.015625</td>\n",
       "      <td>-0.016571</td>\n",
       "      <td>-0.016815</td>\n",
       "      <td>-0.017181</td>\n",
       "      <td>-0.016449</td>\n",
       "      <td>-0.015808</td>\n",
       "      <td>-0.014954</td>\n",
       "      <td>0</td>\n",
       "    </tr>\n",
       "    <tr>\n",
       "      <th>4</th>\n",
       "      <td>4</td>\n",
       "      <td>14</td>\n",
       "      <td>0.000916</td>\n",
       "      <td>0.000854</td>\n",
       "      <td>0.001007</td>\n",
       "      <td>0.000916</td>\n",
       "      <td>0.000763</td>\n",
       "      <td>0.000763</td>\n",
       "      <td>0.000366</td>\n",
       "      <td>0.000183</td>\n",
       "      <td>...</td>\n",
       "      <td>-0.013916</td>\n",
       "      <td>-0.012115</td>\n",
       "      <td>-0.009949</td>\n",
       "      <td>-0.007599</td>\n",
       "      <td>-0.004730</td>\n",
       "      <td>-0.002869</td>\n",
       "      <td>-0.001190</td>\n",
       "      <td>0.000977</td>\n",
       "      <td>0.004181</td>\n",
       "      <td>0</td>\n",
       "    </tr>\n",
       "    <tr>\n",
       "      <th>...</th>\n",
       "      <td>...</td>\n",
       "      <td>...</td>\n",
       "      <td>...</td>\n",
       "      <td>...</td>\n",
       "      <td>...</td>\n",
       "      <td>...</td>\n",
       "      <td>...</td>\n",
       "      <td>...</td>\n",
       "      <td>...</td>\n",
       "      <td>...</td>\n",
       "      <td>...</td>\n",
       "      <td>...</td>\n",
       "      <td>...</td>\n",
       "      <td>...</td>\n",
       "      <td>...</td>\n",
       "      <td>...</td>\n",
       "      <td>...</td>\n",
       "      <td>...</td>\n",
       "      <td>...</td>\n",
       "      <td>...</td>\n",
       "      <td>...</td>\n",
       "    </tr>\n",
       "    <tr>\n",
       "      <th>7951</th>\n",
       "      <td>437</td>\n",
       "      <td>15468</td>\n",
       "      <td>-0.000702</td>\n",
       "      <td>-0.000763</td>\n",
       "      <td>-0.000671</td>\n",
       "      <td>-0.000488</td>\n",
       "      <td>-0.000580</td>\n",
       "      <td>-0.000488</td>\n",
       "      <td>-0.000305</td>\n",
       "      <td>-0.000458</td>\n",
       "      <td>...</td>\n",
       "      <td>-0.001068</td>\n",
       "      <td>-0.000885</td>\n",
       "      <td>-0.000977</td>\n",
       "      <td>-0.001007</td>\n",
       "      <td>-0.001099</td>\n",
       "      <td>-0.000854</td>\n",
       "      <td>-0.001129</td>\n",
       "      <td>-0.001007</td>\n",
       "      <td>-0.000946</td>\n",
       "      <td>18</td>\n",
       "    </tr>\n",
       "    <tr>\n",
       "      <th>7952</th>\n",
       "      <td>438</td>\n",
       "      <td>15469</td>\n",
       "      <td>-0.001038</td>\n",
       "      <td>-0.000916</td>\n",
       "      <td>-0.001099</td>\n",
       "      <td>-0.000854</td>\n",
       "      <td>-0.000885</td>\n",
       "      <td>-0.000824</td>\n",
       "      <td>-0.000824</td>\n",
       "      <td>-0.000977</td>\n",
       "      <td>...</td>\n",
       "      <td>-0.008087</td>\n",
       "      <td>-0.007263</td>\n",
       "      <td>-0.006134</td>\n",
       "      <td>-0.005432</td>\n",
       "      <td>-0.005676</td>\n",
       "      <td>-0.005249</td>\n",
       "      <td>-0.004150</td>\n",
       "      <td>-0.003174</td>\n",
       "      <td>-0.002411</td>\n",
       "      <td>18</td>\n",
       "    </tr>\n",
       "    <tr>\n",
       "      <th>7953</th>\n",
       "      <td>439</td>\n",
       "      <td>15473</td>\n",
       "      <td>-0.000244</td>\n",
       "      <td>-0.000183</td>\n",
       "      <td>0.000000</td>\n",
       "      <td>-0.000092</td>\n",
       "      <td>-0.000153</td>\n",
       "      <td>0.000061</td>\n",
       "      <td>-0.000275</td>\n",
       "      <td>0.000092</td>\n",
       "      <td>...</td>\n",
       "      <td>-0.000183</td>\n",
       "      <td>-0.000031</td>\n",
       "      <td>0.000092</td>\n",
       "      <td>0.000061</td>\n",
       "      <td>0.000061</td>\n",
       "      <td>0.000183</td>\n",
       "      <td>-0.000122</td>\n",
       "      <td>-0.000214</td>\n",
       "      <td>-0.000092</td>\n",
       "      <td>18</td>\n",
       "    </tr>\n",
       "    <tr>\n",
       "      <th>7954</th>\n",
       "      <td>440</td>\n",
       "      <td>15474</td>\n",
       "      <td>0.000122</td>\n",
       "      <td>0.000000</td>\n",
       "      <td>-0.000183</td>\n",
       "      <td>-0.000488</td>\n",
       "      <td>-0.000580</td>\n",
       "      <td>-0.000763</td>\n",
       "      <td>-0.000854</td>\n",
       "      <td>-0.000549</td>\n",
       "      <td>...</td>\n",
       "      <td>0.000031</td>\n",
       "      <td>0.000092</td>\n",
       "      <td>0.000244</td>\n",
       "      <td>0.000153</td>\n",
       "      <td>0.000305</td>\n",
       "      <td>0.000427</td>\n",
       "      <td>0.000366</td>\n",
       "      <td>0.000214</td>\n",
       "      <td>0.000336</td>\n",
       "      <td>18</td>\n",
       "    </tr>\n",
       "    <tr>\n",
       "      <th>7955</th>\n",
       "      <td>441</td>\n",
       "      <td>15478</td>\n",
       "      <td>0.000977</td>\n",
       "      <td>0.001007</td>\n",
       "      <td>0.000610</td>\n",
       "      <td>0.000793</td>\n",
       "      <td>0.001587</td>\n",
       "      <td>0.001495</td>\n",
       "      <td>0.000671</td>\n",
       "      <td>0.000641</td>\n",
       "      <td>...</td>\n",
       "      <td>-0.000458</td>\n",
       "      <td>0.000092</td>\n",
       "      <td>-0.000458</td>\n",
       "      <td>-0.000702</td>\n",
       "      <td>0.000244</td>\n",
       "      <td>-0.000366</td>\n",
       "      <td>-0.000244</td>\n",
       "      <td>0.000153</td>\n",
       "      <td>-0.000458</td>\n",
       "      <td>18</td>\n",
       "    </tr>\n",
       "  </tbody>\n",
       "</table>\n",
       "<p>7956 rows × 5003 columns</p>\n",
       "</div>"
      ],
      "text/plain": [
       "      level_0  index      col0      col1      col2      col3      col4  \\\n",
       "0           0      5 -0.000580 -0.000519 -0.000427 -0.000458 -0.000671   \n",
       "1           1      8  0.027344  0.024506  0.021759  0.019226  0.015594   \n",
       "2           2     10  0.000946  0.001038  0.001221  0.001007  0.000916   \n",
       "3           3     11 -0.014557 -0.015533 -0.016449 -0.017365 -0.018768   \n",
       "4           4     14  0.000916  0.000854  0.001007  0.000916  0.000763   \n",
       "...       ...    ...       ...       ...       ...       ...       ...   \n",
       "7951      437  15468 -0.000702 -0.000763 -0.000671 -0.000488 -0.000580   \n",
       "7952      438  15469 -0.001038 -0.000916 -0.001099 -0.000854 -0.000885   \n",
       "7953      439  15473 -0.000244 -0.000183  0.000000 -0.000092 -0.000153   \n",
       "7954      440  15474  0.000122  0.000000 -0.000183 -0.000488 -0.000580   \n",
       "7955      441  15478  0.000977  0.001007  0.000610  0.000793  0.001587   \n",
       "\n",
       "          col5      col6      col7  ...   col4991   col4992   col4993  \\\n",
       "0    -0.000641 -0.000732 -0.000671  ...  0.000519  0.000458  0.000275   \n",
       "1     0.013641  0.010406  0.008728  ...  0.000732  0.000702  0.000732   \n",
       "2     0.000946  0.000946  0.000732  ...  0.030457  0.033081  0.037323   \n",
       "3    -0.019989 -0.021240 -0.022278  ... -0.012695 -0.014465 -0.015625   \n",
       "4     0.000763  0.000366  0.000183  ... -0.013916 -0.012115 -0.009949   \n",
       "...        ...       ...       ...  ...       ...       ...       ...   \n",
       "7951 -0.000488 -0.000305 -0.000458  ... -0.001068 -0.000885 -0.000977   \n",
       "7952 -0.000824 -0.000824 -0.000977  ... -0.008087 -0.007263 -0.006134   \n",
       "7953  0.000061 -0.000275  0.000092  ... -0.000183 -0.000031  0.000092   \n",
       "7954 -0.000763 -0.000854 -0.000549  ...  0.000031  0.000092  0.000244   \n",
       "7955  0.001495  0.000671  0.000641  ... -0.000458  0.000092 -0.000458   \n",
       "\n",
       "       col4994   col4995   col4996   col4997   col4998   col4999  col5000  \n",
       "0     0.000488  0.000458  0.000305  0.000397  0.000397  0.000183        0  \n",
       "1     0.000763  0.001068  0.000610  0.000580  0.000488  0.000763        0  \n",
       "2     0.038086  0.036957  0.039246  0.042419  0.042206  0.039001        0  \n",
       "3    -0.016571 -0.016815 -0.017181 -0.016449 -0.015808 -0.014954        0  \n",
       "4    -0.007599 -0.004730 -0.002869 -0.001190  0.000977  0.004181        0  \n",
       "...        ...       ...       ...       ...       ...       ...      ...  \n",
       "7951 -0.001007 -0.001099 -0.000854 -0.001129 -0.001007 -0.000946       18  \n",
       "7952 -0.005432 -0.005676 -0.005249 -0.004150 -0.003174 -0.002411       18  \n",
       "7953  0.000061  0.000061  0.000183 -0.000122 -0.000214 -0.000092       18  \n",
       "7954  0.000153  0.000305  0.000427  0.000366  0.000214  0.000336       18  \n",
       "7955 -0.000702  0.000244 -0.000366 -0.000244  0.000153 -0.000458       18  \n",
       "\n",
       "[7956 rows x 5003 columns]"
      ]
     },
     "execution_count": 1085,
     "metadata": {},
     "output_type": "execute_result"
    }
   ],
   "source": [
    "X_train_f_hc_concat = pd.concat(new_X_hc_f_split_train, axis = 0)\n",
    "X_train_f_hc_concat = X_train_f_hc_concat.reset_index()\n",
    "\n",
    "X_train_f_hc_concat"
   ]
  },
  {
   "cell_type": "code",
   "execution_count": 1086,
   "metadata": {},
   "outputs": [
    {
     "data": {
      "text/plain": [
       "18.0"
      ]
     },
     "execution_count": 1086,
     "metadata": {},
     "output_type": "execute_result"
    }
   ],
   "source": [
    "7956/442"
   ]
  },
  {
   "cell_type": "code",
   "execution_count": 1087,
   "metadata": {},
   "outputs": [],
   "source": [
    "X_train_f_hc_concat_0 = X_train_f_hc_concat.drop(['level_0', 'index', 'col5000'], axis=1) "
   ]
  },
  {
   "cell_type": "code",
   "execution_count": 1088,
   "metadata": {},
   "outputs": [
    {
     "name": "stdout",
     "output_type": "stream",
     "text": [
      "354 89\n"
     ]
    }
   ],
   "source": [
    "# NOTE: To extract the trainiing set, even if the sets are of bigger dimensions, we still set the 80% equal to N_m\n",
    "#       across the groups and ALSO the desings.\n",
    "\n",
    "per_train_hc_f = math.ceil(N_f * 0.8)\n",
    "per_test_hc_f = math.ceil(N_f * 0.2)\n",
    "print(per_train_hc_f, per_test_hc_f)"
   ]
  },
  {
   "cell_type": "code",
   "execution_count": 1089,
   "metadata": {},
   "outputs": [
    {
     "name": "stdout",
     "output_type": "stream",
     "text": [
      "0.4577692590412453\n"
     ]
    }
   ],
   "source": [
    "#Set see to reproduce the results\n",
    "random.seed(1)\n",
    "\n",
    "range_hc_f = range(0, X_train_f_hc_concat_0.shape[0] )\n",
    "range_hc_f_test = range(0, N_m)\n",
    "\n",
    "rand_s_train_hc_f = random.sample(range_hc_f, k = per_train_hc_f)\n",
    "rand_s_test_hc_f = random.sample(range_hc_f_test, k = per_test_hc_f)\n",
    "\n",
    "print(random.random()) #0.4577692590412453\n",
    "\n",
    "ind_train_hc_f = sorted(rand_s_train_hc_f) \n",
    "ind_test_hc_f = sorted(rand_s_test_hc_f) \n",
    "\n",
    "X_train_f_hc_concat_0 = X_train_f_hc_concat.drop(['level_0', 'index', 'col5000'], axis  = 1)\n",
    "\n",
    "X_train_f_hc = X_train_f_hc_concat_0.reset_index().loc[ind_train_hc_f] \n",
    "\n",
    "X_train_f_hc = X_train_f_hc.drop(['index'], axis = 1)\n",
    "\n",
    "X_train_f_hc = X_train_f_hc.values\n",
    "\n",
    "X_test_hc_f = new_X_hc_f_split_test[0].reset_index().loc[ind_test_hc_f]\n",
    "\n",
    "X_test_hc_f = X_test_hc_f.drop(['level_0', 'index', 'col5000'], axis=1)\n",
    "\n",
    "X_test_hc_f = X_test_hc_f.values "
   ]
  },
  {
   "cell_type": "code",
   "execution_count": 1090,
   "metadata": {},
   "outputs": [
    {
     "data": {
      "text/plain": [
       "89"
      ]
     },
     "execution_count": 1090,
     "metadata": {},
     "output_type": "execute_result"
    }
   ],
   "source": [
    "len(X_test_hc_f)"
   ]
  },
  {
   "cell_type": "code",
   "execution_count": null,
   "metadata": {},
   "outputs": [],
   "source": []
  },
  {
   "cell_type": "code",
   "execution_count": 1091,
   "metadata": {},
   "outputs": [],
   "source": [
    "np.save('X_test_hc_f_4', X_test_hc_f)"
   ]
  },
  {
   "cell_type": "code",
   "execution_count": 678,
   "metadata": {},
   "outputs": [],
   "source": [
    "np.save('X_test_hc_f_3', X_test_hc_f)"
   ]
  },
  {
   "cell_type": "code",
   "execution_count": 712,
   "metadata": {},
   "outputs": [],
   "source": [
    "np.save('X_test_hc_f_9', X_test_hc_f)"
   ]
  },
  {
   "cell_type": "code",
   "execution_count": 748,
   "metadata": {},
   "outputs": [],
   "source": [
    "np.save('X_test_hc_f_12', X_test_hc_f)"
   ]
  },
  {
   "cell_type": "code",
   "execution_count": 770,
   "metadata": {},
   "outputs": [],
   "source": [
    "np.save('X_test_hc_f_6', X_test_hc_f)"
   ]
  },
  {
   "cell_type": "code",
   "execution_count": 792,
   "metadata": {},
   "outputs": [],
   "source": [
    "np.save('X_test_hc_f_2', X_test_hc_f)"
   ]
  },
  {
   "cell_type": "code",
   "execution_count": 811,
   "metadata": {},
   "outputs": [],
   "source": [
    "np.save('X_test_hc_f_5', X_test_hc_f)"
   ]
  },
  {
   "cell_type": "code",
   "execution_count": 832,
   "metadata": {},
   "outputs": [],
   "source": [
    "np.save('X_test_hc_f_1', X_test_hc_f)"
   ]
  },
  {
   "cell_type": "code",
   "execution_count": 852,
   "metadata": {},
   "outputs": [],
   "source": [
    "np.save('X_test_hc_f_14', X_test_hc_f)"
   ]
  },
  {
   "cell_type": "code",
   "execution_count": 874,
   "metadata": {},
   "outputs": [],
   "source": [
    "np.save('X_test_hc_f_18', X_test_hc_f)"
   ]
  },
  {
   "cell_type": "code",
   "execution_count": 893,
   "metadata": {},
   "outputs": [],
   "source": [
    "np.save('X_test_hc_f_11', X_test_hc_f)"
   ]
  },
  {
   "cell_type": "code",
   "execution_count": 912,
   "metadata": {},
   "outputs": [],
   "source": [
    "np.save('X_test_hc_f_15', X_test_hc_f)"
   ]
  },
  {
   "cell_type": "code",
   "execution_count": 932,
   "metadata": {},
   "outputs": [],
   "source": [
    "np.save('X_test_hc_f_13', X_test_hc_f)"
   ]
  },
  {
   "cell_type": "code",
   "execution_count": 957,
   "metadata": {},
   "outputs": [],
   "source": [
    "np.save('X_test_hc_f_7', X_test_hc_f)"
   ]
  },
  {
   "cell_type": "code",
   "execution_count": 981,
   "metadata": {},
   "outputs": [],
   "source": [
    "np.save('X_test_hc_f_0', X_test_hc_f)"
   ]
  },
  {
   "cell_type": "code",
   "execution_count": 1003,
   "metadata": {},
   "outputs": [],
   "source": [
    "np.save('X_test_hc_f_8', X_test_hc_f)"
   ]
  },
  {
   "cell_type": "code",
   "execution_count": 1032,
   "metadata": {},
   "outputs": [],
   "source": [
    "np.save('X_test_hc_f_17', X_test_hc_f)"
   ]
  },
  {
   "cell_type": "code",
   "execution_count": 1056,
   "metadata": {},
   "outputs": [],
   "source": [
    "np.save('X_test_hc_f_16', X_test_hc_f)"
   ]
  },
  {
   "cell_type": "code",
   "execution_count": null,
   "metadata": {},
   "outputs": [],
   "source": []
  },
  {
   "cell_type": "code",
   "execution_count": null,
   "metadata": {},
   "outputs": [],
   "source": []
  },
  {
   "cell_type": "code",
   "execution_count": 129,
   "metadata": {},
   "outputs": [],
   "source": [
    "np.save('X_train_f_hc', X_train_f_hc)"
   ]
  },
  {
   "cell_type": "code",
   "execution_count": 76,
   "metadata": {},
   "outputs": [],
   "source": [
    "np.save('X_test_hc_f', X_test_hc_f)"
   ]
  },
  {
   "cell_type": "code",
   "execution_count": null,
   "metadata": {},
   "outputs": [],
   "source": []
  }
 ],
 "metadata": {
  "kernelspec": {
   "display_name": "Python 3",
   "language": "python",
   "name": "python3"
  },
  "language_info": {
   "codemirror_mode": {
    "name": "ipython",
    "version": 3
   },
   "file_extension": ".py",
   "mimetype": "text/x-python",
   "name": "python",
   "nbconvert_exporter": "python",
   "pygments_lexer": "ipython3",
   "version": "3.8.11"
  }
 },
 "nbformat": 4,
 "nbformat_minor": 4
}
