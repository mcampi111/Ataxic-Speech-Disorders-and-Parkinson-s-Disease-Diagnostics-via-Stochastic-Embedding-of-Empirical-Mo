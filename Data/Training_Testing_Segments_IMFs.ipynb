{
 "cells": [
  {
   "cell_type": "markdown",
   "id": "128bf857",
   "metadata": {},
   "source": [
    "# Parkinson Data\n",
    "\n",
    "Website: https://zenodo.org/record/2867216#.X5n430dxfD5\n",
    "\n",
    "\n",
    "## Notebook for Construction of Training and Testing for the IMFs \n",
    "\n",
    "Equivalent procedure used on the raw data applied to the IMFs\n",
    "\n"
   ]
  },
  {
   "cell_type": "code",
   "execution_count": 1,
   "id": "313c4791",
   "metadata": {},
   "outputs": [],
   "source": [
    "import numpy as np\n",
    "import os as os\n",
    "from pathlib import Path\n",
    "import matplotlib.pyplot as plt\n",
    "import time\n",
    "import random\n",
    "import pandas as pd\n",
    "import pickle\n",
    "import rpy2.robjects as robjects\n",
    "from rpy2.robjects import pandas2ri\n",
    "pandas2ri.activate()\n",
    "import math"
   ]
  },
  {
   "cell_type": "code",
   "execution_count": 2,
   "id": "147b08eb",
   "metadata": {},
   "outputs": [],
   "source": [
    "X_tr_IMFs_hc_m = np.load ( 'C:\\\\Users\\\\Marta\\\\Desktop\\\\Parkinson_data\\\\Python_code\\\\Data_extraction_&_preliminaries\\\\Results\\\\IMFs_train_test_DOITAGAIN\\\\IMFs_train_5_hc_m.npy')\n",
    "X_tr_IMFs_pd_m = np.load ('C:\\\\Users\\\\Marta\\\\Desktop\\\\Parkinson_data\\\\Python_code\\\\Data_extraction_&_preliminaries\\\\Results\\\\IMFs_train_test_DOITAGAIN\\\\IMFs_train_5_pd_m.npy')\n",
    "\n",
    "X_tr_IMFs_hc_f = np.load ( 'C:\\\\Users\\\\Marta\\\\Desktop\\\\Parkinson_data\\\\Python_code\\\\Data_extraction_&_preliminaries\\\\Results\\\\IMFs_train_test_DOITAGAIN\\\\IMFs_train_5_hc_f.npy')\n",
    "X_tr_IMFs_pd_f = np.load ('C:\\\\Users\\\\Marta\\\\Desktop\\\\Parkinson_data\\\\Python_code\\\\Data_extraction_&_preliminaries\\\\Results\\\\IMFs_train_test_DOITAGAIN\\\\IMFs_train_5_pd_f.npy')"
   ]
  },
  {
   "cell_type": "code",
   "execution_count": 3,
   "id": "28d13f64",
   "metadata": {},
   "outputs": [
    {
     "data": {
      "text/plain": [
       "1732"
      ]
     },
     "execution_count": 3,
     "metadata": {},
     "output_type": "execute_result"
    }
   ],
   "source": [
    "len(X_tr_IMFs_hc_m)"
   ]
  },
  {
   "cell_type": "code",
   "execution_count": 4,
   "id": "afd66593",
   "metadata": {},
   "outputs": [
    {
     "data": {
      "text/plain": [
       "7994"
      ]
     },
     "execution_count": 4,
     "metadata": {},
     "output_type": "execute_result"
    }
   ],
   "source": [
    "len(X_tr_IMFs_pd_m)"
   ]
  },
  {
   "cell_type": "code",
   "execution_count": 5,
   "id": "3f5746da",
   "metadata": {},
   "outputs": [
    {
     "data": {
      "text/plain": [
       "15479"
      ]
     },
     "execution_count": 5,
     "metadata": {},
     "output_type": "execute_result"
    }
   ],
   "source": [
    "len(X_tr_IMFs_hc_f)"
   ]
  },
  {
   "cell_type": "code",
   "execution_count": 6,
   "id": "aff99d35",
   "metadata": {},
   "outputs": [
    {
     "data": {
      "text/plain": [
       "2752"
      ]
     },
     "execution_count": 6,
     "metadata": {},
     "output_type": "execute_result"
    }
   ],
   "source": [
    "len(X_tr_IMFs_pd_f)"
   ]
  },
  {
   "cell_type": "code",
   "execution_count": 3,
   "id": "d3098453",
   "metadata": {},
   "outputs": [],
   "source": [
    "X_imf1_pd_f = [X_tr_IMFs_pd_f[i][:,0] for i in range(0,len(X_tr_IMFs_pd_f))]\n",
    "X_imf2_pd_f = [X_tr_IMFs_pd_f[i][:,1] for i in range(0,len(X_tr_IMFs_pd_f))]\n",
    "X_imf3_pd_f = [X_tr_IMFs_pd_f[i][:,2] for i in range(0,len(X_tr_IMFs_pd_f))]\n",
    "X_imf4_pd_f = [X_tr_IMFs_pd_f[i][:,3] for i in range(0,len(X_tr_IMFs_pd_f))]\n",
    "X_imf5_pd_f = [X_tr_IMFs_pd_f[i][:,4] for i in range(0,len(X_tr_IMFs_pd_f))]\n",
    "\n",
    "X_IMF_pd_f = [X_imf1_pd_f,X_imf2_pd_f,X_imf3_pd_f,X_imf4_pd_f,X_imf5_pd_f]"
   ]
  },
  {
   "cell_type": "code",
   "execution_count": 4,
   "id": "6a56f8a4",
   "metadata": {},
   "outputs": [],
   "source": [
    "X_imf1_pd_m = [X_tr_IMFs_pd_m[i][:,0] for i in range(0,len(X_tr_IMFs_pd_m))]\n",
    "X_imf2_pd_m = [X_tr_IMFs_pd_m[i][:,1] for i in range(0,len(X_tr_IMFs_pd_m))]\n",
    "X_imf3_pd_m = [X_tr_IMFs_pd_m[i][:,2] for i in range(0,len(X_tr_IMFs_pd_m))]\n",
    "X_imf4_pd_m = [X_tr_IMFs_pd_m[i][:,3] for i in range(0,len(X_tr_IMFs_pd_m))]\n",
    "X_imf5_pd_m = [X_tr_IMFs_pd_m[i][:,4] for i in range(0,len(X_tr_IMFs_pd_m))]\n",
    "\n",
    "X_IMF_pd_m = [X_imf1_pd_m,X_imf2_pd_m,X_imf3_pd_m,X_imf4_pd_m,X_imf5_pd_m]"
   ]
  },
  {
   "cell_type": "code",
   "execution_count": 5,
   "id": "d33693a2",
   "metadata": {},
   "outputs": [],
   "source": [
    "X_imf1_hc_f = [X_tr_IMFs_hc_f[i][:,0] for i in range(0,len(X_tr_IMFs_hc_f))]\n",
    "X_imf2_hc_f = [X_tr_IMFs_hc_f[i][:,1] for i in range(0,len(X_tr_IMFs_hc_f))]\n",
    "X_imf3_hc_f = [X_tr_IMFs_hc_f[i][:,2] for i in range(0,len(X_tr_IMFs_hc_f))]\n",
    "X_imf4_hc_f = [X_tr_IMFs_hc_f[i][:,3] for i in range(0,len(X_tr_IMFs_hc_f))]\n",
    "X_imf5_hc_f = [X_tr_IMFs_hc_f[i][:,4] for i in range(0,len(X_tr_IMFs_hc_f))]\n",
    "\n",
    "X_IMF_hc_f = [X_imf1_hc_f,X_imf2_hc_f,X_imf3_hc_f,X_imf4_hc_f,X_imf5_hc_f]"
   ]
  },
  {
   "cell_type": "code",
   "execution_count": 6,
   "id": "cc3d0a2e",
   "metadata": {},
   "outputs": [],
   "source": [
    "X_imf1_hc_m = [X_tr_IMFs_hc_m[i][:,0] for i in range(0,len(X_tr_IMFs_hc_m))]\n",
    "X_imf2_hc_m = [X_tr_IMFs_hc_m[i][:,1] for i in range(0,len(X_tr_IMFs_hc_m))]\n",
    "X_imf3_hc_m = [X_tr_IMFs_hc_m[i][:,2] for i in range(0,len(X_tr_IMFs_hc_m))]\n",
    "X_imf4_hc_m = [X_tr_IMFs_hc_m[i][:,3] for i in range(0,len(X_tr_IMFs_hc_m))]\n",
    "X_imf5_hc_m = [X_tr_IMFs_hc_m[i][:,4] for i in range(0,len(X_tr_IMFs_hc_m))]\n",
    "\n",
    "X_IMF_hc_m = [X_imf1_hc_m,X_imf2_hc_m,X_imf3_hc_m,X_imf4_hc_m,X_imf5_hc_m]"
   ]
  },
  {
   "cell_type": "code",
   "execution_count": 7,
   "id": "06772925",
   "metadata": {},
   "outputs": [],
   "source": [
    "#THESE ARE NOT THE FINAL SPLIT - USED THEM IN THE RTSNE (FOR NOW ONLY MALE) TO PROVIDE EVIDENCE OF THE REQUIRED SPLITTING\n",
    "#WE ARE GOING TO SPLIT THE GROUPS WRT BOTH PD STAGE AND PATIENT NUMBER TO LEAVE OUT ONE PATIENT FOR THE TESTING\n",
    "X_imf1_m_pd_split_11 = np.load(\"C:\\\\Users\\\\Marta\\\\Desktop\\\\Parkinson_data\\\\Python_code\\\\Data_extraction_&_preliminaries\\\\Results\\\\X_imf1_m_pd_split_11.npy\", allow_pickle=True)\n",
    "X_imf2_m_pd_split_11 = np.load(\"C:\\\\Users\\\\Marta\\\\Desktop\\\\Parkinson_data\\\\Python_code\\\\Data_extraction_&_preliminaries\\\\Results\\\\X_imf2_m_pd_split_11.npy\", allow_pickle=True)\n",
    "X_imf3_m_pd_split_11 = np.load(\"C:\\\\Users\\\\Marta\\\\Desktop\\\\Parkinson_data\\\\Python_code\\\\Data_extraction_&_preliminaries\\\\Results\\\\X_imf3_m_pd_split_11.npy\", allow_pickle=True)\n",
    "X_imf4_m_pd_split_11 = np.load(\"C:\\\\Users\\\\Marta\\\\Desktop\\\\Parkinson_data\\\\Python_code\\\\Data_extraction_&_preliminaries\\\\Results\\\\X_imf4_m_pd_split_11.npy\", allow_pickle=True)\n",
    "X_imf5_m_pd_split_11 = np.load(\"C:\\\\Users\\\\Marta\\\\Desktop\\\\Parkinson_data\\\\Python_code\\\\Data_extraction_&_preliminaries\\\\Results\\\\X_imf5_m_pd_split_11.npy\", allow_pickle=True)\n"
   ]
  },
  {
   "cell_type": "code",
   "execution_count": 8,
   "id": "464f0bb5",
   "metadata": {},
   "outputs": [],
   "source": [
    "#THESE ARE NOT THE FINAL SPLIT - USED THEM IN THE RTSNE (FOR NOW ONLY MALE) TO PROVIDE EVIDENCE OF THE REQUIRED SPLITTING\n",
    "#WE ARE GOING TO SPLIT THE GROUPS WRT BOTH PD STAGE AND PATIENT NUMBER TO LEAVE OUT ONE PATIENT FOR THE TESTING\n",
    "X_imf1_f_pd_split_11 = np.load(\"C:\\\\Users\\\\Marta\\\\Desktop\\\\Parkinson_data\\\\Python_code\\\\Data_extraction_&_preliminaries\\\\Results\\\\X_imf1_f_pd_split_11.npy\", allow_pickle=True)\n",
    "X_imf2_f_pd_split_11 = np.load(\"C:\\\\Users\\\\Marta\\\\Desktop\\\\Parkinson_data\\\\Python_code\\\\Data_extraction_&_preliminaries\\\\Results\\\\X_imf2_f_pd_split_11.npy\", allow_pickle=True)\n",
    "X_imf3_f_pd_split_11 = np.load(\"C:\\\\Users\\\\Marta\\\\Desktop\\\\Parkinson_data\\\\Python_code\\\\Data_extraction_&_preliminaries\\\\Results\\\\X_imf3_f_pd_split_11.npy\", allow_pickle=True)\n",
    "X_imf4_f_pd_split_11 = np.load(\"C:\\\\Users\\\\Marta\\\\Desktop\\\\Parkinson_data\\\\Python_code\\\\Data_extraction_&_preliminaries\\\\Results\\\\X_imf4_f_pd_split_11.npy\", allow_pickle=True)\n",
    "X_imf5_f_pd_split_11 = np.load(\"C:\\\\Users\\\\Marta\\\\Desktop\\\\Parkinson_data\\\\Python_code\\\\Data_extraction_&_preliminaries\\\\Results\\\\X_imf5_f_pd_split_11.npy\", allow_pickle=True)\n"
   ]
  },
  {
   "cell_type": "markdown",
   "id": "59393fd4",
   "metadata": {},
   "source": [
    "### 1) Separate the IMFs segments wrt PD Stage and Patient Number"
   ]
  },
  {
   "cell_type": "code",
   "execution_count": 9,
   "id": "9ccb19a6",
   "metadata": {},
   "outputs": [],
   "source": [
    "len_IMF_f_tr = len(X_imf1_f_pd_split_11)\n",
    "len_IMF_m_tr = len(X_imf1_m_pd_split_11)"
   ]
  },
  {
   "cell_type": "code",
   "execution_count": 10,
   "id": "36f378c4",
   "metadata": {},
   "outputs": [
    {
     "data": {
      "text/plain": [
       "[1543, 1209]"
      ]
     },
     "execution_count": 10,
     "metadata": {},
     "output_type": "execute_result"
    }
   ],
   "source": [
    "n_seg_IMF_f_tr = [len(X_imf1_f_pd_split_11[i]) for i in range(0, len_IMF_f_tr)]\n",
    "n_seg_IMF_f_tr"
   ]
  },
  {
   "cell_type": "code",
   "execution_count": 11,
   "id": "2a00c507",
   "metadata": {},
   "outputs": [
    {
     "data": {
      "text/plain": [
       "[3910, 2495, 1050, 539]"
      ]
     },
     "execution_count": 11,
     "metadata": {},
     "output_type": "execute_result"
    }
   ],
   "source": [
    "n_seg_IMF_m_tr = [len(X_imf1_m_pd_split_11[i]) for i in range(0, len_IMF_m_tr)]\n",
    "n_seg_IMF_m_tr"
   ]
  },
  {
   "cell_type": "code",
   "execution_count": 12,
   "id": "3b80761b",
   "metadata": {},
   "outputs": [],
   "source": [
    "################\n",
    "#Index Patients#\n",
    "################\n",
    "\n",
    "########\n",
    "#FEMALE#\n",
    "########\n",
    "final_index_pt_f_hc_train = np.load('C:\\\\Users\\\\Marta\\\\Desktop\\\\Parkinson_data\\\\Python_code\\\\System_M1\\\\Code\\\\final_index_pt_f_hc_train.npy')\n",
    "final_index_pt_f_pd_train = np.load('C:\\\\Users\\\\Marta\\\\Desktop\\\\Parkinson_data\\\\Python_code\\\\System_M1\\\\Code\\\\final_index_pt_f_pd_train.npy')\n",
    "\n",
    "######\n",
    "#MALE#\n",
    "######\n",
    "\n",
    "final_index_pt_m_hc_train = np.load('C:\\\\Users\\\\Marta\\\\Desktop\\\\Parkinson_data\\\\Python_code\\\\System_M1\\\\Code\\\\final_index_pt_m_hc_train.npy')\n",
    "final_index_pt_m_pd_train = np.load('C:\\\\Users\\\\Marta\\\\Desktop\\\\Parkinson_data\\\\Python_code\\\\System_M1\\\\Code\\\\final_index_pt_m_pd_train.npy')\n"
   ]
  },
  {
   "cell_type": "code",
   "execution_count": 15,
   "id": "ef6d1678",
   "metadata": {},
   "outputs": [
    {
     "data": {
      "text/plain": [
       "True"
      ]
     },
     "execution_count": 15,
     "metadata": {},
     "output_type": "execute_result"
    }
   ],
   "source": [
    "len(final_index_pt_f_hc_train) == len(X_tr_IMFs_hc_f)"
   ]
  },
  {
   "cell_type": "code",
   "execution_count": 16,
   "id": "09ab97b5",
   "metadata": {},
   "outputs": [
    {
     "data": {
      "text/plain": [
       "True"
      ]
     },
     "execution_count": 16,
     "metadata": {},
     "output_type": "execute_result"
    }
   ],
   "source": [
    "len(final_index_pt_f_pd_train) == sum(n_seg_IMF_f_tr)"
   ]
  },
  {
   "cell_type": "code",
   "execution_count": 17,
   "id": "620ce794",
   "metadata": {},
   "outputs": [
    {
     "data": {
      "text/plain": [
       "True"
      ]
     },
     "execution_count": 17,
     "metadata": {},
     "output_type": "execute_result"
    }
   ],
   "source": [
    "len(final_index_pt_m_hc_train) == len(X_tr_IMFs_hc_m)"
   ]
  },
  {
   "cell_type": "code",
   "execution_count": 18,
   "id": "28c21ca6",
   "metadata": {},
   "outputs": [
    {
     "data": {
      "text/plain": [
       "True"
      ]
     },
     "execution_count": 18,
     "metadata": {},
     "output_type": "execute_result"
    }
   ],
   "source": [
    "len(final_index_pt_m_pd_train) == sum(n_seg_IMF_m_tr)"
   ]
  },
  {
   "cell_type": "code",
   "execution_count": 13,
   "id": "bfaf21da",
   "metadata": {},
   "outputs": [],
   "source": [
    "#######################\n",
    "#Index Parkinson Stage#\n",
    "#######################\n",
    "\n",
    "########\n",
    "#FEMALE#\n",
    "########\n",
    "\n",
    "final_index_pd_f = np.load('C:\\\\Users\\\\Marta\\\\Desktop\\\\Parkinson_data\\\\Python_code\\\\System_M1\\\\Code\\\\final_index_pd_f.npy')\n",
    "\n",
    "######\n",
    "#MALE#\n",
    "######\n",
    "\n",
    "final_index_pd_m = np.load('C:\\\\Users\\\\Marta\\\\Desktop\\\\Parkinson_data\\\\Python_code\\\\System_M1\\\\Code\\\\final_index_pd_m.npy')\n"
   ]
  },
  {
   "cell_type": "code",
   "execution_count": 20,
   "id": "b2147834",
   "metadata": {},
   "outputs": [
    {
     "data": {
      "text/plain": [
       "True"
      ]
     },
     "execution_count": 20,
     "metadata": {},
     "output_type": "execute_result"
    }
   ],
   "source": [
    "len(final_index_pd_m) == len(final_index_pt_m_pd_train)"
   ]
  },
  {
   "cell_type": "code",
   "execution_count": 21,
   "id": "bd7e36bb",
   "metadata": {},
   "outputs": [
    {
     "data": {
      "text/plain": [
       "True"
      ]
     },
     "execution_count": 21,
     "metadata": {},
     "output_type": "execute_result"
    }
   ],
   "source": [
    "len(final_index_pd_f) == len(final_index_pt_f_pd_train)"
   ]
  },
  {
   "cell_type": "code",
   "execution_count": 14,
   "id": "da7c122d",
   "metadata": {},
   "outputs": [
    {
     "data": {
      "text/html": [
       "<div>\n",
       "<style scoped>\n",
       "    .dataframe tbody tr th:only-of-type {\n",
       "        vertical-align: middle;\n",
       "    }\n",
       "\n",
       "    .dataframe tbody tr th {\n",
       "        vertical-align: top;\n",
       "    }\n",
       "\n",
       "    .dataframe thead th {\n",
       "        text-align: right;\n",
       "    }\n",
       "</style>\n",
       "<table border=\"1\" class=\"dataframe\">\n",
       "  <thead>\n",
       "    <tr style=\"text-align: right;\">\n",
       "      <th></th>\n",
       "      <th>PD_stage</th>\n",
       "      <th>Patient_N</th>\n",
       "    </tr>\n",
       "  </thead>\n",
       "  <tbody>\n",
       "    <tr>\n",
       "      <th>0</th>\n",
       "      <td>0</td>\n",
       "      <td>0</td>\n",
       "    </tr>\n",
       "    <tr>\n",
       "      <th>1</th>\n",
       "      <td>0</td>\n",
       "      <td>0</td>\n",
       "    </tr>\n",
       "    <tr>\n",
       "      <th>2</th>\n",
       "      <td>0</td>\n",
       "      <td>0</td>\n",
       "    </tr>\n",
       "    <tr>\n",
       "      <th>3</th>\n",
       "      <td>0</td>\n",
       "      <td>0</td>\n",
       "    </tr>\n",
       "    <tr>\n",
       "      <th>4</th>\n",
       "      <td>0</td>\n",
       "      <td>0</td>\n",
       "    </tr>\n",
       "    <tr>\n",
       "      <th>...</th>\n",
       "      <td>...</td>\n",
       "      <td>...</td>\n",
       "    </tr>\n",
       "    <tr>\n",
       "      <th>7989</th>\n",
       "      <td>2</td>\n",
       "      <td>11</td>\n",
       "    </tr>\n",
       "    <tr>\n",
       "      <th>7990</th>\n",
       "      <td>2</td>\n",
       "      <td>11</td>\n",
       "    </tr>\n",
       "    <tr>\n",
       "      <th>7991</th>\n",
       "      <td>2</td>\n",
       "      <td>11</td>\n",
       "    </tr>\n",
       "    <tr>\n",
       "      <th>7992</th>\n",
       "      <td>2</td>\n",
       "      <td>11</td>\n",
       "    </tr>\n",
       "    <tr>\n",
       "      <th>7993</th>\n",
       "      <td>2</td>\n",
       "      <td>11</td>\n",
       "    </tr>\n",
       "  </tbody>\n",
       "</table>\n",
       "<p>7994 rows × 2 columns</p>\n",
       "</div>"
      ],
      "text/plain": [
       "      PD_stage  Patient_N\n",
       "0            0          0\n",
       "1            0          0\n",
       "2            0          0\n",
       "3            0          0\n",
       "4            0          0\n",
       "...        ...        ...\n",
       "7989         2         11\n",
       "7990         2         11\n",
       "7991         2         11\n",
       "7992         2         11\n",
       "7993         2         11\n",
       "\n",
       "[7994 rows x 2 columns]"
      ]
     },
     "execution_count": 14,
     "metadata": {},
     "output_type": "execute_result"
    }
   ],
   "source": [
    "df_seg_descr_m = pd.DataFrame([final_index_pd_m, final_index_pt_m_pd_train] ).T\n",
    "df_seg_descr_m.columns = ['PD_stage','Patient_N']\n",
    "df_seg_descr_m"
   ]
  },
  {
   "cell_type": "code",
   "execution_count": 15,
   "id": "0a78ad90",
   "metadata": {},
   "outputs": [
    {
     "data": {
      "text/html": [
       "<div>\n",
       "<style scoped>\n",
       "    .dataframe tbody tr th:only-of-type {\n",
       "        vertical-align: middle;\n",
       "    }\n",
       "\n",
       "    .dataframe tbody tr th {\n",
       "        vertical-align: top;\n",
       "    }\n",
       "\n",
       "    .dataframe thead th {\n",
       "        text-align: right;\n",
       "    }\n",
       "</style>\n",
       "<table border=\"1\" class=\"dataframe\">\n",
       "  <thead>\n",
       "    <tr style=\"text-align: right;\">\n",
       "      <th></th>\n",
       "      <th>PD_stage</th>\n",
       "      <th>Patient_N</th>\n",
       "    </tr>\n",
       "  </thead>\n",
       "  <tbody>\n",
       "    <tr>\n",
       "      <th>0</th>\n",
       "      <td>0</td>\n",
       "      <td>0</td>\n",
       "    </tr>\n",
       "    <tr>\n",
       "      <th>1</th>\n",
       "      <td>0</td>\n",
       "      <td>0</td>\n",
       "    </tr>\n",
       "    <tr>\n",
       "      <th>2</th>\n",
       "      <td>0</td>\n",
       "      <td>0</td>\n",
       "    </tr>\n",
       "    <tr>\n",
       "      <th>3</th>\n",
       "      <td>0</td>\n",
       "      <td>0</td>\n",
       "    </tr>\n",
       "    <tr>\n",
       "      <th>4</th>\n",
       "      <td>0</td>\n",
       "      <td>0</td>\n",
       "    </tr>\n",
       "    <tr>\n",
       "      <th>...</th>\n",
       "      <td>...</td>\n",
       "      <td>...</td>\n",
       "    </tr>\n",
       "    <tr>\n",
       "      <th>2747</th>\n",
       "      <td>0</td>\n",
       "      <td>3</td>\n",
       "    </tr>\n",
       "    <tr>\n",
       "      <th>2748</th>\n",
       "      <td>0</td>\n",
       "      <td>3</td>\n",
       "    </tr>\n",
       "    <tr>\n",
       "      <th>2749</th>\n",
       "      <td>0</td>\n",
       "      <td>3</td>\n",
       "    </tr>\n",
       "    <tr>\n",
       "      <th>2750</th>\n",
       "      <td>0</td>\n",
       "      <td>3</td>\n",
       "    </tr>\n",
       "    <tr>\n",
       "      <th>2751</th>\n",
       "      <td>0</td>\n",
       "      <td>3</td>\n",
       "    </tr>\n",
       "  </tbody>\n",
       "</table>\n",
       "<p>2752 rows × 2 columns</p>\n",
       "</div>"
      ],
      "text/plain": [
       "      PD_stage  Patient_N\n",
       "0            0          0\n",
       "1            0          0\n",
       "2            0          0\n",
       "3            0          0\n",
       "4            0          0\n",
       "...        ...        ...\n",
       "2747         0          3\n",
       "2748         0          3\n",
       "2749         0          3\n",
       "2750         0          3\n",
       "2751         0          3\n",
       "\n",
       "[2752 rows x 2 columns]"
      ]
     },
     "execution_count": 15,
     "metadata": {},
     "output_type": "execute_result"
    }
   ],
   "source": [
    "df_seg_descr_f = pd.DataFrame([final_index_pd_f, final_index_pt_f_pd_train] ).T\n",
    "df_seg_descr_f.columns = ['PD_stage','Patient_N']\n",
    "df_seg_descr_f\n"
   ]
  },
  {
   "cell_type": "code",
   "execution_count": 16,
   "id": "59ea00f2",
   "metadata": {},
   "outputs": [
    {
     "data": {
      "text/html": [
       "<div>\n",
       "<style scoped>\n",
       "    .dataframe tbody tr th:only-of-type {\n",
       "        vertical-align: middle;\n",
       "    }\n",
       "\n",
       "    .dataframe tbody tr th {\n",
       "        vertical-align: top;\n",
       "    }\n",
       "\n",
       "    .dataframe thead th {\n",
       "        text-align: right;\n",
       "    }\n",
       "</style>\n",
       "<table border=\"1\" class=\"dataframe\">\n",
       "  <thead>\n",
       "    <tr style=\"text-align: right;\">\n",
       "      <th></th>\n",
       "      <th></th>\n",
       "      <th>PD_stage</th>\n",
       "    </tr>\n",
       "    <tr>\n",
       "      <th>PD_stage</th>\n",
       "      <th>Patient_N</th>\n",
       "      <th></th>\n",
       "    </tr>\n",
       "  </thead>\n",
       "  <tbody>\n",
       "    <tr>\n",
       "      <th rowspan=\"2\" valign=\"top\">0</th>\n",
       "      <th>0</th>\n",
       "      <td>864</td>\n",
       "    </tr>\n",
       "    <tr>\n",
       "      <th>3</th>\n",
       "      <td>679</td>\n",
       "    </tr>\n",
       "    <tr>\n",
       "      <th rowspan=\"2\" valign=\"top\">1</th>\n",
       "      <th>1</th>\n",
       "      <td>449</td>\n",
       "    </tr>\n",
       "    <tr>\n",
       "      <th>2</th>\n",
       "      <td>760</td>\n",
       "    </tr>\n",
       "  </tbody>\n",
       "</table>\n",
       "</div>"
      ],
      "text/plain": [
       "                    PD_stage\n",
       "PD_stage Patient_N          \n",
       "0        0               864\n",
       "         3               679\n",
       "1        1               449\n",
       "         2               760"
      ]
     },
     "execution_count": 16,
     "metadata": {},
     "output_type": "execute_result"
    }
   ],
   "source": [
    "pd_df_f_seg = df_seg_descr_f.groupby(['PD_stage','Patient_N'])['PD_stage'].count()\n",
    "pd_df_f_seg = pd.DataFrame(pd_df_f_seg)\n",
    "pd_df_f_seg"
   ]
  },
  {
   "cell_type": "code",
   "execution_count": 25,
   "id": "86ce5495",
   "metadata": {},
   "outputs": [
    {
     "data": {
      "text/plain": [
       "PD_stage    2752\n",
       "dtype: int64"
      ]
     },
     "execution_count": 25,
     "metadata": {},
     "output_type": "execute_result"
    }
   ],
   "source": [
    "np.sum(pd_df_f_seg)"
   ]
  },
  {
   "cell_type": "code",
   "execution_count": null,
   "id": "d2dc8c12",
   "metadata": {},
   "outputs": [],
   "source": [
    "# HENCE: Within both groups I can always leave one patient out and do the training with the segments from only one\n",
    "#        patient. What I do now is slecting the minimum number of segments across the 4 groups --> 449. Then one patient\n",
    "#        will provide the training set and the other the testing. I will extract 80% for the training and 20% for the\n",
    "#        testing. UPDATE: the minimum number for one of the patient in the healthy class is 442 and therefore we keep \n",
    "#        that as a minimum number"
   ]
  },
  {
   "cell_type": "code",
   "execution_count": 17,
   "id": "6f4e525c",
   "metadata": {},
   "outputs": [
    {
     "data": {
      "text/html": [
       "<div>\n",
       "<style scoped>\n",
       "    .dataframe tbody tr th:only-of-type {\n",
       "        vertical-align: middle;\n",
       "    }\n",
       "\n",
       "    .dataframe tbody tr th {\n",
       "        vertical-align: top;\n",
       "    }\n",
       "\n",
       "    .dataframe thead th {\n",
       "        text-align: right;\n",
       "    }\n",
       "</style>\n",
       "<table border=\"1\" class=\"dataframe\">\n",
       "  <thead>\n",
       "    <tr style=\"text-align: right;\">\n",
       "      <th></th>\n",
       "      <th></th>\n",
       "      <th>PD_stage</th>\n",
       "    </tr>\n",
       "    <tr>\n",
       "      <th>PD_stage</th>\n",
       "      <th>Patient_N</th>\n",
       "      <th></th>\n",
       "    </tr>\n",
       "  </thead>\n",
       "  <tbody>\n",
       "    <tr>\n",
       "      <th rowspan=\"5\" valign=\"top\">0</th>\n",
       "      <th>0</th>\n",
       "      <td>999</td>\n",
       "    </tr>\n",
       "    <tr>\n",
       "      <th>1</th>\n",
       "      <td>530</td>\n",
       "    </tr>\n",
       "    <tr>\n",
       "      <th>3</th>\n",
       "      <td>832</td>\n",
       "    </tr>\n",
       "    <tr>\n",
       "      <th>6</th>\n",
       "      <td>771</td>\n",
       "    </tr>\n",
       "    <tr>\n",
       "      <th>7</th>\n",
       "      <td>778</td>\n",
       "    </tr>\n",
       "    <tr>\n",
       "      <th rowspan=\"4\" valign=\"top\">1</th>\n",
       "      <th>2</th>\n",
       "      <td>976</td>\n",
       "    </tr>\n",
       "    <tr>\n",
       "      <th>8</th>\n",
       "      <td>407</td>\n",
       "    </tr>\n",
       "    <tr>\n",
       "      <th>9</th>\n",
       "      <td>740</td>\n",
       "    </tr>\n",
       "    <tr>\n",
       "      <th>10</th>\n",
       "      <td>372</td>\n",
       "    </tr>\n",
       "    <tr>\n",
       "      <th rowspan=\"2\" valign=\"top\">2</th>\n",
       "      <th>4</th>\n",
       "      <td>401</td>\n",
       "    </tr>\n",
       "    <tr>\n",
       "      <th>11</th>\n",
       "      <td>649</td>\n",
       "    </tr>\n",
       "    <tr>\n",
       "      <th>3</th>\n",
       "      <th>5</th>\n",
       "      <td>539</td>\n",
       "    </tr>\n",
       "  </tbody>\n",
       "</table>\n",
       "</div>"
      ],
      "text/plain": [
       "                    PD_stage\n",
       "PD_stage Patient_N          \n",
       "0        0               999\n",
       "         1               530\n",
       "         3               832\n",
       "         6               771\n",
       "         7               778\n",
       "1        2               976\n",
       "         8               407\n",
       "         9               740\n",
       "         10              372\n",
       "2        4               401\n",
       "         11              649\n",
       "3        5               539"
      ]
     },
     "execution_count": 17,
     "metadata": {},
     "output_type": "execute_result"
    }
   ],
   "source": [
    "pd_df_m_seg = df_seg_descr_m.groupby(['PD_stage','Patient_N',])['PD_stage'].count()\n",
    "pd_df_m_seg = pd.DataFrame(pd_df_m_seg)\n",
    "pd_df_m_seg"
   ]
  },
  {
   "cell_type": "code",
   "execution_count": 23,
   "id": "c20455f8",
   "metadata": {},
   "outputs": [
    {
     "data": {
      "text/plain": [
       "PD_stage    7994\n",
       "dtype: int64"
      ]
     },
     "execution_count": 23,
     "metadata": {},
     "output_type": "execute_result"
    }
   ],
   "source": [
    "np.sum(pd_df_m_seg)"
   ]
  },
  {
   "cell_type": "code",
   "execution_count": null,
   "id": "c3c3f407",
   "metadata": {},
   "outputs": [],
   "source": [
    "#HENCE:  Within both groups I can always leave one patient out and do the training with the segments from only one\n",
    "#        patient. What I do now is slecting the minimum number of segments across As for the female case, I select the \n",
    "#        minimum number of segments across the 12  groups --> 372. Then, in each group, one patient randomly selected \n",
    "#        will provide the testing set and from the rest I will extract 80% for the training set. \n",
    "#        I will extract 80% for the training and 20% for the testing.\n",
    "#       "
   ]
  },
  {
   "cell_type": "code",
   "execution_count": null,
   "id": "e02a1d75",
   "metadata": {},
   "outputs": [],
   "source": [
    "# THE SET THAT I BUILT FOR THE SPLIT GROUPS ONLY TAKE INTO ACCOUNT THE DIFFERENTIATION W.R.T THE PD-STAGE. GIVEN MY\n",
    "# NEW DESIGN FOR THE TRAINING AND TESTING PROCEDURE I BUILD A NEW SET OF SPLITS WHICH WILL PROVIDE THE REQUIREMENTS\n",
    "# ABOVE INTRODUCED. THEREFORE I CONSTRUCT HERE AGAIN THE SPLIT GROUPS "
   ]
  },
  {
   "cell_type": "code",
   "execution_count": null,
   "id": "cd74dca8",
   "metadata": {},
   "outputs": [],
   "source": [
    "#############\n",
    "##MALE CASE##\n",
    "#############"
   ]
  },
  {
   "cell_type": "code",
   "execution_count": 18,
   "id": "a602b774",
   "metadata": {},
   "outputs": [],
   "source": [
    "n_IMF = 5"
   ]
  },
  {
   "cell_type": "code",
   "execution_count": null,
   "id": "7cb382c5",
   "metadata": {},
   "outputs": [],
   "source": [
    "IMF_train_pd_m_df = [ pd.DataFrame(X_IMF_pd_m[i]) for i in range(0,n_IMF)]\n",
    "final_index_pd_m_df = pd.DataFrame(final_index_pd_m)\n",
    "final_index_pt_m_pd_train_df = pd.DataFrame(final_index_pt_m_pd_train)"
   ]
  },
  {
   "cell_type": "code",
   "execution_count": 29,
   "id": "d5a9fba8",
   "metadata": {},
   "outputs": [],
   "source": [
    "IMF_train_m_pd_ind_df =[ pd.concat([IMF_train_pd_m_df[i],\n",
    "                                 final_index_pd_m_df,\n",
    "                                 final_index_pt_m_pd_train_df] , ignore_index= True, axis = 1)  for i in range(0,n_IMF)]"
   ]
  },
  {
   "cell_type": "code",
   "execution_count": 30,
   "id": "37c018b7",
   "metadata": {},
   "outputs": [],
   "source": [
    "col_list = ['col' + str(x) for x in range(0,IMF_train_m_pd_ind_df[0].shape[1])]\n",
    "for i in range(0,n_IMF):\n",
    "    IMF_train_m_pd_ind_df[i].columns = col_list    "
   ]
  },
  {
   "cell_type": "code",
   "execution_count": 31,
   "id": "31fb05bd",
   "metadata": {},
   "outputs": [],
   "source": [
    "#I split them with respect to the patients and then they have the associated PD_stage in the last col\n",
    "IMF_train_m_pd_split_0 = [IMF_train_m_pd_ind_df[i].groupby('col5001') for i in range(0,n_IMF)]\n",
    "IMF_train_m_pd_split = [[IMF_train_m_pd_split_0[i].get_group(x) for x in IMF_train_m_pd_split_0[i].groups] for i in range(0,n_IMF)]\n"
   ]
  },
  {
   "cell_type": "code",
   "execution_count": 32,
   "id": "badaf216",
   "metadata": {},
   "outputs": [
    {
     "data": {
      "text/plain": [
       "5"
      ]
     },
     "execution_count": 32,
     "metadata": {},
     "output_type": "execute_result"
    }
   ],
   "source": [
    "len(IMF_train_m_pd_split)"
   ]
  },
  {
   "cell_type": "code",
   "execution_count": 33,
   "id": "701f5368",
   "metadata": {},
   "outputs": [
    {
     "data": {
      "text/plain": [
       "[12, 12, 12, 12, 12]"
      ]
     },
     "execution_count": 33,
     "metadata": {},
     "output_type": "execute_result"
    }
   ],
   "source": [
    "[len(IMF_train_m_pd_split[i]) for i in range(0,n_IMF)]"
   ]
  },
  {
   "cell_type": "code",
   "execution_count": 34,
   "id": "37d22188",
   "metadata": {},
   "outputs": [
    {
     "data": {
      "text/plain": [
       "[[999, 530, 976, 832, 401, 539, 771, 778, 407, 740, 372, 649],\n",
       " [999, 530, 976, 832, 401, 539, 771, 778, 407, 740, 372, 649],\n",
       " [999, 530, 976, 832, 401, 539, 771, 778, 407, 740, 372, 649],\n",
       " [999, 530, 976, 832, 401, 539, 771, 778, 407, 740, 372, 649],\n",
       " [999, 530, 976, 832, 401, 539, 771, 778, 407, 740, 372, 649]]"
      ]
     },
     "execution_count": 34,
     "metadata": {},
     "output_type": "execute_result"
    }
   ],
   "source": [
    "n_seg_pd_m_split1 =  [[len(IMF_train_m_pd_split[j][i]) for i in range(0, len(IMF_train_m_pd_split[j]))] for j in range(0,n_IMF)]\n",
    "n_seg_pd_m_split1"
   ]
  },
  {
   "cell_type": "code",
   "execution_count": null,
   "id": "3cb6f9d9",
   "metadata": {},
   "outputs": [],
   "source": [
    "###############\n",
    "##FEMALE CASE##\n",
    "###############"
   ]
  },
  {
   "cell_type": "code",
   "execution_count": 35,
   "id": "7709335d",
   "metadata": {},
   "outputs": [],
   "source": [
    "IMF_train_pd_f_df = [ pd.DataFrame(X_IMF_pd_f[i]) for i in range(0,n_IMF)]\n",
    "final_index_pd_f_df = pd.DataFrame(final_index_pd_f)\n",
    "final_index_pt_f_pd_train_df = pd.DataFrame(final_index_pt_f_pd_train)"
   ]
  },
  {
   "cell_type": "code",
   "execution_count": 36,
   "id": "4b2a7bc6",
   "metadata": {},
   "outputs": [],
   "source": [
    "IMF_train_f_pd_ind_df =[ pd.concat([IMF_train_pd_f_df[i],\n",
    "                                 final_index_pd_f_df,\n",
    "                                 final_index_pt_f_pd_train_df] , ignore_index= True, axis = 1)  for i in range(0,n_IMF)]"
   ]
  },
  {
   "cell_type": "code",
   "execution_count": 37,
   "id": "8cac0a98",
   "metadata": {},
   "outputs": [],
   "source": [
    "col_list = ['col' + str(x) for x in range(0,IMF_train_f_pd_ind_df[0].shape[1])]\n",
    "for i in range(0,n_IMF):\n",
    "    IMF_train_f_pd_ind_df[i].columns = col_list    "
   ]
  },
  {
   "cell_type": "code",
   "execution_count": 38,
   "id": "e52f08e9",
   "metadata": {},
   "outputs": [],
   "source": [
    "#I split them with respect to the patients and then they have the associated PD_stage in the last col\n",
    "IMF_train_f_pd_split_0 = [IMF_train_f_pd_ind_df[i].groupby('col5001') for i in range(0,n_IMF)]\n",
    "IMF_train_f_pd_split = [[IMF_train_f_pd_split_0[i].get_group(x) for x in IMF_train_f_pd_split_0[i].groups] for i in range(0,n_IMF)]\n"
   ]
  },
  {
   "cell_type": "code",
   "execution_count": 39,
   "id": "c1e569d6",
   "metadata": {},
   "outputs": [
    {
     "data": {
      "text/plain": [
       "5"
      ]
     },
     "execution_count": 39,
     "metadata": {},
     "output_type": "execute_result"
    }
   ],
   "source": [
    "len(IMF_train_f_pd_split)"
   ]
  },
  {
   "cell_type": "code",
   "execution_count": 40,
   "id": "71c6b9f4",
   "metadata": {},
   "outputs": [
    {
     "data": {
      "text/plain": [
       "[4, 4, 4, 4, 4]"
      ]
     },
     "execution_count": 40,
     "metadata": {},
     "output_type": "execute_result"
    }
   ],
   "source": [
    "[len(IMF_train_f_pd_split[i]) for i in range(0,n_IMF)]"
   ]
  },
  {
   "cell_type": "code",
   "execution_count": 41,
   "id": "d71e7df6",
   "metadata": {},
   "outputs": [
    {
     "data": {
      "text/plain": [
       "[[864, 449, 760, 679],\n",
       " [864, 449, 760, 679],\n",
       " [864, 449, 760, 679],\n",
       " [864, 449, 760, 679],\n",
       " [864, 449, 760, 679]]"
      ]
     },
     "execution_count": 41,
     "metadata": {},
     "output_type": "execute_result"
    }
   ],
   "source": [
    "n_seg_pd_f_split1 =  [[len(IMF_train_f_pd_split[j][i]) for i in range(0, len(IMF_train_f_pd_split[j]))] for j in range(0,n_IMF)]\n",
    "n_seg_pd_f_split1"
   ]
  },
  {
   "cell_type": "markdown",
   "id": "586f5ce5",
   "metadata": {},
   "source": [
    "### 2) Compute the minimum of the number of segments in each group and denote that N_m and N_f"
   ]
  },
  {
   "cell_type": "code",
   "execution_count": 42,
   "id": "1203bf16",
   "metadata": {},
   "outputs": [
    {
     "data": {
      "text/plain": [
       "[999, 530, 976, 832, 401, 539, 771, 778, 407, 740, 372, 649]"
      ]
     },
     "execution_count": 42,
     "metadata": {},
     "output_type": "execute_result"
    }
   ],
   "source": [
    "n_seg_pd_m_split =  [len(IMF_train_m_pd_split[0][i]) for i in range(0, len(IMF_train_m_pd_split[0]))] \n",
    "n_seg_pd_m_split"
   ]
  },
  {
   "cell_type": "code",
   "execution_count": 43,
   "id": "0d01605f",
   "metadata": {},
   "outputs": [
    {
     "data": {
      "text/plain": [
       "[864, 449, 760, 679]"
      ]
     },
     "execution_count": 43,
     "metadata": {},
     "output_type": "execute_result"
    }
   ],
   "source": [
    "n_seg_pd_f_split =  [len(IMF_train_f_pd_split[0][i]) for i in range(0, len(IMF_train_f_pd_split[0]))] \n",
    "n_seg_pd_f_split"
   ]
  },
  {
   "cell_type": "code",
   "execution_count": 44,
   "id": "ead9e98a",
   "metadata": {},
   "outputs": [
    {
     "name": "stdout",
     "output_type": "stream",
     "text": [
      "372 449\n"
     ]
    }
   ],
   "source": [
    "min_m = min(n_seg_pd_m_split)\n",
    "min_f = min(n_seg_pd_f_split)\n",
    "print(min_m,min_f)"
   ]
  },
  {
   "cell_type": "code",
   "execution_count": null,
   "id": "39396064",
   "metadata": {},
   "outputs": [],
   "source": [
    "#HOWEVER - SINCE THE MINIMUM NUMBER FOR ONE OF THE HEALTHY PATIENTS IS HEALTHY THEN 442 THEN WE KEEP min_f = 442"
   ]
  },
  {
   "cell_type": "code",
   "execution_count": 45,
   "id": "195af4cc",
   "metadata": {},
   "outputs": [
    {
     "name": "stdout",
     "output_type": "stream",
     "text": [
      "372 442\n"
     ]
    }
   ],
   "source": [
    "min_f = 442\n",
    "print(min_m,min_f)"
   ]
  },
  {
   "cell_type": "code",
   "execution_count": 46,
   "id": "55f558d8",
   "metadata": {},
   "outputs": [],
   "source": [
    "N_f = min_f\n",
    "N_m = min_m"
   ]
  },
  {
   "cell_type": "markdown",
   "id": "00aefb41",
   "metadata": {},
   "source": [
    "### 3) Randomly select from each group (divided by both pd_stage and patient number) 442/372 number of segments for the female/male case respectively"
   ]
  },
  {
   "cell_type": "code",
   "execution_count": 178,
   "id": "f8156a82",
   "metadata": {},
   "outputs": [],
   "source": [
    "#Now --> Randomly select from each group the minimum number from the groups created for each speaker"
   ]
  },
  {
   "cell_type": "code",
   "execution_count": 47,
   "id": "e35a93db",
   "metadata": {},
   "outputs": [
    {
     "name": "stdout",
     "output_type": "stream",
     "text": [
      "0.13436424411240122\n"
     ]
    }
   ],
   "source": [
    "random.seed(1)\n",
    "print(random.random()) #0.13436424411240122"
   ]
  },
  {
   "cell_type": "code",
   "execution_count": 48,
   "id": "825680d1",
   "metadata": {},
   "outputs": [],
   "source": [
    "ind_pd_f = [range(0,n_seg_pd_f_split[i]) for i in range(0, len(n_seg_pd_f_split))]\n",
    "ind_pd_m = [range(0,n_seg_pd_m_split[i]) for i in range(0, len(n_seg_pd_m_split))]"
   ]
  },
  {
   "cell_type": "code",
   "execution_count": 49,
   "id": "0e5a8f15",
   "metadata": {},
   "outputs": [],
   "source": [
    "random.seed(1)\n",
    "\n",
    "rand_ind_pd_m = [random.sample( ind_pd_m[i],  k = min_m) for i in range(0, len(ind_pd_m))]\n",
    "rand_ind_pd_f = [random.sample( ind_pd_f[i],  k = min_f) for i in range(0, len(ind_pd_f))]"
   ]
  },
  {
   "cell_type": "code",
   "execution_count": 50,
   "id": "eada1ea0",
   "metadata": {},
   "outputs": [
    {
     "data": {
      "text/plain": [
       "[372, 372, 372, 372, 372, 372, 372, 372, 372, 372, 372, 372]"
      ]
     },
     "execution_count": 50,
     "metadata": {},
     "output_type": "execute_result"
    }
   ],
   "source": [
    "[len(rand_ind_pd_m[i]) for i in range(0, len(rand_ind_pd_m))]"
   ]
  },
  {
   "cell_type": "code",
   "execution_count": 51,
   "id": "fd4aeec0",
   "metadata": {},
   "outputs": [
    {
     "data": {
      "text/plain": [
       "[442, 442, 442, 442]"
      ]
     },
     "execution_count": 51,
     "metadata": {},
     "output_type": "execute_result"
    }
   ],
   "source": [
    "[len(rand_ind_pd_f[i]) for i in range(0, len(rand_ind_pd_f))]"
   ]
  },
  {
   "cell_type": "code",
   "execution_count": 52,
   "id": "893e3c55",
   "metadata": {},
   "outputs": [],
   "source": [
    "rand_ind_pd_sorted_f = [sorted(rand_ind_pd_f[i]) for i in range(0,len(rand_ind_pd_f))]\n",
    "rand_ind_pd_sorted_m = [sorted(rand_ind_pd_m[i]) for i in range(0,len(rand_ind_pd_m))]"
   ]
  },
  {
   "cell_type": "code",
   "execution_count": 53,
   "id": "43711fe5",
   "metadata": {},
   "outputs": [],
   "source": [
    "IMF_pd_f_split = [[IMF_train_f_pd_split[j][i].iloc[rand_ind_pd_sorted_f[i], :].reset_index() for i in range(0, len(IMF_train_f_pd_split[j]))] for j in range(0,n_IMF)]\n",
    "IMF_pd_m_split = [[IMF_train_m_pd_split[j][i].iloc[rand_ind_pd_sorted_m[i], :].reset_index() for i in range(0, len(IMF_train_m_pd_split[j]))]  for j in range(0,n_IMF)]\n"
   ]
  },
  {
   "cell_type": "code",
   "execution_count": 54,
   "id": "437b9da1",
   "metadata": {},
   "outputs": [
    {
     "data": {
      "text/plain": [
       "[[442, 442, 442, 442],\n",
       " [442, 442, 442, 442],\n",
       " [442, 442, 442, 442],\n",
       " [442, 442, 442, 442],\n",
       " [442, 442, 442, 442]]"
      ]
     },
     "execution_count": 54,
     "metadata": {},
     "output_type": "execute_result"
    }
   ],
   "source": [
    "#check\n",
    "[[len(IMF_pd_f_split[j][i]) for i in range(0, len(IMF_pd_f_split[j]))] for j in range(0,n_IMF)]"
   ]
  },
  {
   "cell_type": "code",
   "execution_count": 55,
   "id": "964c433d",
   "metadata": {},
   "outputs": [
    {
     "data": {
      "text/plain": [
       "[[372, 372, 372, 372, 372, 372, 372, 372, 372, 372, 372, 372],\n",
       " [372, 372, 372, 372, 372, 372, 372, 372, 372, 372, 372, 372],\n",
       " [372, 372, 372, 372, 372, 372, 372, 372, 372, 372, 372, 372],\n",
       " [372, 372, 372, 372, 372, 372, 372, 372, 372, 372, 372, 372],\n",
       " [372, 372, 372, 372, 372, 372, 372, 372, 372, 372, 372, 372]]"
      ]
     },
     "execution_count": 55,
     "metadata": {},
     "output_type": "execute_result"
    }
   ],
   "source": [
    "[[len(IMF_pd_m_split[j][i]) for i in range(0, len(IMF_pd_m_split[j]))] for j in range(0,n_IMF)]"
   ]
  },
  {
   "cell_type": "markdown",
   "id": "d5dae5af",
   "metadata": {},
   "source": [
    "### 4)Randomly select one group for one speaker to leave out for the testing set"
   ]
  },
  {
   "cell_type": "code",
   "execution_count": null,
   "id": "0be82f5e",
   "metadata": {},
   "outputs": [],
   "source": [
    "##########\n",
    "#  MALE  #\n",
    "##########"
   ]
  },
  {
   "cell_type": "code",
   "execution_count": 56,
   "id": "fa55c1a8",
   "metadata": {},
   "outputs": [
    {
     "data": {
      "text/html": [
       "<div>\n",
       "<style scoped>\n",
       "    .dataframe tbody tr th:only-of-type {\n",
       "        vertical-align: middle;\n",
       "    }\n",
       "\n",
       "    .dataframe tbody tr th {\n",
       "        vertical-align: top;\n",
       "    }\n",
       "\n",
       "    .dataframe thead th {\n",
       "        text-align: right;\n",
       "    }\n",
       "</style>\n",
       "<table border=\"1\" class=\"dataframe\">\n",
       "  <thead>\n",
       "    <tr style=\"text-align: right;\">\n",
       "      <th></th>\n",
       "      <th>PD_stage</th>\n",
       "      <th>Patient_N</th>\n",
       "    </tr>\n",
       "  </thead>\n",
       "  <tbody>\n",
       "    <tr>\n",
       "      <th>0</th>\n",
       "      <td>0</td>\n",
       "      <td>0</td>\n",
       "    </tr>\n",
       "    <tr>\n",
       "      <th>1</th>\n",
       "      <td>0</td>\n",
       "      <td>1</td>\n",
       "    </tr>\n",
       "    <tr>\n",
       "      <th>2</th>\n",
       "      <td>0</td>\n",
       "      <td>3</td>\n",
       "    </tr>\n",
       "    <tr>\n",
       "      <th>3</th>\n",
       "      <td>0</td>\n",
       "      <td>6</td>\n",
       "    </tr>\n",
       "    <tr>\n",
       "      <th>4</th>\n",
       "      <td>0</td>\n",
       "      <td>7</td>\n",
       "    </tr>\n",
       "    <tr>\n",
       "      <th>5</th>\n",
       "      <td>1</td>\n",
       "      <td>2</td>\n",
       "    </tr>\n",
       "    <tr>\n",
       "      <th>6</th>\n",
       "      <td>1</td>\n",
       "      <td>8</td>\n",
       "    </tr>\n",
       "    <tr>\n",
       "      <th>7</th>\n",
       "      <td>1</td>\n",
       "      <td>9</td>\n",
       "    </tr>\n",
       "    <tr>\n",
       "      <th>8</th>\n",
       "      <td>1</td>\n",
       "      <td>10</td>\n",
       "    </tr>\n",
       "    <tr>\n",
       "      <th>9</th>\n",
       "      <td>2</td>\n",
       "      <td>4</td>\n",
       "    </tr>\n",
       "    <tr>\n",
       "      <th>10</th>\n",
       "      <td>2</td>\n",
       "      <td>11</td>\n",
       "    </tr>\n",
       "    <tr>\n",
       "      <th>11</th>\n",
       "      <td>3</td>\n",
       "      <td>5</td>\n",
       "    </tr>\n",
       "  </tbody>\n",
       "</table>\n",
       "</div>"
      ],
      "text/plain": [
       "    PD_stage  Patient_N\n",
       "0          0          0\n",
       "1          0          1\n",
       "2          0          3\n",
       "3          0          6\n",
       "4          0          7\n",
       "5          1          2\n",
       "6          1          8\n",
       "7          1          9\n",
       "8          1         10\n",
       "9          2          4\n",
       "10         2         11\n",
       "11         3          5"
      ]
     },
     "execution_count": 56,
     "metadata": {},
     "output_type": "execute_result"
    }
   ],
   "source": [
    "pd_df_m = pd.DataFrame( np.array([[ 0,  0 ], \n",
    "                        [ 0,  1 ], \n",
    "                        [ 0 , 3 ],\n",
    "                        [ 0,  6 ], \n",
    "                        [ 0,  7 ],\n",
    "                        [ 1,  2 ],\n",
    "                        [ 1 , 8 ], \n",
    "                        [ 1,  9 ],\n",
    "                        [ 1 , 10],\n",
    "                        [ 2,  4 ],\n",
    "                        [ 2,  11], \n",
    "                        [ 3 , 5 ] ]),                      \n",
    "         columns = [\"PD_stage\", \"Patient_N\"])\n",
    "\n",
    "pd_df_m"
   ]
  },
  {
   "cell_type": "code",
   "execution_count": 57,
   "id": "58685c20",
   "metadata": {},
   "outputs": [
    {
     "data": {
      "text/html": [
       "<div>\n",
       "<style scoped>\n",
       "    .dataframe tbody tr th:only-of-type {\n",
       "        vertical-align: middle;\n",
       "    }\n",
       "\n",
       "    .dataframe tbody tr th {\n",
       "        vertical-align: top;\n",
       "    }\n",
       "\n",
       "    .dataframe thead th {\n",
       "        text-align: right;\n",
       "    }\n",
       "</style>\n",
       "<table border=\"1\" class=\"dataframe\">\n",
       "  <thead>\n",
       "    <tr style=\"text-align: right;\">\n",
       "      <th></th>\n",
       "      <th>PD_stage</th>\n",
       "      <th>Patient_N</th>\n",
       "    </tr>\n",
       "  </thead>\n",
       "  <tbody>\n",
       "    <tr>\n",
       "      <th>9</th>\n",
       "      <td>2</td>\n",
       "      <td>4</td>\n",
       "    </tr>\n",
       "  </tbody>\n",
       "</table>\n",
       "</div>"
      ],
      "text/plain": [
       "   PD_stage  Patient_N\n",
       "9         2          4"
      ]
     },
     "execution_count": 57,
     "metadata": {},
     "output_type": "execute_result"
    }
   ],
   "source": [
    "np.random.seed(2) #I already got 8,5,3,4,2, 6,9,10,11,0,7,1\n",
    "\n",
    "test_patients_m = pd_df_m.sample(frac = 1.0).head(1)\n",
    "test_patients_m"
   ]
  },
  {
   "cell_type": "code",
   "execution_count": 58,
   "id": "14a4326e",
   "metadata": {},
   "outputs": [],
   "source": [
    "new_IMF_pd_m_split_train_d1 = [list(IMF_pd_m_split[i]) for i in range(0, n_IMF)]\n",
    "new_IMF_pd_m_split_train_d1 = [[i for j, i in enumerate(new_IMF_pd_m_split_train_d1[h]) if j not in np.array(test_patients_m[\"Patient_N\"])] for h in range(0,n_IMF)]"
   ]
  },
  {
   "cell_type": "code",
   "execution_count": 59,
   "id": "c8d56080",
   "metadata": {},
   "outputs": [
    {
     "data": {
      "text/plain": [
       "[11, 11, 11, 11, 11]"
      ]
     },
     "execution_count": 59,
     "metadata": {},
     "output_type": "execute_result"
    }
   ],
   "source": [
    "[len(new_IMF_pd_m_split_train_d1[i]) for i in range(0,n_IMF)]"
   ]
  },
  {
   "cell_type": "code",
   "execution_count": 60,
   "id": "492201ab",
   "metadata": {},
   "outputs": [
    {
     "data": {
      "text/plain": [
       "[[{0}, {1}, {2}, {3}, {5}, {6}, {7}, {8}, {9}, {10}, {11}],\n",
       " [{0}, {1}, {2}, {3}, {5}, {6}, {7}, {8}, {9}, {10}, {11}],\n",
       " [{0}, {1}, {2}, {3}, {5}, {6}, {7}, {8}, {9}, {10}, {11}],\n",
       " [{0}, {1}, {2}, {3}, {5}, {6}, {7}, {8}, {9}, {10}, {11}],\n",
       " [{0}, {1}, {2}, {3}, {5}, {6}, {7}, {8}, {9}, {10}, {11}]]"
      ]
     },
     "execution_count": 60,
     "metadata": {},
     "output_type": "execute_result"
    }
   ],
   "source": [
    "#chekc that the left patients are 0,1,2,3,4,6,7,9,10,11\n",
    "[[set(new_IMF_pd_m_split_train_d1[j][i]['col5001']) for i in range(0,len(new_IMF_pd_m_split_train_d1[j]))] for j in range(0,n_IMF)]"
   ]
  },
  {
   "cell_type": "code",
   "execution_count": 61,
   "id": "6b0a093a",
   "metadata": {},
   "outputs": [],
   "source": [
    "new_IMF_pd_m_split_test_d1 = [list(IMF_pd_m_split[i]) for i in range(0, n_IMF)]\n",
    "new_IMF_pd_m_split_test_d1 = [[i for j, i in enumerate(new_IMF_pd_m_split_test_d1[h]) if j in np.array(test_patients_m[\"Patient_N\"])] for h in range(0,n_IMF)]"
   ]
  },
  {
   "cell_type": "code",
   "execution_count": 62,
   "id": "3e0ca8c5",
   "metadata": {},
   "outputs": [
    {
     "data": {
      "text/plain": [
       "[1, 1, 1, 1, 1]"
      ]
     },
     "execution_count": 62,
     "metadata": {},
     "output_type": "execute_result"
    }
   ],
   "source": [
    "[len(new_IMF_pd_m_split_test_d1[i]) for i in range(0,n_IMF)]"
   ]
  },
  {
   "cell_type": "code",
   "execution_count": 63,
   "id": "d3b7e581",
   "metadata": {},
   "outputs": [
    {
     "data": {
      "text/plain": [
       "[{4}, {4}, {4}, {4}, {4}]"
      ]
     },
     "execution_count": 63,
     "metadata": {},
     "output_type": "execute_result"
    }
   ],
   "source": [
    "#chekc that the left patient is 8\n",
    "[set(new_IMF_pd_m_split_test_d1[i][0]['col5001'] ) for i in range(0,n_IMF)]"
   ]
  },
  {
   "cell_type": "code",
   "execution_count": 215,
   "id": "cf65f155",
   "metadata": {},
   "outputs": [],
   "source": [
    "############\n",
    "#  FEMALE  #\n",
    "############"
   ]
  },
  {
   "cell_type": "code",
   "execution_count": 61,
   "id": "b9bf6e0e",
   "metadata": {},
   "outputs": [
    {
     "data": {
      "text/html": [
       "<div>\n",
       "<style scoped>\n",
       "    .dataframe tbody tr th:only-of-type {\n",
       "        vertical-align: middle;\n",
       "    }\n",
       "\n",
       "    .dataframe tbody tr th {\n",
       "        vertical-align: top;\n",
       "    }\n",
       "\n",
       "    .dataframe thead th {\n",
       "        text-align: right;\n",
       "    }\n",
       "</style>\n",
       "<table border=\"1\" class=\"dataframe\">\n",
       "  <thead>\n",
       "    <tr style=\"text-align: right;\">\n",
       "      <th></th>\n",
       "      <th>PD_stage</th>\n",
       "      <th>Patient_N</th>\n",
       "    </tr>\n",
       "  </thead>\n",
       "  <tbody>\n",
       "    <tr>\n",
       "      <th>0</th>\n",
       "      <td>0</td>\n",
       "      <td>0</td>\n",
       "    </tr>\n",
       "    <tr>\n",
       "      <th>1</th>\n",
       "      <td>0</td>\n",
       "      <td>3</td>\n",
       "    </tr>\n",
       "    <tr>\n",
       "      <th>2</th>\n",
       "      <td>1</td>\n",
       "      <td>1</td>\n",
       "    </tr>\n",
       "    <tr>\n",
       "      <th>3</th>\n",
       "      <td>1</td>\n",
       "      <td>2</td>\n",
       "    </tr>\n",
       "  </tbody>\n",
       "</table>\n",
       "</div>"
      ],
      "text/plain": [
       "   PD_stage  Patient_N\n",
       "0         0          0\n",
       "1         0          3\n",
       "2         1          1\n",
       "3         1          2"
      ]
     },
     "execution_count": 61,
     "metadata": {},
     "output_type": "execute_result"
    }
   ],
   "source": [
    "pd_df_f = pd.DataFrame( np.array([[ 0,  0 ], \n",
    "                        [ 0,  3 ], \n",
    "                        [ 1 , 1 ],\n",
    "                        [ 1,  2 ] ]),                      \n",
    "         columns = [\"PD_stage\", \"Patient_N\"])\n",
    "\n",
    "pd_df_f"
   ]
  },
  {
   "cell_type": "code",
   "execution_count": 112,
   "id": "78679280",
   "metadata": {},
   "outputs": [
    {
     "data": {
      "text/html": [
       "<div>\n",
       "<style scoped>\n",
       "    .dataframe tbody tr th:only-of-type {\n",
       "        vertical-align: middle;\n",
       "    }\n",
       "\n",
       "    .dataframe tbody tr th {\n",
       "        vertical-align: top;\n",
       "    }\n",
       "\n",
       "    .dataframe thead th {\n",
       "        text-align: right;\n",
       "    }\n",
       "</style>\n",
       "<table border=\"1\" class=\"dataframe\">\n",
       "  <thead>\n",
       "    <tr style=\"text-align: right;\">\n",
       "      <th></th>\n",
       "      <th>PD_stage</th>\n",
       "      <th>Patient_N</th>\n",
       "    </tr>\n",
       "  </thead>\n",
       "  <tbody>\n",
       "    <tr>\n",
       "      <th>0</th>\n",
       "      <td>0</td>\n",
       "      <td>0</td>\n",
       "    </tr>\n",
       "  </tbody>\n",
       "</table>\n",
       "</div>"
      ],
      "text/plain": [
       "   PD_stage  Patient_N\n",
       "0         0          0"
      ]
     },
     "execution_count": 112,
     "metadata": {},
     "output_type": "execute_result"
    }
   ],
   "source": [
    "np.random.seed(6)\n",
    "\n",
    "test_patients_f = pd_df_f.sample(frac = 1.0).head(1)\n",
    "test_patients_f"
   ]
  },
  {
   "cell_type": "code",
   "execution_count": 68,
   "id": "654cd9a6",
   "metadata": {},
   "outputs": [],
   "source": [
    "new_IMF_pd_f_split_train_d1 = [list(IMF_pd_f_split[i]) for i in range(0, n_IMF)]\n",
    "new_IMF_pd_f_split_train_d1 = [[i for j, i in enumerate(new_IMF_pd_f_split_train_d1[h]) if j not in np.array(test_patients_f[\"Patient_N\"])] for h in range(0,n_IMF)]"
   ]
  },
  {
   "cell_type": "code",
   "execution_count": 69,
   "id": "5ed50806",
   "metadata": {},
   "outputs": [
    {
     "data": {
      "text/plain": [
       "5"
      ]
     },
     "execution_count": 69,
     "metadata": {},
     "output_type": "execute_result"
    }
   ],
   "source": [
    "len(new_IMF_pd_f_split_train_d1)"
   ]
  },
  {
   "cell_type": "code",
   "execution_count": 70,
   "id": "0363437e",
   "metadata": {},
   "outputs": [
    {
     "data": {
      "text/plain": [
       "3"
      ]
     },
     "execution_count": 70,
     "metadata": {},
     "output_type": "execute_result"
    }
   ],
   "source": [
    "len(new_IMF_pd_f_split_train_d1[3])"
   ]
  },
  {
   "cell_type": "code",
   "execution_count": 71,
   "id": "6de1f7b6",
   "metadata": {},
   "outputs": [
    {
     "data": {
      "text/plain": [
       "[[{0}, {1}, {2}],\n",
       " [{0}, {1}, {2}],\n",
       " [{0}, {1}, {2}],\n",
       " [{0}, {1}, {2}],\n",
       " [{0}, {1}, {2}]]"
      ]
     },
     "execution_count": 71,
     "metadata": {},
     "output_type": "execute_result"
    }
   ],
   "source": [
    "#chekc that the left patients are 0,2,3\n",
    "[[set(new_IMF_pd_f_split_train_d1[j][i]['col5001']) for i in range(0,len(new_IMF_pd_f_split_train_d1[j]))] for j in range(0,n_IMF)]"
   ]
  },
  {
   "cell_type": "code",
   "execution_count": 113,
   "id": "f5dbc7e0",
   "metadata": {},
   "outputs": [],
   "source": [
    "new_IMF_pd_f_split_test_d1 = [list(IMF_pd_f_split[i]) for i in range(0, n_IMF)]\n",
    "new_IMF_pd_f_split_test_d1 = [[i for j, i in enumerate(new_IMF_pd_f_split_test_d1[h]) if j in np.array(test_patients_f[\"Patient_N\"])] for h in range(0,n_IMF)]"
   ]
  },
  {
   "cell_type": "code",
   "execution_count": 73,
   "id": "61ff9e3f",
   "metadata": {},
   "outputs": [
    {
     "data": {
      "text/plain": [
       "5"
      ]
     },
     "execution_count": 73,
     "metadata": {},
     "output_type": "execute_result"
    }
   ],
   "source": [
    "len(new_IMF_pd_f_split_test_d1)"
   ]
  },
  {
   "cell_type": "code",
   "execution_count": 74,
   "id": "e7e45b07",
   "metadata": {},
   "outputs": [
    {
     "data": {
      "text/plain": [
       "1"
      ]
     },
     "execution_count": 74,
     "metadata": {},
     "output_type": "execute_result"
    }
   ],
   "source": [
    "len(new_IMF_pd_f_split_test_d1[0])"
   ]
  },
  {
   "cell_type": "code",
   "execution_count": 114,
   "id": "8bfff630",
   "metadata": {},
   "outputs": [
    {
     "data": {
      "text/plain": [
       "[{0}, {0}, {0}, {0}, {0}]"
      ]
     },
     "execution_count": 114,
     "metadata": {},
     "output_type": "execute_result"
    }
   ],
   "source": [
    "#chekc that the left patient is 1\n",
    "[set(new_IMF_pd_f_split_test_d1[j][0]['col5001'] ) for j in range(0, n_IMF)]"
   ]
  },
  {
   "cell_type": "markdown",
   "id": "b5d7ebb4",
   "metadata": {},
   "source": [
    "### 5) Extract 80% of the data for the traning set and 20% of the data for the testing"
   ]
  },
  {
   "cell_type": "code",
   "execution_count": null,
   "id": "c325ccf8",
   "metadata": {},
   "outputs": [],
   "source": [
    "################\n",
    "#     MALE     #\n",
    "################"
   ]
  },
  {
   "cell_type": "code",
   "execution_count": 117,
   "id": "7c39221c",
   "metadata": {},
   "outputs": [
    {
     "data": {
      "text/html": [
       "<div>\n",
       "<style scoped>\n",
       "    .dataframe tbody tr th:only-of-type {\n",
       "        vertical-align: middle;\n",
       "    }\n",
       "\n",
       "    .dataframe tbody tr th {\n",
       "        vertical-align: top;\n",
       "    }\n",
       "\n",
       "    .dataframe thead th {\n",
       "        text-align: right;\n",
       "    }\n",
       "</style>\n",
       "<table border=\"1\" class=\"dataframe\">\n",
       "  <thead>\n",
       "    <tr style=\"text-align: right;\">\n",
       "      <th></th>\n",
       "      <th>index</th>\n",
       "      <th>col0</th>\n",
       "      <th>col1</th>\n",
       "      <th>col2</th>\n",
       "      <th>col3</th>\n",
       "      <th>col4</th>\n",
       "      <th>col5</th>\n",
       "      <th>col6</th>\n",
       "      <th>col7</th>\n",
       "      <th>col8</th>\n",
       "      <th>...</th>\n",
       "      <th>col4992</th>\n",
       "      <th>col4993</th>\n",
       "      <th>col4994</th>\n",
       "      <th>col4995</th>\n",
       "      <th>col4996</th>\n",
       "      <th>col4997</th>\n",
       "      <th>col4998</th>\n",
       "      <th>col4999</th>\n",
       "      <th>col5000</th>\n",
       "      <th>col5001</th>\n",
       "    </tr>\n",
       "  </thead>\n",
       "  <tbody>\n",
       "    <tr>\n",
       "      <th>0</th>\n",
       "      <td>1532</td>\n",
       "      <td>-1.174157e-03</td>\n",
       "      <td>0.001163</td>\n",
       "      <td>0.000093</td>\n",
       "      <td>-0.001055</td>\n",
       "      <td>0.000953</td>\n",
       "      <td>-0.000080</td>\n",
       "      <td>-0.000704</td>\n",
       "      <td>0.000593</td>\n",
       "      <td>-0.000373</td>\n",
       "      <td>...</td>\n",
       "      <td>-0.000523</td>\n",
       "      <td>-0.000066</td>\n",
       "      <td>0.000803</td>\n",
       "      <td>-0.000901</td>\n",
       "      <td>-0.000284</td>\n",
       "      <td>0.000978</td>\n",
       "      <td>-0.000758</td>\n",
       "      <td>-0.000937</td>\n",
       "      <td>1</td>\n",
       "      <td>2</td>\n",
       "    </tr>\n",
       "    <tr>\n",
       "      <th>1</th>\n",
       "      <td>1534</td>\n",
       "      <td>7.136370e-04</td>\n",
       "      <td>0.000422</td>\n",
       "      <td>-0.000946</td>\n",
       "      <td>0.000235</td>\n",
       "      <td>0.000942</td>\n",
       "      <td>-0.000943</td>\n",
       "      <td>0.000911</td>\n",
       "      <td>0.000978</td>\n",
       "      <td>-0.001022</td>\n",
       "      <td>...</td>\n",
       "      <td>0.000686</td>\n",
       "      <td>-0.000725</td>\n",
       "      <td>0.000456</td>\n",
       "      <td>0.000772</td>\n",
       "      <td>-0.000781</td>\n",
       "      <td>0.000559</td>\n",
       "      <td>0.000784</td>\n",
       "      <td>-0.000476</td>\n",
       "      <td>1</td>\n",
       "      <td>2</td>\n",
       "    </tr>\n",
       "    <tr>\n",
       "      <th>2</th>\n",
       "      <td>1539</td>\n",
       "      <td>2.739969e-04</td>\n",
       "      <td>0.000440</td>\n",
       "      <td>0.000108</td>\n",
       "      <td>-0.000307</td>\n",
       "      <td>-0.000456</td>\n",
       "      <td>-0.000022</td>\n",
       "      <td>0.000298</td>\n",
       "      <td>0.000506</td>\n",
       "      <td>-0.000074</td>\n",
       "      <td>...</td>\n",
       "      <td>-0.004866</td>\n",
       "      <td>-0.008138</td>\n",
       "      <td>-0.004324</td>\n",
       "      <td>0.002341</td>\n",
       "      <td>0.006084</td>\n",
       "      <td>0.008062</td>\n",
       "      <td>0.006840</td>\n",
       "      <td>0.004738</td>\n",
       "      <td>1</td>\n",
       "      <td>2</td>\n",
       "    </tr>\n",
       "    <tr>\n",
       "      <th>3</th>\n",
       "      <td>1543</td>\n",
       "      <td>1.824557e-03</td>\n",
       "      <td>0.000495</td>\n",
       "      <td>-0.000906</td>\n",
       "      <td>-0.001781</td>\n",
       "      <td>-0.000962</td>\n",
       "      <td>0.000727</td>\n",
       "      <td>0.001668</td>\n",
       "      <td>0.000728</td>\n",
       "      <td>-0.001577</td>\n",
       "      <td>...</td>\n",
       "      <td>0.006127</td>\n",
       "      <td>0.006456</td>\n",
       "      <td>0.003329</td>\n",
       "      <td>0.001685</td>\n",
       "      <td>-0.000760</td>\n",
       "      <td>-0.003663</td>\n",
       "      <td>-0.005278</td>\n",
       "      <td>-0.006391</td>\n",
       "      <td>1</td>\n",
       "      <td>2</td>\n",
       "    </tr>\n",
       "    <tr>\n",
       "      <th>4</th>\n",
       "      <td>1544</td>\n",
       "      <td>-1.679741e-04</td>\n",
       "      <td>-0.000201</td>\n",
       "      <td>0.000232</td>\n",
       "      <td>0.000045</td>\n",
       "      <td>-0.000415</td>\n",
       "      <td>0.000553</td>\n",
       "      <td>-0.000692</td>\n",
       "      <td>0.000796</td>\n",
       "      <td>0.000555</td>\n",
       "      <td>...</td>\n",
       "      <td>-0.028301</td>\n",
       "      <td>-0.008731</td>\n",
       "      <td>0.004864</td>\n",
       "      <td>0.009894</td>\n",
       "      <td>0.015673</td>\n",
       "      <td>0.033468</td>\n",
       "      <td>0.031159</td>\n",
       "      <td>0.019932</td>\n",
       "      <td>1</td>\n",
       "      <td>2</td>\n",
       "    </tr>\n",
       "    <tr>\n",
       "      <th>...</th>\n",
       "      <td>...</td>\n",
       "      <td>...</td>\n",
       "      <td>...</td>\n",
       "      <td>...</td>\n",
       "      <td>...</td>\n",
       "      <td>...</td>\n",
       "      <td>...</td>\n",
       "      <td>...</td>\n",
       "      <td>...</td>\n",
       "      <td>...</td>\n",
       "      <td>...</td>\n",
       "      <td>...</td>\n",
       "      <td>...</td>\n",
       "      <td>...</td>\n",
       "      <td>...</td>\n",
       "      <td>...</td>\n",
       "      <td>...</td>\n",
       "      <td>...</td>\n",
       "      <td>...</td>\n",
       "      <td>...</td>\n",
       "      <td>...</td>\n",
       "    </tr>\n",
       "    <tr>\n",
       "      <th>367</th>\n",
       "      <td>2493</td>\n",
       "      <td>2.931168e-03</td>\n",
       "      <td>0.000761</td>\n",
       "      <td>-0.000954</td>\n",
       "      <td>-0.002191</td>\n",
       "      <td>-0.002712</td>\n",
       "      <td>-0.002667</td>\n",
       "      <td>-0.001854</td>\n",
       "      <td>-0.000457</td>\n",
       "      <td>0.000484</td>\n",
       "      <td>...</td>\n",
       "      <td>0.000292</td>\n",
       "      <td>-0.000274</td>\n",
       "      <td>0.000044</td>\n",
       "      <td>0.000257</td>\n",
       "      <td>0.000034</td>\n",
       "      <td>-0.000261</td>\n",
       "      <td>0.000264</td>\n",
       "      <td>-0.000266</td>\n",
       "      <td>1</td>\n",
       "      <td>2</td>\n",
       "    </tr>\n",
       "    <tr>\n",
       "      <th>368</th>\n",
       "      <td>2495</td>\n",
       "      <td>1.617015e-08</td>\n",
       "      <td>0.000729</td>\n",
       "      <td>-0.000823</td>\n",
       "      <td>-0.000666</td>\n",
       "      <td>0.001294</td>\n",
       "      <td>0.000319</td>\n",
       "      <td>-0.001890</td>\n",
       "      <td>0.001519</td>\n",
       "      <td>0.002218</td>\n",
       "      <td>...</td>\n",
       "      <td>-0.000053</td>\n",
       "      <td>0.000785</td>\n",
       "      <td>-0.000931</td>\n",
       "      <td>-0.000616</td>\n",
       "      <td>0.000352</td>\n",
       "      <td>0.001107</td>\n",
       "      <td>0.000400</td>\n",
       "      <td>0.000258</td>\n",
       "      <td>1</td>\n",
       "      <td>2</td>\n",
       "    </tr>\n",
       "    <tr>\n",
       "      <th>369</th>\n",
       "      <td>2499</td>\n",
       "      <td>-1.600866e-04</td>\n",
       "      <td>0.000158</td>\n",
       "      <td>-0.000121</td>\n",
       "      <td>-0.000142</td>\n",
       "      <td>0.000047</td>\n",
       "      <td>0.000123</td>\n",
       "      <td>-0.000122</td>\n",
       "      <td>0.000131</td>\n",
       "      <td>-0.000155</td>\n",
       "      <td>...</td>\n",
       "      <td>0.000093</td>\n",
       "      <td>-0.000092</td>\n",
       "      <td>0.000105</td>\n",
       "      <td>-0.000126</td>\n",
       "      <td>0.000149</td>\n",
       "      <td>0.000136</td>\n",
       "      <td>-0.000181</td>\n",
       "      <td>0.000185</td>\n",
       "      <td>1</td>\n",
       "      <td>2</td>\n",
       "    </tr>\n",
       "    <tr>\n",
       "      <th>370</th>\n",
       "      <td>2501</td>\n",
       "      <td>-2.196841e-04</td>\n",
       "      <td>-0.000051</td>\n",
       "      <td>0.000042</td>\n",
       "      <td>0.000063</td>\n",
       "      <td>0.000134</td>\n",
       "      <td>-0.000025</td>\n",
       "      <td>-0.000068</td>\n",
       "      <td>0.000052</td>\n",
       "      <td>-0.000057</td>\n",
       "      <td>...</td>\n",
       "      <td>0.000129</td>\n",
       "      <td>-0.000085</td>\n",
       "      <td>-0.000005</td>\n",
       "      <td>0.000081</td>\n",
       "      <td>-0.000099</td>\n",
       "      <td>-0.000121</td>\n",
       "      <td>0.000134</td>\n",
       "      <td>-0.000137</td>\n",
       "      <td>1</td>\n",
       "      <td>2</td>\n",
       "    </tr>\n",
       "    <tr>\n",
       "      <th>371</th>\n",
       "      <td>2503</td>\n",
       "      <td>-6.625110e-05</td>\n",
       "      <td>-0.000037</td>\n",
       "      <td>0.000062</td>\n",
       "      <td>-0.000056</td>\n",
       "      <td>0.000050</td>\n",
       "      <td>-0.000049</td>\n",
       "      <td>0.000056</td>\n",
       "      <td>-0.000057</td>\n",
       "      <td>-0.000084</td>\n",
       "      <td>...</td>\n",
       "      <td>-0.000039</td>\n",
       "      <td>0.000017</td>\n",
       "      <td>0.000062</td>\n",
       "      <td>0.000084</td>\n",
       "      <td>0.000047</td>\n",
       "      <td>-0.000109</td>\n",
       "      <td>0.000115</td>\n",
       "      <td>-0.000116</td>\n",
       "      <td>1</td>\n",
       "      <td>2</td>\n",
       "    </tr>\n",
       "  </tbody>\n",
       "</table>\n",
       "<p>372 rows × 5003 columns</p>\n",
       "</div>"
      ],
      "text/plain": [
       "     index          col0      col1      col2      col3      col4      col5  \\\n",
       "0     1532 -1.174157e-03  0.001163  0.000093 -0.001055  0.000953 -0.000080   \n",
       "1     1534  7.136370e-04  0.000422 -0.000946  0.000235  0.000942 -0.000943   \n",
       "2     1539  2.739969e-04  0.000440  0.000108 -0.000307 -0.000456 -0.000022   \n",
       "3     1543  1.824557e-03  0.000495 -0.000906 -0.001781 -0.000962  0.000727   \n",
       "4     1544 -1.679741e-04 -0.000201  0.000232  0.000045 -0.000415  0.000553   \n",
       "..     ...           ...       ...       ...       ...       ...       ...   \n",
       "367   2493  2.931168e-03  0.000761 -0.000954 -0.002191 -0.002712 -0.002667   \n",
       "368   2495  1.617015e-08  0.000729 -0.000823 -0.000666  0.001294  0.000319   \n",
       "369   2499 -1.600866e-04  0.000158 -0.000121 -0.000142  0.000047  0.000123   \n",
       "370   2501 -2.196841e-04 -0.000051  0.000042  0.000063  0.000134 -0.000025   \n",
       "371   2503 -6.625110e-05 -0.000037  0.000062 -0.000056  0.000050 -0.000049   \n",
       "\n",
       "         col6      col7      col8  ...   col4992   col4993   col4994  \\\n",
       "0   -0.000704  0.000593 -0.000373  ... -0.000523 -0.000066  0.000803   \n",
       "1    0.000911  0.000978 -0.001022  ...  0.000686 -0.000725  0.000456   \n",
       "2    0.000298  0.000506 -0.000074  ... -0.004866 -0.008138 -0.004324   \n",
       "3    0.001668  0.000728 -0.001577  ...  0.006127  0.006456  0.003329   \n",
       "4   -0.000692  0.000796  0.000555  ... -0.028301 -0.008731  0.004864   \n",
       "..        ...       ...       ...  ...       ...       ...       ...   \n",
       "367 -0.001854 -0.000457  0.000484  ...  0.000292 -0.000274  0.000044   \n",
       "368 -0.001890  0.001519  0.002218  ... -0.000053  0.000785 -0.000931   \n",
       "369 -0.000122  0.000131 -0.000155  ...  0.000093 -0.000092  0.000105   \n",
       "370 -0.000068  0.000052 -0.000057  ...  0.000129 -0.000085 -0.000005   \n",
       "371  0.000056 -0.000057 -0.000084  ... -0.000039  0.000017  0.000062   \n",
       "\n",
       "      col4995   col4996   col4997   col4998   col4999  col5000  col5001  \n",
       "0   -0.000901 -0.000284  0.000978 -0.000758 -0.000937        1        2  \n",
       "1    0.000772 -0.000781  0.000559  0.000784 -0.000476        1        2  \n",
       "2    0.002341  0.006084  0.008062  0.006840  0.004738        1        2  \n",
       "3    0.001685 -0.000760 -0.003663 -0.005278 -0.006391        1        2  \n",
       "4    0.009894  0.015673  0.033468  0.031159  0.019932        1        2  \n",
       "..        ...       ...       ...       ...       ...      ...      ...  \n",
       "367  0.000257  0.000034 -0.000261  0.000264 -0.000266        1        2  \n",
       "368 -0.000616  0.000352  0.001107  0.000400  0.000258        1        2  \n",
       "369 -0.000126  0.000149  0.000136 -0.000181  0.000185        1        2  \n",
       "370  0.000081 -0.000099 -0.000121  0.000134 -0.000137        1        2  \n",
       "371  0.000084  0.000047 -0.000109  0.000115 -0.000116        1        2  \n",
       "\n",
       "[372 rows x 5003 columns]"
      ]
     },
     "execution_count": 117,
     "metadata": {},
     "output_type": "execute_result"
    }
   ],
   "source": [
    "new_IMF_pd_m_split_train_d1[0][2] # I merge all of these and then extract 80% of 372 --> 298"
   ]
  },
  {
   "cell_type": "code",
   "execution_count": 118,
   "id": "5031a2af",
   "metadata": {},
   "outputs": [
    {
     "data": {
      "text/html": [
       "<div>\n",
       "<style scoped>\n",
       "    .dataframe tbody tr th:only-of-type {\n",
       "        vertical-align: middle;\n",
       "    }\n",
       "\n",
       "    .dataframe tbody tr th {\n",
       "        vertical-align: top;\n",
       "    }\n",
       "\n",
       "    .dataframe thead th {\n",
       "        text-align: right;\n",
       "    }\n",
       "</style>\n",
       "<table border=\"1\" class=\"dataframe\">\n",
       "  <thead>\n",
       "    <tr style=\"text-align: right;\">\n",
       "      <th></th>\n",
       "      <th>index</th>\n",
       "      <th>col0</th>\n",
       "      <th>col1</th>\n",
       "      <th>col2</th>\n",
       "      <th>col3</th>\n",
       "      <th>col4</th>\n",
       "      <th>col5</th>\n",
       "      <th>col6</th>\n",
       "      <th>col7</th>\n",
       "      <th>col8</th>\n",
       "      <th>...</th>\n",
       "      <th>col4992</th>\n",
       "      <th>col4993</th>\n",
       "      <th>col4994</th>\n",
       "      <th>col4995</th>\n",
       "      <th>col4996</th>\n",
       "      <th>col4997</th>\n",
       "      <th>col4998</th>\n",
       "      <th>col4999</th>\n",
       "      <th>col5000</th>\n",
       "      <th>col5001</th>\n",
       "    </tr>\n",
       "  </thead>\n",
       "  <tbody>\n",
       "    <tr>\n",
       "      <th>0</th>\n",
       "      <td>5826</td>\n",
       "      <td>-0.000006</td>\n",
       "      <td>-0.000070</td>\n",
       "      <td>0.000016</td>\n",
       "      <td>7.020446e-05</td>\n",
       "      <td>-0.000070</td>\n",
       "      <td>-0.000032</td>\n",
       "      <td>0.000071</td>\n",
       "      <td>-0.000073</td>\n",
       "      <td>-0.000001</td>\n",
       "      <td>...</td>\n",
       "      <td>-0.000035</td>\n",
       "      <td>-0.000085</td>\n",
       "      <td>0.000101</td>\n",
       "      <td>0.000056</td>\n",
       "      <td>-0.000127</td>\n",
       "      <td>0.000138</td>\n",
       "      <td>0.000139</td>\n",
       "      <td>-0.000140</td>\n",
       "      <td>1</td>\n",
       "      <td>8</td>\n",
       "    </tr>\n",
       "    <tr>\n",
       "      <th>1</th>\n",
       "      <td>5827</td>\n",
       "      <td>0.000011</td>\n",
       "      <td>-0.000087</td>\n",
       "      <td>0.000066</td>\n",
       "      <td>8.824123e-05</td>\n",
       "      <td>-0.000081</td>\n",
       "      <td>-0.000088</td>\n",
       "      <td>0.000085</td>\n",
       "      <td>-0.000078</td>\n",
       "      <td>-0.000037</td>\n",
       "      <td>...</td>\n",
       "      <td>0.000069</td>\n",
       "      <td>-0.000069</td>\n",
       "      <td>0.000025</td>\n",
       "      <td>0.000041</td>\n",
       "      <td>-0.000027</td>\n",
       "      <td>0.000019</td>\n",
       "      <td>-0.000015</td>\n",
       "      <td>-0.000003</td>\n",
       "      <td>1</td>\n",
       "      <td>8</td>\n",
       "    </tr>\n",
       "    <tr>\n",
       "      <th>2</th>\n",
       "      <td>5828</td>\n",
       "      <td>0.000097</td>\n",
       "      <td>0.000066</td>\n",
       "      <td>-0.000046</td>\n",
       "      <td>-9.182897e-05</td>\n",
       "      <td>-0.000012</td>\n",
       "      <td>0.000085</td>\n",
       "      <td>-0.000032</td>\n",
       "      <td>-0.000082</td>\n",
       "      <td>0.000086</td>\n",
       "      <td>...</td>\n",
       "      <td>0.000137</td>\n",
       "      <td>-0.000544</td>\n",
       "      <td>0.000562</td>\n",
       "      <td>0.000416</td>\n",
       "      <td>-0.000580</td>\n",
       "      <td>-0.000429</td>\n",
       "      <td>0.000582</td>\n",
       "      <td>-0.000268</td>\n",
       "      <td>1</td>\n",
       "      <td>8</td>\n",
       "    </tr>\n",
       "    <tr>\n",
       "      <th>3</th>\n",
       "      <td>5829</td>\n",
       "      <td>-0.000141</td>\n",
       "      <td>-0.000278</td>\n",
       "      <td>0.000294</td>\n",
       "      <td>-6.521903e-05</td>\n",
       "      <td>-0.000363</td>\n",
       "      <td>0.000400</td>\n",
       "      <td>0.000378</td>\n",
       "      <td>-0.000358</td>\n",
       "      <td>-0.000440</td>\n",
       "      <td>...</td>\n",
       "      <td>0.000020</td>\n",
       "      <td>0.000064</td>\n",
       "      <td>-0.000057</td>\n",
       "      <td>0.000052</td>\n",
       "      <td>-0.000052</td>\n",
       "      <td>0.000054</td>\n",
       "      <td>-0.000036</td>\n",
       "      <td>-0.000056</td>\n",
       "      <td>1</td>\n",
       "      <td>8</td>\n",
       "    </tr>\n",
       "    <tr>\n",
       "      <th>4</th>\n",
       "      <td>5830</td>\n",
       "      <td>0.000107</td>\n",
       "      <td>-0.000104</td>\n",
       "      <td>0.000097</td>\n",
       "      <td>9.133169e-07</td>\n",
       "      <td>-0.000074</td>\n",
       "      <td>0.000010</td>\n",
       "      <td>0.000062</td>\n",
       "      <td>-0.000062</td>\n",
       "      <td>-0.000024</td>\n",
       "      <td>...</td>\n",
       "      <td>0.000076</td>\n",
       "      <td>0.000159</td>\n",
       "      <td>-0.000055</td>\n",
       "      <td>-0.000191</td>\n",
       "      <td>-0.000119</td>\n",
       "      <td>0.000044</td>\n",
       "      <td>0.000091</td>\n",
       "      <td>0.000213</td>\n",
       "      <td>1</td>\n",
       "      <td>8</td>\n",
       "    </tr>\n",
       "    <tr>\n",
       "      <th>...</th>\n",
       "      <td>...</td>\n",
       "      <td>...</td>\n",
       "      <td>...</td>\n",
       "      <td>...</td>\n",
       "      <td>...</td>\n",
       "      <td>...</td>\n",
       "      <td>...</td>\n",
       "      <td>...</td>\n",
       "      <td>...</td>\n",
       "      <td>...</td>\n",
       "      <td>...</td>\n",
       "      <td>...</td>\n",
       "      <td>...</td>\n",
       "      <td>...</td>\n",
       "      <td>...</td>\n",
       "      <td>...</td>\n",
       "      <td>...</td>\n",
       "      <td>...</td>\n",
       "      <td>...</td>\n",
       "      <td>...</td>\n",
       "      <td>...</td>\n",
       "    </tr>\n",
       "    <tr>\n",
       "      <th>367</th>\n",
       "      <td>6227</td>\n",
       "      <td>-0.000091</td>\n",
       "      <td>-0.000023</td>\n",
       "      <td>0.000109</td>\n",
       "      <td>-2.466956e-05</td>\n",
       "      <td>-0.000078</td>\n",
       "      <td>-0.000108</td>\n",
       "      <td>0.000042</td>\n",
       "      <td>0.000108</td>\n",
       "      <td>0.000099</td>\n",
       "      <td>...</td>\n",
       "      <td>0.000051</td>\n",
       "      <td>-0.000041</td>\n",
       "      <td>0.000046</td>\n",
       "      <td>0.000047</td>\n",
       "      <td>-0.000070</td>\n",
       "      <td>-0.000032</td>\n",
       "      <td>0.000084</td>\n",
       "      <td>-0.000053</td>\n",
       "      <td>1</td>\n",
       "      <td>8</td>\n",
       "    </tr>\n",
       "    <tr>\n",
       "      <th>368</th>\n",
       "      <td>6228</td>\n",
       "      <td>0.000101</td>\n",
       "      <td>0.000170</td>\n",
       "      <td>0.000135</td>\n",
       "      <td>-1.796247e-04</td>\n",
       "      <td>0.000190</td>\n",
       "      <td>-0.000129</td>\n",
       "      <td>-0.000206</td>\n",
       "      <td>0.000139</td>\n",
       "      <td>0.000187</td>\n",
       "      <td>...</td>\n",
       "      <td>0.000056</td>\n",
       "      <td>0.000298</td>\n",
       "      <td>0.000534</td>\n",
       "      <td>-0.000503</td>\n",
       "      <td>0.000286</td>\n",
       "      <td>0.000528</td>\n",
       "      <td>0.000130</td>\n",
       "      <td>-0.000568</td>\n",
       "      <td>1</td>\n",
       "      <td>8</td>\n",
       "    </tr>\n",
       "    <tr>\n",
       "      <th>369</th>\n",
       "      <td>6229</td>\n",
       "      <td>0.000364</td>\n",
       "      <td>-0.000319</td>\n",
       "      <td>-0.000422</td>\n",
       "      <td>4.272075e-04</td>\n",
       "      <td>-0.000435</td>\n",
       "      <td>0.000291</td>\n",
       "      <td>0.000426</td>\n",
       "      <td>0.000443</td>\n",
       "      <td>-0.000429</td>\n",
       "      <td>...</td>\n",
       "      <td>-0.005077</td>\n",
       "      <td>-0.010301</td>\n",
       "      <td>-0.008966</td>\n",
       "      <td>-0.002903</td>\n",
       "      <td>0.006603</td>\n",
       "      <td>0.006769</td>\n",
       "      <td>0.009077</td>\n",
       "      <td>0.011119</td>\n",
       "      <td>1</td>\n",
       "      <td>8</td>\n",
       "    </tr>\n",
       "    <tr>\n",
       "      <th>370</th>\n",
       "      <td>6230</td>\n",
       "      <td>0.013104</td>\n",
       "      <td>0.012679</td>\n",
       "      <td>0.001678</td>\n",
       "      <td>-1.828928e-03</td>\n",
       "      <td>-0.011419</td>\n",
       "      <td>-0.010451</td>\n",
       "      <td>-0.003469</td>\n",
       "      <td>0.007616</td>\n",
       "      <td>0.005958</td>\n",
       "      <td>...</td>\n",
       "      <td>0.000312</td>\n",
       "      <td>-0.000151</td>\n",
       "      <td>-0.000179</td>\n",
       "      <td>0.000156</td>\n",
       "      <td>-0.000188</td>\n",
       "      <td>0.000253</td>\n",
       "      <td>-0.000305</td>\n",
       "      <td>0.000323</td>\n",
       "      <td>1</td>\n",
       "      <td>8</td>\n",
       "    </tr>\n",
       "    <tr>\n",
       "      <th>371</th>\n",
       "      <td>6232</td>\n",
       "      <td>-0.000093</td>\n",
       "      <td>0.000053</td>\n",
       "      <td>0.000136</td>\n",
       "      <td>-1.299740e-04</td>\n",
       "      <td>-0.000084</td>\n",
       "      <td>0.000105</td>\n",
       "      <td>-0.000009</td>\n",
       "      <td>-0.000072</td>\n",
       "      <td>0.000058</td>\n",
       "      <td>...</td>\n",
       "      <td>0.000033</td>\n",
       "      <td>0.000038</td>\n",
       "      <td>-0.000034</td>\n",
       "      <td>0.000037</td>\n",
       "      <td>-0.000045</td>\n",
       "      <td>0.000052</td>\n",
       "      <td>0.000013</td>\n",
       "      <td>-0.000057</td>\n",
       "      <td>1</td>\n",
       "      <td>8</td>\n",
       "    </tr>\n",
       "  </tbody>\n",
       "</table>\n",
       "<p>372 rows × 5003 columns</p>\n",
       "</div>"
      ],
      "text/plain": [
       "     index      col0      col1      col2          col3      col4      col5  \\\n",
       "0     5826 -0.000006 -0.000070  0.000016  7.020446e-05 -0.000070 -0.000032   \n",
       "1     5827  0.000011 -0.000087  0.000066  8.824123e-05 -0.000081 -0.000088   \n",
       "2     5828  0.000097  0.000066 -0.000046 -9.182897e-05 -0.000012  0.000085   \n",
       "3     5829 -0.000141 -0.000278  0.000294 -6.521903e-05 -0.000363  0.000400   \n",
       "4     5830  0.000107 -0.000104  0.000097  9.133169e-07 -0.000074  0.000010   \n",
       "..     ...       ...       ...       ...           ...       ...       ...   \n",
       "367   6227 -0.000091 -0.000023  0.000109 -2.466956e-05 -0.000078 -0.000108   \n",
       "368   6228  0.000101  0.000170  0.000135 -1.796247e-04  0.000190 -0.000129   \n",
       "369   6229  0.000364 -0.000319 -0.000422  4.272075e-04 -0.000435  0.000291   \n",
       "370   6230  0.013104  0.012679  0.001678 -1.828928e-03 -0.011419 -0.010451   \n",
       "371   6232 -0.000093  0.000053  0.000136 -1.299740e-04 -0.000084  0.000105   \n",
       "\n",
       "         col6      col7      col8  ...   col4992   col4993   col4994  \\\n",
       "0    0.000071 -0.000073 -0.000001  ... -0.000035 -0.000085  0.000101   \n",
       "1    0.000085 -0.000078 -0.000037  ...  0.000069 -0.000069  0.000025   \n",
       "2   -0.000032 -0.000082  0.000086  ...  0.000137 -0.000544  0.000562   \n",
       "3    0.000378 -0.000358 -0.000440  ...  0.000020  0.000064 -0.000057   \n",
       "4    0.000062 -0.000062 -0.000024  ...  0.000076  0.000159 -0.000055   \n",
       "..        ...       ...       ...  ...       ...       ...       ...   \n",
       "367  0.000042  0.000108  0.000099  ...  0.000051 -0.000041  0.000046   \n",
       "368 -0.000206  0.000139  0.000187  ...  0.000056  0.000298  0.000534   \n",
       "369  0.000426  0.000443 -0.000429  ... -0.005077 -0.010301 -0.008966   \n",
       "370 -0.003469  0.007616  0.005958  ...  0.000312 -0.000151 -0.000179   \n",
       "371 -0.000009 -0.000072  0.000058  ...  0.000033  0.000038 -0.000034   \n",
       "\n",
       "      col4995   col4996   col4997   col4998   col4999  col5000  col5001  \n",
       "0    0.000056 -0.000127  0.000138  0.000139 -0.000140        1        8  \n",
       "1    0.000041 -0.000027  0.000019 -0.000015 -0.000003        1        8  \n",
       "2    0.000416 -0.000580 -0.000429  0.000582 -0.000268        1        8  \n",
       "3    0.000052 -0.000052  0.000054 -0.000036 -0.000056        1        8  \n",
       "4   -0.000191 -0.000119  0.000044  0.000091  0.000213        1        8  \n",
       "..        ...       ...       ...       ...       ...      ...      ...  \n",
       "367  0.000047 -0.000070 -0.000032  0.000084 -0.000053        1        8  \n",
       "368 -0.000503  0.000286  0.000528  0.000130 -0.000568        1        8  \n",
       "369 -0.002903  0.006603  0.006769  0.009077  0.011119        1        8  \n",
       "370  0.000156 -0.000188  0.000253 -0.000305  0.000323        1        8  \n",
       "371  0.000037 -0.000045  0.000052  0.000013 -0.000057        1        8  \n",
       "\n",
       "[372 rows x 5003 columns]"
      ]
     },
     "execution_count": 118,
     "metadata": {},
     "output_type": "execute_result"
    }
   ],
   "source": [
    "new_IMF_pd_m_split_test_d1[0][0] # from this one I extract 20% of 372 --> 75"
   ]
  },
  {
   "cell_type": "code",
   "execution_count": 78,
   "id": "7797cc52",
   "metadata": {},
   "outputs": [],
   "source": [
    "IMF_train_m_pd_concat_d1 = [pd.concat(new_IMF_pd_m_split_train_d1[i], axis = 0) for i in range(0,n_IMF)]\n",
    "IMF_train_m_pd_concat_d1 = [IMF_train_m_pd_concat_d1[i].reset_index() for i in range(0,n_IMF)]"
   ]
  },
  {
   "cell_type": "code",
   "execution_count": 124,
   "id": "829fb286",
   "metadata": {},
   "outputs": [
    {
     "data": {
      "text/html": [
       "<div>\n",
       "<style scoped>\n",
       "    .dataframe tbody tr th:only-of-type {\n",
       "        vertical-align: middle;\n",
       "    }\n",
       "\n",
       "    .dataframe tbody tr th {\n",
       "        vertical-align: top;\n",
       "    }\n",
       "\n",
       "    .dataframe thead th {\n",
       "        text-align: right;\n",
       "    }\n",
       "</style>\n",
       "<table border=\"1\" class=\"dataframe\">\n",
       "  <thead>\n",
       "    <tr style=\"text-align: right;\">\n",
       "      <th></th>\n",
       "      <th>level_0</th>\n",
       "      <th>index</th>\n",
       "      <th>col0</th>\n",
       "      <th>col1</th>\n",
       "      <th>col2</th>\n",
       "      <th>col3</th>\n",
       "      <th>col4</th>\n",
       "      <th>col5</th>\n",
       "      <th>col6</th>\n",
       "      <th>col7</th>\n",
       "      <th>...</th>\n",
       "      <th>col4992</th>\n",
       "      <th>col4993</th>\n",
       "      <th>col4994</th>\n",
       "      <th>col4995</th>\n",
       "      <th>col4996</th>\n",
       "      <th>col4997</th>\n",
       "      <th>col4998</th>\n",
       "      <th>col4999</th>\n",
       "      <th>col5000</th>\n",
       "      <th>col5001</th>\n",
       "    </tr>\n",
       "  </thead>\n",
       "  <tbody>\n",
       "    <tr>\n",
       "      <th>0</th>\n",
       "      <td>0</td>\n",
       "      <td>1</td>\n",
       "      <td>-0.000054</td>\n",
       "      <td>-0.000077</td>\n",
       "      <td>-0.000037</td>\n",
       "      <td>0.000080</td>\n",
       "      <td>-0.000086</td>\n",
       "      <td>0.000073</td>\n",
       "      <td>1.057355e-04</td>\n",
       "      <td>-0.000114</td>\n",
       "      <td>...</td>\n",
       "      <td>0.000115</td>\n",
       "      <td>-0.000089</td>\n",
       "      <td>0.000071</td>\n",
       "      <td>-0.000065</td>\n",
       "      <td>0.000050</td>\n",
       "      <td>0.000068</td>\n",
       "      <td>0.000078</td>\n",
       "      <td>-0.000080</td>\n",
       "      <td>0</td>\n",
       "      <td>0</td>\n",
       "    </tr>\n",
       "    <tr>\n",
       "      <th>1</th>\n",
       "      <td>1</td>\n",
       "      <td>2</td>\n",
       "      <td>0.000072</td>\n",
       "      <td>-0.000077</td>\n",
       "      <td>0.000082</td>\n",
       "      <td>-0.000058</td>\n",
       "      <td>-0.000110</td>\n",
       "      <td>0.000134</td>\n",
       "      <td>-1.255707e-05</td>\n",
       "      <td>-0.000179</td>\n",
       "      <td>...</td>\n",
       "      <td>-0.000050</td>\n",
       "      <td>0.000136</td>\n",
       "      <td>-0.000010</td>\n",
       "      <td>-0.000188</td>\n",
       "      <td>0.000215</td>\n",
       "      <td>0.000079</td>\n",
       "      <td>-0.000252</td>\n",
       "      <td>0.000258</td>\n",
       "      <td>0</td>\n",
       "      <td>0</td>\n",
       "    </tr>\n",
       "    <tr>\n",
       "      <th>2</th>\n",
       "      <td>2</td>\n",
       "      <td>5</td>\n",
       "      <td>-0.000073</td>\n",
       "      <td>0.000095</td>\n",
       "      <td>-0.000090</td>\n",
       "      <td>-0.000097</td>\n",
       "      <td>0.000101</td>\n",
       "      <td>0.000069</td>\n",
       "      <td>-9.357697e-07</td>\n",
       "      <td>-0.000121</td>\n",
       "      <td>...</td>\n",
       "      <td>0.000077</td>\n",
       "      <td>0.000002</td>\n",
       "      <td>-0.000122</td>\n",
       "      <td>0.000135</td>\n",
       "      <td>0.000021</td>\n",
       "      <td>-0.000143</td>\n",
       "      <td>0.000143</td>\n",
       "      <td>0.000078</td>\n",
       "      <td>0</td>\n",
       "      <td>0</td>\n",
       "    </tr>\n",
       "    <tr>\n",
       "      <th>3</th>\n",
       "      <td>3</td>\n",
       "      <td>8</td>\n",
       "      <td>0.000094</td>\n",
       "      <td>0.000031</td>\n",
       "      <td>-0.000201</td>\n",
       "      <td>-0.000170</td>\n",
       "      <td>0.000198</td>\n",
       "      <td>-0.000091</td>\n",
       "      <td>-1.840821e-04</td>\n",
       "      <td>0.000151</td>\n",
       "      <td>...</td>\n",
       "      <td>0.000057</td>\n",
       "      <td>-0.000071</td>\n",
       "      <td>0.000093</td>\n",
       "      <td>-0.000114</td>\n",
       "      <td>0.000128</td>\n",
       "      <td>-0.000136</td>\n",
       "      <td>0.000140</td>\n",
       "      <td>-0.000140</td>\n",
       "      <td>0</td>\n",
       "      <td>0</td>\n",
       "    </tr>\n",
       "    <tr>\n",
       "      <th>4</th>\n",
       "      <td>4</td>\n",
       "      <td>9</td>\n",
       "      <td>-0.000085</td>\n",
       "      <td>-0.000098</td>\n",
       "      <td>-0.000009</td>\n",
       "      <td>0.000094</td>\n",
       "      <td>-0.000072</td>\n",
       "      <td>-0.000088</td>\n",
       "      <td>8.666713e-05</td>\n",
       "      <td>0.000045</td>\n",
       "      <td>...</td>\n",
       "      <td>-0.000194</td>\n",
       "      <td>-0.000206</td>\n",
       "      <td>0.000218</td>\n",
       "      <td>-0.000225</td>\n",
       "      <td>-0.000133</td>\n",
       "      <td>0.000227</td>\n",
       "      <td>-0.000225</td>\n",
       "      <td>-0.000164</td>\n",
       "      <td>0</td>\n",
       "      <td>0</td>\n",
       "    </tr>\n",
       "    <tr>\n",
       "      <th>...</th>\n",
       "      <td>...</td>\n",
       "      <td>...</td>\n",
       "      <td>...</td>\n",
       "      <td>...</td>\n",
       "      <td>...</td>\n",
       "      <td>...</td>\n",
       "      <td>...</td>\n",
       "      <td>...</td>\n",
       "      <td>...</td>\n",
       "      <td>...</td>\n",
       "      <td>...</td>\n",
       "      <td>...</td>\n",
       "      <td>...</td>\n",
       "      <td>...</td>\n",
       "      <td>...</td>\n",
       "      <td>...</td>\n",
       "      <td>...</td>\n",
       "      <td>...</td>\n",
       "      <td>...</td>\n",
       "      <td>...</td>\n",
       "      <td>...</td>\n",
       "    </tr>\n",
       "    <tr>\n",
       "      <th>4087</th>\n",
       "      <td>367</td>\n",
       "      <td>7985</td>\n",
       "      <td>0.000023</td>\n",
       "      <td>-0.000029</td>\n",
       "      <td>0.000035</td>\n",
       "      <td>-0.000052</td>\n",
       "      <td>0.000082</td>\n",
       "      <td>-0.000058</td>\n",
       "      <td>-1.561083e-04</td>\n",
       "      <td>0.000183</td>\n",
       "      <td>...</td>\n",
       "      <td>0.000001</td>\n",
       "      <td>-0.000176</td>\n",
       "      <td>-0.000011</td>\n",
       "      <td>0.000145</td>\n",
       "      <td>-0.000122</td>\n",
       "      <td>0.000106</td>\n",
       "      <td>0.000039</td>\n",
       "      <td>0.000031</td>\n",
       "      <td>2</td>\n",
       "      <td>11</td>\n",
       "    </tr>\n",
       "    <tr>\n",
       "      <th>4088</th>\n",
       "      <td>368</td>\n",
       "      <td>7986</td>\n",
       "      <td>-0.000171</td>\n",
       "      <td>0.000052</td>\n",
       "      <td>0.000183</td>\n",
       "      <td>-0.000179</td>\n",
       "      <td>-0.000086</td>\n",
       "      <td>0.000163</td>\n",
       "      <td>8.100767e-05</td>\n",
       "      <td>-0.000140</td>\n",
       "      <td>...</td>\n",
       "      <td>-0.000114</td>\n",
       "      <td>0.000665</td>\n",
       "      <td>0.000773</td>\n",
       "      <td>0.000783</td>\n",
       "      <td>-0.001083</td>\n",
       "      <td>-0.001075</td>\n",
       "      <td>0.000119</td>\n",
       "      <td>0.001133</td>\n",
       "      <td>2</td>\n",
       "      <td>11</td>\n",
       "    </tr>\n",
       "    <tr>\n",
       "      <th>4089</th>\n",
       "      <td>369</td>\n",
       "      <td>7988</td>\n",
       "      <td>0.000158</td>\n",
       "      <td>-0.000151</td>\n",
       "      <td>-0.000063</td>\n",
       "      <td>0.000118</td>\n",
       "      <td>-0.000105</td>\n",
       "      <td>0.000014</td>\n",
       "      <td>9.195239e-05</td>\n",
       "      <td>-0.000085</td>\n",
       "      <td>...</td>\n",
       "      <td>-0.000533</td>\n",
       "      <td>-0.000195</td>\n",
       "      <td>0.000922</td>\n",
       "      <td>-0.000658</td>\n",
       "      <td>-0.001599</td>\n",
       "      <td>0.001549</td>\n",
       "      <td>0.002161</td>\n",
       "      <td>-0.002256</td>\n",
       "      <td>2</td>\n",
       "      <td>11</td>\n",
       "    </tr>\n",
       "    <tr>\n",
       "      <th>4090</th>\n",
       "      <td>370</td>\n",
       "      <td>7989</td>\n",
       "      <td>-0.001388</td>\n",
       "      <td>0.001124</td>\n",
       "      <td>0.001601</td>\n",
       "      <td>0.000788</td>\n",
       "      <td>-0.001577</td>\n",
       "      <td>0.000362</td>\n",
       "      <td>1.521907e-03</td>\n",
       "      <td>0.000176</td>\n",
       "      <td>...</td>\n",
       "      <td>-0.001959</td>\n",
       "      <td>0.001759</td>\n",
       "      <td>0.000669</td>\n",
       "      <td>-0.001390</td>\n",
       "      <td>0.001421</td>\n",
       "      <td>-0.000132</td>\n",
       "      <td>-0.001778</td>\n",
       "      <td>0.001874</td>\n",
       "      <td>2</td>\n",
       "      <td>11</td>\n",
       "    </tr>\n",
       "    <tr>\n",
       "      <th>4091</th>\n",
       "      <td>371</td>\n",
       "      <td>7993</td>\n",
       "      <td>-0.000240</td>\n",
       "      <td>0.000224</td>\n",
       "      <td>-0.000042</td>\n",
       "      <td>-0.000123</td>\n",
       "      <td>0.000065</td>\n",
       "      <td>-0.000041</td>\n",
       "      <td>7.710502e-05</td>\n",
       "      <td>-0.000177</td>\n",
       "      <td>...</td>\n",
       "      <td>-0.000110</td>\n",
       "      <td>-0.000064</td>\n",
       "      <td>0.000084</td>\n",
       "      <td>-0.000011</td>\n",
       "      <td>-0.000070</td>\n",
       "      <td>0.000041</td>\n",
       "      <td>0.000067</td>\n",
       "      <td>-0.000069</td>\n",
       "      <td>2</td>\n",
       "      <td>11</td>\n",
       "    </tr>\n",
       "  </tbody>\n",
       "</table>\n",
       "<p>4092 rows × 5004 columns</p>\n",
       "</div>"
      ],
      "text/plain": [
       "      level_0  index      col0      col1      col2      col3      col4  \\\n",
       "0           0      1 -0.000054 -0.000077 -0.000037  0.000080 -0.000086   \n",
       "1           1      2  0.000072 -0.000077  0.000082 -0.000058 -0.000110   \n",
       "2           2      5 -0.000073  0.000095 -0.000090 -0.000097  0.000101   \n",
       "3           3      8  0.000094  0.000031 -0.000201 -0.000170  0.000198   \n",
       "4           4      9 -0.000085 -0.000098 -0.000009  0.000094 -0.000072   \n",
       "...       ...    ...       ...       ...       ...       ...       ...   \n",
       "4087      367   7985  0.000023 -0.000029  0.000035 -0.000052  0.000082   \n",
       "4088      368   7986 -0.000171  0.000052  0.000183 -0.000179 -0.000086   \n",
       "4089      369   7988  0.000158 -0.000151 -0.000063  0.000118 -0.000105   \n",
       "4090      370   7989 -0.001388  0.001124  0.001601  0.000788 -0.001577   \n",
       "4091      371   7993 -0.000240  0.000224 -0.000042 -0.000123  0.000065   \n",
       "\n",
       "          col5          col6      col7  ...   col4992   col4993   col4994  \\\n",
       "0     0.000073  1.057355e-04 -0.000114  ...  0.000115 -0.000089  0.000071   \n",
       "1     0.000134 -1.255707e-05 -0.000179  ... -0.000050  0.000136 -0.000010   \n",
       "2     0.000069 -9.357697e-07 -0.000121  ...  0.000077  0.000002 -0.000122   \n",
       "3    -0.000091 -1.840821e-04  0.000151  ...  0.000057 -0.000071  0.000093   \n",
       "4    -0.000088  8.666713e-05  0.000045  ... -0.000194 -0.000206  0.000218   \n",
       "...        ...           ...       ...  ...       ...       ...       ...   \n",
       "4087 -0.000058 -1.561083e-04  0.000183  ...  0.000001 -0.000176 -0.000011   \n",
       "4088  0.000163  8.100767e-05 -0.000140  ... -0.000114  0.000665  0.000773   \n",
       "4089  0.000014  9.195239e-05 -0.000085  ... -0.000533 -0.000195  0.000922   \n",
       "4090  0.000362  1.521907e-03  0.000176  ... -0.001959  0.001759  0.000669   \n",
       "4091 -0.000041  7.710502e-05 -0.000177  ... -0.000110 -0.000064  0.000084   \n",
       "\n",
       "       col4995   col4996   col4997   col4998   col4999  col5000  col5001  \n",
       "0    -0.000065  0.000050  0.000068  0.000078 -0.000080        0        0  \n",
       "1    -0.000188  0.000215  0.000079 -0.000252  0.000258        0        0  \n",
       "2     0.000135  0.000021 -0.000143  0.000143  0.000078        0        0  \n",
       "3    -0.000114  0.000128 -0.000136  0.000140 -0.000140        0        0  \n",
       "4    -0.000225 -0.000133  0.000227 -0.000225 -0.000164        0        0  \n",
       "...        ...       ...       ...       ...       ...      ...      ...  \n",
       "4087  0.000145 -0.000122  0.000106  0.000039  0.000031        2       11  \n",
       "4088  0.000783 -0.001083 -0.001075  0.000119  0.001133        2       11  \n",
       "4089 -0.000658 -0.001599  0.001549  0.002161 -0.002256        2       11  \n",
       "4090 -0.001390  0.001421 -0.000132 -0.001778  0.001874        2       11  \n",
       "4091 -0.000011 -0.000070  0.000041  0.000067 -0.000069        2       11  \n",
       "\n",
       "[4092 rows x 5004 columns]"
      ]
     },
     "execution_count": 124,
     "metadata": {},
     "output_type": "execute_result"
    }
   ],
   "source": [
    "IMF_train_m_pd_concat_d1[0]"
   ]
  },
  {
   "cell_type": "code",
   "execution_count": 125,
   "id": "a0adffb9",
   "metadata": {},
   "outputs": [
    {
     "data": {
      "text/plain": [
       "372.0"
      ]
     },
     "execution_count": 125,
     "metadata": {},
     "output_type": "execute_result"
    }
   ],
   "source": [
    "4092/11"
   ]
  },
  {
   "cell_type": "code",
   "execution_count": 79,
   "id": "22c67b86",
   "metadata": {},
   "outputs": [],
   "source": [
    "IMF_train_m_pd_concat_d1_0 = [IMF_train_m_pd_concat_d1[i].drop(['level_0', 'index', 'col5000', 'col5001'], axis=1) for i in range(0,n_IMF)]"
   ]
  },
  {
   "cell_type": "code",
   "execution_count": 297,
   "id": "f4343f55",
   "metadata": {},
   "outputs": [
    {
     "data": {
      "text/plain": [
       "5"
      ]
     },
     "execution_count": 297,
     "metadata": {},
     "output_type": "execute_result"
    }
   ],
   "source": [
    "len(IMF_train_m_pd_concat_d1_0)"
   ]
  },
  {
   "cell_type": "code",
   "execution_count": 298,
   "id": "fd405b50",
   "metadata": {},
   "outputs": [
    {
     "data": {
      "text/html": [
       "<div>\n",
       "<style scoped>\n",
       "    .dataframe tbody tr th:only-of-type {\n",
       "        vertical-align: middle;\n",
       "    }\n",
       "\n",
       "    .dataframe tbody tr th {\n",
       "        vertical-align: top;\n",
       "    }\n",
       "\n",
       "    .dataframe thead th {\n",
       "        text-align: right;\n",
       "    }\n",
       "</style>\n",
       "<table border=\"1\" class=\"dataframe\">\n",
       "  <thead>\n",
       "    <tr style=\"text-align: right;\">\n",
       "      <th></th>\n",
       "      <th>col0</th>\n",
       "      <th>col1</th>\n",
       "      <th>col2</th>\n",
       "      <th>col3</th>\n",
       "      <th>col4</th>\n",
       "      <th>col5</th>\n",
       "      <th>col6</th>\n",
       "      <th>col7</th>\n",
       "      <th>col8</th>\n",
       "      <th>col9</th>\n",
       "      <th>...</th>\n",
       "      <th>col4990</th>\n",
       "      <th>col4991</th>\n",
       "      <th>col4992</th>\n",
       "      <th>col4993</th>\n",
       "      <th>col4994</th>\n",
       "      <th>col4995</th>\n",
       "      <th>col4996</th>\n",
       "      <th>col4997</th>\n",
       "      <th>col4998</th>\n",
       "      <th>col4999</th>\n",
       "    </tr>\n",
       "  </thead>\n",
       "  <tbody>\n",
       "    <tr>\n",
       "      <th>0</th>\n",
       "      <td>-0.000054</td>\n",
       "      <td>-0.000077</td>\n",
       "      <td>-0.000037</td>\n",
       "      <td>0.000080</td>\n",
       "      <td>-0.000086</td>\n",
       "      <td>0.000073</td>\n",
       "      <td>1.057355e-04</td>\n",
       "      <td>-0.000114</td>\n",
       "      <td>0.000118</td>\n",
       "      <td>0.000042</td>\n",
       "      <td>...</td>\n",
       "      <td>-0.000174</td>\n",
       "      <td>0.000025</td>\n",
       "      <td>0.000115</td>\n",
       "      <td>-0.000089</td>\n",
       "      <td>0.000071</td>\n",
       "      <td>-0.000065</td>\n",
       "      <td>0.000050</td>\n",
       "      <td>0.000068</td>\n",
       "      <td>0.000078</td>\n",
       "      <td>-0.000080</td>\n",
       "    </tr>\n",
       "    <tr>\n",
       "      <th>1</th>\n",
       "      <td>0.000072</td>\n",
       "      <td>-0.000077</td>\n",
       "      <td>0.000082</td>\n",
       "      <td>-0.000058</td>\n",
       "      <td>-0.000110</td>\n",
       "      <td>0.000134</td>\n",
       "      <td>-1.255707e-05</td>\n",
       "      <td>-0.000179</td>\n",
       "      <td>-0.000171</td>\n",
       "      <td>0.000175</td>\n",
       "      <td>...</td>\n",
       "      <td>-0.000085</td>\n",
       "      <td>-0.000074</td>\n",
       "      <td>-0.000050</td>\n",
       "      <td>0.000136</td>\n",
       "      <td>-0.000010</td>\n",
       "      <td>-0.000188</td>\n",
       "      <td>0.000215</td>\n",
       "      <td>0.000079</td>\n",
       "      <td>-0.000252</td>\n",
       "      <td>0.000258</td>\n",
       "    </tr>\n",
       "    <tr>\n",
       "      <th>2</th>\n",
       "      <td>-0.000073</td>\n",
       "      <td>0.000095</td>\n",
       "      <td>-0.000090</td>\n",
       "      <td>-0.000097</td>\n",
       "      <td>0.000101</td>\n",
       "      <td>0.000069</td>\n",
       "      <td>-9.357697e-07</td>\n",
       "      <td>-0.000121</td>\n",
       "      <td>0.000129</td>\n",
       "      <td>0.000013</td>\n",
       "      <td>...</td>\n",
       "      <td>-0.000034</td>\n",
       "      <td>0.000065</td>\n",
       "      <td>0.000077</td>\n",
       "      <td>0.000002</td>\n",
       "      <td>-0.000122</td>\n",
       "      <td>0.000135</td>\n",
       "      <td>0.000021</td>\n",
       "      <td>-0.000143</td>\n",
       "      <td>0.000143</td>\n",
       "      <td>0.000078</td>\n",
       "    </tr>\n",
       "    <tr>\n",
       "      <th>3</th>\n",
       "      <td>0.000094</td>\n",
       "      <td>0.000031</td>\n",
       "      <td>-0.000201</td>\n",
       "      <td>-0.000170</td>\n",
       "      <td>0.000198</td>\n",
       "      <td>-0.000091</td>\n",
       "      <td>-1.840821e-04</td>\n",
       "      <td>0.000151</td>\n",
       "      <td>0.000152</td>\n",
       "      <td>-0.000011</td>\n",
       "      <td>...</td>\n",
       "      <td>-0.000074</td>\n",
       "      <td>-0.000009</td>\n",
       "      <td>0.000057</td>\n",
       "      <td>-0.000071</td>\n",
       "      <td>0.000093</td>\n",
       "      <td>-0.000114</td>\n",
       "      <td>0.000128</td>\n",
       "      <td>-0.000136</td>\n",
       "      <td>0.000140</td>\n",
       "      <td>-0.000140</td>\n",
       "    </tr>\n",
       "    <tr>\n",
       "      <th>4</th>\n",
       "      <td>-0.000085</td>\n",
       "      <td>-0.000098</td>\n",
       "      <td>-0.000009</td>\n",
       "      <td>0.000094</td>\n",
       "      <td>-0.000072</td>\n",
       "      <td>-0.000088</td>\n",
       "      <td>8.666713e-05</td>\n",
       "      <td>0.000045</td>\n",
       "      <td>-0.000095</td>\n",
       "      <td>0.000064</td>\n",
       "      <td>...</td>\n",
       "      <td>-0.000026</td>\n",
       "      <td>0.000184</td>\n",
       "      <td>-0.000194</td>\n",
       "      <td>-0.000206</td>\n",
       "      <td>0.000218</td>\n",
       "      <td>-0.000225</td>\n",
       "      <td>-0.000133</td>\n",
       "      <td>0.000227</td>\n",
       "      <td>-0.000225</td>\n",
       "      <td>-0.000164</td>\n",
       "    </tr>\n",
       "    <tr>\n",
       "      <th>...</th>\n",
       "      <td>...</td>\n",
       "      <td>...</td>\n",
       "      <td>...</td>\n",
       "      <td>...</td>\n",
       "      <td>...</td>\n",
       "      <td>...</td>\n",
       "      <td>...</td>\n",
       "      <td>...</td>\n",
       "      <td>...</td>\n",
       "      <td>...</td>\n",
       "      <td>...</td>\n",
       "      <td>...</td>\n",
       "      <td>...</td>\n",
       "      <td>...</td>\n",
       "      <td>...</td>\n",
       "      <td>...</td>\n",
       "      <td>...</td>\n",
       "      <td>...</td>\n",
       "      <td>...</td>\n",
       "      <td>...</td>\n",
       "      <td>...</td>\n",
       "    </tr>\n",
       "    <tr>\n",
       "      <th>4087</th>\n",
       "      <td>-0.009354</td>\n",
       "      <td>0.000754</td>\n",
       "      <td>0.009188</td>\n",
       "      <td>-0.008570</td>\n",
       "      <td>-0.008670</td>\n",
       "      <td>0.008345</td>\n",
       "      <td>-4.109946e-03</td>\n",
       "      <td>-0.008025</td>\n",
       "      <td>0.008253</td>\n",
       "      <td>0.004604</td>\n",
       "      <td>...</td>\n",
       "      <td>-0.001204</td>\n",
       "      <td>0.002256</td>\n",
       "      <td>0.005678</td>\n",
       "      <td>0.009013</td>\n",
       "      <td>0.011169</td>\n",
       "      <td>0.011578</td>\n",
       "      <td>0.011316</td>\n",
       "      <td>0.010297</td>\n",
       "      <td>0.008348</td>\n",
       "      <td>0.006056</td>\n",
       "    </tr>\n",
       "    <tr>\n",
       "      <th>4088</th>\n",
       "      <td>0.000228</td>\n",
       "      <td>-0.000227</td>\n",
       "      <td>0.000220</td>\n",
       "      <td>-0.000013</td>\n",
       "      <td>-0.000130</td>\n",
       "      <td>-0.000173</td>\n",
       "      <td>1.585194e-04</td>\n",
       "      <td>-0.000157</td>\n",
       "      <td>0.000168</td>\n",
       "      <td>0.000228</td>\n",
       "      <td>...</td>\n",
       "      <td>0.002370</td>\n",
       "      <td>0.001592</td>\n",
       "      <td>-0.000588</td>\n",
       "      <td>-0.001383</td>\n",
       "      <td>0.000021</td>\n",
       "      <td>0.000550</td>\n",
       "      <td>-0.000336</td>\n",
       "      <td>0.000365</td>\n",
       "      <td>-0.000537</td>\n",
       "      <td>0.000650</td>\n",
       "    </tr>\n",
       "    <tr>\n",
       "      <th>4089</th>\n",
       "      <td>-0.001167</td>\n",
       "      <td>0.000379</td>\n",
       "      <td>0.001097</td>\n",
       "      <td>0.000485</td>\n",
       "      <td>-0.000878</td>\n",
       "      <td>0.000024</td>\n",
       "      <td>5.409565e-04</td>\n",
       "      <td>-0.000361</td>\n",
       "      <td>0.000209</td>\n",
       "      <td>-0.000127</td>\n",
       "      <td>...</td>\n",
       "      <td>0.004679</td>\n",
       "      <td>0.005567</td>\n",
       "      <td>0.005421</td>\n",
       "      <td>0.005070</td>\n",
       "      <td>0.004669</td>\n",
       "      <td>0.003380</td>\n",
       "      <td>0.001228</td>\n",
       "      <td>-0.001684</td>\n",
       "      <td>-0.005129</td>\n",
       "      <td>-0.007940</td>\n",
       "    </tr>\n",
       "    <tr>\n",
       "      <th>4090</th>\n",
       "      <td>0.000192</td>\n",
       "      <td>-0.000256</td>\n",
       "      <td>0.000267</td>\n",
       "      <td>-0.000174</td>\n",
       "      <td>-0.000297</td>\n",
       "      <td>0.000291</td>\n",
       "      <td>-2.675051e-04</td>\n",
       "      <td>0.000048</td>\n",
       "      <td>0.000263</td>\n",
       "      <td>-0.000344</td>\n",
       "      <td>...</td>\n",
       "      <td>0.000074</td>\n",
       "      <td>-0.001043</td>\n",
       "      <td>-0.000231</td>\n",
       "      <td>0.000216</td>\n",
       "      <td>0.001353</td>\n",
       "      <td>-0.000825</td>\n",
       "      <td>-0.001464</td>\n",
       "      <td>0.001490</td>\n",
       "      <td>-0.000594</td>\n",
       "      <td>-0.001502</td>\n",
       "    </tr>\n",
       "    <tr>\n",
       "      <th>4091</th>\n",
       "      <td>-0.000152</td>\n",
       "      <td>0.000148</td>\n",
       "      <td>0.001442</td>\n",
       "      <td>-0.000104</td>\n",
       "      <td>-0.001310</td>\n",
       "      <td>-0.001151</td>\n",
       "      <td>9.561931e-04</td>\n",
       "      <td>-0.000723</td>\n",
       "      <td>0.000513</td>\n",
       "      <td>-0.000387</td>\n",
       "      <td>...</td>\n",
       "      <td>-0.001740</td>\n",
       "      <td>-0.000966</td>\n",
       "      <td>0.002605</td>\n",
       "      <td>0.003265</td>\n",
       "      <td>-0.003680</td>\n",
       "      <td>-0.002347</td>\n",
       "      <td>0.004169</td>\n",
       "      <td>-0.000873</td>\n",
       "      <td>-0.004284</td>\n",
       "      <td>-0.000156</td>\n",
       "    </tr>\n",
       "  </tbody>\n",
       "</table>\n",
       "<p>4092 rows × 5000 columns</p>\n",
       "</div>"
      ],
      "text/plain": [
       "          col0      col1      col2      col3      col4      col5  \\\n",
       "0    -0.000054 -0.000077 -0.000037  0.000080 -0.000086  0.000073   \n",
       "1     0.000072 -0.000077  0.000082 -0.000058 -0.000110  0.000134   \n",
       "2    -0.000073  0.000095 -0.000090 -0.000097  0.000101  0.000069   \n",
       "3     0.000094  0.000031 -0.000201 -0.000170  0.000198 -0.000091   \n",
       "4    -0.000085 -0.000098 -0.000009  0.000094 -0.000072 -0.000088   \n",
       "...        ...       ...       ...       ...       ...       ...   \n",
       "4087 -0.009354  0.000754  0.009188 -0.008570 -0.008670  0.008345   \n",
       "4088  0.000228 -0.000227  0.000220 -0.000013 -0.000130 -0.000173   \n",
       "4089 -0.001167  0.000379  0.001097  0.000485 -0.000878  0.000024   \n",
       "4090  0.000192 -0.000256  0.000267 -0.000174 -0.000297  0.000291   \n",
       "4091 -0.000152  0.000148  0.001442 -0.000104 -0.001310 -0.001151   \n",
       "\n",
       "              col6      col7      col8      col9  ...   col4990   col4991  \\\n",
       "0     1.057355e-04 -0.000114  0.000118  0.000042  ... -0.000174  0.000025   \n",
       "1    -1.255707e-05 -0.000179 -0.000171  0.000175  ... -0.000085 -0.000074   \n",
       "2    -9.357697e-07 -0.000121  0.000129  0.000013  ... -0.000034  0.000065   \n",
       "3    -1.840821e-04  0.000151  0.000152 -0.000011  ... -0.000074 -0.000009   \n",
       "4     8.666713e-05  0.000045 -0.000095  0.000064  ... -0.000026  0.000184   \n",
       "...            ...       ...       ...       ...  ...       ...       ...   \n",
       "4087 -4.109946e-03 -0.008025  0.008253  0.004604  ... -0.001204  0.002256   \n",
       "4088  1.585194e-04 -0.000157  0.000168  0.000228  ...  0.002370  0.001592   \n",
       "4089  5.409565e-04 -0.000361  0.000209 -0.000127  ...  0.004679  0.005567   \n",
       "4090 -2.675051e-04  0.000048  0.000263 -0.000344  ...  0.000074 -0.001043   \n",
       "4091  9.561931e-04 -0.000723  0.000513 -0.000387  ... -0.001740 -0.000966   \n",
       "\n",
       "       col4992   col4993   col4994   col4995   col4996   col4997   col4998  \\\n",
       "0     0.000115 -0.000089  0.000071 -0.000065  0.000050  0.000068  0.000078   \n",
       "1    -0.000050  0.000136 -0.000010 -0.000188  0.000215  0.000079 -0.000252   \n",
       "2     0.000077  0.000002 -0.000122  0.000135  0.000021 -0.000143  0.000143   \n",
       "3     0.000057 -0.000071  0.000093 -0.000114  0.000128 -0.000136  0.000140   \n",
       "4    -0.000194 -0.000206  0.000218 -0.000225 -0.000133  0.000227 -0.000225   \n",
       "...        ...       ...       ...       ...       ...       ...       ...   \n",
       "4087  0.005678  0.009013  0.011169  0.011578  0.011316  0.010297  0.008348   \n",
       "4088 -0.000588 -0.001383  0.000021  0.000550 -0.000336  0.000365 -0.000537   \n",
       "4089  0.005421  0.005070  0.004669  0.003380  0.001228 -0.001684 -0.005129   \n",
       "4090 -0.000231  0.000216  0.001353 -0.000825 -0.001464  0.001490 -0.000594   \n",
       "4091  0.002605  0.003265 -0.003680 -0.002347  0.004169 -0.000873 -0.004284   \n",
       "\n",
       "       col4999  \n",
       "0    -0.000080  \n",
       "1     0.000258  \n",
       "2     0.000078  \n",
       "3    -0.000140  \n",
       "4    -0.000164  \n",
       "...        ...  \n",
       "4087  0.006056  \n",
       "4088  0.000650  \n",
       "4089 -0.007940  \n",
       "4090 -0.001502  \n",
       "4091 -0.000156  \n",
       "\n",
       "[4092 rows x 5000 columns]"
      ]
     },
     "execution_count": 298,
     "metadata": {},
     "output_type": "execute_result"
    }
   ],
   "source": [
    "IMF_train_m_pd_concat_d1_0[0]"
   ]
  },
  {
   "cell_type": "code",
   "execution_count": 80,
   "id": "d571fe9e",
   "metadata": {},
   "outputs": [
    {
     "name": "stdout",
     "output_type": "stream",
     "text": [
      "298 75\n"
     ]
    }
   ],
   "source": [
    "# NOTE: To extract the trainiing set, even if the sets are of bigger dimensions, we still set the 80% equal to N_m\n",
    "#       across the groups. \n",
    "\n",
    "per_train_pd_m = math.ceil(N_m * 0.8)\n",
    "per_test_pd_m = math.ceil(N_m * 0.2)\n",
    "print(per_train_pd_m, per_test_pd_m)\n"
   ]
  },
  {
   "cell_type": "code",
   "execution_count": 81,
   "id": "9c969e37",
   "metadata": {},
   "outputs": [
    {
     "name": "stdout",
     "output_type": "stream",
     "text": [
      "0.2665354510728647\n"
     ]
    }
   ],
   "source": [
    "#Set see to reproduce the results\n",
    "random.seed(1)\n",
    "\n",
    "range_pd_m = range(0, IMF_train_m_pd_concat_d1_0[0].shape[0] )\n",
    "range_pd_m_test = range(0, N_m)\n",
    "\n",
    "rand_s_train_pd_m = random.sample(range_pd_m, k = per_train_pd_m)\n",
    "rand_s_test_pd_m = random.sample(range_pd_m_test, k = per_test_pd_m)\n",
    "\n",
    "print(random.random()) #0.2665354510728647\n",
    "\n",
    "ind_train_pd_m = sorted(rand_s_train_pd_m) \n",
    "ind_test_pd_m = sorted(rand_s_test_pd_m) \n"
   ]
  },
  {
   "cell_type": "code",
   "execution_count": 422,
   "id": "d602c8a1",
   "metadata": {},
   "outputs": [],
   "source": [
    "IMF_train_m_pd_d1 = [IMF_train_m_pd_concat_d1_0[i].reset_index().loc[ind_train_pd_m]  for i in range(0,n_IMF)]"
   ]
  },
  {
   "cell_type": "code",
   "execution_count": 423,
   "id": "9a5425e3",
   "metadata": {},
   "outputs": [
    {
     "data": {
      "text/plain": [
       "[(298, 5001), (298, 5001), (298, 5001), (298, 5001), (298, 5001)]"
      ]
     },
     "execution_count": 423,
     "metadata": {},
     "output_type": "execute_result"
    }
   ],
   "source": [
    "[IMF_train_m_pd_d1[i].shape  for i in range(0,n_IMF)]"
   ]
  },
  {
   "cell_type": "code",
   "execution_count": 424,
   "id": "b89ffb7a",
   "metadata": {},
   "outputs": [],
   "source": [
    "IMF_train_m_pd_d1 = [IMF_train_m_pd_d1[i].drop(['index'], axis=1) for i in range(0,n_IMF)]"
   ]
  },
  {
   "cell_type": "code",
   "execution_count": 425,
   "id": "816e56af",
   "metadata": {},
   "outputs": [
    {
     "data": {
      "text/plain": [
       "[(298, 5000), (298, 5000), (298, 5000), (298, 5000), (298, 5000)]"
      ]
     },
     "execution_count": 425,
     "metadata": {},
     "output_type": "execute_result"
    }
   ],
   "source": [
    "[IMF_train_m_pd_d1[i].shape for i in range(0,n_IMF)]"
   ]
  },
  {
   "cell_type": "code",
   "execution_count": 426,
   "id": "b50f3381",
   "metadata": {},
   "outputs": [],
   "source": [
    "IMF_train_m_pd_d1 = [IMF_train_m_pd_d1[i].values for i in range(0,n_IMF)]"
   ]
  },
  {
   "cell_type": "code",
   "execution_count": 427,
   "id": "3dcf0c9c",
   "metadata": {},
   "outputs": [
    {
     "data": {
      "text/plain": [
       "[(298, 5000), (298, 5000), (298, 5000), (298, 5000), (298, 5000)]"
      ]
     },
     "execution_count": 427,
     "metadata": {},
     "output_type": "execute_result"
    }
   ],
   "source": [
    " [IMF_train_m_pd_d1[i].shape for i in range(0,n_IMF)]"
   ]
  },
  {
   "cell_type": "code",
   "execution_count": 258,
   "id": "36b5fc47",
   "metadata": {},
   "outputs": [],
   "source": [
    "IMF_test_pd_m_d1 = [new_IMF_pd_m_split_test_d1[i][0].reset_index().loc[ind_test_pd_m] for i in range(0,n_IMF)]"
   ]
  },
  {
   "cell_type": "code",
   "execution_count": 259,
   "id": "966d27f6",
   "metadata": {},
   "outputs": [
    {
     "data": {
      "text/plain": [
       "[(75, 5004), (75, 5004), (75, 5004), (75, 5004), (75, 5004)]"
      ]
     },
     "execution_count": 259,
     "metadata": {},
     "output_type": "execute_result"
    }
   ],
   "source": [
    "[IMF_test_pd_m_d1[i].shape for i in range(0,n_IMF)]"
   ]
  },
  {
   "cell_type": "code",
   "execution_count": 260,
   "id": "6b765f4a",
   "metadata": {},
   "outputs": [],
   "source": [
    "IMF_test_pd_m_d1 = [IMF_test_pd_m_d1[i].drop(['level_0', 'index', 'col5000', 'col5001'], axis=1) for i in range(0,n_IMF)]"
   ]
  },
  {
   "cell_type": "code",
   "execution_count": 261,
   "id": "08a912ab",
   "metadata": {},
   "outputs": [
    {
     "data": {
      "text/plain": [
       "[(75, 5000), (75, 5000), (75, 5000), (75, 5000), (75, 5000)]"
      ]
     },
     "execution_count": 261,
     "metadata": {},
     "output_type": "execute_result"
    }
   ],
   "source": [
    "[IMF_test_pd_m_d1[i].shape for i in range(0,n_IMF)]"
   ]
  },
  {
   "cell_type": "code",
   "execution_count": 262,
   "id": "ccb031c4",
   "metadata": {},
   "outputs": [],
   "source": [
    "IMF_test_pd_m_d1 = [IMF_test_pd_m_d1[i].values  for i in range(0,n_IMF)]"
   ]
  },
  {
   "cell_type": "code",
   "execution_count": 263,
   "id": "ad89af84",
   "metadata": {},
   "outputs": [
    {
     "data": {
      "text/plain": [
       "[(75, 5000), (75, 5000), (75, 5000), (75, 5000), (75, 5000)]"
      ]
     },
     "execution_count": 263,
     "metadata": {},
     "output_type": "execute_result"
    }
   ],
   "source": [
    "[IMF_test_pd_m_d1[i].shape for i in range(0,n_IMF)]"
   ]
  },
  {
   "cell_type": "code",
   "execution_count": null,
   "id": "0dd1ae66",
   "metadata": {},
   "outputs": [],
   "source": []
  },
  {
   "cell_type": "code",
   "execution_count": 241,
   "id": "bf011bd1",
   "metadata": {},
   "outputs": [],
   "source": [
    "np.save('IMF_test_m_pd_3', IMF_test_pd_m_d1)"
   ]
  },
  {
   "cell_type": "code",
   "execution_count": 264,
   "id": "1b8530d1",
   "metadata": {},
   "outputs": [],
   "source": [
    "np.save('IMF_test_m_pd_4', IMF_test_pd_m_d1)"
   ]
  },
  {
   "cell_type": "code",
   "execution_count": 228,
   "id": "c29a40ad",
   "metadata": {},
   "outputs": [],
   "source": [
    "np.save('IMF_test_m_pd_2', IMF_test_pd_m_d1)"
   ]
  },
  {
   "cell_type": "code",
   "execution_count": 205,
   "id": "041a18e6",
   "metadata": {},
   "outputs": [],
   "source": [
    "np.save('IMF_test_m_pd_6', IMF_test_pd_m_d1)"
   ]
  },
  {
   "cell_type": "code",
   "execution_count": 186,
   "id": "1d6f1c6d",
   "metadata": {},
   "outputs": [],
   "source": [
    "np.save('IMF_test_m_pd_9', IMF_test_pd_m_d1)"
   ]
  },
  {
   "cell_type": "code",
   "execution_count": 170,
   "id": "c42bb8e4",
   "metadata": {},
   "outputs": [],
   "source": [
    "np.save('IMF_test_m_pd_10', IMF_test_pd_m_d1)"
   ]
  },
  {
   "cell_type": "code",
   "execution_count": 154,
   "id": "06668b06",
   "metadata": {},
   "outputs": [],
   "source": [
    "np.save('IMF_test_m_pd_11', IMF_test_pd_m_d1)"
   ]
  },
  {
   "cell_type": "code",
   "execution_count": 142,
   "id": "57189acc",
   "metadata": {},
   "outputs": [],
   "source": [
    "np.save('IMF_test_m_pd_0', IMF_test_pd_m_d1)"
   ]
  },
  {
   "cell_type": "code",
   "execution_count": 121,
   "id": "ebf6a928",
   "metadata": {},
   "outputs": [],
   "source": [
    "np.save('IMF_test_m_pd_7', IMF_test_pd_m_d1)"
   ]
  },
  {
   "cell_type": "code",
   "execution_count": 88,
   "id": "39bea08a",
   "metadata": {},
   "outputs": [],
   "source": [
    "np.save('IMF_test_m_pd_1', IMF_test_pd_m_d1)"
   ]
  },
  {
   "cell_type": "code",
   "execution_count": null,
   "id": "a43a6a63",
   "metadata": {},
   "outputs": [],
   "source": []
  },
  {
   "cell_type": "code",
   "execution_count": 161,
   "id": "66b741b3",
   "metadata": {},
   "outputs": [],
   "source": [
    "np.save('IMF_train_m_pd_d1', IMF_train_m_pd_d1)"
   ]
  },
  {
   "cell_type": "code",
   "execution_count": 162,
   "id": "0299457d",
   "metadata": {},
   "outputs": [],
   "source": [
    "np.save('IMF_test_pd_m_d1', IMF_test_pd_m_d1)"
   ]
  },
  {
   "cell_type": "code",
   "execution_count": null,
   "id": "419fd52c",
   "metadata": {},
   "outputs": [],
   "source": []
  },
  {
   "cell_type": "code",
   "execution_count": null,
   "id": "4f63a194",
   "metadata": {},
   "outputs": [],
   "source": [
    "###############\n",
    "#   FEMALE    #\n",
    "###############"
   ]
  },
  {
   "cell_type": "code",
   "execution_count": 163,
   "id": "503e536a",
   "metadata": {},
   "outputs": [
    {
     "data": {
      "text/html": [
       "<div>\n",
       "<style scoped>\n",
       "    .dataframe tbody tr th:only-of-type {\n",
       "        vertical-align: middle;\n",
       "    }\n",
       "\n",
       "    .dataframe tbody tr th {\n",
       "        vertical-align: top;\n",
       "    }\n",
       "\n",
       "    .dataframe thead th {\n",
       "        text-align: right;\n",
       "    }\n",
       "</style>\n",
       "<table border=\"1\" class=\"dataframe\">\n",
       "  <thead>\n",
       "    <tr style=\"text-align: right;\">\n",
       "      <th></th>\n",
       "      <th>index</th>\n",
       "      <th>col0</th>\n",
       "      <th>col1</th>\n",
       "      <th>col2</th>\n",
       "      <th>col3</th>\n",
       "      <th>col4</th>\n",
       "      <th>col5</th>\n",
       "      <th>col6</th>\n",
       "      <th>col7</th>\n",
       "      <th>col8</th>\n",
       "      <th>...</th>\n",
       "      <th>col4992</th>\n",
       "      <th>col4993</th>\n",
       "      <th>col4994</th>\n",
       "      <th>col4995</th>\n",
       "      <th>col4996</th>\n",
       "      <th>col4997</th>\n",
       "      <th>col4998</th>\n",
       "      <th>col4999</th>\n",
       "      <th>col5000</th>\n",
       "      <th>col5001</th>\n",
       "    </tr>\n",
       "  </thead>\n",
       "  <tbody>\n",
       "    <tr>\n",
       "      <th>0</th>\n",
       "      <td>2073</td>\n",
       "      <td>0.000126</td>\n",
       "      <td>0.000168</td>\n",
       "      <td>-0.000182</td>\n",
       "      <td>0.000086</td>\n",
       "      <td>0.000233</td>\n",
       "      <td>0.000052</td>\n",
       "      <td>-0.000244</td>\n",
       "      <td>0.000211</td>\n",
       "      <td>0.000195</td>\n",
       "      <td>...</td>\n",
       "      <td>-0.000027</td>\n",
       "      <td>0.000155</td>\n",
       "      <td>-0.000012</td>\n",
       "      <td>-0.000141</td>\n",
       "      <td>0.000136</td>\n",
       "      <td>-0.000044</td>\n",
       "      <td>-0.000134</td>\n",
       "      <td>2.648941e-05</td>\n",
       "      <td>0</td>\n",
       "      <td>3</td>\n",
       "    </tr>\n",
       "    <tr>\n",
       "      <th>1</th>\n",
       "      <td>2074</td>\n",
       "      <td>-0.000039</td>\n",
       "      <td>0.000027</td>\n",
       "      <td>0.000165</td>\n",
       "      <td>-0.000161</td>\n",
       "      <td>-0.000079</td>\n",
       "      <td>0.000148</td>\n",
       "      <td>-0.000027</td>\n",
       "      <td>-0.000146</td>\n",
       "      <td>0.000154</td>\n",
       "      <td>...</td>\n",
       "      <td>-0.000043</td>\n",
       "      <td>-0.000185</td>\n",
       "      <td>0.000198</td>\n",
       "      <td>-0.000081</td>\n",
       "      <td>-0.000211</td>\n",
       "      <td>0.000140</td>\n",
       "      <td>0.000185</td>\n",
       "      <td>2.118908e-04</td>\n",
       "      <td>0</td>\n",
       "      <td>3</td>\n",
       "    </tr>\n",
       "    <tr>\n",
       "      <th>2</th>\n",
       "      <td>2075</td>\n",
       "      <td>0.000081</td>\n",
       "      <td>-0.000105</td>\n",
       "      <td>0.000042</td>\n",
       "      <td>0.000113</td>\n",
       "      <td>-0.000077</td>\n",
       "      <td>-0.000138</td>\n",
       "      <td>0.000060</td>\n",
       "      <td>0.000178</td>\n",
       "      <td>-0.000196</td>\n",
       "      <td>...</td>\n",
       "      <td>0.000036</td>\n",
       "      <td>0.000041</td>\n",
       "      <td>-0.000049</td>\n",
       "      <td>0.000035</td>\n",
       "      <td>0.000077</td>\n",
       "      <td>-0.000098</td>\n",
       "      <td>0.000113</td>\n",
       "      <td>8.521522e-05</td>\n",
       "      <td>0</td>\n",
       "      <td>3</td>\n",
       "    </tr>\n",
       "    <tr>\n",
       "      <th>3</th>\n",
       "      <td>2076</td>\n",
       "      <td>0.000087</td>\n",
       "      <td>0.000115</td>\n",
       "      <td>0.000018</td>\n",
       "      <td>-0.000040</td>\n",
       "      <td>-0.000109</td>\n",
       "      <td>0.000104</td>\n",
       "      <td>-0.000098</td>\n",
       "      <td>-0.000070</td>\n",
       "      <td>0.000095</td>\n",
       "      <td>...</td>\n",
       "      <td>0.000013</td>\n",
       "      <td>-0.000102</td>\n",
       "      <td>-0.000011</td>\n",
       "      <td>0.000057</td>\n",
       "      <td>0.000076</td>\n",
       "      <td>-0.000068</td>\n",
       "      <td>0.000064</td>\n",
       "      <td>2.209288e-08</td>\n",
       "      <td>0</td>\n",
       "      <td>3</td>\n",
       "    </tr>\n",
       "    <tr>\n",
       "      <th>4</th>\n",
       "      <td>2081</td>\n",
       "      <td>-0.000654</td>\n",
       "      <td>-0.000340</td>\n",
       "      <td>0.000017</td>\n",
       "      <td>0.000649</td>\n",
       "      <td>0.000595</td>\n",
       "      <td>0.000158</td>\n",
       "      <td>-0.000622</td>\n",
       "      <td>0.000058</td>\n",
       "      <td>0.000592</td>\n",
       "      <td>...</td>\n",
       "      <td>-0.000014</td>\n",
       "      <td>0.000069</td>\n",
       "      <td>-0.000079</td>\n",
       "      <td>0.000027</td>\n",
       "      <td>0.000158</td>\n",
       "      <td>-0.000202</td>\n",
       "      <td>0.000227</td>\n",
       "      <td>1.014370e-04</td>\n",
       "      <td>0</td>\n",
       "      <td>3</td>\n",
       "    </tr>\n",
       "    <tr>\n",
       "      <th>...</th>\n",
       "      <td>...</td>\n",
       "      <td>...</td>\n",
       "      <td>...</td>\n",
       "      <td>...</td>\n",
       "      <td>...</td>\n",
       "      <td>...</td>\n",
       "      <td>...</td>\n",
       "      <td>...</td>\n",
       "      <td>...</td>\n",
       "      <td>...</td>\n",
       "      <td>...</td>\n",
       "      <td>...</td>\n",
       "      <td>...</td>\n",
       "      <td>...</td>\n",
       "      <td>...</td>\n",
       "      <td>...</td>\n",
       "      <td>...</td>\n",
       "      <td>...</td>\n",
       "      <td>...</td>\n",
       "      <td>...</td>\n",
       "      <td>...</td>\n",
       "    </tr>\n",
       "    <tr>\n",
       "      <th>437</th>\n",
       "      <td>2745</td>\n",
       "      <td>0.000105</td>\n",
       "      <td>0.000030</td>\n",
       "      <td>-0.000188</td>\n",
       "      <td>-0.000355</td>\n",
       "      <td>-0.000282</td>\n",
       "      <td>-0.000072</td>\n",
       "      <td>0.000250</td>\n",
       "      <td>0.000317</td>\n",
       "      <td>-0.000203</td>\n",
       "      <td>...</td>\n",
       "      <td>-0.000337</td>\n",
       "      <td>-0.000073</td>\n",
       "      <td>0.000306</td>\n",
       "      <td>0.000507</td>\n",
       "      <td>0.000663</td>\n",
       "      <td>0.000567</td>\n",
       "      <td>0.000085</td>\n",
       "      <td>-7.083994e-04</td>\n",
       "      <td>0</td>\n",
       "      <td>3</td>\n",
       "    </tr>\n",
       "    <tr>\n",
       "      <th>438</th>\n",
       "      <td>2746</td>\n",
       "      <td>-0.000065</td>\n",
       "      <td>0.000557</td>\n",
       "      <td>0.000531</td>\n",
       "      <td>0.000459</td>\n",
       "      <td>0.000452</td>\n",
       "      <td>0.000015</td>\n",
       "      <td>-0.000372</td>\n",
       "      <td>-0.000445</td>\n",
       "      <td>-0.000381</td>\n",
       "      <td>...</td>\n",
       "      <td>-0.000150</td>\n",
       "      <td>-0.000371</td>\n",
       "      <td>0.000066</td>\n",
       "      <td>0.000186</td>\n",
       "      <td>0.000613</td>\n",
       "      <td>0.000755</td>\n",
       "      <td>-0.000352</td>\n",
       "      <td>-8.346846e-04</td>\n",
       "      <td>0</td>\n",
       "      <td>3</td>\n",
       "    </tr>\n",
       "    <tr>\n",
       "      <th>439</th>\n",
       "      <td>2747</td>\n",
       "      <td>0.000282</td>\n",
       "      <td>-0.000435</td>\n",
       "      <td>0.000442</td>\n",
       "      <td>0.000098</td>\n",
       "      <td>-0.000468</td>\n",
       "      <td>0.000470</td>\n",
       "      <td>-0.000229</td>\n",
       "      <td>-0.000416</td>\n",
       "      <td>-0.000345</td>\n",
       "      <td>...</td>\n",
       "      <td>-0.000219</td>\n",
       "      <td>-0.000572</td>\n",
       "      <td>0.000243</td>\n",
       "      <td>0.000489</td>\n",
       "      <td>-0.000099</td>\n",
       "      <td>-0.000457</td>\n",
       "      <td>-0.000314</td>\n",
       "      <td>-1.090336e-05</td>\n",
       "      <td>0</td>\n",
       "      <td>3</td>\n",
       "    </tr>\n",
       "    <tr>\n",
       "      <th>440</th>\n",
       "      <td>2749</td>\n",
       "      <td>-0.000416</td>\n",
       "      <td>0.000161</td>\n",
       "      <td>0.000155</td>\n",
       "      <td>-0.000056</td>\n",
       "      <td>0.000034</td>\n",
       "      <td>-0.000052</td>\n",
       "      <td>0.000023</td>\n",
       "      <td>0.000131</td>\n",
       "      <td>-0.000104</td>\n",
       "      <td>...</td>\n",
       "      <td>0.000755</td>\n",
       "      <td>-0.004546</td>\n",
       "      <td>-0.009579</td>\n",
       "      <td>-0.007161</td>\n",
       "      <td>0.005871</td>\n",
       "      <td>0.007973</td>\n",
       "      <td>-0.000063</td>\n",
       "      <td>8.492993e-05</td>\n",
       "      <td>0</td>\n",
       "      <td>3</td>\n",
       "    </tr>\n",
       "    <tr>\n",
       "      <th>441</th>\n",
       "      <td>2750</td>\n",
       "      <td>0.005322</td>\n",
       "      <td>-0.000212</td>\n",
       "      <td>-0.005217</td>\n",
       "      <td>-0.000615</td>\n",
       "      <td>0.004733</td>\n",
       "      <td>0.001210</td>\n",
       "      <td>-0.003761</td>\n",
       "      <td>0.000639</td>\n",
       "      <td>0.002490</td>\n",
       "      <td>...</td>\n",
       "      <td>0.000280</td>\n",
       "      <td>0.000263</td>\n",
       "      <td>-0.000013</td>\n",
       "      <td>-0.000253</td>\n",
       "      <td>-0.000312</td>\n",
       "      <td>-0.000255</td>\n",
       "      <td>0.000316</td>\n",
       "      <td>3.039215e-04</td>\n",
       "      <td>0</td>\n",
       "      <td>3</td>\n",
       "    </tr>\n",
       "  </tbody>\n",
       "</table>\n",
       "<p>442 rows × 5003 columns</p>\n",
       "</div>"
      ],
      "text/plain": [
       "     index      col0      col1      col2      col3      col4      col5  \\\n",
       "0     2073  0.000126  0.000168 -0.000182  0.000086  0.000233  0.000052   \n",
       "1     2074 -0.000039  0.000027  0.000165 -0.000161 -0.000079  0.000148   \n",
       "2     2075  0.000081 -0.000105  0.000042  0.000113 -0.000077 -0.000138   \n",
       "3     2076  0.000087  0.000115  0.000018 -0.000040 -0.000109  0.000104   \n",
       "4     2081 -0.000654 -0.000340  0.000017  0.000649  0.000595  0.000158   \n",
       "..     ...       ...       ...       ...       ...       ...       ...   \n",
       "437   2745  0.000105  0.000030 -0.000188 -0.000355 -0.000282 -0.000072   \n",
       "438   2746 -0.000065  0.000557  0.000531  0.000459  0.000452  0.000015   \n",
       "439   2747  0.000282 -0.000435  0.000442  0.000098 -0.000468  0.000470   \n",
       "440   2749 -0.000416  0.000161  0.000155 -0.000056  0.000034 -0.000052   \n",
       "441   2750  0.005322 -0.000212 -0.005217 -0.000615  0.004733  0.001210   \n",
       "\n",
       "         col6      col7      col8  ...   col4992   col4993   col4994  \\\n",
       "0   -0.000244  0.000211  0.000195  ... -0.000027  0.000155 -0.000012   \n",
       "1   -0.000027 -0.000146  0.000154  ... -0.000043 -0.000185  0.000198   \n",
       "2    0.000060  0.000178 -0.000196  ...  0.000036  0.000041 -0.000049   \n",
       "3   -0.000098 -0.000070  0.000095  ...  0.000013 -0.000102 -0.000011   \n",
       "4   -0.000622  0.000058  0.000592  ... -0.000014  0.000069 -0.000079   \n",
       "..        ...       ...       ...  ...       ...       ...       ...   \n",
       "437  0.000250  0.000317 -0.000203  ... -0.000337 -0.000073  0.000306   \n",
       "438 -0.000372 -0.000445 -0.000381  ... -0.000150 -0.000371  0.000066   \n",
       "439 -0.000229 -0.000416 -0.000345  ... -0.000219 -0.000572  0.000243   \n",
       "440  0.000023  0.000131 -0.000104  ...  0.000755 -0.004546 -0.009579   \n",
       "441 -0.003761  0.000639  0.002490  ...  0.000280  0.000263 -0.000013   \n",
       "\n",
       "      col4995   col4996   col4997   col4998       col4999  col5000  col5001  \n",
       "0   -0.000141  0.000136 -0.000044 -0.000134  2.648941e-05        0        3  \n",
       "1   -0.000081 -0.000211  0.000140  0.000185  2.118908e-04        0        3  \n",
       "2    0.000035  0.000077 -0.000098  0.000113  8.521522e-05        0        3  \n",
       "3    0.000057  0.000076 -0.000068  0.000064  2.209288e-08        0        3  \n",
       "4    0.000027  0.000158 -0.000202  0.000227  1.014370e-04        0        3  \n",
       "..        ...       ...       ...       ...           ...      ...      ...  \n",
       "437  0.000507  0.000663  0.000567  0.000085 -7.083994e-04        0        3  \n",
       "438  0.000186  0.000613  0.000755 -0.000352 -8.346846e-04        0        3  \n",
       "439  0.000489 -0.000099 -0.000457 -0.000314 -1.090336e-05        0        3  \n",
       "440 -0.007161  0.005871  0.007973 -0.000063  8.492993e-05        0        3  \n",
       "441 -0.000253 -0.000312 -0.000255  0.000316  3.039215e-04        0        3  \n",
       "\n",
       "[442 rows x 5003 columns]"
      ]
     },
     "execution_count": 163,
     "metadata": {},
     "output_type": "execute_result"
    }
   ],
   "source": [
    "new_IMF_pd_f_split_train_d1[0][2] # I merge all of these and then extract 80% of 442 --> 354"
   ]
  },
  {
   "cell_type": "code",
   "execution_count": 164,
   "id": "6f24c12c",
   "metadata": {},
   "outputs": [
    {
     "data": {
      "text/html": [
       "<div>\n",
       "<style scoped>\n",
       "    .dataframe tbody tr th:only-of-type {\n",
       "        vertical-align: middle;\n",
       "    }\n",
       "\n",
       "    .dataframe tbody tr th {\n",
       "        vertical-align: top;\n",
       "    }\n",
       "\n",
       "    .dataframe thead th {\n",
       "        text-align: right;\n",
       "    }\n",
       "</style>\n",
       "<table border=\"1\" class=\"dataframe\">\n",
       "  <thead>\n",
       "    <tr style=\"text-align: right;\">\n",
       "      <th></th>\n",
       "      <th>index</th>\n",
       "      <th>col0</th>\n",
       "      <th>col1</th>\n",
       "      <th>col2</th>\n",
       "      <th>col3</th>\n",
       "      <th>col4</th>\n",
       "      <th>col5</th>\n",
       "      <th>col6</th>\n",
       "      <th>col7</th>\n",
       "      <th>col8</th>\n",
       "      <th>...</th>\n",
       "      <th>col4992</th>\n",
       "      <th>col4993</th>\n",
       "      <th>col4994</th>\n",
       "      <th>col4995</th>\n",
       "      <th>col4996</th>\n",
       "      <th>col4997</th>\n",
       "      <th>col4998</th>\n",
       "      <th>col4999</th>\n",
       "      <th>col5000</th>\n",
       "      <th>col5001</th>\n",
       "    </tr>\n",
       "  </thead>\n",
       "  <tbody>\n",
       "    <tr>\n",
       "      <th>0</th>\n",
       "      <td>864</td>\n",
       "      <td>-0.000099</td>\n",
       "      <td>-0.000063</td>\n",
       "      <td>-0.000031</td>\n",
       "      <td>-0.000003</td>\n",
       "      <td>0.000022</td>\n",
       "      <td>0.000045</td>\n",
       "      <td>0.000064</td>\n",
       "      <td>0.000078</td>\n",
       "      <td>8.741020e-05</td>\n",
       "      <td>...</td>\n",
       "      <td>-0.000245</td>\n",
       "      <td>-0.000227</td>\n",
       "      <td>-0.000206</td>\n",
       "      <td>-0.000184</td>\n",
       "      <td>-0.000164</td>\n",
       "      <td>-1.480735e-04</td>\n",
       "      <td>-0.000139</td>\n",
       "      <td>-0.000138</td>\n",
       "      <td>1</td>\n",
       "      <td>1</td>\n",
       "    </tr>\n",
       "    <tr>\n",
       "      <th>1</th>\n",
       "      <td>865</td>\n",
       "      <td>0.000118</td>\n",
       "      <td>0.000036</td>\n",
       "      <td>-0.000029</td>\n",
       "      <td>-0.000074</td>\n",
       "      <td>-0.000103</td>\n",
       "      <td>-0.000116</td>\n",
       "      <td>-0.000115</td>\n",
       "      <td>-0.000103</td>\n",
       "      <td>-8.148489e-05</td>\n",
       "      <td>...</td>\n",
       "      <td>-0.000050</td>\n",
       "      <td>-0.000066</td>\n",
       "      <td>-0.000063</td>\n",
       "      <td>-0.000042</td>\n",
       "      <td>-0.000010</td>\n",
       "      <td>2.775487e-05</td>\n",
       "      <td>0.000061</td>\n",
       "      <td>0.000080</td>\n",
       "      <td>1</td>\n",
       "      <td>1</td>\n",
       "    </tr>\n",
       "    <tr>\n",
       "      <th>2</th>\n",
       "      <td>866</td>\n",
       "      <td>-0.000053</td>\n",
       "      <td>-0.000019</td>\n",
       "      <td>0.000013</td>\n",
       "      <td>0.000036</td>\n",
       "      <td>0.000049</td>\n",
       "      <td>0.000051</td>\n",
       "      <td>0.000042</td>\n",
       "      <td>0.000023</td>\n",
       "      <td>-2.487274e-06</td>\n",
       "      <td>...</td>\n",
       "      <td>-0.000041</td>\n",
       "      <td>-0.000057</td>\n",
       "      <td>-0.000058</td>\n",
       "      <td>-0.000046</td>\n",
       "      <td>-0.000024</td>\n",
       "      <td>3.926501e-06</td>\n",
       "      <td>0.000034</td>\n",
       "      <td>0.000063</td>\n",
       "      <td>1</td>\n",
       "      <td>1</td>\n",
       "    </tr>\n",
       "    <tr>\n",
       "      <th>3</th>\n",
       "      <td>867</td>\n",
       "      <td>-0.000018</td>\n",
       "      <td>0.000019</td>\n",
       "      <td>0.000053</td>\n",
       "      <td>0.000083</td>\n",
       "      <td>0.000103</td>\n",
       "      <td>0.000112</td>\n",
       "      <td>0.000110</td>\n",
       "      <td>0.000094</td>\n",
       "      <td>6.377543e-05</td>\n",
       "      <td>...</td>\n",
       "      <td>-0.000117</td>\n",
       "      <td>-0.000013</td>\n",
       "      <td>0.000102</td>\n",
       "      <td>0.000181</td>\n",
       "      <td>0.000198</td>\n",
       "      <td>1.319779e-04</td>\n",
       "      <td>-0.000024</td>\n",
       "      <td>-0.000203</td>\n",
       "      <td>1</td>\n",
       "      <td>1</td>\n",
       "    </tr>\n",
       "    <tr>\n",
       "      <th>4</th>\n",
       "      <td>868</td>\n",
       "      <td>0.000013</td>\n",
       "      <td>0.000022</td>\n",
       "      <td>0.000034</td>\n",
       "      <td>0.000043</td>\n",
       "      <td>0.000051</td>\n",
       "      <td>0.000053</td>\n",
       "      <td>0.000045</td>\n",
       "      <td>0.000026</td>\n",
       "      <td>2.431578e-08</td>\n",
       "      <td>...</td>\n",
       "      <td>0.000037</td>\n",
       "      <td>0.000033</td>\n",
       "      <td>0.000023</td>\n",
       "      <td>0.000011</td>\n",
       "      <td>-0.000002</td>\n",
       "      <td>-1.225500e-05</td>\n",
       "      <td>-0.000020</td>\n",
       "      <td>-0.000024</td>\n",
       "      <td>1</td>\n",
       "      <td>1</td>\n",
       "    </tr>\n",
       "    <tr>\n",
       "      <th>...</th>\n",
       "      <td>...</td>\n",
       "      <td>...</td>\n",
       "      <td>...</td>\n",
       "      <td>...</td>\n",
       "      <td>...</td>\n",
       "      <td>...</td>\n",
       "      <td>...</td>\n",
       "      <td>...</td>\n",
       "      <td>...</td>\n",
       "      <td>...</td>\n",
       "      <td>...</td>\n",
       "      <td>...</td>\n",
       "      <td>...</td>\n",
       "      <td>...</td>\n",
       "      <td>...</td>\n",
       "      <td>...</td>\n",
       "      <td>...</td>\n",
       "      <td>...</td>\n",
       "      <td>...</td>\n",
       "      <td>...</td>\n",
       "      <td>...</td>\n",
       "    </tr>\n",
       "    <tr>\n",
       "      <th>437</th>\n",
       "      <td>1308</td>\n",
       "      <td>0.001435</td>\n",
       "      <td>0.000968</td>\n",
       "      <td>0.000310</td>\n",
       "      <td>-0.000401</td>\n",
       "      <td>-0.000997</td>\n",
       "      <td>-0.001330</td>\n",
       "      <td>-0.001331</td>\n",
       "      <td>-0.001003</td>\n",
       "      <td>-3.847848e-04</td>\n",
       "      <td>...</td>\n",
       "      <td>-0.000011</td>\n",
       "      <td>0.000018</td>\n",
       "      <td>0.000038</td>\n",
       "      <td>0.000048</td>\n",
       "      <td>0.000047</td>\n",
       "      <td>3.538361e-05</td>\n",
       "      <td>0.000016</td>\n",
       "      <td>-0.000007</td>\n",
       "      <td>1</td>\n",
       "      <td>1</td>\n",
       "    </tr>\n",
       "    <tr>\n",
       "      <th>438</th>\n",
       "      <td>1309</td>\n",
       "      <td>0.000028</td>\n",
       "      <td>0.000044</td>\n",
       "      <td>0.000052</td>\n",
       "      <td>0.000049</td>\n",
       "      <td>0.000032</td>\n",
       "      <td>0.000008</td>\n",
       "      <td>-0.000018</td>\n",
       "      <td>-0.000039</td>\n",
       "      <td>-4.915296e-05</td>\n",
       "      <td>...</td>\n",
       "      <td>0.033988</td>\n",
       "      <td>0.035190</td>\n",
       "      <td>0.036265</td>\n",
       "      <td>0.037227</td>\n",
       "      <td>0.038089</td>\n",
       "      <td>3.885804e-02</td>\n",
       "      <td>0.039538</td>\n",
       "      <td>0.040141</td>\n",
       "      <td>1</td>\n",
       "      <td>1</td>\n",
       "    </tr>\n",
       "    <tr>\n",
       "      <th>439</th>\n",
       "      <td>1310</td>\n",
       "      <td>0.011552</td>\n",
       "      <td>0.012050</td>\n",
       "      <td>0.012596</td>\n",
       "      <td>0.013182</td>\n",
       "      <td>0.013800</td>\n",
       "      <td>0.014442</td>\n",
       "      <td>0.015098</td>\n",
       "      <td>0.015755</td>\n",
       "      <td>1.640346e-02</td>\n",
       "      <td>...</td>\n",
       "      <td>0.007315</td>\n",
       "      <td>0.006991</td>\n",
       "      <td>0.006661</td>\n",
       "      <td>0.006336</td>\n",
       "      <td>0.006024</td>\n",
       "      <td>5.736390e-03</td>\n",
       "      <td>0.005483</td>\n",
       "      <td>0.005273</td>\n",
       "      <td>1</td>\n",
       "      <td>1</td>\n",
       "    </tr>\n",
       "    <tr>\n",
       "      <th>440</th>\n",
       "      <td>1311</td>\n",
       "      <td>-0.023875</td>\n",
       "      <td>-0.022772</td>\n",
       "      <td>-0.021586</td>\n",
       "      <td>-0.020305</td>\n",
       "      <td>-0.018915</td>\n",
       "      <td>-0.017404</td>\n",
       "      <td>-0.015758</td>\n",
       "      <td>-0.013964</td>\n",
       "      <td>-1.201243e-02</td>\n",
       "      <td>...</td>\n",
       "      <td>0.000351</td>\n",
       "      <td>0.000441</td>\n",
       "      <td>0.000476</td>\n",
       "      <td>0.000466</td>\n",
       "      <td>0.000423</td>\n",
       "      <td>3.606234e-04</td>\n",
       "      <td>0.000293</td>\n",
       "      <td>0.000232</td>\n",
       "      <td>1</td>\n",
       "      <td>1</td>\n",
       "    </tr>\n",
       "    <tr>\n",
       "      <th>441</th>\n",
       "      <td>1312</td>\n",
       "      <td>-0.000189</td>\n",
       "      <td>-0.000191</td>\n",
       "      <td>-0.000194</td>\n",
       "      <td>-0.000200</td>\n",
       "      <td>-0.000207</td>\n",
       "      <td>-0.000215</td>\n",
       "      <td>-0.000223</td>\n",
       "      <td>-0.000229</td>\n",
       "      <td>-2.351280e-04</td>\n",
       "      <td>...</td>\n",
       "      <td>0.000015</td>\n",
       "      <td>0.000001</td>\n",
       "      <td>-0.000008</td>\n",
       "      <td>-0.000009</td>\n",
       "      <td>-0.000005</td>\n",
       "      <td>4.857650e-07</td>\n",
       "      <td>0.000004</td>\n",
       "      <td>0.000004</td>\n",
       "      <td>1</td>\n",
       "      <td>1</td>\n",
       "    </tr>\n",
       "  </tbody>\n",
       "</table>\n",
       "<p>442 rows × 5003 columns</p>\n",
       "</div>"
      ],
      "text/plain": [
       "     index      col0      col1      col2      col3      col4      col5  \\\n",
       "0      864 -0.000099 -0.000063 -0.000031 -0.000003  0.000022  0.000045   \n",
       "1      865  0.000118  0.000036 -0.000029 -0.000074 -0.000103 -0.000116   \n",
       "2      866 -0.000053 -0.000019  0.000013  0.000036  0.000049  0.000051   \n",
       "3      867 -0.000018  0.000019  0.000053  0.000083  0.000103  0.000112   \n",
       "4      868  0.000013  0.000022  0.000034  0.000043  0.000051  0.000053   \n",
       "..     ...       ...       ...       ...       ...       ...       ...   \n",
       "437   1308  0.001435  0.000968  0.000310 -0.000401 -0.000997 -0.001330   \n",
       "438   1309  0.000028  0.000044  0.000052  0.000049  0.000032  0.000008   \n",
       "439   1310  0.011552  0.012050  0.012596  0.013182  0.013800  0.014442   \n",
       "440   1311 -0.023875 -0.022772 -0.021586 -0.020305 -0.018915 -0.017404   \n",
       "441   1312 -0.000189 -0.000191 -0.000194 -0.000200 -0.000207 -0.000215   \n",
       "\n",
       "         col6      col7          col8  ...   col4992   col4993   col4994  \\\n",
       "0    0.000064  0.000078  8.741020e-05  ... -0.000245 -0.000227 -0.000206   \n",
       "1   -0.000115 -0.000103 -8.148489e-05  ... -0.000050 -0.000066 -0.000063   \n",
       "2    0.000042  0.000023 -2.487274e-06  ... -0.000041 -0.000057 -0.000058   \n",
       "3    0.000110  0.000094  6.377543e-05  ... -0.000117 -0.000013  0.000102   \n",
       "4    0.000045  0.000026  2.431578e-08  ...  0.000037  0.000033  0.000023   \n",
       "..        ...       ...           ...  ...       ...       ...       ...   \n",
       "437 -0.001331 -0.001003 -3.847848e-04  ... -0.000011  0.000018  0.000038   \n",
       "438 -0.000018 -0.000039 -4.915296e-05  ...  0.033988  0.035190  0.036265   \n",
       "439  0.015098  0.015755  1.640346e-02  ...  0.007315  0.006991  0.006661   \n",
       "440 -0.015758 -0.013964 -1.201243e-02  ...  0.000351  0.000441  0.000476   \n",
       "441 -0.000223 -0.000229 -2.351280e-04  ...  0.000015  0.000001 -0.000008   \n",
       "\n",
       "      col4995   col4996       col4997   col4998   col4999  col5000  col5001  \n",
       "0   -0.000184 -0.000164 -1.480735e-04 -0.000139 -0.000138        1        1  \n",
       "1   -0.000042 -0.000010  2.775487e-05  0.000061  0.000080        1        1  \n",
       "2   -0.000046 -0.000024  3.926501e-06  0.000034  0.000063        1        1  \n",
       "3    0.000181  0.000198  1.319779e-04 -0.000024 -0.000203        1        1  \n",
       "4    0.000011 -0.000002 -1.225500e-05 -0.000020 -0.000024        1        1  \n",
       "..        ...       ...           ...       ...       ...      ...      ...  \n",
       "437  0.000048  0.000047  3.538361e-05  0.000016 -0.000007        1        1  \n",
       "438  0.037227  0.038089  3.885804e-02  0.039538  0.040141        1        1  \n",
       "439  0.006336  0.006024  5.736390e-03  0.005483  0.005273        1        1  \n",
       "440  0.000466  0.000423  3.606234e-04  0.000293  0.000232        1        1  \n",
       "441 -0.000009 -0.000005  4.857650e-07  0.000004  0.000004        1        1  \n",
       "\n",
       "[442 rows x 5003 columns]"
      ]
     },
     "execution_count": 164,
     "metadata": {},
     "output_type": "execute_result"
    }
   ],
   "source": [
    "new_IMF_pd_f_split_test_d1[2][0] # from this one I extract 20% of 442 --> 89"
   ]
  },
  {
   "cell_type": "code",
   "execution_count": 89,
   "id": "1ff234c1",
   "metadata": {},
   "outputs": [],
   "source": [
    "IMF_train_f_pd_concat_d1 = [pd.concat(new_IMF_pd_f_split_train_d1[i], axis = 0) for i in range(0,n_IMF)]\n",
    "IMF_train_f_pd_concat_d1 = [IMF_train_f_pd_concat_d1[i].reset_index() for i in range(0,n_IMF)]"
   ]
  },
  {
   "cell_type": "code",
   "execution_count": 169,
   "id": "7be8c335",
   "metadata": {},
   "outputs": [
    {
     "data": {
      "text/html": [
       "<div>\n",
       "<style scoped>\n",
       "    .dataframe tbody tr th:only-of-type {\n",
       "        vertical-align: middle;\n",
       "    }\n",
       "\n",
       "    .dataframe tbody tr th {\n",
       "        vertical-align: top;\n",
       "    }\n",
       "\n",
       "    .dataframe thead th {\n",
       "        text-align: right;\n",
       "    }\n",
       "</style>\n",
       "<table border=\"1\" class=\"dataframe\">\n",
       "  <thead>\n",
       "    <tr style=\"text-align: right;\">\n",
       "      <th></th>\n",
       "      <th>level_0</th>\n",
       "      <th>index</th>\n",
       "      <th>col0</th>\n",
       "      <th>col1</th>\n",
       "      <th>col2</th>\n",
       "      <th>col3</th>\n",
       "      <th>col4</th>\n",
       "      <th>col5</th>\n",
       "      <th>col6</th>\n",
       "      <th>col7</th>\n",
       "      <th>...</th>\n",
       "      <th>col4992</th>\n",
       "      <th>col4993</th>\n",
       "      <th>col4994</th>\n",
       "      <th>col4995</th>\n",
       "      <th>col4996</th>\n",
       "      <th>col4997</th>\n",
       "      <th>col4998</th>\n",
       "      <th>col4999</th>\n",
       "      <th>col5000</th>\n",
       "      <th>col5001</th>\n",
       "    </tr>\n",
       "  </thead>\n",
       "  <tbody>\n",
       "    <tr>\n",
       "      <th>0</th>\n",
       "      <td>0</td>\n",
       "      <td>2</td>\n",
       "      <td>0.000035</td>\n",
       "      <td>0.000035</td>\n",
       "      <td>0.000034</td>\n",
       "      <td>0.000034</td>\n",
       "      <td>0.000034</td>\n",
       "      <td>0.000034</td>\n",
       "      <td>0.000034</td>\n",
       "      <td>0.000034</td>\n",
       "      <td>...</td>\n",
       "      <td>-0.000225</td>\n",
       "      <td>-0.000225</td>\n",
       "      <td>-0.000225</td>\n",
       "      <td>-0.000225</td>\n",
       "      <td>-0.000225</td>\n",
       "      <td>-0.000225</td>\n",
       "      <td>-0.000225</td>\n",
       "      <td>-0.000225</td>\n",
       "      <td>0</td>\n",
       "      <td>0</td>\n",
       "    </tr>\n",
       "    <tr>\n",
       "      <th>1</th>\n",
       "      <td>1</td>\n",
       "      <td>3</td>\n",
       "      <td>0.000136</td>\n",
       "      <td>0.000136</td>\n",
       "      <td>0.000136</td>\n",
       "      <td>0.000136</td>\n",
       "      <td>0.000136</td>\n",
       "      <td>0.000136</td>\n",
       "      <td>0.000137</td>\n",
       "      <td>0.000137</td>\n",
       "      <td>...</td>\n",
       "      <td>-0.000018</td>\n",
       "      <td>-0.000018</td>\n",
       "      <td>-0.000018</td>\n",
       "      <td>-0.000018</td>\n",
       "      <td>-0.000018</td>\n",
       "      <td>-0.000018</td>\n",
       "      <td>-0.000018</td>\n",
       "      <td>-0.000018</td>\n",
       "      <td>0</td>\n",
       "      <td>0</td>\n",
       "    </tr>\n",
       "    <tr>\n",
       "      <th>2</th>\n",
       "      <td>2</td>\n",
       "      <td>4</td>\n",
       "      <td>0.000144</td>\n",
       "      <td>0.000143</td>\n",
       "      <td>0.000143</td>\n",
       "      <td>0.000142</td>\n",
       "      <td>0.000142</td>\n",
       "      <td>0.000141</td>\n",
       "      <td>0.000141</td>\n",
       "      <td>0.000140</td>\n",
       "      <td>...</td>\n",
       "      <td>-0.006845</td>\n",
       "      <td>-0.006847</td>\n",
       "      <td>-0.006850</td>\n",
       "      <td>-0.006852</td>\n",
       "      <td>-0.006855</td>\n",
       "      <td>-0.006857</td>\n",
       "      <td>-0.006859</td>\n",
       "      <td>-0.006862</td>\n",
       "      <td>0</td>\n",
       "      <td>0</td>\n",
       "    </tr>\n",
       "    <tr>\n",
       "      <th>3</th>\n",
       "      <td>3</td>\n",
       "      <td>5</td>\n",
       "      <td>0.001107</td>\n",
       "      <td>0.001107</td>\n",
       "      <td>0.001107</td>\n",
       "      <td>0.001107</td>\n",
       "      <td>0.001107</td>\n",
       "      <td>0.001107</td>\n",
       "      <td>0.001106</td>\n",
       "      <td>0.001106</td>\n",
       "      <td>...</td>\n",
       "      <td>-0.003034</td>\n",
       "      <td>-0.003034</td>\n",
       "      <td>-0.003034</td>\n",
       "      <td>-0.003035</td>\n",
       "      <td>-0.003035</td>\n",
       "      <td>-0.003035</td>\n",
       "      <td>-0.003035</td>\n",
       "      <td>-0.003035</td>\n",
       "      <td>0</td>\n",
       "      <td>0</td>\n",
       "    </tr>\n",
       "    <tr>\n",
       "      <th>4</th>\n",
       "      <td>4</td>\n",
       "      <td>8</td>\n",
       "      <td>-0.001271</td>\n",
       "      <td>-0.001273</td>\n",
       "      <td>-0.001276</td>\n",
       "      <td>-0.001278</td>\n",
       "      <td>-0.001280</td>\n",
       "      <td>-0.001282</td>\n",
       "      <td>-0.001284</td>\n",
       "      <td>-0.001287</td>\n",
       "      <td>...</td>\n",
       "      <td>0.003281</td>\n",
       "      <td>0.003282</td>\n",
       "      <td>0.003283</td>\n",
       "      <td>0.003283</td>\n",
       "      <td>0.003284</td>\n",
       "      <td>0.003285</td>\n",
       "      <td>0.003285</td>\n",
       "      <td>0.003286</td>\n",
       "      <td>0</td>\n",
       "      <td>0</td>\n",
       "    </tr>\n",
       "    <tr>\n",
       "      <th>...</th>\n",
       "      <td>...</td>\n",
       "      <td>...</td>\n",
       "      <td>...</td>\n",
       "      <td>...</td>\n",
       "      <td>...</td>\n",
       "      <td>...</td>\n",
       "      <td>...</td>\n",
       "      <td>...</td>\n",
       "      <td>...</td>\n",
       "      <td>...</td>\n",
       "      <td>...</td>\n",
       "      <td>...</td>\n",
       "      <td>...</td>\n",
       "      <td>...</td>\n",
       "      <td>...</td>\n",
       "      <td>...</td>\n",
       "      <td>...</td>\n",
       "      <td>...</td>\n",
       "      <td>...</td>\n",
       "      <td>...</td>\n",
       "      <td>...</td>\n",
       "    </tr>\n",
       "    <tr>\n",
       "      <th>1321</th>\n",
       "      <td>437</td>\n",
       "      <td>2745</td>\n",
       "      <td>-0.000813</td>\n",
       "      <td>-0.000813</td>\n",
       "      <td>-0.000812</td>\n",
       "      <td>-0.000812</td>\n",
       "      <td>-0.000811</td>\n",
       "      <td>-0.000811</td>\n",
       "      <td>-0.000810</td>\n",
       "      <td>-0.000809</td>\n",
       "      <td>...</td>\n",
       "      <td>-0.000131</td>\n",
       "      <td>-0.000131</td>\n",
       "      <td>-0.000130</td>\n",
       "      <td>-0.000130</td>\n",
       "      <td>-0.000130</td>\n",
       "      <td>-0.000130</td>\n",
       "      <td>-0.000130</td>\n",
       "      <td>-0.000130</td>\n",
       "      <td>0</td>\n",
       "      <td>3</td>\n",
       "    </tr>\n",
       "    <tr>\n",
       "      <th>1322</th>\n",
       "      <td>438</td>\n",
       "      <td>2746</td>\n",
       "      <td>0.000530</td>\n",
       "      <td>0.000531</td>\n",
       "      <td>0.000531</td>\n",
       "      <td>0.000532</td>\n",
       "      <td>0.000532</td>\n",
       "      <td>0.000533</td>\n",
       "      <td>0.000533</td>\n",
       "      <td>0.000534</td>\n",
       "      <td>...</td>\n",
       "      <td>-0.002002</td>\n",
       "      <td>-0.002003</td>\n",
       "      <td>-0.002004</td>\n",
       "      <td>-0.002005</td>\n",
       "      <td>-0.002007</td>\n",
       "      <td>-0.002008</td>\n",
       "      <td>-0.002009</td>\n",
       "      <td>-0.002010</td>\n",
       "      <td>0</td>\n",
       "      <td>3</td>\n",
       "    </tr>\n",
       "    <tr>\n",
       "      <th>1323</th>\n",
       "      <td>439</td>\n",
       "      <td>2747</td>\n",
       "      <td>0.002084</td>\n",
       "      <td>0.002083</td>\n",
       "      <td>0.002082</td>\n",
       "      <td>0.002081</td>\n",
       "      <td>0.002079</td>\n",
       "      <td>0.002078</td>\n",
       "      <td>0.002077</td>\n",
       "      <td>0.002076</td>\n",
       "      <td>...</td>\n",
       "      <td>0.000312</td>\n",
       "      <td>0.000312</td>\n",
       "      <td>0.000312</td>\n",
       "      <td>0.000312</td>\n",
       "      <td>0.000312</td>\n",
       "      <td>0.000312</td>\n",
       "      <td>0.000311</td>\n",
       "      <td>0.000311</td>\n",
       "      <td>0</td>\n",
       "      <td>3</td>\n",
       "    </tr>\n",
       "    <tr>\n",
       "      <th>1324</th>\n",
       "      <td>440</td>\n",
       "      <td>2749</td>\n",
       "      <td>-0.001196</td>\n",
       "      <td>-0.001196</td>\n",
       "      <td>-0.001196</td>\n",
       "      <td>-0.001195</td>\n",
       "      <td>-0.001195</td>\n",
       "      <td>-0.001195</td>\n",
       "      <td>-0.001194</td>\n",
       "      <td>-0.001194</td>\n",
       "      <td>...</td>\n",
       "      <td>0.000220</td>\n",
       "      <td>0.000220</td>\n",
       "      <td>0.000220</td>\n",
       "      <td>0.000220</td>\n",
       "      <td>0.000219</td>\n",
       "      <td>0.000219</td>\n",
       "      <td>0.000219</td>\n",
       "      <td>0.000219</td>\n",
       "      <td>0</td>\n",
       "      <td>3</td>\n",
       "    </tr>\n",
       "    <tr>\n",
       "      <th>1325</th>\n",
       "      <td>441</td>\n",
       "      <td>2750</td>\n",
       "      <td>-0.000363</td>\n",
       "      <td>-0.000363</td>\n",
       "      <td>-0.000363</td>\n",
       "      <td>-0.000363</td>\n",
       "      <td>-0.000363</td>\n",
       "      <td>-0.000363</td>\n",
       "      <td>-0.000363</td>\n",
       "      <td>-0.000363</td>\n",
       "      <td>...</td>\n",
       "      <td>-0.000116</td>\n",
       "      <td>-0.000116</td>\n",
       "      <td>-0.000116</td>\n",
       "      <td>-0.000116</td>\n",
       "      <td>-0.000117</td>\n",
       "      <td>-0.000117</td>\n",
       "      <td>-0.000117</td>\n",
       "      <td>-0.000117</td>\n",
       "      <td>0</td>\n",
       "      <td>3</td>\n",
       "    </tr>\n",
       "  </tbody>\n",
       "</table>\n",
       "<p>1326 rows × 5004 columns</p>\n",
       "</div>"
      ],
      "text/plain": [
       "      level_0  index      col0      col1      col2      col3      col4  \\\n",
       "0           0      2  0.000035  0.000035  0.000034  0.000034  0.000034   \n",
       "1           1      3  0.000136  0.000136  0.000136  0.000136  0.000136   \n",
       "2           2      4  0.000144  0.000143  0.000143  0.000142  0.000142   \n",
       "3           3      5  0.001107  0.001107  0.001107  0.001107  0.001107   \n",
       "4           4      8 -0.001271 -0.001273 -0.001276 -0.001278 -0.001280   \n",
       "...       ...    ...       ...       ...       ...       ...       ...   \n",
       "1321      437   2745 -0.000813 -0.000813 -0.000812 -0.000812 -0.000811   \n",
       "1322      438   2746  0.000530  0.000531  0.000531  0.000532  0.000532   \n",
       "1323      439   2747  0.002084  0.002083  0.002082  0.002081  0.002079   \n",
       "1324      440   2749 -0.001196 -0.001196 -0.001196 -0.001195 -0.001195   \n",
       "1325      441   2750 -0.000363 -0.000363 -0.000363 -0.000363 -0.000363   \n",
       "\n",
       "          col5      col6      col7  ...   col4992   col4993   col4994  \\\n",
       "0     0.000034  0.000034  0.000034  ... -0.000225 -0.000225 -0.000225   \n",
       "1     0.000136  0.000137  0.000137  ... -0.000018 -0.000018 -0.000018   \n",
       "2     0.000141  0.000141  0.000140  ... -0.006845 -0.006847 -0.006850   \n",
       "3     0.001107  0.001106  0.001106  ... -0.003034 -0.003034 -0.003034   \n",
       "4    -0.001282 -0.001284 -0.001287  ...  0.003281  0.003282  0.003283   \n",
       "...        ...       ...       ...  ...       ...       ...       ...   \n",
       "1321 -0.000811 -0.000810 -0.000809  ... -0.000131 -0.000131 -0.000130   \n",
       "1322  0.000533  0.000533  0.000534  ... -0.002002 -0.002003 -0.002004   \n",
       "1323  0.002078  0.002077  0.002076  ...  0.000312  0.000312  0.000312   \n",
       "1324 -0.001195 -0.001194 -0.001194  ...  0.000220  0.000220  0.000220   \n",
       "1325 -0.000363 -0.000363 -0.000363  ... -0.000116 -0.000116 -0.000116   \n",
       "\n",
       "       col4995   col4996   col4997   col4998   col4999  col5000  col5001  \n",
       "0    -0.000225 -0.000225 -0.000225 -0.000225 -0.000225        0        0  \n",
       "1    -0.000018 -0.000018 -0.000018 -0.000018 -0.000018        0        0  \n",
       "2    -0.006852 -0.006855 -0.006857 -0.006859 -0.006862        0        0  \n",
       "3    -0.003035 -0.003035 -0.003035 -0.003035 -0.003035        0        0  \n",
       "4     0.003283  0.003284  0.003285  0.003285  0.003286        0        0  \n",
       "...        ...       ...       ...       ...       ...      ...      ...  \n",
       "1321 -0.000130 -0.000130 -0.000130 -0.000130 -0.000130        0        3  \n",
       "1322 -0.002005 -0.002007 -0.002008 -0.002009 -0.002010        0        3  \n",
       "1323  0.000312  0.000312  0.000312  0.000311  0.000311        0        3  \n",
       "1324  0.000220  0.000219  0.000219  0.000219  0.000219        0        3  \n",
       "1325 -0.000116 -0.000117 -0.000117 -0.000117 -0.000117        0        3  \n",
       "\n",
       "[1326 rows x 5004 columns]"
      ]
     },
     "execution_count": 169,
     "metadata": {},
     "output_type": "execute_result"
    }
   ],
   "source": [
    "IMF_train_f_pd_concat_d1[4]"
   ]
  },
  {
   "cell_type": "code",
   "execution_count": 168,
   "id": "046e9c41",
   "metadata": {},
   "outputs": [
    {
     "data": {
      "text/plain": [
       "442.0"
      ]
     },
     "execution_count": 168,
     "metadata": {},
     "output_type": "execute_result"
    }
   ],
   "source": [
    "1326/3"
   ]
  },
  {
   "cell_type": "code",
   "execution_count": 90,
   "id": "ba87edf1",
   "metadata": {},
   "outputs": [],
   "source": [
    "IMF_train_f_pd_concat_d1_0 = [IMF_train_f_pd_concat_d1[i].drop(['level_0', 'index', 'col5000', 'col5001'], axis=1) for i in range(0,n_IMF)]"
   ]
  },
  {
   "cell_type": "code",
   "execution_count": 91,
   "id": "263065f0",
   "metadata": {},
   "outputs": [
    {
     "name": "stdout",
     "output_type": "stream",
     "text": [
      "354 89\n",
      "0.1781548656443236\n"
     ]
    }
   ],
   "source": [
    "# NOTE: To extract the trainiing set, even if the sets are of bigger dimensions, we still set the 80% equal to N_f\n",
    "#       across the groups. \n",
    "\n",
    "per_train_pd_f = math.ceil(N_f * 0.8)\n",
    "per_test_pd_f = math.ceil(N_f * 0.2)\n",
    "print(per_train_pd_f, per_test_pd_f)\n",
    "\n",
    "#Set see to reproduce the results\n",
    "random.seed(1)\n",
    "\n",
    "range_pd_f = range(0, IMF_train_f_pd_concat_d1_0[0].shape[0] )\n",
    "range_pd_f_test = range(0, N_f)\n",
    "\n",
    "rand_s_train_pd_f = random.sample(range_pd_f, k = per_train_pd_f)\n",
    "rand_s_test_pd_f = random.sample(range_pd_f_test, k = per_test_pd_f)\n",
    "\n",
    "print(random.random()) #0.1781548656443236\n",
    "\n",
    "ind_train_pd_f = sorted(rand_s_train_pd_f) \n",
    "ind_test_pd_f = sorted(rand_s_test_pd_f) \n"
   ]
  },
  {
   "cell_type": "code",
   "execution_count": 92,
   "id": "b6c24e6a",
   "metadata": {},
   "outputs": [
    {
     "data": {
      "text/plain": [
       "True"
      ]
     },
     "execution_count": 92,
     "metadata": {},
     "output_type": "execute_result"
    }
   ],
   "source": [
    "len(IMF_train_f_pd_concat_d1_0[4]) == len(range_pd_f)"
   ]
  },
  {
   "cell_type": "code",
   "execution_count": 93,
   "id": "c591119f",
   "metadata": {},
   "outputs": [],
   "source": [
    "IMF_train_f_pd_d1 = [IMF_train_f_pd_concat_d1_0[i].reset_index().loc[ind_train_pd_f] for i in range(0,n_IMF)]"
   ]
  },
  {
   "cell_type": "code",
   "execution_count": 174,
   "id": "57e6a18c",
   "metadata": {},
   "outputs": [
    {
     "name": "stdout",
     "output_type": "stream",
     "text": [
      "0.1781548656443236\n"
     ]
    }
   ],
   "source": []
  },
  {
   "cell_type": "code",
   "execution_count": 94,
   "id": "5400146a",
   "metadata": {},
   "outputs": [
    {
     "data": {
      "text/plain": [
       "[(354, 5001), (354, 5001), (354, 5001), (354, 5001), (354, 5001)]"
      ]
     },
     "execution_count": 94,
     "metadata": {},
     "output_type": "execute_result"
    }
   ],
   "source": [
    "[IMF_train_f_pd_d1[i].shape  for i in range(0,n_IMF)]"
   ]
  },
  {
   "cell_type": "code",
   "execution_count": 177,
   "id": "5cf1848e",
   "metadata": {},
   "outputs": [],
   "source": []
  },
  {
   "cell_type": "code",
   "execution_count": 175,
   "id": "6dfbe106",
   "metadata": {},
   "outputs": [],
   "source": [
    "IMF_train_f_pd_d1 = [IMF_train_f_pd_d1[i].drop(['index'], axis=1)  for i in range(0,n_IMF)]"
   ]
  },
  {
   "cell_type": "code",
   "execution_count": 176,
   "id": "56cfc289",
   "metadata": {},
   "outputs": [
    {
     "data": {
      "text/plain": [
       "[(354, 5000), (354, 5000), (354, 5000), (354, 5000), (354, 5000)]"
      ]
     },
     "execution_count": 176,
     "metadata": {},
     "output_type": "execute_result"
    }
   ],
   "source": [
    "[IMF_train_f_pd_d1[i].shape  for i in range(0,n_IMF)]"
   ]
  },
  {
   "cell_type": "code",
   "execution_count": 177,
   "id": "f904741f",
   "metadata": {},
   "outputs": [],
   "source": [
    "IMF_train_f_pd_d1 =[ IMF_train_f_pd_d1[i].values for i in range(0,n_IMF)]"
   ]
  },
  {
   "cell_type": "code",
   "execution_count": 178,
   "id": "33f6c186",
   "metadata": {},
   "outputs": [
    {
     "data": {
      "text/plain": [
       "[(354, 5000), (354, 5000), (354, 5000), (354, 5000), (354, 5000)]"
      ]
     },
     "execution_count": 178,
     "metadata": {},
     "output_type": "execute_result"
    }
   ],
   "source": [
    "[IMF_train_f_pd_d1[i].shape  for i in range(0,n_IMF)]"
   ]
  },
  {
   "cell_type": "code",
   "execution_count": 179,
   "id": "911dbc5a",
   "metadata": {},
   "outputs": [
    {
     "data": {
      "text/plain": [
       "array([[-6.30895533e-04, -6.57081999e-04,  6.79645296e-04, ...,\n",
       "         2.42992887e-04, -1.15086057e-03, -2.04198187e-03],\n",
       "       [ 2.46035646e-04, -1.66388805e-04, -2.13577839e-04, ...,\n",
       "        -3.23510848e-04,  3.70733924e-04,  5.27641086e-04],\n",
       "       [ 1.20741473e-04, -1.19581818e-04,  2.39508484e-05, ...,\n",
       "         1.24018449e-04, -7.43532769e-05, -9.25097509e-05],\n",
       "       ...,\n",
       "       [-1.68926593e-04,  1.66747990e-04, -6.65778676e-05, ...,\n",
       "        -2.36535886e-03, -3.04742531e-03, -5.43001197e-03],\n",
       "       [ 9.19328560e-04, -8.94750472e-04, -1.17441881e-05, ...,\n",
       "        -3.23963630e-04,  1.40090920e-04,  1.18627321e-04],\n",
       "       [-2.01113287e-04, -2.91637569e-04,  2.77304924e-04, ...,\n",
       "        -5.50115246e-03,  5.64374436e-03,  4.82443197e-03]])"
      ]
     },
     "execution_count": 179,
     "metadata": {},
     "output_type": "execute_result"
    }
   ],
   "source": [
    "IMF_train_f_pd_d1[0]"
   ]
  },
  {
   "cell_type": "code",
   "execution_count": 122,
   "id": "55e5f08c",
   "metadata": {},
   "outputs": [],
   "source": [
    "IMF_test_pd_f_d1 = [new_IMF_pd_f_split_test_d1[i][0].reset_index().loc[ind_test_pd_f] for i in range(0,n_IMF)]"
   ]
  },
  {
   "cell_type": "code",
   "execution_count": 123,
   "id": "8b855246",
   "metadata": {},
   "outputs": [
    {
     "data": {
      "text/plain": [
       "[(89, 5004), (89, 5004), (89, 5004), (89, 5004), (89, 5004)]"
      ]
     },
     "execution_count": 123,
     "metadata": {},
     "output_type": "execute_result"
    }
   ],
   "source": [
    "[IMF_test_pd_f_d1[i].shape for i in range(0,n_IMF)]"
   ]
  },
  {
   "cell_type": "code",
   "execution_count": 124,
   "id": "a6e2e86b",
   "metadata": {},
   "outputs": [],
   "source": [
    "IMF_test_pd_f_d1 = [IMF_test_pd_f_d1[i].drop(['level_0', 'index', 'col5000', 'col5001'], axis=1) for i in range(0,n_IMF)]"
   ]
  },
  {
   "cell_type": "code",
   "execution_count": 125,
   "id": "1c497692",
   "metadata": {},
   "outputs": [
    {
     "data": {
      "text/plain": [
       "[(89, 5000), (89, 5000), (89, 5000), (89, 5000), (89, 5000)]"
      ]
     },
     "execution_count": 125,
     "metadata": {},
     "output_type": "execute_result"
    }
   ],
   "source": [
    "[IMF_test_pd_f_d1[i].shape for i in range(0,n_IMF)]"
   ]
  },
  {
   "cell_type": "code",
   "execution_count": 126,
   "id": "4242a565",
   "metadata": {},
   "outputs": [],
   "source": [
    "IMF_test_pd_f_d1 = [IMF_test_pd_f_d1[i].values  for i in range(0,n_IMF)]"
   ]
  },
  {
   "cell_type": "code",
   "execution_count": 127,
   "id": "35d795cc",
   "metadata": {},
   "outputs": [
    {
     "data": {
      "text/plain": [
       "[(89, 5000), (89, 5000), (89, 5000), (89, 5000), (89, 5000)]"
      ]
     },
     "execution_count": 127,
     "metadata": {},
     "output_type": "execute_result"
    }
   ],
   "source": [
    "[IMF_test_pd_f_d1[i].shape for i in range(0,n_IMF)]"
   ]
  },
  {
   "cell_type": "code",
   "execution_count": null,
   "id": "400fdad8",
   "metadata": {},
   "outputs": [],
   "source": []
  },
  {
   "cell_type": "code",
   "execution_count": null,
   "id": "a76f03dd",
   "metadata": {},
   "outputs": [],
   "source": []
  },
  {
   "cell_type": "code",
   "execution_count": 128,
   "id": "c9f3464f",
   "metadata": {},
   "outputs": [],
   "source": [
    "np.save('IMF_train_f_pd_0', IMF_test_pd_f_d1)"
   ]
  },
  {
   "cell_type": "code",
   "execution_count": 101,
   "id": "33b25d24",
   "metadata": {},
   "outputs": [],
   "source": [
    "np.save('IMF_test_f_pd_3', IMF_test_pd_f_d1)"
   ]
  },
  {
   "cell_type": "code",
   "execution_count": null,
   "id": "2dbbfe5c",
   "metadata": {},
   "outputs": [],
   "source": []
  },
  {
   "cell_type": "code",
   "execution_count": 195,
   "id": "72bbe272",
   "metadata": {},
   "outputs": [],
   "source": [
    "np.save('IMF_train_f_pd_d1', IMF_train_f_pd_d1)"
   ]
  },
  {
   "cell_type": "code",
   "execution_count": 196,
   "id": "b5d96ff6",
   "metadata": {},
   "outputs": [],
   "source": [
    "np.save('IMF_test_pd_f_d1', IMF_test_pd_f_d1)"
   ]
  },
  {
   "cell_type": "code",
   "execution_count": null,
   "id": "d7d7e0cb",
   "metadata": {},
   "outputs": [],
   "source": []
  },
  {
   "cell_type": "markdown",
   "id": "1797a86e",
   "metadata": {},
   "source": [
    "# APPLY THE SAME PROCEDURE THE HEALTHY PATIENTS\n"
   ]
  },
  {
   "cell_type": "code",
   "execution_count": 64,
   "id": "7f034ea9",
   "metadata": {},
   "outputs": [
    {
     "data": {
      "text/html": [
       "<div>\n",
       "<style scoped>\n",
       "    .dataframe tbody tr th:only-of-type {\n",
       "        vertical-align: middle;\n",
       "    }\n",
       "\n",
       "    .dataframe tbody tr th {\n",
       "        vertical-align: top;\n",
       "    }\n",
       "\n",
       "    .dataframe thead th {\n",
       "        text-align: right;\n",
       "    }\n",
       "</style>\n",
       "<table border=\"1\" class=\"dataframe\">\n",
       "  <thead>\n",
       "    <tr style=\"text-align: right;\">\n",
       "      <th></th>\n",
       "      <th>Patient_N</th>\n",
       "    </tr>\n",
       "  </thead>\n",
       "  <tbody>\n",
       "    <tr>\n",
       "      <th>0</th>\n",
       "      <td>0</td>\n",
       "    </tr>\n",
       "    <tr>\n",
       "      <th>1</th>\n",
       "      <td>0</td>\n",
       "    </tr>\n",
       "    <tr>\n",
       "      <th>2</th>\n",
       "      <td>0</td>\n",
       "    </tr>\n",
       "    <tr>\n",
       "      <th>3</th>\n",
       "      <td>0</td>\n",
       "    </tr>\n",
       "    <tr>\n",
       "      <th>4</th>\n",
       "      <td>0</td>\n",
       "    </tr>\n",
       "    <tr>\n",
       "      <th>...</th>\n",
       "      <td>...</td>\n",
       "    </tr>\n",
       "    <tr>\n",
       "      <th>15474</th>\n",
       "      <td>18</td>\n",
       "    </tr>\n",
       "    <tr>\n",
       "      <th>15475</th>\n",
       "      <td>18</td>\n",
       "    </tr>\n",
       "    <tr>\n",
       "      <th>15476</th>\n",
       "      <td>18</td>\n",
       "    </tr>\n",
       "    <tr>\n",
       "      <th>15477</th>\n",
       "      <td>18</td>\n",
       "    </tr>\n",
       "    <tr>\n",
       "      <th>15478</th>\n",
       "      <td>18</td>\n",
       "    </tr>\n",
       "  </tbody>\n",
       "</table>\n",
       "<p>15479 rows × 1 columns</p>\n",
       "</div>"
      ],
      "text/plain": [
       "       Patient_N\n",
       "0              0\n",
       "1              0\n",
       "2              0\n",
       "3              0\n",
       "4              0\n",
       "...          ...\n",
       "15474         18\n",
       "15475         18\n",
       "15476         18\n",
       "15477         18\n",
       "15478         18\n",
       "\n",
       "[15479 rows x 1 columns]"
      ]
     },
     "execution_count": 64,
     "metadata": {},
     "output_type": "execute_result"
    }
   ],
   "source": [
    "##################################################\n",
    "#APPLY THE SAME PROCEDURE TO THE HEALTHY DATASETS#\n",
    "##################################################\n",
    "\n",
    "#################\n",
    "#    FEMALE     #\n",
    "#################\n",
    "\n",
    "df_seg_descr_hc_f = pd.DataFrame([ final_index_pt_f_hc_train] ).T\n",
    "df_seg_descr_hc_f.columns = ['Patient_N']\n",
    "df_seg_descr_hc_f"
   ]
  },
  {
   "cell_type": "code",
   "execution_count": 65,
   "id": "4a3fccbb",
   "metadata": {},
   "outputs": [
    {
     "data": {
      "text/html": [
       "<div>\n",
       "<style scoped>\n",
       "    .dataframe tbody tr th:only-of-type {\n",
       "        vertical-align: middle;\n",
       "    }\n",
       "\n",
       "    .dataframe tbody tr th {\n",
       "        vertical-align: top;\n",
       "    }\n",
       "\n",
       "    .dataframe thead th {\n",
       "        text-align: right;\n",
       "    }\n",
       "</style>\n",
       "<table border=\"1\" class=\"dataframe\">\n",
       "  <thead>\n",
       "    <tr style=\"text-align: right;\">\n",
       "      <th></th>\n",
       "      <th>0</th>\n",
       "    </tr>\n",
       "    <tr>\n",
       "      <th>Patient_N</th>\n",
       "      <th></th>\n",
       "    </tr>\n",
       "  </thead>\n",
       "  <tbody>\n",
       "    <tr>\n",
       "      <th>0</th>\n",
       "      <td>895</td>\n",
       "    </tr>\n",
       "    <tr>\n",
       "      <th>1</th>\n",
       "      <td>908</td>\n",
       "    </tr>\n",
       "    <tr>\n",
       "      <th>2</th>\n",
       "      <td>578</td>\n",
       "    </tr>\n",
       "    <tr>\n",
       "      <th>3</th>\n",
       "      <td>854</td>\n",
       "    </tr>\n",
       "    <tr>\n",
       "      <th>4</th>\n",
       "      <td>641</td>\n",
       "    </tr>\n",
       "    <tr>\n",
       "      <th>5</th>\n",
       "      <td>695</td>\n",
       "    </tr>\n",
       "    <tr>\n",
       "      <th>6</th>\n",
       "      <td>777</td>\n",
       "    </tr>\n",
       "    <tr>\n",
       "      <th>7</th>\n",
       "      <td>682</td>\n",
       "    </tr>\n",
       "    <tr>\n",
       "      <th>8</th>\n",
       "      <td>884</td>\n",
       "    </tr>\n",
       "    <tr>\n",
       "      <th>9</th>\n",
       "      <td>791</td>\n",
       "    </tr>\n",
       "    <tr>\n",
       "      <th>10</th>\n",
       "      <td>636</td>\n",
       "    </tr>\n",
       "    <tr>\n",
       "      <th>11</th>\n",
       "      <td>951</td>\n",
       "    </tr>\n",
       "    <tr>\n",
       "      <th>12</th>\n",
       "      <td>1222</td>\n",
       "    </tr>\n",
       "    <tr>\n",
       "      <th>13</th>\n",
       "      <td>1026</td>\n",
       "    </tr>\n",
       "    <tr>\n",
       "      <th>14</th>\n",
       "      <td>897</td>\n",
       "    </tr>\n",
       "    <tr>\n",
       "      <th>15</th>\n",
       "      <td>809</td>\n",
       "    </tr>\n",
       "    <tr>\n",
       "      <th>16</th>\n",
       "      <td>1071</td>\n",
       "    </tr>\n",
       "    <tr>\n",
       "      <th>17</th>\n",
       "      <td>442</td>\n",
       "    </tr>\n",
       "    <tr>\n",
       "      <th>18</th>\n",
       "      <td>720</td>\n",
       "    </tr>\n",
       "  </tbody>\n",
       "</table>\n",
       "</div>"
      ],
      "text/plain": [
       "              0\n",
       "Patient_N      \n",
       "0           895\n",
       "1           908\n",
       "2           578\n",
       "3           854\n",
       "4           641\n",
       "5           695\n",
       "6           777\n",
       "7           682\n",
       "8           884\n",
       "9           791\n",
       "10          636\n",
       "11          951\n",
       "12         1222\n",
       "13         1026\n",
       "14          897\n",
       "15          809\n",
       "16         1071\n",
       "17          442\n",
       "18          720"
      ]
     },
     "execution_count": 65,
     "metadata": {},
     "output_type": "execute_result"
    }
   ],
   "source": [
    "hc_df_f_seg = df_seg_descr_hc_f.groupby(['Patient_N']).size()\n",
    "hc_df_f_seg = pd.DataFrame(hc_df_f_seg)\n",
    "hc_df_f_seg"
   ]
  },
  {
   "cell_type": "code",
   "execution_count": 66,
   "id": "6e3ec811",
   "metadata": {},
   "outputs": [
    {
     "data": {
      "text/html": [
       "<div>\n",
       "<style scoped>\n",
       "    .dataframe tbody tr th:only-of-type {\n",
       "        vertical-align: middle;\n",
       "    }\n",
       "\n",
       "    .dataframe tbody tr th {\n",
       "        vertical-align: top;\n",
       "    }\n",
       "\n",
       "    .dataframe thead th {\n",
       "        text-align: right;\n",
       "    }\n",
       "</style>\n",
       "<table border=\"1\" class=\"dataframe\">\n",
       "  <thead>\n",
       "    <tr style=\"text-align: right;\">\n",
       "      <th></th>\n",
       "      <th>Patient_N</th>\n",
       "    </tr>\n",
       "  </thead>\n",
       "  <tbody>\n",
       "    <tr>\n",
       "      <th>0</th>\n",
       "      <td>0</td>\n",
       "    </tr>\n",
       "    <tr>\n",
       "      <th>1</th>\n",
       "      <td>0</td>\n",
       "    </tr>\n",
       "    <tr>\n",
       "      <th>2</th>\n",
       "      <td>0</td>\n",
       "    </tr>\n",
       "    <tr>\n",
       "      <th>3</th>\n",
       "      <td>0</td>\n",
       "    </tr>\n",
       "    <tr>\n",
       "      <th>4</th>\n",
       "      <td>0</td>\n",
       "    </tr>\n",
       "    <tr>\n",
       "      <th>...</th>\n",
       "      <td>...</td>\n",
       "    </tr>\n",
       "    <tr>\n",
       "      <th>1727</th>\n",
       "      <td>1</td>\n",
       "    </tr>\n",
       "    <tr>\n",
       "      <th>1728</th>\n",
       "      <td>1</td>\n",
       "    </tr>\n",
       "    <tr>\n",
       "      <th>1729</th>\n",
       "      <td>1</td>\n",
       "    </tr>\n",
       "    <tr>\n",
       "      <th>1730</th>\n",
       "      <td>1</td>\n",
       "    </tr>\n",
       "    <tr>\n",
       "      <th>1731</th>\n",
       "      <td>1</td>\n",
       "    </tr>\n",
       "  </tbody>\n",
       "</table>\n",
       "<p>1732 rows × 1 columns</p>\n",
       "</div>"
      ],
      "text/plain": [
       "      Patient_N\n",
       "0             0\n",
       "1             0\n",
       "2             0\n",
       "3             0\n",
       "4             0\n",
       "...         ...\n",
       "1727          1\n",
       "1728          1\n",
       "1729          1\n",
       "1730          1\n",
       "1731          1\n",
       "\n",
       "[1732 rows x 1 columns]"
      ]
     },
     "execution_count": 66,
     "metadata": {},
     "output_type": "execute_result"
    }
   ],
   "source": [
    "###############\n",
    "#    MALE     #\n",
    "###############\n",
    "\n",
    "df_seg_descr_hc_m = pd.DataFrame([ final_index_pt_m_hc_train] ).T\n",
    "df_seg_descr_hc_m.columns = ['Patient_N']\n",
    "df_seg_descr_hc_m"
   ]
  },
  {
   "cell_type": "code",
   "execution_count": 67,
   "id": "a9aa8c8c",
   "metadata": {},
   "outputs": [
    {
     "data": {
      "text/html": [
       "<div>\n",
       "<style scoped>\n",
       "    .dataframe tbody tr th:only-of-type {\n",
       "        vertical-align: middle;\n",
       "    }\n",
       "\n",
       "    .dataframe tbody tr th {\n",
       "        vertical-align: top;\n",
       "    }\n",
       "\n",
       "    .dataframe thead th {\n",
       "        text-align: right;\n",
       "    }\n",
       "</style>\n",
       "<table border=\"1\" class=\"dataframe\">\n",
       "  <thead>\n",
       "    <tr style=\"text-align: right;\">\n",
       "      <th></th>\n",
       "      <th>0</th>\n",
       "    </tr>\n",
       "    <tr>\n",
       "      <th>Patient_N</th>\n",
       "      <th></th>\n",
       "    </tr>\n",
       "  </thead>\n",
       "  <tbody>\n",
       "    <tr>\n",
       "      <th>0</th>\n",
       "      <td>784</td>\n",
       "    </tr>\n",
       "    <tr>\n",
       "      <th>1</th>\n",
       "      <td>948</td>\n",
       "    </tr>\n",
       "  </tbody>\n",
       "</table>\n",
       "</div>"
      ],
      "text/plain": [
       "             0\n",
       "Patient_N     \n",
       "0          784\n",
       "1          948"
      ]
     },
     "execution_count": 67,
     "metadata": {},
     "output_type": "execute_result"
    }
   ],
   "source": [
    "hc_df_m_seg = df_seg_descr_hc_m.groupby(['Patient_N']).size()\n",
    "hc_df_m_seg = pd.DataFrame(hc_df_m_seg)\n",
    "hc_df_m_seg"
   ]
  },
  {
   "cell_type": "markdown",
   "id": "775cee48",
   "metadata": {},
   "source": [
    "### 3) Randomly select from each group (divided by patient number) 442/372 number of segments for the female/male case respectively \n",
    "\n",
    "--> NOTE THE MINIMUM NUMBER OF SEGMENTS FOR ONE OF THE PATIENTS IS 442 AND SO WE REDUCE TO THIS NUMBER ALSO THE SICK PATIENTS GROUPS"
   ]
  },
  {
   "cell_type": "code",
   "execution_count": 19,
   "id": "d23f4c65",
   "metadata": {},
   "outputs": [],
   "source": [
    "n_IMF = 5"
   ]
  },
  {
   "cell_type": "code",
   "execution_count": 75,
   "id": "8263ac64",
   "metadata": {},
   "outputs": [],
   "source": [
    "#################\n",
    "#    FEMALE     #\n",
    "#################\n",
    "\n",
    "IMF_train_hc_f_df = [pd.DataFrame(X_IMF_hc_f[i]) for i in range(0,n_IMF)]\n",
    "final_index_pt_f_hc_train_df = pd.DataFrame(final_index_pt_f_hc_train)\n",
    "\n",
    "IMF_train_f_hc_ind_df = [pd.concat([IMF_train_hc_f_df[i],\n",
    "                                 final_index_pt_f_hc_train_df] , ignore_index= True, axis = 1) for i in range(0,n_IMF)]\n"
   ]
  },
  {
   "cell_type": "code",
   "execution_count": 76,
   "id": "99333335",
   "metadata": {},
   "outputs": [],
   "source": [
    "col_list = ['col' + str(x) for x in range(0,IMF_train_f_hc_ind_df[0].shape[1])]\n",
    "for i in range(0,n_IMF):\n",
    "    IMF_train_f_hc_ind_df[i].columns = col_list\n",
    "\n"
   ]
  },
  {
   "cell_type": "code",
   "execution_count": 77,
   "id": "1c4359f3",
   "metadata": {},
   "outputs": [],
   "source": [
    "#I split them with respect to the patients \n",
    "IMF_train_f_hc_split_0 = [IMF_train_f_hc_ind_df[i].groupby('col5000') for i in range(0,n_IMF)]\n",
    "IMF_train_f_hc_split = [[IMF_train_f_hc_split_0[i].get_group(x) for x in IMF_train_f_hc_split_0[i].groups] for i in range(0,n_IMF)]"
   ]
  },
  {
   "cell_type": "code",
   "execution_count": 78,
   "id": "dfedeb4f",
   "metadata": {},
   "outputs": [
    {
     "data": {
      "text/plain": [
       "[[895,\n",
       "  908,\n",
       "  578,\n",
       "  854,\n",
       "  641,\n",
       "  695,\n",
       "  777,\n",
       "  682,\n",
       "  884,\n",
       "  791,\n",
       "  636,\n",
       "  951,\n",
       "  1222,\n",
       "  1026,\n",
       "  897,\n",
       "  809,\n",
       "  1071,\n",
       "  442,\n",
       "  720],\n",
       " [895,\n",
       "  908,\n",
       "  578,\n",
       "  854,\n",
       "  641,\n",
       "  695,\n",
       "  777,\n",
       "  682,\n",
       "  884,\n",
       "  791,\n",
       "  636,\n",
       "  951,\n",
       "  1222,\n",
       "  1026,\n",
       "  897,\n",
       "  809,\n",
       "  1071,\n",
       "  442,\n",
       "  720],\n",
       " [895,\n",
       "  908,\n",
       "  578,\n",
       "  854,\n",
       "  641,\n",
       "  695,\n",
       "  777,\n",
       "  682,\n",
       "  884,\n",
       "  791,\n",
       "  636,\n",
       "  951,\n",
       "  1222,\n",
       "  1026,\n",
       "  897,\n",
       "  809,\n",
       "  1071,\n",
       "  442,\n",
       "  720],\n",
       " [895,\n",
       "  908,\n",
       "  578,\n",
       "  854,\n",
       "  641,\n",
       "  695,\n",
       "  777,\n",
       "  682,\n",
       "  884,\n",
       "  791,\n",
       "  636,\n",
       "  951,\n",
       "  1222,\n",
       "  1026,\n",
       "  897,\n",
       "  809,\n",
       "  1071,\n",
       "  442,\n",
       "  720],\n",
       " [895,\n",
       "  908,\n",
       "  578,\n",
       "  854,\n",
       "  641,\n",
       "  695,\n",
       "  777,\n",
       "  682,\n",
       "  884,\n",
       "  791,\n",
       "  636,\n",
       "  951,\n",
       "  1222,\n",
       "  1026,\n",
       "  897,\n",
       "  809,\n",
       "  1071,\n",
       "  442,\n",
       "  720]]"
      ]
     },
     "execution_count": 78,
     "metadata": {},
     "output_type": "execute_result"
    }
   ],
   "source": [
    "n_seg_hc_f_split1 = [[len(IMF_train_f_hc_split[j][i]) for i in range(0, len(IMF_train_f_hc_split[j]))] for j in range(0,n_IMF)]\n",
    "n_seg_hc_f_split1"
   ]
  },
  {
   "cell_type": "code",
   "execution_count": 79,
   "id": "604e8bb1",
   "metadata": {},
   "outputs": [],
   "source": [
    "###############\n",
    "#    MALE     #\n",
    "###############\n",
    "\n",
    "IMF_train_hc_m_df = [pd.DataFrame(X_IMF_hc_m[i]) for i in range(0,n_IMF)]\n",
    "final_index_pt_m_hc_train_df = pd.DataFrame(final_index_pt_m_hc_train)\n",
    "\n",
    "IMF_train_m_hc_ind_df = [pd.concat([IMF_train_hc_m_df[i],\n",
    "                                 final_index_pt_m_hc_train_df] , ignore_index= True, axis = 1) for i in range(0,n_IMF)]"
   ]
  },
  {
   "cell_type": "code",
   "execution_count": 81,
   "id": "04fd8d02",
   "metadata": {},
   "outputs": [],
   "source": [
    "col_list = ['col' + str(x) for x in range(0,IMF_train_m_hc_ind_df[0].shape[1])]\n",
    "for i in range(0,n_IMF):\n",
    "    IMF_train_m_hc_ind_df[i].columns = col_list\n",
    "\n"
   ]
  },
  {
   "cell_type": "code",
   "execution_count": 82,
   "id": "4b75facf",
   "metadata": {},
   "outputs": [],
   "source": [
    "#I split them with respect to the patients \n",
    "IMF_train_m_hc_split_0 = [IMF_train_m_hc_ind_df[i].groupby('col5000') for i in range(0,n_IMF)]\n",
    "IMF_train_m_hc_split = [[IMF_train_m_hc_split_0[i].get_group(x) for x in IMF_train_m_hc_split_0[i].groups] for i in range(0,n_IMF)]"
   ]
  },
  {
   "cell_type": "code",
   "execution_count": 83,
   "id": "60f8ece7",
   "metadata": {},
   "outputs": [
    {
     "data": {
      "text/plain": [
       "[[784, 948], [784, 948], [784, 948], [784, 948], [784, 948]]"
      ]
     },
     "execution_count": 83,
     "metadata": {},
     "output_type": "execute_result"
    }
   ],
   "source": [
    "n_seg_hc_m_split1 = [[len(IMF_train_m_hc_split[j][i]) for i in range(0, len(IMF_train_m_hc_split[j]))] for j in range(0,n_IMF)]\n",
    "n_seg_hc_m_split1"
   ]
  },
  {
   "cell_type": "code",
   "execution_count": 84,
   "id": "710a1a1c",
   "metadata": {},
   "outputs": [
    {
     "data": {
      "text/plain": [
       "[784, 948]"
      ]
     },
     "execution_count": 84,
     "metadata": {},
     "output_type": "execute_result"
    }
   ],
   "source": [
    "n_seg_hc_m_split =  [len(IMF_train_m_hc_split[0][i]) for i in range(0, len(IMF_train_m_hc_split[0]))] \n",
    "n_seg_hc_m_split"
   ]
  },
  {
   "cell_type": "code",
   "execution_count": 85,
   "id": "f54629e3",
   "metadata": {},
   "outputs": [
    {
     "data": {
      "text/plain": [
       "[895,\n",
       " 908,\n",
       " 578,\n",
       " 854,\n",
       " 641,\n",
       " 695,\n",
       " 777,\n",
       " 682,\n",
       " 884,\n",
       " 791,\n",
       " 636,\n",
       " 951,\n",
       " 1222,\n",
       " 1026,\n",
       " 897,\n",
       " 809,\n",
       " 1071,\n",
       " 442,\n",
       " 720]"
      ]
     },
     "execution_count": 85,
     "metadata": {},
     "output_type": "execute_result"
    }
   ],
   "source": [
    "n_seg_hc_f_split = [len(IMF_train_f_hc_split[0][i]) for i in range(0, len(IMF_train_f_hc_split[0]))] \n",
    "n_seg_hc_f_split"
   ]
  },
  {
   "cell_type": "code",
   "execution_count": 86,
   "id": "a89622ff",
   "metadata": {},
   "outputs": [
    {
     "data": {
      "text/plain": [
       "[range(0, 784), range(0, 948)]"
      ]
     },
     "execution_count": 86,
     "metadata": {},
     "output_type": "execute_result"
    }
   ],
   "source": [
    "ind_hc_f = [range(0,n_seg_hc_f_split[i]) for i in range(0, len(n_seg_hc_f_split))]\n",
    "ind_hc_m = [range(0,n_seg_hc_m_split[i]) for i in range(0, len(n_seg_hc_m_split))]\n",
    "\n",
    "ind_hc_m"
   ]
  },
  {
   "cell_type": "code",
   "execution_count": 87,
   "id": "014b3ba1",
   "metadata": {},
   "outputs": [],
   "source": [
    "min_f = 442\n",
    "min_m = 372 "
   ]
  },
  {
   "cell_type": "code",
   "execution_count": 88,
   "id": "f4a1d0d4",
   "metadata": {},
   "outputs": [],
   "source": [
    "N_f = min_f\n",
    "N_m = min_m"
   ]
  },
  {
   "cell_type": "code",
   "execution_count": 89,
   "id": "b3c07f43",
   "metadata": {},
   "outputs": [
    {
     "name": "stdout",
     "output_type": "stream",
     "text": [
      "0.9970099255930638\n"
     ]
    }
   ],
   "source": [
    "#NOTE: I KEPT min_n and new_min_f \n",
    "random.seed(1)\n",
    "\n",
    "rand_ind_hc_m = [random.sample( ind_hc_m[i],  k = N_m) for i in range(0, len(ind_hc_m))]\n",
    "rand_ind_hc_f = [random.sample( ind_hc_f[i],  k = N_f) for i in range(0, len(ind_hc_f))]\n",
    "\n",
    "print(random.random())#0.9970099255930638"
   ]
  },
  {
   "cell_type": "code",
   "execution_count": 90,
   "id": "56fb7ffd",
   "metadata": {},
   "outputs": [
    {
     "data": {
      "text/plain": [
       "[372, 372]"
      ]
     },
     "execution_count": 90,
     "metadata": {},
     "output_type": "execute_result"
    }
   ],
   "source": [
    "#check\n",
    "[len(rand_ind_hc_m[i]) for i in range(0, len(rand_ind_hc_m))]"
   ]
  },
  {
   "cell_type": "code",
   "execution_count": 91,
   "id": "f657b8e7",
   "metadata": {},
   "outputs": [
    {
     "data": {
      "text/plain": [
       "[442,\n",
       " 442,\n",
       " 442,\n",
       " 442,\n",
       " 442,\n",
       " 442,\n",
       " 442,\n",
       " 442,\n",
       " 442,\n",
       " 442,\n",
       " 442,\n",
       " 442,\n",
       " 442,\n",
       " 442,\n",
       " 442,\n",
       " 442,\n",
       " 442,\n",
       " 442,\n",
       " 442]"
      ]
     },
     "execution_count": 91,
     "metadata": {},
     "output_type": "execute_result"
    }
   ],
   "source": [
    "#check\n",
    "[len(rand_ind_hc_f[i]) for i in range(0, len(rand_ind_hc_f))]"
   ]
  },
  {
   "cell_type": "code",
   "execution_count": 92,
   "id": "83f96cfd",
   "metadata": {},
   "outputs": [
    {
     "data": {
      "text/plain": [
       "19"
      ]
     },
     "execution_count": 92,
     "metadata": {},
     "output_type": "execute_result"
    }
   ],
   "source": [
    "len(rand_ind_hc_f)"
   ]
  },
  {
   "cell_type": "code",
   "execution_count": 93,
   "id": "6a442875",
   "metadata": {},
   "outputs": [],
   "source": [
    "rand_ind_hc_sorted_f = [sorted(rand_ind_hc_f[i]) for i in range(0,len(rand_ind_hc_f))]\n",
    "rand_ind_hc_sorted_m = [sorted(rand_ind_hc_m[i]) for i in range(0,len(rand_ind_hc_m))]"
   ]
  },
  {
   "cell_type": "code",
   "execution_count": 94,
   "id": "6f06652c",
   "metadata": {},
   "outputs": [],
   "source": [
    "IMF_hc_f_split = [[IMF_train_f_hc_split[j][i].iloc[rand_ind_hc_sorted_f[i], :].reset_index() for i in range(0, len(IMF_train_f_hc_split[j]))] for j in range(0,n_IMF)]\n",
    "IMF_hc_m_split = [[IMF_train_m_hc_split[j][i].iloc[rand_ind_hc_sorted_m[i], :].reset_index() for i in range(0, len(IMF_train_m_hc_split[j]))] for j in range(0,n_IMF)]"
   ]
  },
  {
   "cell_type": "code",
   "execution_count": 459,
   "id": "be991177",
   "metadata": {
    "collapsed": true
   },
   "outputs": [
    {
     "data": {
      "text/plain": [
       "[[442,\n",
       "  442,\n",
       "  442,\n",
       "  442,\n",
       "  442,\n",
       "  442,\n",
       "  442,\n",
       "  442,\n",
       "  442,\n",
       "  442,\n",
       "  442,\n",
       "  442,\n",
       "  442,\n",
       "  442,\n",
       "  442,\n",
       "  442,\n",
       "  442,\n",
       "  442,\n",
       "  442],\n",
       " [442,\n",
       "  442,\n",
       "  442,\n",
       "  442,\n",
       "  442,\n",
       "  442,\n",
       "  442,\n",
       "  442,\n",
       "  442,\n",
       "  442,\n",
       "  442,\n",
       "  442,\n",
       "  442,\n",
       "  442,\n",
       "  442,\n",
       "  442,\n",
       "  442,\n",
       "  442,\n",
       "  442],\n",
       " [442,\n",
       "  442,\n",
       "  442,\n",
       "  442,\n",
       "  442,\n",
       "  442,\n",
       "  442,\n",
       "  442,\n",
       "  442,\n",
       "  442,\n",
       "  442,\n",
       "  442,\n",
       "  442,\n",
       "  442,\n",
       "  442,\n",
       "  442,\n",
       "  442,\n",
       "  442,\n",
       "  442],\n",
       " [442,\n",
       "  442,\n",
       "  442,\n",
       "  442,\n",
       "  442,\n",
       "  442,\n",
       "  442,\n",
       "  442,\n",
       "  442,\n",
       "  442,\n",
       "  442,\n",
       "  442,\n",
       "  442,\n",
       "  442,\n",
       "  442,\n",
       "  442,\n",
       "  442,\n",
       "  442,\n",
       "  442],\n",
       " [442,\n",
       "  442,\n",
       "  442,\n",
       "  442,\n",
       "  442,\n",
       "  442,\n",
       "  442,\n",
       "  442,\n",
       "  442,\n",
       "  442,\n",
       "  442,\n",
       "  442,\n",
       "  442,\n",
       "  442,\n",
       "  442,\n",
       "  442,\n",
       "  442,\n",
       "  442,\n",
       "  442]]"
      ]
     },
     "execution_count": 459,
     "metadata": {},
     "output_type": "execute_result"
    }
   ],
   "source": [
    "#check\n",
    "[[len(IMF_hc_f_split[j][i]) for i in range(0, len(IMF_hc_f_split[j]))] for j in range(0,n_IMF)]"
   ]
  },
  {
   "cell_type": "code",
   "execution_count": 460,
   "id": "608cf8ca",
   "metadata": {
    "scrolled": true
   },
   "outputs": [
    {
     "data": {
      "text/plain": [
       "[[372, 372], [372, 372], [372, 372], [372, 372], [372, 372]]"
      ]
     },
     "execution_count": 460,
     "metadata": {},
     "output_type": "execute_result"
    }
   ],
   "source": [
    "#check\n",
    "[[len(IMF_hc_m_split[j][i]) for i in range(0, len(IMF_hc_m_split[j]))] for j in range(0,n_IMF)]"
   ]
  },
  {
   "cell_type": "markdown",
   "id": "8de483ce",
   "metadata": {},
   "source": [
    "### 4) Randomly select one one speaker to leave out for the testing set\n"
   ]
  },
  {
   "cell_type": "code",
   "execution_count": null,
   "id": "e2569dd2",
   "metadata": {},
   "outputs": [],
   "source": [
    "######################################################################\n",
    "#NOW RANDOMLY SELECT ONE SPEAKER FOR THE LEAVE ONE OUT IN EACH HC SET#\n",
    "######################################################################"
   ]
  },
  {
   "cell_type": "code",
   "execution_count": 95,
   "id": "591860ef",
   "metadata": {},
   "outputs": [
    {
     "data": {
      "text/html": [
       "<div>\n",
       "<style scoped>\n",
       "    .dataframe tbody tr th:only-of-type {\n",
       "        vertical-align: middle;\n",
       "    }\n",
       "\n",
       "    .dataframe tbody tr th {\n",
       "        vertical-align: top;\n",
       "    }\n",
       "\n",
       "    .dataframe thead th {\n",
       "        text-align: right;\n",
       "    }\n",
       "</style>\n",
       "<table border=\"1\" class=\"dataframe\">\n",
       "  <thead>\n",
       "    <tr style=\"text-align: right;\">\n",
       "      <th></th>\n",
       "      <th>Patient_N</th>\n",
       "    </tr>\n",
       "  </thead>\n",
       "  <tbody>\n",
       "    <tr>\n",
       "      <th>0</th>\n",
       "      <td>0</td>\n",
       "    </tr>\n",
       "    <tr>\n",
       "      <th>1</th>\n",
       "      <td>1</td>\n",
       "    </tr>\n",
       "  </tbody>\n",
       "</table>\n",
       "</div>"
      ],
      "text/plain": [
       "   Patient_N\n",
       "0          0\n",
       "1          1"
      ]
     },
     "execution_count": 95,
     "metadata": {},
     "output_type": "execute_result"
    }
   ],
   "source": [
    "hc_df_m = pd.DataFrame( np.array([[ 0 ], \n",
    "                        [ 1 ] ]),                      \n",
    "         columns =  [\"Patient_N\"])\n",
    "\n",
    "hc_df_m"
   ]
  },
  {
   "cell_type": "code",
   "execution_count": 96,
   "id": "dfc56f05",
   "metadata": {},
   "outputs": [
    {
     "data": {
      "text/html": [
       "<div>\n",
       "<style scoped>\n",
       "    .dataframe tbody tr th:only-of-type {\n",
       "        vertical-align: middle;\n",
       "    }\n",
       "\n",
       "    .dataframe tbody tr th {\n",
       "        vertical-align: top;\n",
       "    }\n",
       "\n",
       "    .dataframe thead th {\n",
       "        text-align: right;\n",
       "    }\n",
       "</style>\n",
       "<table border=\"1\" class=\"dataframe\">\n",
       "  <thead>\n",
       "    <tr style=\"text-align: right;\">\n",
       "      <th></th>\n",
       "      <th>Patient_N</th>\n",
       "    </tr>\n",
       "  </thead>\n",
       "  <tbody>\n",
       "    <tr>\n",
       "      <th>0</th>\n",
       "      <td>0</td>\n",
       "    </tr>\n",
       "    <tr>\n",
       "      <th>1</th>\n",
       "      <td>1</td>\n",
       "    </tr>\n",
       "    <tr>\n",
       "      <th>2</th>\n",
       "      <td>2</td>\n",
       "    </tr>\n",
       "    <tr>\n",
       "      <th>3</th>\n",
       "      <td>3</td>\n",
       "    </tr>\n",
       "    <tr>\n",
       "      <th>4</th>\n",
       "      <td>4</td>\n",
       "    </tr>\n",
       "    <tr>\n",
       "      <th>5</th>\n",
       "      <td>5</td>\n",
       "    </tr>\n",
       "    <tr>\n",
       "      <th>6</th>\n",
       "      <td>6</td>\n",
       "    </tr>\n",
       "    <tr>\n",
       "      <th>7</th>\n",
       "      <td>7</td>\n",
       "    </tr>\n",
       "    <tr>\n",
       "      <th>8</th>\n",
       "      <td>8</td>\n",
       "    </tr>\n",
       "    <tr>\n",
       "      <th>9</th>\n",
       "      <td>9</td>\n",
       "    </tr>\n",
       "    <tr>\n",
       "      <th>10</th>\n",
       "      <td>10</td>\n",
       "    </tr>\n",
       "    <tr>\n",
       "      <th>11</th>\n",
       "      <td>11</td>\n",
       "    </tr>\n",
       "    <tr>\n",
       "      <th>12</th>\n",
       "      <td>12</td>\n",
       "    </tr>\n",
       "    <tr>\n",
       "      <th>13</th>\n",
       "      <td>13</td>\n",
       "    </tr>\n",
       "    <tr>\n",
       "      <th>14</th>\n",
       "      <td>14</td>\n",
       "    </tr>\n",
       "    <tr>\n",
       "      <th>15</th>\n",
       "      <td>15</td>\n",
       "    </tr>\n",
       "    <tr>\n",
       "      <th>16</th>\n",
       "      <td>16</td>\n",
       "    </tr>\n",
       "    <tr>\n",
       "      <th>17</th>\n",
       "      <td>17</td>\n",
       "    </tr>\n",
       "    <tr>\n",
       "      <th>18</th>\n",
       "      <td>18</td>\n",
       "    </tr>\n",
       "  </tbody>\n",
       "</table>\n",
       "</div>"
      ],
      "text/plain": [
       "    Patient_N\n",
       "0           0\n",
       "1           1\n",
       "2           2\n",
       "3           3\n",
       "4           4\n",
       "5           5\n",
       "6           6\n",
       "7           7\n",
       "8           8\n",
       "9           9\n",
       "10         10\n",
       "11         11\n",
       "12         12\n",
       "13         13\n",
       "14         14\n",
       "15         15\n",
       "16         16\n",
       "17         17\n",
       "18         18"
      ]
     },
     "execution_count": 96,
     "metadata": {},
     "output_type": "execute_result"
    }
   ],
   "source": [
    "hc_df_f = pd.DataFrame( np.array([[ 0 ], \n",
    "                        [ 1 ], \n",
    "                        [ 2 ],\n",
    "                        [ 3 ], \n",
    "                        [ 4 ],\n",
    "                        [ 5 ],\n",
    "                        [ 6 ], \n",
    "                        [ 7 ],\n",
    "                        [ 8 ],\n",
    "                        [ 9 ],\n",
    "                        [ 10 ], \n",
    "                        [ 11 ],\n",
    "                        [ 12 ],\n",
    "                        [ 13 ],\n",
    "                        [ 14 ],\n",
    "                        [ 15 ],\n",
    "                        [ 16 ],\n",
    "                        [ 17 ],\n",
    "                        [ 18 ]   ]),                      \n",
    "         columns = [ \"Patient_N\"])\n",
    "\n",
    "hc_df_f"
   ]
  },
  {
   "cell_type": "code",
   "execution_count": 97,
   "id": "5e97a897",
   "metadata": {},
   "outputs": [
    {
     "data": {
      "text/html": [
       "<div>\n",
       "<style scoped>\n",
       "    .dataframe tbody tr th:only-of-type {\n",
       "        vertical-align: middle;\n",
       "    }\n",
       "\n",
       "    .dataframe tbody tr th {\n",
       "        vertical-align: top;\n",
       "    }\n",
       "\n",
       "    .dataframe thead th {\n",
       "        text-align: right;\n",
       "    }\n",
       "</style>\n",
       "<table border=\"1\" class=\"dataframe\">\n",
       "  <thead>\n",
       "    <tr style=\"text-align: right;\">\n",
       "      <th></th>\n",
       "      <th>Patient_N</th>\n",
       "    </tr>\n",
       "  </thead>\n",
       "  <tbody>\n",
       "    <tr>\n",
       "      <th>0</th>\n",
       "      <td>0</td>\n",
       "    </tr>\n",
       "  </tbody>\n",
       "</table>\n",
       "</div>"
      ],
      "text/plain": [
       "   Patient_N\n",
       "0          0"
      ]
     },
     "execution_count": 97,
     "metadata": {},
     "output_type": "execute_result"
    }
   ],
   "source": [
    "np.random.seed(1)\n",
    "\n",
    "test_patients_hc_m = hc_df_m.sample(frac = 1.0).head(1)\n",
    "test_patients_hc_m"
   ]
  },
  {
   "cell_type": "code",
   "execution_count": 98,
   "id": "5451d6b7",
   "metadata": {},
   "outputs": [
    {
     "data": {
      "text/html": [
       "<div>\n",
       "<style scoped>\n",
       "    .dataframe tbody tr th:only-of-type {\n",
       "        vertical-align: middle;\n",
       "    }\n",
       "\n",
       "    .dataframe tbody tr th {\n",
       "        vertical-align: top;\n",
       "    }\n",
       "\n",
       "    .dataframe thead th {\n",
       "        text-align: right;\n",
       "    }\n",
       "</style>\n",
       "<table border=\"1\" class=\"dataframe\">\n",
       "  <thead>\n",
       "    <tr style=\"text-align: right;\">\n",
       "      <th></th>\n",
       "      <th>Patient_N</th>\n",
       "    </tr>\n",
       "  </thead>\n",
       "  <tbody>\n",
       "    <tr>\n",
       "      <th>16</th>\n",
       "      <td>16</td>\n",
       "    </tr>\n",
       "  </tbody>\n",
       "</table>\n",
       "</div>"
      ],
      "text/plain": [
       "    Patient_N\n",
       "16         16"
      ]
     },
     "execution_count": 98,
     "metadata": {},
     "output_type": "execute_result"
    }
   ],
   "source": [
    "np.random.seed(40)# I already got 10,3,9,12,6,2,5,1,14,18,11,15,13,7,0,8,17\n",
    "\n",
    "test_patients_hc_f = hc_df_f.sample(frac = 1.0).head(1)\n",
    "test_patients_hc_f"
   ]
  },
  {
   "cell_type": "code",
   "execution_count": 588,
   "id": "b0cf4295",
   "metadata": {},
   "outputs": [],
   "source": [
    "new_IMF_hc_f_split_train = [list(IMF_hc_f_split[i]) for i in range(0,n_IMF)]\n",
    "new_IMF_hc_f_split_train = [[i for j, i in enumerate(new_IMF_hc_f_split_train[h]) if j not in np.array(test_patients_hc_f[\"Patient_N\"])] for h in range(0,n_IMF)]"
   ]
  },
  {
   "cell_type": "code",
   "execution_count": 572,
   "id": "fbf9b1cb",
   "metadata": {},
   "outputs": [
    {
     "data": {
      "text/plain": [
       "5"
      ]
     },
     "execution_count": 572,
     "metadata": {},
     "output_type": "execute_result"
    }
   ],
   "source": [
    "len(new_IMF_hc_f_split_train)"
   ]
  },
  {
   "cell_type": "code",
   "execution_count": 573,
   "id": "68017f2d",
   "metadata": {},
   "outputs": [
    {
     "data": {
      "text/plain": [
       "18"
      ]
     },
     "execution_count": 573,
     "metadata": {},
     "output_type": "execute_result"
    }
   ],
   "source": [
    "len(new_IMF_hc_f_split_train[0])"
   ]
  },
  {
   "cell_type": "code",
   "execution_count": 496,
   "id": "e3ba7fec",
   "metadata": {
    "collapsed": true
   },
   "outputs": [
    {
     "data": {
      "text/plain": [
       "[[{0},\n",
       "  {1},\n",
       "  {2},\n",
       "  {4},\n",
       "  {5},\n",
       "  {6},\n",
       "  {7},\n",
       "  {8},\n",
       "  {9},\n",
       "  {10},\n",
       "  {11},\n",
       "  {12},\n",
       "  {13},\n",
       "  {14},\n",
       "  {15},\n",
       "  {16},\n",
       "  {17},\n",
       "  {18}],\n",
       " [{0},\n",
       "  {1},\n",
       "  {2},\n",
       "  {4},\n",
       "  {5},\n",
       "  {6},\n",
       "  {7},\n",
       "  {8},\n",
       "  {9},\n",
       "  {10},\n",
       "  {11},\n",
       "  {12},\n",
       "  {13},\n",
       "  {14},\n",
       "  {15},\n",
       "  {16},\n",
       "  {17},\n",
       "  {18}],\n",
       " [{0},\n",
       "  {1},\n",
       "  {2},\n",
       "  {4},\n",
       "  {5},\n",
       "  {6},\n",
       "  {7},\n",
       "  {8},\n",
       "  {9},\n",
       "  {10},\n",
       "  {11},\n",
       "  {12},\n",
       "  {13},\n",
       "  {14},\n",
       "  {15},\n",
       "  {16},\n",
       "  {17},\n",
       "  {18}],\n",
       " [{0},\n",
       "  {1},\n",
       "  {2},\n",
       "  {4},\n",
       "  {5},\n",
       "  {6},\n",
       "  {7},\n",
       "  {8},\n",
       "  {9},\n",
       "  {10},\n",
       "  {11},\n",
       "  {12},\n",
       "  {13},\n",
       "  {14},\n",
       "  {15},\n",
       "  {16},\n",
       "  {17},\n",
       "  {18}],\n",
       " [{0},\n",
       "  {1},\n",
       "  {2},\n",
       "  {4},\n",
       "  {5},\n",
       "  {6},\n",
       "  {7},\n",
       "  {8},\n",
       "  {9},\n",
       "  {10},\n",
       "  {11},\n",
       "  {12},\n",
       "  {13},\n",
       "  {14},\n",
       "  {15},\n",
       "  {16},\n",
       "  {17},\n",
       "  {18}]]"
      ]
     },
     "execution_count": 496,
     "metadata": {},
     "output_type": "execute_result"
    }
   ],
   "source": [
    "#chekc that the left patients are 0,1,2,3,4,5,6,7,8,9,11,12,13,14,15,16,17,18\n",
    "[[set(new_IMF_hc_f_split_train[j][i]['col5000']) for i in range(0,len(new_IMF_hc_f_split_train[j]))] for j in range(0,n_IMF)]"
   ]
  },
  {
   "cell_type": "code",
   "execution_count": 589,
   "id": "f0be0c3a",
   "metadata": {},
   "outputs": [],
   "source": [
    "new_IMF_hc_m_split_train = [list(IMF_hc_m_split[i]) for i in range(0,n_IMF)]\n",
    "new_IMF_hc_m_split_train = [[i for j, i in enumerate(new_IMF_hc_m_split_train[h]) if j not in np.array(test_patients_hc_m[\"Patient_N\"])] for h in range(0,n_IMF)] "
   ]
  },
  {
   "cell_type": "code",
   "execution_count": 498,
   "id": "acc85d2e",
   "metadata": {},
   "outputs": [
    {
     "data": {
      "text/plain": [
       "5"
      ]
     },
     "execution_count": 498,
     "metadata": {},
     "output_type": "execute_result"
    }
   ],
   "source": [
    "len(new_IMF_hc_m_split_train)"
   ]
  },
  {
   "cell_type": "code",
   "execution_count": 499,
   "id": "e1f8adbb",
   "metadata": {},
   "outputs": [
    {
     "data": {
      "text/plain": [
       "1"
      ]
     },
     "execution_count": 499,
     "metadata": {},
     "output_type": "execute_result"
    }
   ],
   "source": [
    "len(new_IMF_hc_m_split_train[0])"
   ]
  },
  {
   "cell_type": "code",
   "execution_count": 500,
   "id": "dab7be9d",
   "metadata": {},
   "outputs": [
    {
     "data": {
      "text/plain": [
       "[{1}, {1}, {1}, {1}, {1}]"
      ]
     },
     "execution_count": 500,
     "metadata": {},
     "output_type": "execute_result"
    }
   ],
   "source": [
    "#chekc that the left patients is number 0\n",
    "[set(new_IMF_hc_m_split_train[i][0]['col5000'] ) for i in range(0,n_IMF)]"
   ]
  },
  {
   "cell_type": "code",
   "execution_count": 83,
   "id": "8df7a743",
   "metadata": {},
   "outputs": [],
   "source": [
    "new_IMF_hc_f_split_test = [list(IMF_hc_f_split[i]) for i in range(0,n_IMF)]\n",
    "new_IMF_hc_f_split_test = [[i for j, i in enumerate(new_IMF_hc_f_split_test[h]) if j in np.array(test_patients_hc_f[\"Patient_N\"])] for h in range(0,n_IMF)]"
   ]
  },
  {
   "cell_type": "code",
   "execution_count": 502,
   "id": "bfe72d7a",
   "metadata": {},
   "outputs": [
    {
     "data": {
      "text/plain": [
       "5"
      ]
     },
     "execution_count": 502,
     "metadata": {},
     "output_type": "execute_result"
    }
   ],
   "source": [
    "len(new_IMF_hc_f_split_test)"
   ]
  },
  {
   "cell_type": "code",
   "execution_count": 503,
   "id": "7c1bf328",
   "metadata": {},
   "outputs": [
    {
     "data": {
      "text/plain": [
       "1"
      ]
     },
     "execution_count": 503,
     "metadata": {},
     "output_type": "execute_result"
    }
   ],
   "source": [
    "len(new_IMF_hc_f_split_test[0])"
   ]
  },
  {
   "cell_type": "code",
   "execution_count": 84,
   "id": "b283c178",
   "metadata": {},
   "outputs": [
    {
     "data": {
      "text/plain": [
       "[{16}, {16}, {16}, {16}, {16}]"
      ]
     },
     "execution_count": 84,
     "metadata": {},
     "output_type": "execute_result"
    }
   ],
   "source": [
    " #chekc that the left patient is number 10\n",
    "[set(new_IMF_hc_f_split_test[i][0]['col5000']) for i in range(0,n_IMF)]"
   ]
  },
  {
   "cell_type": "code",
   "execution_count": 699,
   "id": "c1f8c282",
   "metadata": {},
   "outputs": [],
   "source": [
    "new_IMF_hc_m_split_test = [list(IMF_hc_m_split[i]) for i in range(0,n_IMF)]\n",
    "new_IMF_hc_m_split_test = [[i for j, i in enumerate(new_IMF_hc_m_split_test[h]) if j in np.array(test_patients_hc_m[\"Patient_N\"])] for h in range(0,n_IMF)]"
   ]
  },
  {
   "cell_type": "code",
   "execution_count": 67,
   "id": "ece162b6",
   "metadata": {},
   "outputs": [
    {
     "data": {
      "text/plain": [
       "5"
      ]
     },
     "execution_count": 67,
     "metadata": {},
     "output_type": "execute_result"
    }
   ],
   "source": [
    "len(new_IMF_hc_m_split_test)"
   ]
  },
  {
   "cell_type": "code",
   "execution_count": 68,
   "id": "b35a015f",
   "metadata": {},
   "outputs": [
    {
     "data": {
      "text/plain": [
       "1"
      ]
     },
     "execution_count": 68,
     "metadata": {},
     "output_type": "execute_result"
    }
   ],
   "source": [
    "len(new_IMF_hc_m_split_test[0])"
   ]
  },
  {
   "cell_type": "code",
   "execution_count": 701,
   "id": "d971052d",
   "metadata": {},
   "outputs": [
    {
     "data": {
      "text/plain": [
       "[{0}, {0}, {0}, {0}, {0}]"
      ]
     },
     "execution_count": 701,
     "metadata": {},
     "output_type": "execute_result"
    }
   ],
   "source": [
    "#chekc that the left patient is 1\n",
    "[set(new_IMF_hc_m_split_test[i][0]['col5000']) for i in range(0,n_IMF)]"
   ]
  },
  {
   "cell_type": "markdown",
   "id": "791b93cf",
   "metadata": {},
   "source": [
    "### 5) Extract 80% of the data for the traning set and 20% of the data for the testing"
   ]
  },
  {
   "cell_type": "code",
   "execution_count": null,
   "id": "61280c39",
   "metadata": {},
   "outputs": [],
   "source": [
    "################\n",
    "#     MALE     #\n",
    "################"
   ]
  },
  {
   "cell_type": "code",
   "execution_count": 107,
   "id": "04c89d70",
   "metadata": {},
   "outputs": [
    {
     "data": {
      "text/html": [
       "<div>\n",
       "<style scoped>\n",
       "    .dataframe tbody tr th:only-of-type {\n",
       "        vertical-align: middle;\n",
       "    }\n",
       "\n",
       "    .dataframe tbody tr th {\n",
       "        vertical-align: top;\n",
       "    }\n",
       "\n",
       "    .dataframe thead th {\n",
       "        text-align: right;\n",
       "    }\n",
       "</style>\n",
       "<table border=\"1\" class=\"dataframe\">\n",
       "  <thead>\n",
       "    <tr style=\"text-align: right;\">\n",
       "      <th></th>\n",
       "      <th>index</th>\n",
       "      <th>col0</th>\n",
       "      <th>col1</th>\n",
       "      <th>col2</th>\n",
       "      <th>col3</th>\n",
       "      <th>col4</th>\n",
       "      <th>col5</th>\n",
       "      <th>col6</th>\n",
       "      <th>col7</th>\n",
       "      <th>col8</th>\n",
       "      <th>...</th>\n",
       "      <th>col4991</th>\n",
       "      <th>col4992</th>\n",
       "      <th>col4993</th>\n",
       "      <th>col4994</th>\n",
       "      <th>col4995</th>\n",
       "      <th>col4996</th>\n",
       "      <th>col4997</th>\n",
       "      <th>col4998</th>\n",
       "      <th>col4999</th>\n",
       "      <th>col5000</th>\n",
       "    </tr>\n",
       "  </thead>\n",
       "  <tbody>\n",
       "    <tr>\n",
       "      <th>0</th>\n",
       "      <td>1</td>\n",
       "      <td>0.000157</td>\n",
       "      <td>-0.000058</td>\n",
       "      <td>-0.000321</td>\n",
       "      <td>0.000319</td>\n",
       "      <td>0.000175</td>\n",
       "      <td>-0.000304</td>\n",
       "      <td>0.000008</td>\n",
       "      <td>0.000267</td>\n",
       "      <td>-0.000005</td>\n",
       "      <td>...</td>\n",
       "      <td>-0.000167</td>\n",
       "      <td>0.000209</td>\n",
       "      <td>-0.000236</td>\n",
       "      <td>-0.000095</td>\n",
       "      <td>0.000062</td>\n",
       "      <td>0.000074</td>\n",
       "      <td>0.000209</td>\n",
       "      <td>-0.000200</td>\n",
       "      <td>-0.000109</td>\n",
       "      <td>0</td>\n",
       "    </tr>\n",
       "    <tr>\n",
       "      <th>1</th>\n",
       "      <td>2</td>\n",
       "      <td>0.000037</td>\n",
       "      <td>0.000182</td>\n",
       "      <td>-0.000182</td>\n",
       "      <td>-0.000125</td>\n",
       "      <td>0.000176</td>\n",
       "      <td>-0.000057</td>\n",
       "      <td>-0.000166</td>\n",
       "      <td>0.000166</td>\n",
       "      <td>0.000175</td>\n",
       "      <td>...</td>\n",
       "      <td>-0.000137</td>\n",
       "      <td>0.000088</td>\n",
       "      <td>0.000246</td>\n",
       "      <td>-0.000286</td>\n",
       "      <td>-0.000030</td>\n",
       "      <td>0.000326</td>\n",
       "      <td>-0.000246</td>\n",
       "      <td>-0.000331</td>\n",
       "      <td>0.000110</td>\n",
       "      <td>0</td>\n",
       "    </tr>\n",
       "    <tr>\n",
       "      <th>2</th>\n",
       "      <td>5</td>\n",
       "      <td>-0.010652</td>\n",
       "      <td>-0.009210</td>\n",
       "      <td>-0.007053</td>\n",
       "      <td>-0.005070</td>\n",
       "      <td>-0.003416</td>\n",
       "      <td>-0.002492</td>\n",
       "      <td>-0.001629</td>\n",
       "      <td>0.000726</td>\n",
       "      <td>0.004081</td>\n",
       "      <td>...</td>\n",
       "      <td>0.003444</td>\n",
       "      <td>-0.001375</td>\n",
       "      <td>-0.004084</td>\n",
       "      <td>-0.001660</td>\n",
       "      <td>0.001527</td>\n",
       "      <td>0.004091</td>\n",
       "      <td>-0.002782</td>\n",
       "      <td>-0.003957</td>\n",
       "      <td>0.001883</td>\n",
       "      <td>0</td>\n",
       "    </tr>\n",
       "    <tr>\n",
       "      <th>3</th>\n",
       "      <td>6</td>\n",
       "      <td>-0.003337</td>\n",
       "      <td>-0.002157</td>\n",
       "      <td>0.002516</td>\n",
       "      <td>0.005737</td>\n",
       "      <td>0.001667</td>\n",
       "      <td>-0.005639</td>\n",
       "      <td>-0.000435</td>\n",
       "      <td>0.005359</td>\n",
       "      <td>0.003276</td>\n",
       "      <td>...</td>\n",
       "      <td>-0.000976</td>\n",
       "      <td>0.002595</td>\n",
       "      <td>0.003690</td>\n",
       "      <td>0.001009</td>\n",
       "      <td>-0.000594</td>\n",
       "      <td>-0.001670</td>\n",
       "      <td>-0.002738</td>\n",
       "      <td>-0.003315</td>\n",
       "      <td>-0.003310</td>\n",
       "      <td>0</td>\n",
       "    </tr>\n",
       "    <tr>\n",
       "      <th>4</th>\n",
       "      <td>7</td>\n",
       "      <td>0.000115</td>\n",
       "      <td>0.000014</td>\n",
       "      <td>-0.000341</td>\n",
       "      <td>0.000861</td>\n",
       "      <td>0.000099</td>\n",
       "      <td>-0.002252</td>\n",
       "      <td>-0.002544</td>\n",
       "      <td>-0.001035</td>\n",
       "      <td>0.001688</td>\n",
       "      <td>...</td>\n",
       "      <td>-0.000080</td>\n",
       "      <td>-0.000028</td>\n",
       "      <td>0.000105</td>\n",
       "      <td>-0.000100</td>\n",
       "      <td>-0.000125</td>\n",
       "      <td>0.000134</td>\n",
       "      <td>0.000133</td>\n",
       "      <td>0.000086</td>\n",
       "      <td>-0.000011</td>\n",
       "      <td>0</td>\n",
       "    </tr>\n",
       "    <tr>\n",
       "      <th>...</th>\n",
       "      <td>...</td>\n",
       "      <td>...</td>\n",
       "      <td>...</td>\n",
       "      <td>...</td>\n",
       "      <td>...</td>\n",
       "      <td>...</td>\n",
       "      <td>...</td>\n",
       "      <td>...</td>\n",
       "      <td>...</td>\n",
       "      <td>...</td>\n",
       "      <td>...</td>\n",
       "      <td>...</td>\n",
       "      <td>...</td>\n",
       "      <td>...</td>\n",
       "      <td>...</td>\n",
       "      <td>...</td>\n",
       "      <td>...</td>\n",
       "      <td>...</td>\n",
       "      <td>...</td>\n",
       "      <td>...</td>\n",
       "      <td>...</td>\n",
       "    </tr>\n",
       "    <tr>\n",
       "      <th>367</th>\n",
       "      <td>779</td>\n",
       "      <td>-0.001920</td>\n",
       "      <td>-0.001307</td>\n",
       "      <td>-0.000538</td>\n",
       "      <td>0.000230</td>\n",
       "      <td>0.001268</td>\n",
       "      <td>0.001720</td>\n",
       "      <td>0.001826</td>\n",
       "      <td>0.001769</td>\n",
       "      <td>0.001449</td>\n",
       "      <td>...</td>\n",
       "      <td>0.000017</td>\n",
       "      <td>0.000038</td>\n",
       "      <td>-0.000048</td>\n",
       "      <td>0.000034</td>\n",
       "      <td>0.000092</td>\n",
       "      <td>0.000052</td>\n",
       "      <td>-0.000135</td>\n",
       "      <td>0.000067</td>\n",
       "      <td>0.000151</td>\n",
       "      <td>0</td>\n",
       "    </tr>\n",
       "    <tr>\n",
       "      <th>368</th>\n",
       "      <td>780</td>\n",
       "      <td>-0.000293</td>\n",
       "      <td>0.000061</td>\n",
       "      <td>0.000274</td>\n",
       "      <td>0.000113</td>\n",
       "      <td>-0.000206</td>\n",
       "      <td>0.000033</td>\n",
       "      <td>0.000075</td>\n",
       "      <td>0.000087</td>\n",
       "      <td>-0.000081</td>\n",
       "      <td>...</td>\n",
       "      <td>0.000791</td>\n",
       "      <td>0.000872</td>\n",
       "      <td>-0.000118</td>\n",
       "      <td>-0.000655</td>\n",
       "      <td>-0.000326</td>\n",
       "      <td>0.000284</td>\n",
       "      <td>0.000442</td>\n",
       "      <td>-0.000420</td>\n",
       "      <td>0.000324</td>\n",
       "      <td>0</td>\n",
       "    </tr>\n",
       "    <tr>\n",
       "      <th>369</th>\n",
       "      <td>781</td>\n",
       "      <td>0.000398</td>\n",
       "      <td>-0.000395</td>\n",
       "      <td>-0.000005</td>\n",
       "      <td>0.000241</td>\n",
       "      <td>0.000350</td>\n",
       "      <td>-0.000332</td>\n",
       "      <td>0.000321</td>\n",
       "      <td>-0.000325</td>\n",
       "      <td>0.000332</td>\n",
       "      <td>...</td>\n",
       "      <td>-0.000517</td>\n",
       "      <td>0.000023</td>\n",
       "      <td>0.000433</td>\n",
       "      <td>0.000415</td>\n",
       "      <td>0.000034</td>\n",
       "      <td>-0.000187</td>\n",
       "      <td>-0.000302</td>\n",
       "      <td>-0.000130</td>\n",
       "      <td>-0.000122</td>\n",
       "      <td>0</td>\n",
       "    </tr>\n",
       "    <tr>\n",
       "      <th>370</th>\n",
       "      <td>782</td>\n",
       "      <td>-0.000080</td>\n",
       "      <td>-0.000072</td>\n",
       "      <td>0.000101</td>\n",
       "      <td>-0.000154</td>\n",
       "      <td>0.000037</td>\n",
       "      <td>0.000174</td>\n",
       "      <td>0.000293</td>\n",
       "      <td>0.000434</td>\n",
       "      <td>-0.000478</td>\n",
       "      <td>...</td>\n",
       "      <td>-0.000024</td>\n",
       "      <td>0.000014</td>\n",
       "      <td>0.000046</td>\n",
       "      <td>0.000028</td>\n",
       "      <td>-0.000028</td>\n",
       "      <td>0.000025</td>\n",
       "      <td>-0.000025</td>\n",
       "      <td>0.000027</td>\n",
       "      <td>-0.000027</td>\n",
       "      <td>0</td>\n",
       "    </tr>\n",
       "    <tr>\n",
       "      <th>371</th>\n",
       "      <td>783</td>\n",
       "      <td>0.000132</td>\n",
       "      <td>0.000132</td>\n",
       "      <td>0.000095</td>\n",
       "      <td>-0.000123</td>\n",
       "      <td>0.000114</td>\n",
       "      <td>-0.000054</td>\n",
       "      <td>-0.000087</td>\n",
       "      <td>-0.000060</td>\n",
       "      <td>0.000061</td>\n",
       "      <td>...</td>\n",
       "      <td>-0.000079</td>\n",
       "      <td>-0.000113</td>\n",
       "      <td>0.000063</td>\n",
       "      <td>0.000104</td>\n",
       "      <td>-0.000103</td>\n",
       "      <td>-0.000092</td>\n",
       "      <td>0.000109</td>\n",
       "      <td>-0.000009</td>\n",
       "      <td>-0.000113</td>\n",
       "      <td>0</td>\n",
       "    </tr>\n",
       "  </tbody>\n",
       "</table>\n",
       "<p>372 rows × 5002 columns</p>\n",
       "</div>"
      ],
      "text/plain": [
       "     index      col0      col1      col2      col3      col4      col5  \\\n",
       "0        1  0.000157 -0.000058 -0.000321  0.000319  0.000175 -0.000304   \n",
       "1        2  0.000037  0.000182 -0.000182 -0.000125  0.000176 -0.000057   \n",
       "2        5 -0.010652 -0.009210 -0.007053 -0.005070 -0.003416 -0.002492   \n",
       "3        6 -0.003337 -0.002157  0.002516  0.005737  0.001667 -0.005639   \n",
       "4        7  0.000115  0.000014 -0.000341  0.000861  0.000099 -0.002252   \n",
       "..     ...       ...       ...       ...       ...       ...       ...   \n",
       "367    779 -0.001920 -0.001307 -0.000538  0.000230  0.001268  0.001720   \n",
       "368    780 -0.000293  0.000061  0.000274  0.000113 -0.000206  0.000033   \n",
       "369    781  0.000398 -0.000395 -0.000005  0.000241  0.000350 -0.000332   \n",
       "370    782 -0.000080 -0.000072  0.000101 -0.000154  0.000037  0.000174   \n",
       "371    783  0.000132  0.000132  0.000095 -0.000123  0.000114 -0.000054   \n",
       "\n",
       "         col6      col7      col8  ...   col4991   col4992   col4993  \\\n",
       "0    0.000008  0.000267 -0.000005  ... -0.000167  0.000209 -0.000236   \n",
       "1   -0.000166  0.000166  0.000175  ... -0.000137  0.000088  0.000246   \n",
       "2   -0.001629  0.000726  0.004081  ...  0.003444 -0.001375 -0.004084   \n",
       "3   -0.000435  0.005359  0.003276  ... -0.000976  0.002595  0.003690   \n",
       "4   -0.002544 -0.001035  0.001688  ... -0.000080 -0.000028  0.000105   \n",
       "..        ...       ...       ...  ...       ...       ...       ...   \n",
       "367  0.001826  0.001769  0.001449  ...  0.000017  0.000038 -0.000048   \n",
       "368  0.000075  0.000087 -0.000081  ...  0.000791  0.000872 -0.000118   \n",
       "369  0.000321 -0.000325  0.000332  ... -0.000517  0.000023  0.000433   \n",
       "370  0.000293  0.000434 -0.000478  ... -0.000024  0.000014  0.000046   \n",
       "371 -0.000087 -0.000060  0.000061  ... -0.000079 -0.000113  0.000063   \n",
       "\n",
       "      col4994   col4995   col4996   col4997   col4998   col4999  col5000  \n",
       "0   -0.000095  0.000062  0.000074  0.000209 -0.000200 -0.000109        0  \n",
       "1   -0.000286 -0.000030  0.000326 -0.000246 -0.000331  0.000110        0  \n",
       "2   -0.001660  0.001527  0.004091 -0.002782 -0.003957  0.001883        0  \n",
       "3    0.001009 -0.000594 -0.001670 -0.002738 -0.003315 -0.003310        0  \n",
       "4   -0.000100 -0.000125  0.000134  0.000133  0.000086 -0.000011        0  \n",
       "..        ...       ...       ...       ...       ...       ...      ...  \n",
       "367  0.000034  0.000092  0.000052 -0.000135  0.000067  0.000151        0  \n",
       "368 -0.000655 -0.000326  0.000284  0.000442 -0.000420  0.000324        0  \n",
       "369  0.000415  0.000034 -0.000187 -0.000302 -0.000130 -0.000122        0  \n",
       "370  0.000028 -0.000028  0.000025 -0.000025  0.000027 -0.000027        0  \n",
       "371  0.000104 -0.000103 -0.000092  0.000109 -0.000009 -0.000113        0  \n",
       "\n",
       "[372 rows x 5002 columns]"
      ]
     },
     "execution_count": 107,
     "metadata": {},
     "output_type": "execute_result"
    }
   ],
   "source": [
    "new_IMF_hc_m_split_train[0][0] # I extract 80% of 372 --> 298"
   ]
  },
  {
   "cell_type": "code",
   "execution_count": 108,
   "id": "3ed210f9",
   "metadata": {},
   "outputs": [
    {
     "data": {
      "text/html": [
       "<div>\n",
       "<style scoped>\n",
       "    .dataframe tbody tr th:only-of-type {\n",
       "        vertical-align: middle;\n",
       "    }\n",
       "\n",
       "    .dataframe tbody tr th {\n",
       "        vertical-align: top;\n",
       "    }\n",
       "\n",
       "    .dataframe thead th {\n",
       "        text-align: right;\n",
       "    }\n",
       "</style>\n",
       "<table border=\"1\" class=\"dataframe\">\n",
       "  <thead>\n",
       "    <tr style=\"text-align: right;\">\n",
       "      <th></th>\n",
       "      <th>index</th>\n",
       "      <th>col0</th>\n",
       "      <th>col1</th>\n",
       "      <th>col2</th>\n",
       "      <th>col3</th>\n",
       "      <th>col4</th>\n",
       "      <th>col5</th>\n",
       "      <th>col6</th>\n",
       "      <th>col7</th>\n",
       "      <th>col8</th>\n",
       "      <th>...</th>\n",
       "      <th>col4991</th>\n",
       "      <th>col4992</th>\n",
       "      <th>col4993</th>\n",
       "      <th>col4994</th>\n",
       "      <th>col4995</th>\n",
       "      <th>col4996</th>\n",
       "      <th>col4997</th>\n",
       "      <th>col4998</th>\n",
       "      <th>col4999</th>\n",
       "      <th>col5000</th>\n",
       "    </tr>\n",
       "  </thead>\n",
       "  <tbody>\n",
       "    <tr>\n",
       "      <th>0</th>\n",
       "      <td>784</td>\n",
       "      <td>-0.000090</td>\n",
       "      <td>0.000092</td>\n",
       "      <td>-0.000092</td>\n",
       "      <td>0.000095</td>\n",
       "      <td>0.000086</td>\n",
       "      <td>0.000005</td>\n",
       "      <td>-0.000063</td>\n",
       "      <td>-0.000123</td>\n",
       "      <td>0.000135</td>\n",
       "      <td>...</td>\n",
       "      <td>0.000125</td>\n",
       "      <td>-0.000070</td>\n",
       "      <td>-0.000147</td>\n",
       "      <td>0.000153</td>\n",
       "      <td>-0.000157</td>\n",
       "      <td>0.000158</td>\n",
       "      <td>-0.000147</td>\n",
       "      <td>-0.000159</td>\n",
       "      <td>-0.000140</td>\n",
       "      <td>1</td>\n",
       "    </tr>\n",
       "    <tr>\n",
       "      <th>1</th>\n",
       "      <td>787</td>\n",
       "      <td>0.000117</td>\n",
       "      <td>-0.000117</td>\n",
       "      <td>0.000011</td>\n",
       "      <td>0.000128</td>\n",
       "      <td>-0.000144</td>\n",
       "      <td>0.000108</td>\n",
       "      <td>0.000198</td>\n",
       "      <td>0.000213</td>\n",
       "      <td>-0.000227</td>\n",
       "      <td>...</td>\n",
       "      <td>0.000095</td>\n",
       "      <td>0.000097</td>\n",
       "      <td>0.000222</td>\n",
       "      <td>-0.000214</td>\n",
       "      <td>0.000229</td>\n",
       "      <td>0.000087</td>\n",
       "      <td>-0.000289</td>\n",
       "      <td>0.000306</td>\n",
       "      <td>0.000253</td>\n",
       "      <td>1</td>\n",
       "    </tr>\n",
       "    <tr>\n",
       "      <th>2</th>\n",
       "      <td>788</td>\n",
       "      <td>-0.000244</td>\n",
       "      <td>0.000147</td>\n",
       "      <td>0.000219</td>\n",
       "      <td>-0.000181</td>\n",
       "      <td>0.000144</td>\n",
       "      <td>-0.000139</td>\n",
       "      <td>0.000162</td>\n",
       "      <td>0.000005</td>\n",
       "      <td>-0.000157</td>\n",
       "      <td>...</td>\n",
       "      <td>0.002204</td>\n",
       "      <td>-0.001891</td>\n",
       "      <td>-0.001111</td>\n",
       "      <td>0.001482</td>\n",
       "      <td>-0.001329</td>\n",
       "      <td>-0.000382</td>\n",
       "      <td>0.001099</td>\n",
       "      <td>-0.001051</td>\n",
       "      <td>-0.000521</td>\n",
       "      <td>1</td>\n",
       "    </tr>\n",
       "    <tr>\n",
       "      <th>3</th>\n",
       "      <td>791</td>\n",
       "      <td>0.074762</td>\n",
       "      <td>-0.012859</td>\n",
       "      <td>-0.073988</td>\n",
       "      <td>-0.050181</td>\n",
       "      <td>0.033522</td>\n",
       "      <td>0.068835</td>\n",
       "      <td>0.057904</td>\n",
       "      <td>-0.011619</td>\n",
       "      <td>-0.058919</td>\n",
       "      <td>...</td>\n",
       "      <td>-0.000868</td>\n",
       "      <td>-0.000341</td>\n",
       "      <td>0.000979</td>\n",
       "      <td>-0.000208</td>\n",
       "      <td>-0.001083</td>\n",
       "      <td>0.000188</td>\n",
       "      <td>0.000245</td>\n",
       "      <td>0.000906</td>\n",
       "      <td>0.001176</td>\n",
       "      <td>1</td>\n",
       "    </tr>\n",
       "    <tr>\n",
       "      <th>4</th>\n",
       "      <td>794</td>\n",
       "      <td>-0.002340</td>\n",
       "      <td>-0.001488</td>\n",
       "      <td>0.002204</td>\n",
       "      <td>-0.000629</td>\n",
       "      <td>-0.001791</td>\n",
       "      <td>0.001533</td>\n",
       "      <td>-0.000488</td>\n",
       "      <td>-0.001208</td>\n",
       "      <td>0.001259</td>\n",
       "      <td>...</td>\n",
       "      <td>0.000368</td>\n",
       "      <td>0.000408</td>\n",
       "      <td>-0.000320</td>\n",
       "      <td>0.000271</td>\n",
       "      <td>-0.000273</td>\n",
       "      <td>0.000316</td>\n",
       "      <td>-0.000299</td>\n",
       "      <td>-0.000421</td>\n",
       "      <td>0.000440</td>\n",
       "      <td>1</td>\n",
       "    </tr>\n",
       "    <tr>\n",
       "      <th>...</th>\n",
       "      <td>...</td>\n",
       "      <td>...</td>\n",
       "      <td>...</td>\n",
       "      <td>...</td>\n",
       "      <td>...</td>\n",
       "      <td>...</td>\n",
       "      <td>...</td>\n",
       "      <td>...</td>\n",
       "      <td>...</td>\n",
       "      <td>...</td>\n",
       "      <td>...</td>\n",
       "      <td>...</td>\n",
       "      <td>...</td>\n",
       "      <td>...</td>\n",
       "      <td>...</td>\n",
       "      <td>...</td>\n",
       "      <td>...</td>\n",
       "      <td>...</td>\n",
       "      <td>...</td>\n",
       "      <td>...</td>\n",
       "      <td>...</td>\n",
       "    </tr>\n",
       "    <tr>\n",
       "      <th>367</th>\n",
       "      <td>1721</td>\n",
       "      <td>0.000077</td>\n",
       "      <td>0.000072</td>\n",
       "      <td>-0.000100</td>\n",
       "      <td>-0.000067</td>\n",
       "      <td>-0.000063</td>\n",
       "      <td>0.000055</td>\n",
       "      <td>0.000275</td>\n",
       "      <td>-0.000289</td>\n",
       "      <td>0.000065</td>\n",
       "      <td>...</td>\n",
       "      <td>0.000237</td>\n",
       "      <td>-0.000224</td>\n",
       "      <td>0.000196</td>\n",
       "      <td>-0.000160</td>\n",
       "      <td>0.000126</td>\n",
       "      <td>-0.000104</td>\n",
       "      <td>0.000017</td>\n",
       "      <td>0.000092</td>\n",
       "      <td>0.000045</td>\n",
       "      <td>1</td>\n",
       "    </tr>\n",
       "    <tr>\n",
       "      <th>368</th>\n",
       "      <td>1723</td>\n",
       "      <td>0.000365</td>\n",
       "      <td>-0.000362</td>\n",
       "      <td>0.000073</td>\n",
       "      <td>0.000329</td>\n",
       "      <td>-0.000298</td>\n",
       "      <td>0.000260</td>\n",
       "      <td>-0.000223</td>\n",
       "      <td>0.000050</td>\n",
       "      <td>0.000193</td>\n",
       "      <td>...</td>\n",
       "      <td>0.000442</td>\n",
       "      <td>-0.000451</td>\n",
       "      <td>-0.000144</td>\n",
       "      <td>0.000367</td>\n",
       "      <td>-0.000201</td>\n",
       "      <td>-0.000268</td>\n",
       "      <td>-0.000028</td>\n",
       "      <td>0.000230</td>\n",
       "      <td>0.000239</td>\n",
       "      <td>1</td>\n",
       "    </tr>\n",
       "    <tr>\n",
       "      <th>369</th>\n",
       "      <td>1725</td>\n",
       "      <td>-0.000576</td>\n",
       "      <td>-0.000344</td>\n",
       "      <td>0.000058</td>\n",
       "      <td>0.000423</td>\n",
       "      <td>0.000515</td>\n",
       "      <td>0.000488</td>\n",
       "      <td>0.000317</td>\n",
       "      <td>0.000027</td>\n",
       "      <td>-0.000303</td>\n",
       "      <td>...</td>\n",
       "      <td>-0.000371</td>\n",
       "      <td>0.000027</td>\n",
       "      <td>0.000063</td>\n",
       "      <td>0.000285</td>\n",
       "      <td>-0.000286</td>\n",
       "      <td>0.000336</td>\n",
       "      <td>0.000361</td>\n",
       "      <td>-0.000397</td>\n",
       "      <td>0.000411</td>\n",
       "      <td>1</td>\n",
       "    </tr>\n",
       "    <tr>\n",
       "      <th>370</th>\n",
       "      <td>1729</td>\n",
       "      <td>0.000087</td>\n",
       "      <td>-0.000466</td>\n",
       "      <td>0.000494</td>\n",
       "      <td>-0.000550</td>\n",
       "      <td>0.000611</td>\n",
       "      <td>-0.000641</td>\n",
       "      <td>0.000620</td>\n",
       "      <td>-0.000554</td>\n",
       "      <td>0.000039</td>\n",
       "      <td>...</td>\n",
       "      <td>0.000368</td>\n",
       "      <td>-0.000468</td>\n",
       "      <td>0.000547</td>\n",
       "      <td>-0.000576</td>\n",
       "      <td>0.000443</td>\n",
       "      <td>0.000522</td>\n",
       "      <td>-0.000486</td>\n",
       "      <td>0.000468</td>\n",
       "      <td>-0.000387</td>\n",
       "      <td>1</td>\n",
       "    </tr>\n",
       "    <tr>\n",
       "      <th>371</th>\n",
       "      <td>1730</td>\n",
       "      <td>0.000235</td>\n",
       "      <td>-0.000232</td>\n",
       "      <td>-0.000159</td>\n",
       "      <td>0.000218</td>\n",
       "      <td>-0.000215</td>\n",
       "      <td>-0.000061</td>\n",
       "      <td>0.000225</td>\n",
       "      <td>0.000107</td>\n",
       "      <td>0.000018</td>\n",
       "      <td>...</td>\n",
       "      <td>0.000108</td>\n",
       "      <td>-0.000138</td>\n",
       "      <td>0.000172</td>\n",
       "      <td>-0.000207</td>\n",
       "      <td>0.000103</td>\n",
       "      <td>0.000266</td>\n",
       "      <td>-0.000282</td>\n",
       "      <td>-0.000026</td>\n",
       "      <td>0.000214</td>\n",
       "      <td>1</td>\n",
       "    </tr>\n",
       "  </tbody>\n",
       "</table>\n",
       "<p>372 rows × 5002 columns</p>\n",
       "</div>"
      ],
      "text/plain": [
       "     index      col0      col1      col2      col3      col4      col5  \\\n",
       "0      784 -0.000090  0.000092 -0.000092  0.000095  0.000086  0.000005   \n",
       "1      787  0.000117 -0.000117  0.000011  0.000128 -0.000144  0.000108   \n",
       "2      788 -0.000244  0.000147  0.000219 -0.000181  0.000144 -0.000139   \n",
       "3      791  0.074762 -0.012859 -0.073988 -0.050181  0.033522  0.068835   \n",
       "4      794 -0.002340 -0.001488  0.002204 -0.000629 -0.001791  0.001533   \n",
       "..     ...       ...       ...       ...       ...       ...       ...   \n",
       "367   1721  0.000077  0.000072 -0.000100 -0.000067 -0.000063  0.000055   \n",
       "368   1723  0.000365 -0.000362  0.000073  0.000329 -0.000298  0.000260   \n",
       "369   1725 -0.000576 -0.000344  0.000058  0.000423  0.000515  0.000488   \n",
       "370   1729  0.000087 -0.000466  0.000494 -0.000550  0.000611 -0.000641   \n",
       "371   1730  0.000235 -0.000232 -0.000159  0.000218 -0.000215 -0.000061   \n",
       "\n",
       "         col6      col7      col8  ...   col4991   col4992   col4993  \\\n",
       "0   -0.000063 -0.000123  0.000135  ...  0.000125 -0.000070 -0.000147   \n",
       "1    0.000198  0.000213 -0.000227  ...  0.000095  0.000097  0.000222   \n",
       "2    0.000162  0.000005 -0.000157  ...  0.002204 -0.001891 -0.001111   \n",
       "3    0.057904 -0.011619 -0.058919  ... -0.000868 -0.000341  0.000979   \n",
       "4   -0.000488 -0.001208  0.001259  ...  0.000368  0.000408 -0.000320   \n",
       "..        ...       ...       ...  ...       ...       ...       ...   \n",
       "367  0.000275 -0.000289  0.000065  ...  0.000237 -0.000224  0.000196   \n",
       "368 -0.000223  0.000050  0.000193  ...  0.000442 -0.000451 -0.000144   \n",
       "369  0.000317  0.000027 -0.000303  ... -0.000371  0.000027  0.000063   \n",
       "370  0.000620 -0.000554  0.000039  ...  0.000368 -0.000468  0.000547   \n",
       "371  0.000225  0.000107  0.000018  ...  0.000108 -0.000138  0.000172   \n",
       "\n",
       "      col4994   col4995   col4996   col4997   col4998   col4999  col5000  \n",
       "0    0.000153 -0.000157  0.000158 -0.000147 -0.000159 -0.000140        1  \n",
       "1   -0.000214  0.000229  0.000087 -0.000289  0.000306  0.000253        1  \n",
       "2    0.001482 -0.001329 -0.000382  0.001099 -0.001051 -0.000521        1  \n",
       "3   -0.000208 -0.001083  0.000188  0.000245  0.000906  0.001176        1  \n",
       "4    0.000271 -0.000273  0.000316 -0.000299 -0.000421  0.000440        1  \n",
       "..        ...       ...       ...       ...       ...       ...      ...  \n",
       "367 -0.000160  0.000126 -0.000104  0.000017  0.000092  0.000045        1  \n",
       "368  0.000367 -0.000201 -0.000268 -0.000028  0.000230  0.000239        1  \n",
       "369  0.000285 -0.000286  0.000336  0.000361 -0.000397  0.000411        1  \n",
       "370 -0.000576  0.000443  0.000522 -0.000486  0.000468 -0.000387        1  \n",
       "371 -0.000207  0.000103  0.000266 -0.000282 -0.000026  0.000214        1  \n",
       "\n",
       "[372 rows x 5002 columns]"
      ]
     },
     "execution_count": 108,
     "metadata": {},
     "output_type": "execute_result"
    }
   ],
   "source": [
    "new_IMF_hc_m_split_test[0][0] # from this one I extract 20% of 372 --> 75"
   ]
  },
  {
   "cell_type": "code",
   "execution_count": 507,
   "id": "41797547",
   "metadata": {},
   "outputs": [
    {
     "name": "stdout",
     "output_type": "stream",
     "text": [
      "298 75\n"
     ]
    }
   ],
   "source": [
    "# NOTE: To extract the trainiing set, even if the sets are of bigger dimensions, we still set the 80% equal to N_m\n",
    "#       across the groups.\n",
    "\n",
    "per_train_pd_m = math.ceil(N_m * 0.8)\n",
    "per_test_pd_m = math.ceil(N_m * 0.2)\n",
    "print(per_train_pd_m, per_test_pd_m)\n"
   ]
  },
  {
   "cell_type": "code",
   "execution_count": 508,
   "id": "3aad646c",
   "metadata": {},
   "outputs": [
    {
     "name": "stdout",
     "output_type": "stream",
     "text": [
      "0.25006282489890796\n"
     ]
    }
   ],
   "source": [
    "#Set see to reproduce the results\n",
    "random.seed(1)\n",
    "\n",
    "range_pd_m = range(0, N_m )\n",
    "range_pd_m_test = range(0, N_m)\n",
    "\n",
    "rand_s_train_pd_m = random.sample(range_pd_m, k = per_train_pd_m)\n",
    "rand_s_test_pd_m = random.sample(range_pd_m_test, k = per_test_pd_m)\n",
    "\n",
    "print(random.random()) #0.25006282489890796\n"
   ]
  },
  {
   "cell_type": "code",
   "execution_count": 514,
   "id": "53a0d63d",
   "metadata": {},
   "outputs": [],
   "source": [
    "ind_train_pd_m = sorted(rand_s_train_pd_m) \n",
    "ind_test_pd_m = sorted(rand_s_test_pd_m) "
   ]
  },
  {
   "cell_type": "code",
   "execution_count": 515,
   "id": "994adfab",
   "metadata": {},
   "outputs": [],
   "source": [
    "IMF_train_m_hc = [new_IMF_hc_m_split_train[i][0].reset_index().loc[ind_train_pd_m] for i in range(0,n_IMF)]"
   ]
  },
  {
   "cell_type": "code",
   "execution_count": 516,
   "id": "b380b5b9",
   "metadata": {},
   "outputs": [
    {
     "data": {
      "text/plain": [
       "[(298, 5003), (298, 5003), (298, 5003), (298, 5003), (298, 5003)]"
      ]
     },
     "execution_count": 516,
     "metadata": {},
     "output_type": "execute_result"
    }
   ],
   "source": [
    "[IMF_train_m_hc[i].shape for i in range(0,n_IMF)]"
   ]
  },
  {
   "cell_type": "code",
   "execution_count": 517,
   "id": "477820fb",
   "metadata": {},
   "outputs": [],
   "source": [
    "IMF_train_m_hc = [IMF_train_m_hc[i].drop(['index', 'level_0', 'col5000'], axis=1) for i in range(0,n_IMF)]"
   ]
  },
  {
   "cell_type": "code",
   "execution_count": 518,
   "id": "772c118c",
   "metadata": {},
   "outputs": [
    {
     "data": {
      "text/plain": [
       "[(298, 5000), (298, 5000), (298, 5000), (298, 5000), (298, 5000)]"
      ]
     },
     "execution_count": 518,
     "metadata": {},
     "output_type": "execute_result"
    }
   ],
   "source": [
    "[IMF_train_m_hc[i].shape for i in range(0,n_IMF)]"
   ]
  },
  {
   "cell_type": "code",
   "execution_count": 519,
   "id": "a893184d",
   "metadata": {},
   "outputs": [],
   "source": [
    "IMF_train_m_hc = [IMF_train_m_hc[i].values  for i in range(0,n_IMF)]"
   ]
  },
  {
   "cell_type": "code",
   "execution_count": 520,
   "id": "08e4171a",
   "metadata": {},
   "outputs": [
    {
     "data": {
      "text/plain": [
       "[(298, 5000), (298, 5000), (298, 5000), (298, 5000), (298, 5000)]"
      ]
     },
     "execution_count": 520,
     "metadata": {},
     "output_type": "execute_result"
    }
   ],
   "source": [
    "[IMF_train_m_hc[i].shape for i in range(0,n_IMF)]"
   ]
  },
  {
   "cell_type": "code",
   "execution_count": 521,
   "id": "ff27e020",
   "metadata": {},
   "outputs": [],
   "source": [
    "IMF_test_hc_m  = [new_IMF_hc_m_split_test[i][0].reset_index().loc[ind_test_pd_m] for i in range(0,n_IMF)]"
   ]
  },
  {
   "cell_type": "code",
   "execution_count": 522,
   "id": "aa33b03c",
   "metadata": {},
   "outputs": [
    {
     "data": {
      "text/plain": [
       "[(75, 5003), (75, 5003), (75, 5003), (75, 5003), (75, 5003)]"
      ]
     },
     "execution_count": 522,
     "metadata": {},
     "output_type": "execute_result"
    }
   ],
   "source": [
    "[IMF_test_hc_m[i].shape for i in range(0,n_IMF)]"
   ]
  },
  {
   "cell_type": "code",
   "execution_count": 523,
   "id": "381ee69c",
   "metadata": {},
   "outputs": [],
   "source": [
    "IMF_test_hc_m = [IMF_test_hc_m[i].drop(['level_0', 'index', 'col5000'], axis=1)  for i in range(0,n_IMF)]"
   ]
  },
  {
   "cell_type": "code",
   "execution_count": 524,
   "id": "4834dae6",
   "metadata": {},
   "outputs": [
    {
     "data": {
      "text/plain": [
       "[(75, 5000), (75, 5000), (75, 5000), (75, 5000), (75, 5000)]"
      ]
     },
     "execution_count": 524,
     "metadata": {},
     "output_type": "execute_result"
    }
   ],
   "source": [
    "[IMF_test_hc_m[i].shape for i in range(0,n_IMF)]"
   ]
  },
  {
   "cell_type": "code",
   "execution_count": 525,
   "id": "cd146e5c",
   "metadata": {},
   "outputs": [],
   "source": [
    "IMF_test_hc_m = [IMF_test_hc_m[i].values  for i in range(0,n_IMF)]"
   ]
  },
  {
   "cell_type": "code",
   "execution_count": 526,
   "id": "099d2976",
   "metadata": {},
   "outputs": [
    {
     "data": {
      "text/plain": [
       "[(75, 5000), (75, 5000), (75, 5000), (75, 5000), (75, 5000)]"
      ]
     },
     "execution_count": 526,
     "metadata": {},
     "output_type": "execute_result"
    }
   ],
   "source": [
    "[IMF_test_hc_m[i].shape for i in range(0,n_IMF)]"
   ]
  },
  {
   "cell_type": "code",
   "execution_count": 527,
   "id": "264ef6b1",
   "metadata": {},
   "outputs": [],
   "source": [
    "np.save('IMF_train_m_hc_0', IMF_train_m_hc)"
   ]
  },
  {
   "cell_type": "code",
   "execution_count": null,
   "id": "aa6a42c6",
   "metadata": {},
   "outputs": [],
   "source": []
  },
  {
   "cell_type": "code",
   "execution_count": null,
   "id": "d2672cd4",
   "metadata": {},
   "outputs": [],
   "source": []
  },
  {
   "cell_type": "code",
   "execution_count": 127,
   "id": "106ee142",
   "metadata": {},
   "outputs": [],
   "source": [
    "np.save('IMF_train_m_hc', IMF_train_m_hc)"
   ]
  },
  {
   "cell_type": "code",
   "execution_count": 128,
   "id": "1c6a2443",
   "metadata": {},
   "outputs": [],
   "source": [
    "np.save('IMF_test_hc_m', IMF_test_hc_m)"
   ]
  },
  {
   "cell_type": "code",
   "execution_count": null,
   "id": "6e257d37",
   "metadata": {},
   "outputs": [],
   "source": []
  },
  {
   "cell_type": "code",
   "execution_count": null,
   "id": "ea53d14b",
   "metadata": {},
   "outputs": [],
   "source": [
    "##################\n",
    "#     FEMALE     #\n",
    "##################"
   ]
  },
  {
   "cell_type": "code",
   "execution_count": 70,
   "id": "29d8e0ba",
   "metadata": {},
   "outputs": [
    {
     "data": {
      "text/html": [
       "<div>\n",
       "<style scoped>\n",
       "    .dataframe tbody tr th:only-of-type {\n",
       "        vertical-align: middle;\n",
       "    }\n",
       "\n",
       "    .dataframe tbody tr th {\n",
       "        vertical-align: top;\n",
       "    }\n",
       "\n",
       "    .dataframe thead th {\n",
       "        text-align: right;\n",
       "    }\n",
       "</style>\n",
       "<table border=\"1\" class=\"dataframe\">\n",
       "  <thead>\n",
       "    <tr style=\"text-align: right;\">\n",
       "      <th></th>\n",
       "      <th>index</th>\n",
       "      <th>col0</th>\n",
       "      <th>col1</th>\n",
       "      <th>col2</th>\n",
       "      <th>col3</th>\n",
       "      <th>col4</th>\n",
       "      <th>col5</th>\n",
       "      <th>col6</th>\n",
       "      <th>col7</th>\n",
       "      <th>col8</th>\n",
       "      <th>...</th>\n",
       "      <th>col4991</th>\n",
       "      <th>col4992</th>\n",
       "      <th>col4993</th>\n",
       "      <th>col4994</th>\n",
       "      <th>col4995</th>\n",
       "      <th>col4996</th>\n",
       "      <th>col4997</th>\n",
       "      <th>col4998</th>\n",
       "      <th>col4999</th>\n",
       "      <th>col5000</th>\n",
       "    </tr>\n",
       "  </thead>\n",
       "  <tbody>\n",
       "    <tr>\n",
       "      <th>0</th>\n",
       "      <td>14760</td>\n",
       "      <td>-0.000247</td>\n",
       "      <td>0.000247</td>\n",
       "      <td>0.000209</td>\n",
       "      <td>-0.000227</td>\n",
       "      <td>0.000203</td>\n",
       "      <td>-1.755846e-04</td>\n",
       "      <td>0.000058</td>\n",
       "      <td>0.000163</td>\n",
       "      <td>-0.000201</td>\n",
       "      <td>...</td>\n",
       "      <td>-0.000245</td>\n",
       "      <td>0.000315</td>\n",
       "      <td>-0.000397</td>\n",
       "      <td>-0.000376</td>\n",
       "      <td>0.000527</td>\n",
       "      <td>-0.000357</td>\n",
       "      <td>-0.000584</td>\n",
       "      <td>0.000408</td>\n",
       "      <td>0.000527</td>\n",
       "      <td>18</td>\n",
       "    </tr>\n",
       "    <tr>\n",
       "      <th>1</th>\n",
       "      <td>14763</td>\n",
       "      <td>0.000169</td>\n",
       "      <td>-0.000166</td>\n",
       "      <td>0.000041</td>\n",
       "      <td>0.000155</td>\n",
       "      <td>-0.000152</td>\n",
       "      <td>-8.957882e-05</td>\n",
       "      <td>0.000167</td>\n",
       "      <td>-0.000185</td>\n",
       "      <td>0.000187</td>\n",
       "      <td>...</td>\n",
       "      <td>0.001820</td>\n",
       "      <td>0.000656</td>\n",
       "      <td>-0.001429</td>\n",
       "      <td>-0.001421</td>\n",
       "      <td>0.001329</td>\n",
       "      <td>0.001193</td>\n",
       "      <td>0.000109</td>\n",
       "      <td>-0.000665</td>\n",
       "      <td>-0.000685</td>\n",
       "      <td>18</td>\n",
       "    </tr>\n",
       "    <tr>\n",
       "      <th>2</th>\n",
       "      <td>14764</td>\n",
       "      <td>0.001006</td>\n",
       "      <td>0.001527</td>\n",
       "      <td>-0.000191</td>\n",
       "      <td>-0.001460</td>\n",
       "      <td>-0.001008</td>\n",
       "      <td>1.270988e-03</td>\n",
       "      <td>0.000922</td>\n",
       "      <td>-0.000409</td>\n",
       "      <td>-0.000907</td>\n",
       "      <td>...</td>\n",
       "      <td>0.006729</td>\n",
       "      <td>-0.004604</td>\n",
       "      <td>0.001413</td>\n",
       "      <td>0.005758</td>\n",
       "      <td>-0.007884</td>\n",
       "      <td>0.006899</td>\n",
       "      <td>0.011718</td>\n",
       "      <td>-0.008997</td>\n",
       "      <td>-0.013036</td>\n",
       "      <td>18</td>\n",
       "    </tr>\n",
       "    <tr>\n",
       "      <th>3</th>\n",
       "      <td>14765</td>\n",
       "      <td>0.006906</td>\n",
       "      <td>0.006733</td>\n",
       "      <td>-0.007409</td>\n",
       "      <td>-0.006779</td>\n",
       "      <td>0.003248</td>\n",
       "      <td>1.103336e-02</td>\n",
       "      <td>-0.006924</td>\n",
       "      <td>-0.012224</td>\n",
       "      <td>0.000552</td>\n",
       "      <td>...</td>\n",
       "      <td>-0.000757</td>\n",
       "      <td>-0.001573</td>\n",
       "      <td>0.000747</td>\n",
       "      <td>0.001688</td>\n",
       "      <td>0.001504</td>\n",
       "      <td>0.000376</td>\n",
       "      <td>-0.000911</td>\n",
       "      <td>-0.001744</td>\n",
       "      <td>-0.000642</td>\n",
       "      <td>18</td>\n",
       "    </tr>\n",
       "    <tr>\n",
       "      <th>4</th>\n",
       "      <td>14766</td>\n",
       "      <td>0.000602</td>\n",
       "      <td>-0.000598</td>\n",
       "      <td>0.000585</td>\n",
       "      <td>-0.000223</td>\n",
       "      <td>-0.000529</td>\n",
       "      <td>4.804689e-04</td>\n",
       "      <td>-0.000200</td>\n",
       "      <td>-0.000328</td>\n",
       "      <td>0.000228</td>\n",
       "      <td>...</td>\n",
       "      <td>-0.000544</td>\n",
       "      <td>0.000244</td>\n",
       "      <td>0.000375</td>\n",
       "      <td>-0.000292</td>\n",
       "      <td>-0.000267</td>\n",
       "      <td>0.000182</td>\n",
       "      <td>-0.000158</td>\n",
       "      <td>-0.000143</td>\n",
       "      <td>0.000125</td>\n",
       "      <td>18</td>\n",
       "    </tr>\n",
       "    <tr>\n",
       "      <th>...</th>\n",
       "      <td>...</td>\n",
       "      <td>...</td>\n",
       "      <td>...</td>\n",
       "      <td>...</td>\n",
       "      <td>...</td>\n",
       "      <td>...</td>\n",
       "      <td>...</td>\n",
       "      <td>...</td>\n",
       "      <td>...</td>\n",
       "      <td>...</td>\n",
       "      <td>...</td>\n",
       "      <td>...</td>\n",
       "      <td>...</td>\n",
       "      <td>...</td>\n",
       "      <td>...</td>\n",
       "      <td>...</td>\n",
       "      <td>...</td>\n",
       "      <td>...</td>\n",
       "      <td>...</td>\n",
       "      <td>...</td>\n",
       "      <td>...</td>\n",
       "    </tr>\n",
       "    <tr>\n",
       "      <th>437</th>\n",
       "      <td>15468</td>\n",
       "      <td>-0.000026</td>\n",
       "      <td>-0.000086</td>\n",
       "      <td>-0.000026</td>\n",
       "      <td>0.000089</td>\n",
       "      <td>-0.000092</td>\n",
       "      <td>-6.644881e-05</td>\n",
       "      <td>0.000087</td>\n",
       "      <td>-0.000074</td>\n",
       "      <td>-0.000030</td>\n",
       "      <td>...</td>\n",
       "      <td>-0.000046</td>\n",
       "      <td>0.000109</td>\n",
       "      <td>-0.000002</td>\n",
       "      <td>-0.000040</td>\n",
       "      <td>-0.000127</td>\n",
       "      <td>0.000130</td>\n",
       "      <td>-0.000132</td>\n",
       "      <td>-0.000002</td>\n",
       "      <td>0.000062</td>\n",
       "      <td>18</td>\n",
       "    </tr>\n",
       "    <tr>\n",
       "      <th>438</th>\n",
       "      <td>15469</td>\n",
       "      <td>-0.000086</td>\n",
       "      <td>0.000084</td>\n",
       "      <td>-0.000078</td>\n",
       "      <td>0.000072</td>\n",
       "      <td>-0.000070</td>\n",
       "      <td>1.112311e-05</td>\n",
       "      <td>0.000082</td>\n",
       "      <td>-0.000092</td>\n",
       "      <td>0.000101</td>\n",
       "      <td>...</td>\n",
       "      <td>0.000106</td>\n",
       "      <td>-0.000135</td>\n",
       "      <td>0.000160</td>\n",
       "      <td>0.000267</td>\n",
       "      <td>-0.000395</td>\n",
       "      <td>-0.000392</td>\n",
       "      <td>0.000109</td>\n",
       "      <td>0.000382</td>\n",
       "      <td>0.000460</td>\n",
       "      <td>18</td>\n",
       "    </tr>\n",
       "    <tr>\n",
       "      <th>439</th>\n",
       "      <td>15473</td>\n",
       "      <td>-0.000009</td>\n",
       "      <td>-0.000011</td>\n",
       "      <td>0.000106</td>\n",
       "      <td>-0.000051</td>\n",
       "      <td>-0.000128</td>\n",
       "      <td>1.440100e-04</td>\n",
       "      <td>-0.000155</td>\n",
       "      <td>0.000158</td>\n",
       "      <td>-0.000013</td>\n",
       "      <td>...</td>\n",
       "      <td>0.000145</td>\n",
       "      <td>0.000049</td>\n",
       "      <td>-0.000012</td>\n",
       "      <td>-0.000128</td>\n",
       "      <td>-0.000106</td>\n",
       "      <td>0.000115</td>\n",
       "      <td>-0.000086</td>\n",
       "      <td>-0.000110</td>\n",
       "      <td>0.000022</td>\n",
       "      <td>18</td>\n",
       "    </tr>\n",
       "    <tr>\n",
       "      <th>440</th>\n",
       "      <td>15474</td>\n",
       "      <td>0.000022</td>\n",
       "      <td>0.000044</td>\n",
       "      <td>0.000046</td>\n",
       "      <td>-0.000050</td>\n",
       "      <td>0.000058</td>\n",
       "      <td>5.144449e-07</td>\n",
       "      <td>-0.000084</td>\n",
       "      <td>0.000099</td>\n",
       "      <td>0.000116</td>\n",
       "      <td>...</td>\n",
       "      <td>-0.000113</td>\n",
       "      <td>-0.000008</td>\n",
       "      <td>0.000099</td>\n",
       "      <td>-0.000092</td>\n",
       "      <td>-0.000014</td>\n",
       "      <td>0.000081</td>\n",
       "      <td>0.000039</td>\n",
       "      <td>-0.000078</td>\n",
       "      <td>0.000067</td>\n",
       "      <td>18</td>\n",
       "    </tr>\n",
       "    <tr>\n",
       "      <th>441</th>\n",
       "      <td>15478</td>\n",
       "      <td>0.000241</td>\n",
       "      <td>0.000221</td>\n",
       "      <td>-0.000321</td>\n",
       "      <td>-0.000327</td>\n",
       "      <td>0.000338</td>\n",
       "      <td>2.717160e-04</td>\n",
       "      <td>-0.000372</td>\n",
       "      <td>-0.000105</td>\n",
       "      <td>0.000381</td>\n",
       "      <td>...</td>\n",
       "      <td>-0.000153</td>\n",
       "      <td>0.000396</td>\n",
       "      <td>-0.000120</td>\n",
       "      <td>-0.000396</td>\n",
       "      <td>0.000383</td>\n",
       "      <td>-0.000372</td>\n",
       "      <td>-0.000200</td>\n",
       "      <td>0.000362</td>\n",
       "      <td>-0.000099</td>\n",
       "      <td>18</td>\n",
       "    </tr>\n",
       "  </tbody>\n",
       "</table>\n",
       "<p>442 rows × 5002 columns</p>\n",
       "</div>"
      ],
      "text/plain": [
       "     index      col0      col1      col2      col3      col4          col5  \\\n",
       "0    14760 -0.000247  0.000247  0.000209 -0.000227  0.000203 -1.755846e-04   \n",
       "1    14763  0.000169 -0.000166  0.000041  0.000155 -0.000152 -8.957882e-05   \n",
       "2    14764  0.001006  0.001527 -0.000191 -0.001460 -0.001008  1.270988e-03   \n",
       "3    14765  0.006906  0.006733 -0.007409 -0.006779  0.003248  1.103336e-02   \n",
       "4    14766  0.000602 -0.000598  0.000585 -0.000223 -0.000529  4.804689e-04   \n",
       "..     ...       ...       ...       ...       ...       ...           ...   \n",
       "437  15468 -0.000026 -0.000086 -0.000026  0.000089 -0.000092 -6.644881e-05   \n",
       "438  15469 -0.000086  0.000084 -0.000078  0.000072 -0.000070  1.112311e-05   \n",
       "439  15473 -0.000009 -0.000011  0.000106 -0.000051 -0.000128  1.440100e-04   \n",
       "440  15474  0.000022  0.000044  0.000046 -0.000050  0.000058  5.144449e-07   \n",
       "441  15478  0.000241  0.000221 -0.000321 -0.000327  0.000338  2.717160e-04   \n",
       "\n",
       "         col6      col7      col8  ...   col4991   col4992   col4993  \\\n",
       "0    0.000058  0.000163 -0.000201  ... -0.000245  0.000315 -0.000397   \n",
       "1    0.000167 -0.000185  0.000187  ...  0.001820  0.000656 -0.001429   \n",
       "2    0.000922 -0.000409 -0.000907  ...  0.006729 -0.004604  0.001413   \n",
       "3   -0.006924 -0.012224  0.000552  ... -0.000757 -0.001573  0.000747   \n",
       "4   -0.000200 -0.000328  0.000228  ... -0.000544  0.000244  0.000375   \n",
       "..        ...       ...       ...  ...       ...       ...       ...   \n",
       "437  0.000087 -0.000074 -0.000030  ... -0.000046  0.000109 -0.000002   \n",
       "438  0.000082 -0.000092  0.000101  ...  0.000106 -0.000135  0.000160   \n",
       "439 -0.000155  0.000158 -0.000013  ...  0.000145  0.000049 -0.000012   \n",
       "440 -0.000084  0.000099  0.000116  ... -0.000113 -0.000008  0.000099   \n",
       "441 -0.000372 -0.000105  0.000381  ... -0.000153  0.000396 -0.000120   \n",
       "\n",
       "      col4994   col4995   col4996   col4997   col4998   col4999  col5000  \n",
       "0   -0.000376  0.000527 -0.000357 -0.000584  0.000408  0.000527       18  \n",
       "1   -0.001421  0.001329  0.001193  0.000109 -0.000665 -0.000685       18  \n",
       "2    0.005758 -0.007884  0.006899  0.011718 -0.008997 -0.013036       18  \n",
       "3    0.001688  0.001504  0.000376 -0.000911 -0.001744 -0.000642       18  \n",
       "4   -0.000292 -0.000267  0.000182 -0.000158 -0.000143  0.000125       18  \n",
       "..        ...       ...       ...       ...       ...       ...      ...  \n",
       "437 -0.000040 -0.000127  0.000130 -0.000132 -0.000002  0.000062       18  \n",
       "438  0.000267 -0.000395 -0.000392  0.000109  0.000382  0.000460       18  \n",
       "439 -0.000128 -0.000106  0.000115 -0.000086 -0.000110  0.000022       18  \n",
       "440 -0.000092 -0.000014  0.000081  0.000039 -0.000078  0.000067       18  \n",
       "441 -0.000396  0.000383 -0.000372 -0.000200  0.000362 -0.000099       18  \n",
       "\n",
       "[442 rows x 5002 columns]"
      ]
     },
     "execution_count": 70,
     "metadata": {},
     "output_type": "execute_result"
    }
   ],
   "source": [
    "new_IMF_hc_f_split_train[0][17] # I merge all of these and then extract 80% of 442 --> 354"
   ]
  },
  {
   "cell_type": "code",
   "execution_count": 71,
   "id": "e9b9869c",
   "metadata": {},
   "outputs": [
    {
     "data": {
      "text/html": [
       "<div>\n",
       "<style scoped>\n",
       "    .dataframe tbody tr th:only-of-type {\n",
       "        vertical-align: middle;\n",
       "    }\n",
       "\n",
       "    .dataframe tbody tr th {\n",
       "        vertical-align: top;\n",
       "    }\n",
       "\n",
       "    .dataframe thead th {\n",
       "        text-align: right;\n",
       "    }\n",
       "</style>\n",
       "<table border=\"1\" class=\"dataframe\">\n",
       "  <thead>\n",
       "    <tr style=\"text-align: right;\">\n",
       "      <th></th>\n",
       "      <th>index</th>\n",
       "      <th>col0</th>\n",
       "      <th>col1</th>\n",
       "      <th>col2</th>\n",
       "      <th>col3</th>\n",
       "      <th>col4</th>\n",
       "      <th>col5</th>\n",
       "      <th>col6</th>\n",
       "      <th>col7</th>\n",
       "      <th>col8</th>\n",
       "      <th>...</th>\n",
       "      <th>col4991</th>\n",
       "      <th>col4992</th>\n",
       "      <th>col4993</th>\n",
       "      <th>col4994</th>\n",
       "      <th>col4995</th>\n",
       "      <th>col4996</th>\n",
       "      <th>col4997</th>\n",
       "      <th>col4998</th>\n",
       "      <th>col4999</th>\n",
       "      <th>col5000</th>\n",
       "    </tr>\n",
       "  </thead>\n",
       "  <tbody>\n",
       "    <tr>\n",
       "      <th>0</th>\n",
       "      <td>7705</td>\n",
       "      <td>0.001639</td>\n",
       "      <td>0.001640</td>\n",
       "      <td>0.001642</td>\n",
       "      <td>0.001643</td>\n",
       "      <td>0.001644</td>\n",
       "      <td>0.001646</td>\n",
       "      <td>0.001647</td>\n",
       "      <td>0.001649</td>\n",
       "      <td>0.001650</td>\n",
       "      <td>...</td>\n",
       "      <td>-0.003662</td>\n",
       "      <td>-0.003662</td>\n",
       "      <td>-0.003662</td>\n",
       "      <td>-0.003662</td>\n",
       "      <td>-0.003661</td>\n",
       "      <td>-0.003661</td>\n",
       "      <td>-0.003661</td>\n",
       "      <td>-0.003661</td>\n",
       "      <td>-0.003661</td>\n",
       "      <td>10</td>\n",
       "    </tr>\n",
       "    <tr>\n",
       "      <th>1</th>\n",
       "      <td>7706</td>\n",
       "      <td>-0.003592</td>\n",
       "      <td>-0.003589</td>\n",
       "      <td>-0.003586</td>\n",
       "      <td>-0.003584</td>\n",
       "      <td>-0.003581</td>\n",
       "      <td>-0.003579</td>\n",
       "      <td>-0.003576</td>\n",
       "      <td>-0.003573</td>\n",
       "      <td>-0.003571</td>\n",
       "      <td>...</td>\n",
       "      <td>0.002928</td>\n",
       "      <td>0.002929</td>\n",
       "      <td>0.002930</td>\n",
       "      <td>0.002930</td>\n",
       "      <td>0.002931</td>\n",
       "      <td>0.002931</td>\n",
       "      <td>0.002932</td>\n",
       "      <td>0.002933</td>\n",
       "      <td>0.002933</td>\n",
       "      <td>10</td>\n",
       "    </tr>\n",
       "    <tr>\n",
       "      <th>2</th>\n",
       "      <td>7708</td>\n",
       "      <td>-0.001012</td>\n",
       "      <td>-0.001010</td>\n",
       "      <td>-0.001009</td>\n",
       "      <td>-0.001007</td>\n",
       "      <td>-0.001005</td>\n",
       "      <td>-0.001003</td>\n",
       "      <td>-0.001002</td>\n",
       "      <td>-0.001000</td>\n",
       "      <td>-0.000998</td>\n",
       "      <td>...</td>\n",
       "      <td>0.001013</td>\n",
       "      <td>0.001014</td>\n",
       "      <td>0.001015</td>\n",
       "      <td>0.001016</td>\n",
       "      <td>0.001016</td>\n",
       "      <td>0.001017</td>\n",
       "      <td>0.001018</td>\n",
       "      <td>0.001019</td>\n",
       "      <td>0.001020</td>\n",
       "      <td>10</td>\n",
       "    </tr>\n",
       "    <tr>\n",
       "      <th>3</th>\n",
       "      <td>7710</td>\n",
       "      <td>-0.001404</td>\n",
       "      <td>-0.001403</td>\n",
       "      <td>-0.001402</td>\n",
       "      <td>-0.001402</td>\n",
       "      <td>-0.001401</td>\n",
       "      <td>-0.001400</td>\n",
       "      <td>-0.001400</td>\n",
       "      <td>-0.001399</td>\n",
       "      <td>-0.001398</td>\n",
       "      <td>...</td>\n",
       "      <td>-0.000395</td>\n",
       "      <td>-0.000396</td>\n",
       "      <td>-0.000397</td>\n",
       "      <td>-0.000397</td>\n",
       "      <td>-0.000398</td>\n",
       "      <td>-0.000398</td>\n",
       "      <td>-0.000399</td>\n",
       "      <td>-0.000399</td>\n",
       "      <td>-0.000400</td>\n",
       "      <td>10</td>\n",
       "    </tr>\n",
       "    <tr>\n",
       "      <th>4</th>\n",
       "      <td>7712</td>\n",
       "      <td>-0.000254</td>\n",
       "      <td>-0.000253</td>\n",
       "      <td>-0.000251</td>\n",
       "      <td>-0.000249</td>\n",
       "      <td>-0.000248</td>\n",
       "      <td>-0.000246</td>\n",
       "      <td>-0.000245</td>\n",
       "      <td>-0.000243</td>\n",
       "      <td>-0.000241</td>\n",
       "      <td>...</td>\n",
       "      <td>0.000458</td>\n",
       "      <td>0.000459</td>\n",
       "      <td>0.000459</td>\n",
       "      <td>0.000460</td>\n",
       "      <td>0.000461</td>\n",
       "      <td>0.000462</td>\n",
       "      <td>0.000463</td>\n",
       "      <td>0.000464</td>\n",
       "      <td>0.000465</td>\n",
       "      <td>10</td>\n",
       "    </tr>\n",
       "    <tr>\n",
       "      <th>...</th>\n",
       "      <td>...</td>\n",
       "      <td>...</td>\n",
       "      <td>...</td>\n",
       "      <td>...</td>\n",
       "      <td>...</td>\n",
       "      <td>...</td>\n",
       "      <td>...</td>\n",
       "      <td>...</td>\n",
       "      <td>...</td>\n",
       "      <td>...</td>\n",
       "      <td>...</td>\n",
       "      <td>...</td>\n",
       "      <td>...</td>\n",
       "      <td>...</td>\n",
       "      <td>...</td>\n",
       "      <td>...</td>\n",
       "      <td>...</td>\n",
       "      <td>...</td>\n",
       "      <td>...</td>\n",
       "      <td>...</td>\n",
       "      <td>...</td>\n",
       "    </tr>\n",
       "    <tr>\n",
       "      <th>437</th>\n",
       "      <td>8334</td>\n",
       "      <td>-0.000282</td>\n",
       "      <td>-0.000282</td>\n",
       "      <td>-0.000282</td>\n",
       "      <td>-0.000282</td>\n",
       "      <td>-0.000282</td>\n",
       "      <td>-0.000282</td>\n",
       "      <td>-0.000282</td>\n",
       "      <td>-0.000282</td>\n",
       "      <td>-0.000282</td>\n",
       "      <td>...</td>\n",
       "      <td>-0.000163</td>\n",
       "      <td>-0.000163</td>\n",
       "      <td>-0.000163</td>\n",
       "      <td>-0.000164</td>\n",
       "      <td>-0.000164</td>\n",
       "      <td>-0.000164</td>\n",
       "      <td>-0.000164</td>\n",
       "      <td>-0.000165</td>\n",
       "      <td>-0.000165</td>\n",
       "      <td>10</td>\n",
       "    </tr>\n",
       "    <tr>\n",
       "      <th>438</th>\n",
       "      <td>8335</td>\n",
       "      <td>-0.000098</td>\n",
       "      <td>-0.000098</td>\n",
       "      <td>-0.000098</td>\n",
       "      <td>-0.000098</td>\n",
       "      <td>-0.000098</td>\n",
       "      <td>-0.000098</td>\n",
       "      <td>-0.000098</td>\n",
       "      <td>-0.000097</td>\n",
       "      <td>-0.000097</td>\n",
       "      <td>...</td>\n",
       "      <td>-0.000253</td>\n",
       "      <td>-0.000254</td>\n",
       "      <td>-0.000254</td>\n",
       "      <td>-0.000254</td>\n",
       "      <td>-0.000254</td>\n",
       "      <td>-0.000254</td>\n",
       "      <td>-0.000255</td>\n",
       "      <td>-0.000255</td>\n",
       "      <td>-0.000255</td>\n",
       "      <td>10</td>\n",
       "    </tr>\n",
       "    <tr>\n",
       "      <th>439</th>\n",
       "      <td>8336</td>\n",
       "      <td>-0.000345</td>\n",
       "      <td>-0.000345</td>\n",
       "      <td>-0.000345</td>\n",
       "      <td>-0.000345</td>\n",
       "      <td>-0.000345</td>\n",
       "      <td>-0.000345</td>\n",
       "      <td>-0.000345</td>\n",
       "      <td>-0.000345</td>\n",
       "      <td>-0.000345</td>\n",
       "      <td>...</td>\n",
       "      <td>-0.000230</td>\n",
       "      <td>-0.000230</td>\n",
       "      <td>-0.000230</td>\n",
       "      <td>-0.000230</td>\n",
       "      <td>-0.000230</td>\n",
       "      <td>-0.000230</td>\n",
       "      <td>-0.000230</td>\n",
       "      <td>-0.000230</td>\n",
       "      <td>-0.000230</td>\n",
       "      <td>10</td>\n",
       "    </tr>\n",
       "    <tr>\n",
       "      <th>440</th>\n",
       "      <td>8338</td>\n",
       "      <td>-0.000742</td>\n",
       "      <td>-0.000741</td>\n",
       "      <td>-0.000740</td>\n",
       "      <td>-0.000739</td>\n",
       "      <td>-0.000739</td>\n",
       "      <td>-0.000738</td>\n",
       "      <td>-0.000737</td>\n",
       "      <td>-0.000736</td>\n",
       "      <td>-0.000736</td>\n",
       "      <td>...</td>\n",
       "      <td>0.000351</td>\n",
       "      <td>0.000352</td>\n",
       "      <td>0.000352</td>\n",
       "      <td>0.000353</td>\n",
       "      <td>0.000354</td>\n",
       "      <td>0.000354</td>\n",
       "      <td>0.000355</td>\n",
       "      <td>0.000355</td>\n",
       "      <td>0.000356</td>\n",
       "      <td>10</td>\n",
       "    </tr>\n",
       "    <tr>\n",
       "      <th>441</th>\n",
       "      <td>8340</td>\n",
       "      <td>0.000545</td>\n",
       "      <td>0.000545</td>\n",
       "      <td>0.000545</td>\n",
       "      <td>0.000545</td>\n",
       "      <td>0.000545</td>\n",
       "      <td>0.000545</td>\n",
       "      <td>0.000545</td>\n",
       "      <td>0.000545</td>\n",
       "      <td>0.000545</td>\n",
       "      <td>...</td>\n",
       "      <td>0.000145</td>\n",
       "      <td>0.000145</td>\n",
       "      <td>0.000145</td>\n",
       "      <td>0.000145</td>\n",
       "      <td>0.000145</td>\n",
       "      <td>0.000145</td>\n",
       "      <td>0.000145</td>\n",
       "      <td>0.000145</td>\n",
       "      <td>0.000145</td>\n",
       "      <td>10</td>\n",
       "    </tr>\n",
       "  </tbody>\n",
       "</table>\n",
       "<p>442 rows × 5002 columns</p>\n",
       "</div>"
      ],
      "text/plain": [
       "     index      col0      col1      col2      col3      col4      col5  \\\n",
       "0     7705  0.001639  0.001640  0.001642  0.001643  0.001644  0.001646   \n",
       "1     7706 -0.003592 -0.003589 -0.003586 -0.003584 -0.003581 -0.003579   \n",
       "2     7708 -0.001012 -0.001010 -0.001009 -0.001007 -0.001005 -0.001003   \n",
       "3     7710 -0.001404 -0.001403 -0.001402 -0.001402 -0.001401 -0.001400   \n",
       "4     7712 -0.000254 -0.000253 -0.000251 -0.000249 -0.000248 -0.000246   \n",
       "..     ...       ...       ...       ...       ...       ...       ...   \n",
       "437   8334 -0.000282 -0.000282 -0.000282 -0.000282 -0.000282 -0.000282   \n",
       "438   8335 -0.000098 -0.000098 -0.000098 -0.000098 -0.000098 -0.000098   \n",
       "439   8336 -0.000345 -0.000345 -0.000345 -0.000345 -0.000345 -0.000345   \n",
       "440   8338 -0.000742 -0.000741 -0.000740 -0.000739 -0.000739 -0.000738   \n",
       "441   8340  0.000545  0.000545  0.000545  0.000545  0.000545  0.000545   \n",
       "\n",
       "         col6      col7      col8  ...   col4991   col4992   col4993  \\\n",
       "0    0.001647  0.001649  0.001650  ... -0.003662 -0.003662 -0.003662   \n",
       "1   -0.003576 -0.003573 -0.003571  ...  0.002928  0.002929  0.002930   \n",
       "2   -0.001002 -0.001000 -0.000998  ...  0.001013  0.001014  0.001015   \n",
       "3   -0.001400 -0.001399 -0.001398  ... -0.000395 -0.000396 -0.000397   \n",
       "4   -0.000245 -0.000243 -0.000241  ...  0.000458  0.000459  0.000459   \n",
       "..        ...       ...       ...  ...       ...       ...       ...   \n",
       "437 -0.000282 -0.000282 -0.000282  ... -0.000163 -0.000163 -0.000163   \n",
       "438 -0.000098 -0.000097 -0.000097  ... -0.000253 -0.000254 -0.000254   \n",
       "439 -0.000345 -0.000345 -0.000345  ... -0.000230 -0.000230 -0.000230   \n",
       "440 -0.000737 -0.000736 -0.000736  ...  0.000351  0.000352  0.000352   \n",
       "441  0.000545  0.000545  0.000545  ...  0.000145  0.000145  0.000145   \n",
       "\n",
       "      col4994   col4995   col4996   col4997   col4998   col4999  col5000  \n",
       "0   -0.003662 -0.003661 -0.003661 -0.003661 -0.003661 -0.003661       10  \n",
       "1    0.002930  0.002931  0.002931  0.002932  0.002933  0.002933       10  \n",
       "2    0.001016  0.001016  0.001017  0.001018  0.001019  0.001020       10  \n",
       "3   -0.000397 -0.000398 -0.000398 -0.000399 -0.000399 -0.000400       10  \n",
       "4    0.000460  0.000461  0.000462  0.000463  0.000464  0.000465       10  \n",
       "..        ...       ...       ...       ...       ...       ...      ...  \n",
       "437 -0.000164 -0.000164 -0.000164 -0.000164 -0.000165 -0.000165       10  \n",
       "438 -0.000254 -0.000254 -0.000254 -0.000255 -0.000255 -0.000255       10  \n",
       "439 -0.000230 -0.000230 -0.000230 -0.000230 -0.000230 -0.000230       10  \n",
       "440  0.000353  0.000354  0.000354  0.000355  0.000355  0.000356       10  \n",
       "441  0.000145  0.000145  0.000145  0.000145  0.000145  0.000145       10  \n",
       "\n",
       "[442 rows x 5002 columns]"
      ]
     },
     "execution_count": 71,
     "metadata": {},
     "output_type": "execute_result"
    }
   ],
   "source": [
    "new_IMF_hc_f_split_test[i][0] # from this one I extract 20% of 442 --> 89"
   ]
  },
  {
   "cell_type": "code",
   "execution_count": 533,
   "id": "b4b0e3d9",
   "metadata": {
    "collapsed": true
   },
   "outputs": [
    {
     "ename": "MemoryError",
     "evalue": "Unable to allocate 303. MiB for an array with shape (5000, 7956) and data type float64",
     "output_type": "error",
     "traceback": [
      "\u001b[1;31m---------------------------------------------------------------------------\u001b[0m",
      "\u001b[1;31mMemoryError\u001b[0m                               Traceback (most recent call last)",
      "\u001b[1;32m~\\AppData\\Local\\Temp/ipykernel_15540/886414764.py\u001b[0m in \u001b[0;36m<module>\u001b[1;34m\u001b[0m\n\u001b[1;32m----> 1\u001b[1;33m \u001b[0mIMF_train_f_hc_concat\u001b[0m \u001b[1;33m=\u001b[0m \u001b[1;33m[\u001b[0m\u001b[0mpd\u001b[0m\u001b[1;33m.\u001b[0m\u001b[0mconcat\u001b[0m\u001b[1;33m(\u001b[0m\u001b[0mnew_IMF_hc_f_split_train\u001b[0m\u001b[1;33m[\u001b[0m\u001b[0mi\u001b[0m\u001b[1;33m]\u001b[0m\u001b[1;33m,\u001b[0m \u001b[0maxis\u001b[0m \u001b[1;33m=\u001b[0m \u001b[1;36m0\u001b[0m\u001b[1;33m)\u001b[0m \u001b[1;32mfor\u001b[0m \u001b[0mi\u001b[0m \u001b[1;32min\u001b[0m \u001b[0mrange\u001b[0m\u001b[1;33m(\u001b[0m\u001b[1;36m0\u001b[0m\u001b[1;33m,\u001b[0m\u001b[0mn_IMF\u001b[0m\u001b[1;33m)\u001b[0m\u001b[1;33m]\u001b[0m\u001b[1;33m\u001b[0m\u001b[1;33m\u001b[0m\u001b[0m\n\u001b[0m\u001b[0;32m      2\u001b[0m \u001b[0mIMF_train_f_hc_concat\u001b[0m \u001b[1;33m=\u001b[0m \u001b[1;33m[\u001b[0m\u001b[0mIMF_train_f_hc_concat\u001b[0m\u001b[1;33m[\u001b[0m\u001b[0mi\u001b[0m\u001b[1;33m]\u001b[0m\u001b[1;33m.\u001b[0m\u001b[0mreset_index\u001b[0m\u001b[1;33m(\u001b[0m\u001b[1;33m)\u001b[0m \u001b[1;32mfor\u001b[0m \u001b[0mi\u001b[0m \u001b[1;32min\u001b[0m \u001b[0mrange\u001b[0m\u001b[1;33m(\u001b[0m\u001b[1;36m0\u001b[0m\u001b[1;33m,\u001b[0m\u001b[0mn_IMF\u001b[0m\u001b[1;33m)\u001b[0m\u001b[1;33m]\u001b[0m\u001b[1;33m\u001b[0m\u001b[1;33m\u001b[0m\u001b[0m\n",
      "\u001b[1;32m~\\AppData\\Local\\Temp/ipykernel_15540/886414764.py\u001b[0m in \u001b[0;36m<listcomp>\u001b[1;34m(.0)\u001b[0m\n\u001b[1;32m----> 1\u001b[1;33m \u001b[0mIMF_train_f_hc_concat\u001b[0m \u001b[1;33m=\u001b[0m \u001b[1;33m[\u001b[0m\u001b[0mpd\u001b[0m\u001b[1;33m.\u001b[0m\u001b[0mconcat\u001b[0m\u001b[1;33m(\u001b[0m\u001b[0mnew_IMF_hc_f_split_train\u001b[0m\u001b[1;33m[\u001b[0m\u001b[0mi\u001b[0m\u001b[1;33m]\u001b[0m\u001b[1;33m,\u001b[0m \u001b[0maxis\u001b[0m \u001b[1;33m=\u001b[0m \u001b[1;36m0\u001b[0m\u001b[1;33m)\u001b[0m \u001b[1;32mfor\u001b[0m \u001b[0mi\u001b[0m \u001b[1;32min\u001b[0m \u001b[0mrange\u001b[0m\u001b[1;33m(\u001b[0m\u001b[1;36m0\u001b[0m\u001b[1;33m,\u001b[0m\u001b[0mn_IMF\u001b[0m\u001b[1;33m)\u001b[0m\u001b[1;33m]\u001b[0m\u001b[1;33m\u001b[0m\u001b[1;33m\u001b[0m\u001b[0m\n\u001b[0m\u001b[0;32m      2\u001b[0m \u001b[0mIMF_train_f_hc_concat\u001b[0m \u001b[1;33m=\u001b[0m \u001b[1;33m[\u001b[0m\u001b[0mIMF_train_f_hc_concat\u001b[0m\u001b[1;33m[\u001b[0m\u001b[0mi\u001b[0m\u001b[1;33m]\u001b[0m\u001b[1;33m.\u001b[0m\u001b[0mreset_index\u001b[0m\u001b[1;33m(\u001b[0m\u001b[1;33m)\u001b[0m \u001b[1;32mfor\u001b[0m \u001b[0mi\u001b[0m \u001b[1;32min\u001b[0m \u001b[0mrange\u001b[0m\u001b[1;33m(\u001b[0m\u001b[1;36m0\u001b[0m\u001b[1;33m,\u001b[0m\u001b[0mn_IMF\u001b[0m\u001b[1;33m)\u001b[0m\u001b[1;33m]\u001b[0m\u001b[1;33m\u001b[0m\u001b[1;33m\u001b[0m\u001b[0m\n",
      "\u001b[1;32m~\\anaconda3\\lib\\site-packages\\pandas\\util\\_decorators.py\u001b[0m in \u001b[0;36mwrapper\u001b[1;34m(*args, **kwargs)\u001b[0m\n\u001b[0;32m    309\u001b[0m                     \u001b[0mstacklevel\u001b[0m\u001b[1;33m=\u001b[0m\u001b[0mstacklevel\u001b[0m\u001b[1;33m,\u001b[0m\u001b[1;33m\u001b[0m\u001b[1;33m\u001b[0m\u001b[0m\n\u001b[0;32m    310\u001b[0m                 )\n\u001b[1;32m--> 311\u001b[1;33m             \u001b[1;32mreturn\u001b[0m \u001b[0mfunc\u001b[0m\u001b[1;33m(\u001b[0m\u001b[1;33m*\u001b[0m\u001b[0margs\u001b[0m\u001b[1;33m,\u001b[0m \u001b[1;33m**\u001b[0m\u001b[0mkwargs\u001b[0m\u001b[1;33m)\u001b[0m\u001b[1;33m\u001b[0m\u001b[1;33m\u001b[0m\u001b[0m\n\u001b[0m\u001b[0;32m    312\u001b[0m \u001b[1;33m\u001b[0m\u001b[0m\n\u001b[0;32m    313\u001b[0m         \u001b[1;32mreturn\u001b[0m \u001b[0mwrapper\u001b[0m\u001b[1;33m\u001b[0m\u001b[1;33m\u001b[0m\u001b[0m\n",
      "\u001b[1;32m~\\anaconda3\\lib\\site-packages\\pandas\\core\\reshape\\concat.py\u001b[0m in \u001b[0;36mconcat\u001b[1;34m(objs, axis, join, ignore_index, keys, levels, names, verify_integrity, sort, copy)\u001b[0m\n\u001b[0;32m    305\u001b[0m     )\n\u001b[0;32m    306\u001b[0m \u001b[1;33m\u001b[0m\u001b[0m\n\u001b[1;32m--> 307\u001b[1;33m     \u001b[1;32mreturn\u001b[0m \u001b[0mop\u001b[0m\u001b[1;33m.\u001b[0m\u001b[0mget_result\u001b[0m\u001b[1;33m(\u001b[0m\u001b[1;33m)\u001b[0m\u001b[1;33m\u001b[0m\u001b[1;33m\u001b[0m\u001b[0m\n\u001b[0m\u001b[0;32m    308\u001b[0m \u001b[1;33m\u001b[0m\u001b[0m\n\u001b[0;32m    309\u001b[0m \u001b[1;33m\u001b[0m\u001b[0m\n",
      "\u001b[1;32m~\\anaconda3\\lib\\site-packages\\pandas\\core\\reshape\\concat.py\u001b[0m in \u001b[0;36mget_result\u001b[1;34m(self)\u001b[0m\n\u001b[0;32m    530\u001b[0m                 \u001b[0mmgrs_indexers\u001b[0m\u001b[1;33m.\u001b[0m\u001b[0mappend\u001b[0m\u001b[1;33m(\u001b[0m\u001b[1;33m(\u001b[0m\u001b[0mobj\u001b[0m\u001b[1;33m.\u001b[0m\u001b[0m_mgr\u001b[0m\u001b[1;33m,\u001b[0m \u001b[0mindexers\u001b[0m\u001b[1;33m)\u001b[0m\u001b[1;33m)\u001b[0m\u001b[1;33m\u001b[0m\u001b[1;33m\u001b[0m\u001b[0m\n\u001b[0;32m    531\u001b[0m \u001b[1;33m\u001b[0m\u001b[0m\n\u001b[1;32m--> 532\u001b[1;33m             new_data = concatenate_managers(\n\u001b[0m\u001b[0;32m    533\u001b[0m                 \u001b[0mmgrs_indexers\u001b[0m\u001b[1;33m,\u001b[0m \u001b[0mself\u001b[0m\u001b[1;33m.\u001b[0m\u001b[0mnew_axes\u001b[0m\u001b[1;33m,\u001b[0m \u001b[0mconcat_axis\u001b[0m\u001b[1;33m=\u001b[0m\u001b[0mself\u001b[0m\u001b[1;33m.\u001b[0m\u001b[0mbm_axis\u001b[0m\u001b[1;33m,\u001b[0m \u001b[0mcopy\u001b[0m\u001b[1;33m=\u001b[0m\u001b[0mself\u001b[0m\u001b[1;33m.\u001b[0m\u001b[0mcopy\u001b[0m\u001b[1;33m\u001b[0m\u001b[1;33m\u001b[0m\u001b[0m\n\u001b[0;32m    534\u001b[0m             )\n",
      "\u001b[1;32m~\\anaconda3\\lib\\site-packages\\pandas\\core\\internals\\concat.py\u001b[0m in \u001b[0;36mconcatenate_managers\u001b[1;34m(mgrs_indexers, axes, concat_axis, copy)\u001b[0m\n\u001b[0;32m    214\u001b[0m                 \u001b[1;31m#  we can use np.concatenate, which is more performant\u001b[0m\u001b[1;33m\u001b[0m\u001b[1;33m\u001b[0m\u001b[1;33m\u001b[0m\u001b[0m\n\u001b[0;32m    215\u001b[0m                 \u001b[1;31m#  than concat_compat\u001b[0m\u001b[1;33m\u001b[0m\u001b[1;33m\u001b[0m\u001b[1;33m\u001b[0m\u001b[0m\n\u001b[1;32m--> 216\u001b[1;33m                 \u001b[0mvalues\u001b[0m \u001b[1;33m=\u001b[0m \u001b[0mnp\u001b[0m\u001b[1;33m.\u001b[0m\u001b[0mconcatenate\u001b[0m\u001b[1;33m(\u001b[0m\u001b[0mvals\u001b[0m\u001b[1;33m,\u001b[0m \u001b[0maxis\u001b[0m\u001b[1;33m=\u001b[0m\u001b[0mblk\u001b[0m\u001b[1;33m.\u001b[0m\u001b[0mndim\u001b[0m \u001b[1;33m-\u001b[0m \u001b[1;36m1\u001b[0m\u001b[1;33m)\u001b[0m\u001b[1;33m\u001b[0m\u001b[1;33m\u001b[0m\u001b[0m\n\u001b[0m\u001b[0;32m    217\u001b[0m             \u001b[1;32melse\u001b[0m\u001b[1;33m:\u001b[0m\u001b[1;33m\u001b[0m\u001b[1;33m\u001b[0m\u001b[0m\n\u001b[0;32m    218\u001b[0m                 \u001b[1;31m# TODO(EA2D): special-casing not needed with 2D EAs\u001b[0m\u001b[1;33m\u001b[0m\u001b[1;33m\u001b[0m\u001b[1;33m\u001b[0m\u001b[0m\n",
      "\u001b[1;32m<__array_function__ internals>\u001b[0m in \u001b[0;36mconcatenate\u001b[1;34m(*args, **kwargs)\u001b[0m\n",
      "\u001b[1;31mMemoryError\u001b[0m: Unable to allocate 303. MiB for an array with shape (5000, 7956) and data type float64"
     ]
    }
   ],
   "source": [
    "IMF_train_f_hc_concat = [pd.concat(new_IMF_hc_f_split_train[i], axis = 0) for i in range(0,n_IMF)]\n",
    "IMF_train_f_hc_concat = [IMF_train_f_hc_concat[i].reset_index() for i in range(0,n_IMF)]"
   ]
  },
  {
   "cell_type": "code",
   "execution_count": 135,
   "id": "a95b7a26",
   "metadata": {},
   "outputs": [
    {
     "data": {
      "text/html": [
       "<div>\n",
       "<style scoped>\n",
       "    .dataframe tbody tr th:only-of-type {\n",
       "        vertical-align: middle;\n",
       "    }\n",
       "\n",
       "    .dataframe tbody tr th {\n",
       "        vertical-align: top;\n",
       "    }\n",
       "\n",
       "    .dataframe thead th {\n",
       "        text-align: right;\n",
       "    }\n",
       "</style>\n",
       "<table border=\"1\" class=\"dataframe\">\n",
       "  <thead>\n",
       "    <tr style=\"text-align: right;\">\n",
       "      <th></th>\n",
       "      <th>level_0</th>\n",
       "      <th>index</th>\n",
       "      <th>col0</th>\n",
       "      <th>col1</th>\n",
       "      <th>col2</th>\n",
       "      <th>col3</th>\n",
       "      <th>col4</th>\n",
       "      <th>col5</th>\n",
       "      <th>col6</th>\n",
       "      <th>col7</th>\n",
       "      <th>...</th>\n",
       "      <th>col4991</th>\n",
       "      <th>col4992</th>\n",
       "      <th>col4993</th>\n",
       "      <th>col4994</th>\n",
       "      <th>col4995</th>\n",
       "      <th>col4996</th>\n",
       "      <th>col4997</th>\n",
       "      <th>col4998</th>\n",
       "      <th>col4999</th>\n",
       "      <th>col5000</th>\n",
       "    </tr>\n",
       "  </thead>\n",
       "  <tbody>\n",
       "    <tr>\n",
       "      <th>0</th>\n",
       "      <td>0</td>\n",
       "      <td>5</td>\n",
       "      <td>-0.000062</td>\n",
       "      <td>-0.000049</td>\n",
       "      <td>0.000033</td>\n",
       "      <td>0.000056</td>\n",
       "      <td>-0.000052</td>\n",
       "      <td>4.891576e-05</td>\n",
       "      <td>-0.000048</td>\n",
       "      <td>0.000019</td>\n",
       "      <td>...</td>\n",
       "      <td>0.000102</td>\n",
       "      <td>0.000074</td>\n",
       "      <td>-0.000099</td>\n",
       "      <td>0.000097</td>\n",
       "      <td>0.000049</td>\n",
       "      <td>-0.000095</td>\n",
       "      <td>0.000041</td>\n",
       "      <td>0.000095</td>\n",
       "      <td>-0.000077</td>\n",
       "      <td>0</td>\n",
       "    </tr>\n",
       "    <tr>\n",
       "      <th>1</th>\n",
       "      <td>1</td>\n",
       "      <td>8</td>\n",
       "      <td>0.000077</td>\n",
       "      <td>-0.000330</td>\n",
       "      <td>-0.000206</td>\n",
       "      <td>0.000345</td>\n",
       "      <td>-0.000360</td>\n",
       "      <td>3.710202e-04</td>\n",
       "      <td>-0.000365</td>\n",
       "      <td>0.000205</td>\n",
       "      <td>...</td>\n",
       "      <td>-0.000092</td>\n",
       "      <td>-0.000115</td>\n",
       "      <td>-0.000128</td>\n",
       "      <td>-0.000165</td>\n",
       "      <td>0.000140</td>\n",
       "      <td>-0.000110</td>\n",
       "      <td>0.000086</td>\n",
       "      <td>-0.000074</td>\n",
       "      <td>-0.000001</td>\n",
       "      <td>0</td>\n",
       "    </tr>\n",
       "    <tr>\n",
       "      <th>2</th>\n",
       "      <td>2</td>\n",
       "      <td>10</td>\n",
       "      <td>-0.000106</td>\n",
       "      <td>-0.000058</td>\n",
       "      <td>0.000105</td>\n",
       "      <td>-0.000080</td>\n",
       "      <td>-0.000100</td>\n",
       "      <td>2.132747e-05</td>\n",
       "      <td>0.000089</td>\n",
       "      <td>-0.000079</td>\n",
       "      <td>...</td>\n",
       "      <td>-0.001801</td>\n",
       "      <td>-0.001004</td>\n",
       "      <td>0.001671</td>\n",
       "      <td>0.000913</td>\n",
       "      <td>-0.001673</td>\n",
       "      <td>-0.000632</td>\n",
       "      <td>0.001724</td>\n",
       "      <td>0.001275</td>\n",
       "      <td>-0.001751</td>\n",
       "      <td>0</td>\n",
       "    </tr>\n",
       "    <tr>\n",
       "      <th>3</th>\n",
       "      <td>3</td>\n",
       "      <td>11</td>\n",
       "      <td>0.000095</td>\n",
       "      <td>-0.000083</td>\n",
       "      <td>-0.000085</td>\n",
       "      <td>0.000074</td>\n",
       "      <td>-0.000066</td>\n",
       "      <td>6.875441e-05</td>\n",
       "      <td>0.000026</td>\n",
       "      <td>-0.000107</td>\n",
       "      <td>...</td>\n",
       "      <td>0.000021</td>\n",
       "      <td>-0.000055</td>\n",
       "      <td>0.000048</td>\n",
       "      <td>-0.000095</td>\n",
       "      <td>0.000149</td>\n",
       "      <td>-0.000146</td>\n",
       "      <td>0.000100</td>\n",
       "      <td>-0.000075</td>\n",
       "      <td>0.000083</td>\n",
       "      <td>0</td>\n",
       "    </tr>\n",
       "    <tr>\n",
       "      <th>4</th>\n",
       "      <td>4</td>\n",
       "      <td>14</td>\n",
       "      <td>-0.000011</td>\n",
       "      <td>-0.000072</td>\n",
       "      <td>0.000074</td>\n",
       "      <td>-0.000005</td>\n",
       "      <td>-0.000082</td>\n",
       "      <td>8.739305e-05</td>\n",
       "      <td>-0.000096</td>\n",
       "      <td>-0.000097</td>\n",
       "      <td>...</td>\n",
       "      <td>-0.000353</td>\n",
       "      <td>-0.000567</td>\n",
       "      <td>-0.000353</td>\n",
       "      <td>-0.000028</td>\n",
       "      <td>0.000618</td>\n",
       "      <td>0.000069</td>\n",
       "      <td>-0.000664</td>\n",
       "      <td>-0.000696</td>\n",
       "      <td>0.000704</td>\n",
       "      <td>0</td>\n",
       "    </tr>\n",
       "    <tr>\n",
       "      <th>...</th>\n",
       "      <td>...</td>\n",
       "      <td>...</td>\n",
       "      <td>...</td>\n",
       "      <td>...</td>\n",
       "      <td>...</td>\n",
       "      <td>...</td>\n",
       "      <td>...</td>\n",
       "      <td>...</td>\n",
       "      <td>...</td>\n",
       "      <td>...</td>\n",
       "      <td>...</td>\n",
       "      <td>...</td>\n",
       "      <td>...</td>\n",
       "      <td>...</td>\n",
       "      <td>...</td>\n",
       "      <td>...</td>\n",
       "      <td>...</td>\n",
       "      <td>...</td>\n",
       "      <td>...</td>\n",
       "      <td>...</td>\n",
       "      <td>...</td>\n",
       "    </tr>\n",
       "    <tr>\n",
       "      <th>7951</th>\n",
       "      <td>437</td>\n",
       "      <td>15468</td>\n",
       "      <td>-0.000026</td>\n",
       "      <td>-0.000086</td>\n",
       "      <td>-0.000026</td>\n",
       "      <td>0.000089</td>\n",
       "      <td>-0.000092</td>\n",
       "      <td>-6.644881e-05</td>\n",
       "      <td>0.000087</td>\n",
       "      <td>-0.000074</td>\n",
       "      <td>...</td>\n",
       "      <td>-0.000046</td>\n",
       "      <td>0.000109</td>\n",
       "      <td>-0.000002</td>\n",
       "      <td>-0.000040</td>\n",
       "      <td>-0.000127</td>\n",
       "      <td>0.000130</td>\n",
       "      <td>-0.000132</td>\n",
       "      <td>-0.000002</td>\n",
       "      <td>0.000062</td>\n",
       "      <td>18</td>\n",
       "    </tr>\n",
       "    <tr>\n",
       "      <th>7952</th>\n",
       "      <td>438</td>\n",
       "      <td>15469</td>\n",
       "      <td>-0.000086</td>\n",
       "      <td>0.000084</td>\n",
       "      <td>-0.000078</td>\n",
       "      <td>0.000072</td>\n",
       "      <td>-0.000070</td>\n",
       "      <td>1.112311e-05</td>\n",
       "      <td>0.000082</td>\n",
       "      <td>-0.000092</td>\n",
       "      <td>...</td>\n",
       "      <td>0.000106</td>\n",
       "      <td>-0.000135</td>\n",
       "      <td>0.000160</td>\n",
       "      <td>0.000267</td>\n",
       "      <td>-0.000395</td>\n",
       "      <td>-0.000392</td>\n",
       "      <td>0.000109</td>\n",
       "      <td>0.000382</td>\n",
       "      <td>0.000460</td>\n",
       "      <td>18</td>\n",
       "    </tr>\n",
       "    <tr>\n",
       "      <th>7953</th>\n",
       "      <td>439</td>\n",
       "      <td>15473</td>\n",
       "      <td>-0.000009</td>\n",
       "      <td>-0.000011</td>\n",
       "      <td>0.000106</td>\n",
       "      <td>-0.000051</td>\n",
       "      <td>-0.000128</td>\n",
       "      <td>1.440100e-04</td>\n",
       "      <td>-0.000155</td>\n",
       "      <td>0.000158</td>\n",
       "      <td>...</td>\n",
       "      <td>0.000145</td>\n",
       "      <td>0.000049</td>\n",
       "      <td>-0.000012</td>\n",
       "      <td>-0.000128</td>\n",
       "      <td>-0.000106</td>\n",
       "      <td>0.000115</td>\n",
       "      <td>-0.000086</td>\n",
       "      <td>-0.000110</td>\n",
       "      <td>0.000022</td>\n",
       "      <td>18</td>\n",
       "    </tr>\n",
       "    <tr>\n",
       "      <th>7954</th>\n",
       "      <td>440</td>\n",
       "      <td>15474</td>\n",
       "      <td>0.000022</td>\n",
       "      <td>0.000044</td>\n",
       "      <td>0.000046</td>\n",
       "      <td>-0.000050</td>\n",
       "      <td>0.000058</td>\n",
       "      <td>5.144449e-07</td>\n",
       "      <td>-0.000084</td>\n",
       "      <td>0.000099</td>\n",
       "      <td>...</td>\n",
       "      <td>-0.000113</td>\n",
       "      <td>-0.000008</td>\n",
       "      <td>0.000099</td>\n",
       "      <td>-0.000092</td>\n",
       "      <td>-0.000014</td>\n",
       "      <td>0.000081</td>\n",
       "      <td>0.000039</td>\n",
       "      <td>-0.000078</td>\n",
       "      <td>0.000067</td>\n",
       "      <td>18</td>\n",
       "    </tr>\n",
       "    <tr>\n",
       "      <th>7955</th>\n",
       "      <td>441</td>\n",
       "      <td>15478</td>\n",
       "      <td>0.000241</td>\n",
       "      <td>0.000221</td>\n",
       "      <td>-0.000321</td>\n",
       "      <td>-0.000327</td>\n",
       "      <td>0.000338</td>\n",
       "      <td>2.717160e-04</td>\n",
       "      <td>-0.000372</td>\n",
       "      <td>-0.000105</td>\n",
       "      <td>...</td>\n",
       "      <td>-0.000153</td>\n",
       "      <td>0.000396</td>\n",
       "      <td>-0.000120</td>\n",
       "      <td>-0.000396</td>\n",
       "      <td>0.000383</td>\n",
       "      <td>-0.000372</td>\n",
       "      <td>-0.000200</td>\n",
       "      <td>0.000362</td>\n",
       "      <td>-0.000099</td>\n",
       "      <td>18</td>\n",
       "    </tr>\n",
       "  </tbody>\n",
       "</table>\n",
       "<p>7956 rows × 5003 columns</p>\n",
       "</div>"
      ],
      "text/plain": [
       "      level_0  index      col0      col1      col2      col3      col4  \\\n",
       "0           0      5 -0.000062 -0.000049  0.000033  0.000056 -0.000052   \n",
       "1           1      8  0.000077 -0.000330 -0.000206  0.000345 -0.000360   \n",
       "2           2     10 -0.000106 -0.000058  0.000105 -0.000080 -0.000100   \n",
       "3           3     11  0.000095 -0.000083 -0.000085  0.000074 -0.000066   \n",
       "4           4     14 -0.000011 -0.000072  0.000074 -0.000005 -0.000082   \n",
       "...       ...    ...       ...       ...       ...       ...       ...   \n",
       "7951      437  15468 -0.000026 -0.000086 -0.000026  0.000089 -0.000092   \n",
       "7952      438  15469 -0.000086  0.000084 -0.000078  0.000072 -0.000070   \n",
       "7953      439  15473 -0.000009 -0.000011  0.000106 -0.000051 -0.000128   \n",
       "7954      440  15474  0.000022  0.000044  0.000046 -0.000050  0.000058   \n",
       "7955      441  15478  0.000241  0.000221 -0.000321 -0.000327  0.000338   \n",
       "\n",
       "              col5      col6      col7  ...   col4991   col4992   col4993  \\\n",
       "0     4.891576e-05 -0.000048  0.000019  ...  0.000102  0.000074 -0.000099   \n",
       "1     3.710202e-04 -0.000365  0.000205  ... -0.000092 -0.000115 -0.000128   \n",
       "2     2.132747e-05  0.000089 -0.000079  ... -0.001801 -0.001004  0.001671   \n",
       "3     6.875441e-05  0.000026 -0.000107  ...  0.000021 -0.000055  0.000048   \n",
       "4     8.739305e-05 -0.000096 -0.000097  ... -0.000353 -0.000567 -0.000353   \n",
       "...            ...       ...       ...  ...       ...       ...       ...   \n",
       "7951 -6.644881e-05  0.000087 -0.000074  ... -0.000046  0.000109 -0.000002   \n",
       "7952  1.112311e-05  0.000082 -0.000092  ...  0.000106 -0.000135  0.000160   \n",
       "7953  1.440100e-04 -0.000155  0.000158  ...  0.000145  0.000049 -0.000012   \n",
       "7954  5.144449e-07 -0.000084  0.000099  ... -0.000113 -0.000008  0.000099   \n",
       "7955  2.717160e-04 -0.000372 -0.000105  ... -0.000153  0.000396 -0.000120   \n",
       "\n",
       "       col4994   col4995   col4996   col4997   col4998   col4999  col5000  \n",
       "0     0.000097  0.000049 -0.000095  0.000041  0.000095 -0.000077        0  \n",
       "1    -0.000165  0.000140 -0.000110  0.000086 -0.000074 -0.000001        0  \n",
       "2     0.000913 -0.001673 -0.000632  0.001724  0.001275 -0.001751        0  \n",
       "3    -0.000095  0.000149 -0.000146  0.000100 -0.000075  0.000083        0  \n",
       "4    -0.000028  0.000618  0.000069 -0.000664 -0.000696  0.000704        0  \n",
       "...        ...       ...       ...       ...       ...       ...      ...  \n",
       "7951 -0.000040 -0.000127  0.000130 -0.000132 -0.000002  0.000062       18  \n",
       "7952  0.000267 -0.000395 -0.000392  0.000109  0.000382  0.000460       18  \n",
       "7953 -0.000128 -0.000106  0.000115 -0.000086 -0.000110  0.000022       18  \n",
       "7954 -0.000092 -0.000014  0.000081  0.000039 -0.000078  0.000067       18  \n",
       "7955 -0.000396  0.000383 -0.000372 -0.000200  0.000362 -0.000099       18  \n",
       "\n",
       "[7956 rows x 5003 columns]"
      ]
     },
     "execution_count": 135,
     "metadata": {},
     "output_type": "execute_result"
    }
   ],
   "source": [
    "IMF_train_f_hc_concat[0]"
   ]
  },
  {
   "cell_type": "code",
   "execution_count": 534,
   "id": "3f872257",
   "metadata": {},
   "outputs": [
    {
     "data": {
      "text/plain": [
       "18.0"
      ]
     },
     "execution_count": 534,
     "metadata": {},
     "output_type": "execute_result"
    }
   ],
   "source": [
    "7956/442"
   ]
  },
  {
   "cell_type": "code",
   "execution_count": 529,
   "id": "e8c6547f",
   "metadata": {
    "collapsed": true
   },
   "outputs": [
    {
     "ename": "KeyError",
     "evalue": "\"['level_0'] not found in axis\"",
     "output_type": "error",
     "traceback": [
      "\u001b[1;31m---------------------------------------------------------------------------\u001b[0m",
      "\u001b[1;31mKeyError\u001b[0m                                  Traceback (most recent call last)",
      "\u001b[1;32m~\\AppData\\Local\\Temp/ipykernel_15540/3989783230.py\u001b[0m in \u001b[0;36m<module>\u001b[1;34m\u001b[0m\n\u001b[1;32m----> 1\u001b[1;33m \u001b[0mIMF_train_f_hc_concat_0\u001b[0m \u001b[1;33m=\u001b[0m \u001b[1;33m[\u001b[0m\u001b[0mIMF_train_f_hc_concat\u001b[0m\u001b[1;33m[\u001b[0m\u001b[0mi\u001b[0m\u001b[1;33m]\u001b[0m\u001b[1;33m.\u001b[0m\u001b[0mdrop\u001b[0m\u001b[1;33m(\u001b[0m\u001b[1;33m[\u001b[0m\u001b[1;34m'level_0'\u001b[0m\u001b[1;33m,\u001b[0m \u001b[1;34m'index'\u001b[0m\u001b[1;33m,\u001b[0m \u001b[1;34m'col5000'\u001b[0m\u001b[1;33m]\u001b[0m\u001b[1;33m,\u001b[0m \u001b[0maxis\u001b[0m\u001b[1;33m=\u001b[0m\u001b[1;36m1\u001b[0m\u001b[1;33m)\u001b[0m \u001b[1;32mfor\u001b[0m \u001b[0mi\u001b[0m \u001b[1;32min\u001b[0m \u001b[0mrange\u001b[0m\u001b[1;33m(\u001b[0m\u001b[1;36m0\u001b[0m\u001b[1;33m,\u001b[0m\u001b[0mn_IMF\u001b[0m\u001b[1;33m)\u001b[0m\u001b[1;33m]\u001b[0m\u001b[1;33m\u001b[0m\u001b[1;33m\u001b[0m\u001b[0m\n\u001b[0m",
      "\u001b[1;32m~\\AppData\\Local\\Temp/ipykernel_15540/3989783230.py\u001b[0m in \u001b[0;36m<listcomp>\u001b[1;34m(.0)\u001b[0m\n\u001b[1;32m----> 1\u001b[1;33m \u001b[0mIMF_train_f_hc_concat_0\u001b[0m \u001b[1;33m=\u001b[0m \u001b[1;33m[\u001b[0m\u001b[0mIMF_train_f_hc_concat\u001b[0m\u001b[1;33m[\u001b[0m\u001b[0mi\u001b[0m\u001b[1;33m]\u001b[0m\u001b[1;33m.\u001b[0m\u001b[0mdrop\u001b[0m\u001b[1;33m(\u001b[0m\u001b[1;33m[\u001b[0m\u001b[1;34m'level_0'\u001b[0m\u001b[1;33m,\u001b[0m \u001b[1;34m'index'\u001b[0m\u001b[1;33m,\u001b[0m \u001b[1;34m'col5000'\u001b[0m\u001b[1;33m]\u001b[0m\u001b[1;33m,\u001b[0m \u001b[0maxis\u001b[0m\u001b[1;33m=\u001b[0m\u001b[1;36m1\u001b[0m\u001b[1;33m)\u001b[0m \u001b[1;32mfor\u001b[0m \u001b[0mi\u001b[0m \u001b[1;32min\u001b[0m \u001b[0mrange\u001b[0m\u001b[1;33m(\u001b[0m\u001b[1;36m0\u001b[0m\u001b[1;33m,\u001b[0m\u001b[0mn_IMF\u001b[0m\u001b[1;33m)\u001b[0m\u001b[1;33m]\u001b[0m\u001b[1;33m\u001b[0m\u001b[1;33m\u001b[0m\u001b[0m\n\u001b[0m",
      "\u001b[1;32m~\\anaconda3\\lib\\site-packages\\pandas\\util\\_decorators.py\u001b[0m in \u001b[0;36mwrapper\u001b[1;34m(*args, **kwargs)\u001b[0m\n\u001b[0;32m    309\u001b[0m                     \u001b[0mstacklevel\u001b[0m\u001b[1;33m=\u001b[0m\u001b[0mstacklevel\u001b[0m\u001b[1;33m,\u001b[0m\u001b[1;33m\u001b[0m\u001b[1;33m\u001b[0m\u001b[0m\n\u001b[0;32m    310\u001b[0m                 )\n\u001b[1;32m--> 311\u001b[1;33m             \u001b[1;32mreturn\u001b[0m \u001b[0mfunc\u001b[0m\u001b[1;33m(\u001b[0m\u001b[1;33m*\u001b[0m\u001b[0margs\u001b[0m\u001b[1;33m,\u001b[0m \u001b[1;33m**\u001b[0m\u001b[0mkwargs\u001b[0m\u001b[1;33m)\u001b[0m\u001b[1;33m\u001b[0m\u001b[1;33m\u001b[0m\u001b[0m\n\u001b[0m\u001b[0;32m    312\u001b[0m \u001b[1;33m\u001b[0m\u001b[0m\n\u001b[0;32m    313\u001b[0m         \u001b[1;32mreturn\u001b[0m \u001b[0mwrapper\u001b[0m\u001b[1;33m\u001b[0m\u001b[1;33m\u001b[0m\u001b[0m\n",
      "\u001b[1;32m~\\anaconda3\\lib\\site-packages\\pandas\\core\\frame.py\u001b[0m in \u001b[0;36mdrop\u001b[1;34m(self, labels, axis, index, columns, level, inplace, errors)\u001b[0m\n\u001b[0;32m   4904\u001b[0m                 \u001b[0mweight\u001b[0m  \u001b[1;36m1.0\u001b[0m     \u001b[1;36m0.8\u001b[0m\u001b[1;33m\u001b[0m\u001b[1;33m\u001b[0m\u001b[0m\n\u001b[0;32m   4905\u001b[0m         \"\"\"\n\u001b[1;32m-> 4906\u001b[1;33m         return super().drop(\n\u001b[0m\u001b[0;32m   4907\u001b[0m             \u001b[0mlabels\u001b[0m\u001b[1;33m=\u001b[0m\u001b[0mlabels\u001b[0m\u001b[1;33m,\u001b[0m\u001b[1;33m\u001b[0m\u001b[1;33m\u001b[0m\u001b[0m\n\u001b[0;32m   4908\u001b[0m             \u001b[0maxis\u001b[0m\u001b[1;33m=\u001b[0m\u001b[0maxis\u001b[0m\u001b[1;33m,\u001b[0m\u001b[1;33m\u001b[0m\u001b[1;33m\u001b[0m\u001b[0m\n",
      "\u001b[1;32m~\\anaconda3\\lib\\site-packages\\pandas\\core\\generic.py\u001b[0m in \u001b[0;36mdrop\u001b[1;34m(self, labels, axis, index, columns, level, inplace, errors)\u001b[0m\n\u001b[0;32m   4148\u001b[0m         \u001b[1;32mfor\u001b[0m \u001b[0maxis\u001b[0m\u001b[1;33m,\u001b[0m \u001b[0mlabels\u001b[0m \u001b[1;32min\u001b[0m \u001b[0maxes\u001b[0m\u001b[1;33m.\u001b[0m\u001b[0mitems\u001b[0m\u001b[1;33m(\u001b[0m\u001b[1;33m)\u001b[0m\u001b[1;33m:\u001b[0m\u001b[1;33m\u001b[0m\u001b[1;33m\u001b[0m\u001b[0m\n\u001b[0;32m   4149\u001b[0m             \u001b[1;32mif\u001b[0m \u001b[0mlabels\u001b[0m \u001b[1;32mis\u001b[0m \u001b[1;32mnot\u001b[0m \u001b[1;32mNone\u001b[0m\u001b[1;33m:\u001b[0m\u001b[1;33m\u001b[0m\u001b[1;33m\u001b[0m\u001b[0m\n\u001b[1;32m-> 4150\u001b[1;33m                 \u001b[0mobj\u001b[0m \u001b[1;33m=\u001b[0m \u001b[0mobj\u001b[0m\u001b[1;33m.\u001b[0m\u001b[0m_drop_axis\u001b[0m\u001b[1;33m(\u001b[0m\u001b[0mlabels\u001b[0m\u001b[1;33m,\u001b[0m \u001b[0maxis\u001b[0m\u001b[1;33m,\u001b[0m \u001b[0mlevel\u001b[0m\u001b[1;33m=\u001b[0m\u001b[0mlevel\u001b[0m\u001b[1;33m,\u001b[0m \u001b[0merrors\u001b[0m\u001b[1;33m=\u001b[0m\u001b[0merrors\u001b[0m\u001b[1;33m)\u001b[0m\u001b[1;33m\u001b[0m\u001b[1;33m\u001b[0m\u001b[0m\n\u001b[0m\u001b[0;32m   4151\u001b[0m \u001b[1;33m\u001b[0m\u001b[0m\n\u001b[0;32m   4152\u001b[0m         \u001b[1;32mif\u001b[0m \u001b[0minplace\u001b[0m\u001b[1;33m:\u001b[0m\u001b[1;33m\u001b[0m\u001b[1;33m\u001b[0m\u001b[0m\n",
      "\u001b[1;32m~\\anaconda3\\lib\\site-packages\\pandas\\core\\generic.py\u001b[0m in \u001b[0;36m_drop_axis\u001b[1;34m(self, labels, axis, level, errors)\u001b[0m\n\u001b[0;32m   4183\u001b[0m                 \u001b[0mnew_axis\u001b[0m \u001b[1;33m=\u001b[0m \u001b[0maxis\u001b[0m\u001b[1;33m.\u001b[0m\u001b[0mdrop\u001b[0m\u001b[1;33m(\u001b[0m\u001b[0mlabels\u001b[0m\u001b[1;33m,\u001b[0m \u001b[0mlevel\u001b[0m\u001b[1;33m=\u001b[0m\u001b[0mlevel\u001b[0m\u001b[1;33m,\u001b[0m \u001b[0merrors\u001b[0m\u001b[1;33m=\u001b[0m\u001b[0merrors\u001b[0m\u001b[1;33m)\u001b[0m\u001b[1;33m\u001b[0m\u001b[1;33m\u001b[0m\u001b[0m\n\u001b[0;32m   4184\u001b[0m             \u001b[1;32melse\u001b[0m\u001b[1;33m:\u001b[0m\u001b[1;33m\u001b[0m\u001b[1;33m\u001b[0m\u001b[0m\n\u001b[1;32m-> 4185\u001b[1;33m                 \u001b[0mnew_axis\u001b[0m \u001b[1;33m=\u001b[0m \u001b[0maxis\u001b[0m\u001b[1;33m.\u001b[0m\u001b[0mdrop\u001b[0m\u001b[1;33m(\u001b[0m\u001b[0mlabels\u001b[0m\u001b[1;33m,\u001b[0m \u001b[0merrors\u001b[0m\u001b[1;33m=\u001b[0m\u001b[0merrors\u001b[0m\u001b[1;33m)\u001b[0m\u001b[1;33m\u001b[0m\u001b[1;33m\u001b[0m\u001b[0m\n\u001b[0m\u001b[0;32m   4186\u001b[0m             \u001b[0mresult\u001b[0m \u001b[1;33m=\u001b[0m \u001b[0mself\u001b[0m\u001b[1;33m.\u001b[0m\u001b[0mreindex\u001b[0m\u001b[1;33m(\u001b[0m\u001b[1;33m**\u001b[0m\u001b[1;33m{\u001b[0m\u001b[0maxis_name\u001b[0m\u001b[1;33m:\u001b[0m \u001b[0mnew_axis\u001b[0m\u001b[1;33m}\u001b[0m\u001b[1;33m)\u001b[0m\u001b[1;33m\u001b[0m\u001b[1;33m\u001b[0m\u001b[0m\n\u001b[0;32m   4187\u001b[0m \u001b[1;33m\u001b[0m\u001b[0m\n",
      "\u001b[1;32m~\\anaconda3\\lib\\site-packages\\pandas\\core\\indexes\\base.py\u001b[0m in \u001b[0;36mdrop\u001b[1;34m(self, labels, errors)\u001b[0m\n\u001b[0;32m   6015\u001b[0m         \u001b[1;32mif\u001b[0m \u001b[0mmask\u001b[0m\u001b[1;33m.\u001b[0m\u001b[0many\u001b[0m\u001b[1;33m(\u001b[0m\u001b[1;33m)\u001b[0m\u001b[1;33m:\u001b[0m\u001b[1;33m\u001b[0m\u001b[1;33m\u001b[0m\u001b[0m\n\u001b[0;32m   6016\u001b[0m             \u001b[1;32mif\u001b[0m \u001b[0merrors\u001b[0m \u001b[1;33m!=\u001b[0m \u001b[1;34m\"ignore\"\u001b[0m\u001b[1;33m:\u001b[0m\u001b[1;33m\u001b[0m\u001b[1;33m\u001b[0m\u001b[0m\n\u001b[1;32m-> 6017\u001b[1;33m                 \u001b[1;32mraise\u001b[0m \u001b[0mKeyError\u001b[0m\u001b[1;33m(\u001b[0m\u001b[1;34mf\"{labels[mask]} not found in axis\"\u001b[0m\u001b[1;33m)\u001b[0m\u001b[1;33m\u001b[0m\u001b[1;33m\u001b[0m\u001b[0m\n\u001b[0m\u001b[0;32m   6018\u001b[0m             \u001b[0mindexer\u001b[0m \u001b[1;33m=\u001b[0m \u001b[0mindexer\u001b[0m\u001b[1;33m[\u001b[0m\u001b[1;33m~\u001b[0m\u001b[0mmask\u001b[0m\u001b[1;33m]\u001b[0m\u001b[1;33m\u001b[0m\u001b[1;33m\u001b[0m\u001b[0m\n\u001b[0;32m   6019\u001b[0m         \u001b[1;32mreturn\u001b[0m \u001b[0mself\u001b[0m\u001b[1;33m.\u001b[0m\u001b[0mdelete\u001b[0m\u001b[1;33m(\u001b[0m\u001b[0mindexer\u001b[0m\u001b[1;33m)\u001b[0m\u001b[1;33m\u001b[0m\u001b[1;33m\u001b[0m\u001b[0m\n",
      "\u001b[1;31mKeyError\u001b[0m: \"['level_0'] not found in axis\""
     ]
    }
   ],
   "source": [
    "IMF_train_f_hc_concat_0 = [IMF_train_f_hc_concat[i].drop(['level_0', 'index', 'col5000'], axis=1) for i in range(0,n_IMF)]"
   ]
  },
  {
   "cell_type": "code",
   "execution_count": 86,
   "id": "6bbfab78",
   "metadata": {},
   "outputs": [
    {
     "name": "stdout",
     "output_type": "stream",
     "text": [
      "354 89\n"
     ]
    }
   ],
   "source": [
    "# NOTE: To extract the trainiing set, even if the sets are of bigger dimensions, we still set the 80% equal to N_m\n",
    "#       across the groups. \n",
    "\n",
    "per_train_hc_f = math.ceil(N_f * 0.8)\n",
    "per_test_hc_f = math.ceil(N_f * 0.2)\n",
    "print(per_train_hc_f, per_test_hc_f)"
   ]
  },
  {
   "cell_type": "code",
   "execution_count": 87,
   "id": "bce6a8d0",
   "metadata": {},
   "outputs": [
    {
     "name": "stdout",
     "output_type": "stream",
     "text": [
      "0.5022385584334831\n"
     ]
    }
   ],
   "source": [
    "#Set see to reproduce the results\n",
    "random.seed(1)\n",
    "\n",
    "range_hc_f_test = range(0, N_m)\n",
    "\n",
    "rand_s_test_hc_f = random.sample(range_hc_f_test, k = per_test_hc_f)\n",
    "\n",
    "print(random.random()) #0.4577692590412453\n",
    "\n",
    "ind_test_hc_f = sorted(rand_s_test_hc_f) \n"
   ]
  },
  {
   "cell_type": "code",
   "execution_count": 541,
   "id": "820dc970",
   "metadata": {
    "collapsed": true
   },
   "outputs": [
    {
     "ename": "NameError",
     "evalue": "name 'IMF_train_f_hc_concat_0' is not defined",
     "output_type": "error",
     "traceback": [
      "\u001b[1;31m---------------------------------------------------------------------------\u001b[0m",
      "\u001b[1;31mNameError\u001b[0m                                 Traceback (most recent call last)",
      "\u001b[1;32m~\\AppData\\Local\\Temp/ipykernel_15540/755168547.py\u001b[0m in \u001b[0;36m<module>\u001b[1;34m\u001b[0m\n\u001b[0;32m      2\u001b[0m \u001b[0mrandom\u001b[0m\u001b[1;33m.\u001b[0m\u001b[0mseed\u001b[0m\u001b[1;33m(\u001b[0m\u001b[1;36m1\u001b[0m\u001b[1;33m)\u001b[0m\u001b[1;33m\u001b[0m\u001b[1;33m\u001b[0m\u001b[0m\n\u001b[0;32m      3\u001b[0m \u001b[1;33m\u001b[0m\u001b[0m\n\u001b[1;32m----> 4\u001b[1;33m \u001b[0mrange_hc_f\u001b[0m \u001b[1;33m=\u001b[0m \u001b[0mrange\u001b[0m\u001b[1;33m(\u001b[0m\u001b[1;36m0\u001b[0m\u001b[1;33m,\u001b[0m \u001b[0mIMF_train_f_hc_concat_0\u001b[0m\u001b[1;33m[\u001b[0m\u001b[1;36m0\u001b[0m\u001b[1;33m]\u001b[0m\u001b[1;33m.\u001b[0m\u001b[0mshape\u001b[0m\u001b[1;33m[\u001b[0m\u001b[1;36m0\u001b[0m\u001b[1;33m]\u001b[0m \u001b[1;33m)\u001b[0m\u001b[1;33m\u001b[0m\u001b[1;33m\u001b[0m\u001b[0m\n\u001b[0m\u001b[0;32m      5\u001b[0m \u001b[0mrange_hc_f_test\u001b[0m \u001b[1;33m=\u001b[0m \u001b[0mrange\u001b[0m\u001b[1;33m(\u001b[0m\u001b[1;36m0\u001b[0m\u001b[1;33m,\u001b[0m \u001b[0mN_m\u001b[0m\u001b[1;33m)\u001b[0m\u001b[1;33m\u001b[0m\u001b[1;33m\u001b[0m\u001b[0m\n\u001b[0;32m      6\u001b[0m \u001b[1;33m\u001b[0m\u001b[0m\n",
      "\u001b[1;31mNameError\u001b[0m: name 'IMF_train_f_hc_concat_0' is not defined"
     ]
    }
   ],
   "source": [
    "#Set see to reproduce the results\n",
    "random.seed(1)\n",
    "\n",
    "range_hc_f = range(0, IMF_train_f_hc_concat_0[0].shape[0] )\n",
    "range_hc_f_test = range(0, N_m)\n",
    "\n",
    "rand_s_train_hc_f = random.sample(range_hc_f, k = per_train_hc_f)\n",
    "rand_s_test_hc_f = random.sample(range_hc_f_test, k = per_test_hc_f)\n",
    "\n",
    "print(random.random()) #0.4577692590412453"
   ]
  },
  {
   "cell_type": "code",
   "execution_count": 542,
   "id": "fa36605d",
   "metadata": {
    "collapsed": true
   },
   "outputs": [
    {
     "ename": "NameError",
     "evalue": "name 'range_hc_f' is not defined",
     "output_type": "error",
     "traceback": [
      "\u001b[1;31m---------------------------------------------------------------------------\u001b[0m",
      "\u001b[1;31mNameError\u001b[0m                                 Traceback (most recent call last)",
      "\u001b[1;32m~\\AppData\\Local\\Temp/ipykernel_15540/801087483.py\u001b[0m in \u001b[0;36m<module>\u001b[1;34m\u001b[0m\n\u001b[1;32m----> 1\u001b[1;33m \u001b[0mlen\u001b[0m\u001b[1;33m(\u001b[0m\u001b[0mIMF_train_f_hc_concat\u001b[0m\u001b[1;33m[\u001b[0m\u001b[1;36m0\u001b[0m\u001b[1;33m]\u001b[0m\u001b[1;33m)\u001b[0m \u001b[1;33m==\u001b[0m \u001b[0mlen\u001b[0m\u001b[1;33m(\u001b[0m\u001b[0mrange_hc_f\u001b[0m\u001b[1;33m)\u001b[0m\u001b[1;33m\u001b[0m\u001b[1;33m\u001b[0m\u001b[0m\n\u001b[0m",
      "\u001b[1;31mNameError\u001b[0m: name 'range_hc_f' is not defined"
     ]
    }
   ],
   "source": [
    "len(IMF_train_f_hc_concat[0]) == len(range_hc_f)"
   ]
  },
  {
   "cell_type": "code",
   "execution_count": 546,
   "id": "56434510",
   "metadata": {
    "collapsed": true
   },
   "outputs": [
    {
     "ename": "NameError",
     "evalue": "name 'rand_s_train_hc_f' is not defined",
     "output_type": "error",
     "traceback": [
      "\u001b[1;31m---------------------------------------------------------------------------\u001b[0m",
      "\u001b[1;31mNameError\u001b[0m                                 Traceback (most recent call last)",
      "\u001b[1;32m~\\AppData\\Local\\Temp/ipykernel_15540/1327411872.py\u001b[0m in \u001b[0;36m<module>\u001b[1;34m\u001b[0m\n\u001b[1;32m----> 1\u001b[1;33m \u001b[0mind_train_hc_f\u001b[0m \u001b[1;33m=\u001b[0m \u001b[0msorted\u001b[0m\u001b[1;33m(\u001b[0m\u001b[0mrand_s_train_hc_f\u001b[0m\u001b[1;33m)\u001b[0m\u001b[1;33m\u001b[0m\u001b[1;33m\u001b[0m\u001b[0m\n\u001b[0m\u001b[0;32m      2\u001b[0m \u001b[0mind_test_hc_f\u001b[0m \u001b[1;33m=\u001b[0m \u001b[0msorted\u001b[0m\u001b[1;33m(\u001b[0m\u001b[0mrand_s_test_hc_f\u001b[0m\u001b[1;33m)\u001b[0m\u001b[1;33m\u001b[0m\u001b[1;33m\u001b[0m\u001b[0m\n",
      "\u001b[1;31mNameError\u001b[0m: name 'rand_s_train_hc_f' is not defined"
     ]
    }
   ],
   "source": [
    "ind_train_hc_f = sorted(rand_s_train_hc_f) "
   ]
  },
  {
   "cell_type": "code",
   "execution_count": 78,
   "id": "e7e0207c",
   "metadata": {},
   "outputs": [],
   "source": [
    "IMF_train_f_hc_concat_0 = [IMF_train_f_hc_concat[i].drop(['level_0', 'index', 'col5000'], axis  = 1) for i in range(0,n_IMF)]"
   ]
  },
  {
   "cell_type": "code",
   "execution_count": 79,
   "id": "35a4ae51",
   "metadata": {},
   "outputs": [],
   "source": [
    "IMF_train_f_hc = [IMF_train_f_hc_concat_0[i].reset_index().loc[ind_train_hc_f]  for i in range(0,n_IMF)]"
   ]
  },
  {
   "cell_type": "code",
   "execution_count": 80,
   "id": "4f695759",
   "metadata": {},
   "outputs": [],
   "source": [
    "IMF_train_f_hc = [IMF_train_f_hc[i].drop(['index'], axis = 1) for i in range(0,n_IMF)]"
   ]
  },
  {
   "cell_type": "code",
   "execution_count": 81,
   "id": "759ca481",
   "metadata": {},
   "outputs": [
    {
     "data": {
      "text/plain": [
       "[(354, 5000), (354, 5000), (354, 5000), (354, 5000), (354, 5000)]"
      ]
     },
     "execution_count": 81,
     "metadata": {},
     "output_type": "execute_result"
    }
   ],
   "source": [
    "[IMF_train_f_hc[i].shape for i in range(0,n_IMF)]"
   ]
  },
  {
   "cell_type": "code",
   "execution_count": 82,
   "id": "52c6f506",
   "metadata": {},
   "outputs": [],
   "source": [
    "IMF_train_f_hc = [IMF_train_f_hc[i].values for i in range(0,n_IMF)]"
   ]
  },
  {
   "cell_type": "code",
   "execution_count": 83,
   "id": "891edbde",
   "metadata": {},
   "outputs": [
    {
     "data": {
      "text/plain": [
       "[(354, 5000), (354, 5000), (354, 5000), (354, 5000), (354, 5000)]"
      ]
     },
     "execution_count": 83,
     "metadata": {},
     "output_type": "execute_result"
    }
   ],
   "source": [
    "[IMF_train_f_hc[i].shape for i in range(0,n_IMF)]"
   ]
  },
  {
   "cell_type": "code",
   "execution_count": 88,
   "id": "ba01a154",
   "metadata": {},
   "outputs": [],
   "source": [
    "IMF_test_hc_f = [new_IMF_hc_f_split_test[i][0].reset_index().loc[ind_test_hc_f] for i in range(0,n_IMF)]"
   ]
  },
  {
   "cell_type": "code",
   "execution_count": 89,
   "id": "d79ad052",
   "metadata": {},
   "outputs": [
    {
     "data": {
      "text/plain": [
       "[(89, 5003), (89, 5003), (89, 5003), (89, 5003), (89, 5003)]"
      ]
     },
     "execution_count": 89,
     "metadata": {},
     "output_type": "execute_result"
    }
   ],
   "source": [
    "[IMF_test_hc_f[i].shape for i in range(0,n_IMF)]"
   ]
  },
  {
   "cell_type": "code",
   "execution_count": 90,
   "id": "ba8a07cc",
   "metadata": {},
   "outputs": [],
   "source": [
    "IMF_test_hc_f = [IMF_test_hc_f[i].drop(['level_0', 'index', 'col5000'], axis=1) for i in range(0,n_IMF)]"
   ]
  },
  {
   "cell_type": "code",
   "execution_count": 91,
   "id": "750aaa0f",
   "metadata": {},
   "outputs": [
    {
     "data": {
      "text/plain": [
       "[(89, 5000), (89, 5000), (89, 5000), (89, 5000), (89, 5000)]"
      ]
     },
     "execution_count": 91,
     "metadata": {},
     "output_type": "execute_result"
    }
   ],
   "source": [
    "[IMF_test_hc_f[i].shape for i in range(0,n_IMF)]"
   ]
  },
  {
   "cell_type": "code",
   "execution_count": 92,
   "id": "0ce0304e",
   "metadata": {},
   "outputs": [],
   "source": [
    "IMF_test_hc_f = [IMF_test_hc_f[i].values  for i in range(0,n_IMF)]"
   ]
  },
  {
   "cell_type": "code",
   "execution_count": 93,
   "id": "19f60433",
   "metadata": {},
   "outputs": [
    {
     "data": {
      "text/plain": [
       "[(89, 5000), (89, 5000), (89, 5000), (89, 5000), (89, 5000)]"
      ]
     },
     "execution_count": 93,
     "metadata": {},
     "output_type": "execute_result"
    }
   ],
   "source": [
    "[IMF_test_hc_f[i].shape for i in range(0,n_IMF)]"
   ]
  },
  {
   "cell_type": "code",
   "execution_count": null,
   "id": "1496cc67",
   "metadata": {},
   "outputs": [],
   "source": []
  },
  {
   "cell_type": "code",
   "execution_count": 555,
   "id": "7c5e2c6e",
   "metadata": {},
   "outputs": [],
   "source": [
    "np.save('IMF_test_hc_f_3', IMF_test_hc_f)"
   ]
  },
  {
   "cell_type": "code",
   "execution_count": 569,
   "id": "6e8518de",
   "metadata": {},
   "outputs": [],
   "source": [
    "np.save('IMF_test_hc_f_9', IMF_test_hc_f)"
   ]
  },
  {
   "cell_type": "code",
   "execution_count": 585,
   "id": "0ec55140",
   "metadata": {},
   "outputs": [],
   "source": [
    "np.save('IMF_test_hc_f_12', IMF_test_hc_f)"
   ]
  },
  {
   "cell_type": "code",
   "execution_count": 597,
   "id": "89e65c25",
   "metadata": {},
   "outputs": [],
   "source": [
    "np.save('IMF_test_hc_f_6', IMF_test_hc_f)"
   ]
  },
  {
   "cell_type": "code",
   "execution_count": 607,
   "id": "bb07d87c",
   "metadata": {},
   "outputs": [],
   "source": [
    "np.save('IMF_test_hc_f_2', IMF_test_hc_f)"
   ]
  },
  {
   "cell_type": "code",
   "execution_count": 619,
   "id": "db0d6f9f",
   "metadata": {},
   "outputs": [],
   "source": [
    "np.save('IMF_test_hc_f_5', IMF_test_hc_f)"
   ]
  },
  {
   "cell_type": "code",
   "execution_count": 629,
   "id": "0dc950e8",
   "metadata": {},
   "outputs": [],
   "source": [
    "np.save('IMF_test_hc_f_1', IMF_test_hc_f)"
   ]
  },
  {
   "cell_type": "code",
   "execution_count": 639,
   "id": "d698c001",
   "metadata": {},
   "outputs": [],
   "source": [
    "np.save('IMF_test_hc_f_14', IMF_test_hc_f)"
   ]
  },
  {
   "cell_type": "code",
   "execution_count": 652,
   "id": "d96e8bea",
   "metadata": {},
   "outputs": [],
   "source": [
    "np.save('IMF_test_hc_f_18', IMF_test_hc_f)"
   ]
  },
  {
   "cell_type": "code",
   "execution_count": 662,
   "id": "cf47f747",
   "metadata": {},
   "outputs": [],
   "source": [
    "np.save('IMF_test_hc_f_11', IMF_test_hc_f)"
   ]
  },
  {
   "cell_type": "code",
   "execution_count": 672,
   "id": "7345114b",
   "metadata": {},
   "outputs": [],
   "source": [
    "np.save('IMF_test_hc_f_15', IMF_test_hc_f)"
   ]
  },
  {
   "cell_type": "code",
   "execution_count": 683,
   "id": "1a3f864a",
   "metadata": {},
   "outputs": [],
   "source": [
    "np.save('IMF_test_hc_f_13', IMF_test_hc_f)"
   ]
  },
  {
   "cell_type": "code",
   "execution_count": 720,
   "id": "fecf46c0",
   "metadata": {},
   "outputs": [],
   "source": [
    "np.save('IMF_test_hc_f_7', IMF_test_hc_f)"
   ]
  },
  {
   "cell_type": "code",
   "execution_count": 731,
   "id": "2d82feaa",
   "metadata": {},
   "outputs": [],
   "source": [
    "np.save('IMF_test_hc_f_0', IMF_test_hc_f)"
   ]
  },
  {
   "cell_type": "code",
   "execution_count": 744,
   "id": "4128a857",
   "metadata": {},
   "outputs": [],
   "source": [
    "np.save('IMF_test_hc_f_8', IMF_test_hc_f)"
   ]
  },
  {
   "cell_type": "code",
   "execution_count": 764,
   "id": "cbef36db",
   "metadata": {},
   "outputs": [],
   "source": [
    "np.save('IMF_test_hc_f_17', IMF_test_hc_f)"
   ]
  },
  {
   "cell_type": "code",
   "execution_count": 791,
   "id": "a9501fe5",
   "metadata": {},
   "outputs": [],
   "source": [
    "np.save('IMF_test_hc_f_4', IMF_test_hc_f)"
   ]
  },
  {
   "cell_type": "code",
   "execution_count": 94,
   "id": "65f85ef5",
   "metadata": {},
   "outputs": [],
   "source": [
    "np.save('IMF_test_hc_f_16', IMF_test_hc_f)"
   ]
  },
  {
   "cell_type": "code",
   "execution_count": null,
   "id": "e95f9b9a",
   "metadata": {},
   "outputs": [],
   "source": []
  },
  {
   "cell_type": "code",
   "execution_count": 160,
   "id": "aa711d6e",
   "metadata": {},
   "outputs": [],
   "source": [
    "np.save('IMF_train_f_hc', IMF_train_f_hc)"
   ]
  },
  {
   "cell_type": "code",
   "execution_count": 91,
   "id": "2a5a643c",
   "metadata": {},
   "outputs": [],
   "source": [
    "np.save('IMF_test_hc_f', IMF_test_hc_f)"
   ]
  },
  {
   "cell_type": "code",
   "execution_count": null,
   "id": "6f97d679",
   "metadata": {},
   "outputs": [],
   "source": []
  },
  {
   "cell_type": "code",
   "execution_count": null,
   "id": "0416701c",
   "metadata": {},
   "outputs": [],
   "source": []
  }
 ],
 "metadata": {
  "kernelspec": {
   "display_name": "Python 3",
   "language": "python",
   "name": "python3"
  },
  "language_info": {
   "codemirror_mode": {
    "name": "ipython",
    "version": 3
   },
   "file_extension": ".py",
   "mimetype": "text/x-python",
   "name": "python",
   "nbconvert_exporter": "python",
   "pygments_lexer": "ipython3",
   "version": "3.8.11"
  }
 },
 "nbformat": 4,
 "nbformat_minor": 5
}
